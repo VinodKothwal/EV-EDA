{
 "cells": [
  {
   "cell_type": "code",
   "execution_count": 1,
   "id": "a4f91ed3",
   "metadata": {},
   "outputs": [],
   "source": [
    "import numpy as np\n",
    "import pandas as pd\n",
    "import matplotlib.pyplot as plt\n",
    "import re\n"
   ]
  },
  {
   "cell_type": "code",
   "execution_count": 3,
   "id": "51232582",
   "metadata": {},
   "outputs": [],
   "source": [
    "df=pd.read_csv('dataset.csv')"
   ]
  },
  {
   "cell_type": "code",
   "execution_count": 4,
   "id": "c6b06b5a",
   "metadata": {},
   "outputs": [
    {
     "data": {
      "text/html": [
       "<div>\n",
       "<style scoped>\n",
       "    .dataframe tbody tr th:only-of-type {\n",
       "        vertical-align: middle;\n",
       "    }\n",
       "\n",
       "    .dataframe tbody tr th {\n",
       "        vertical-align: top;\n",
       "    }\n",
       "\n",
       "    .dataframe thead th {\n",
       "        text-align: right;\n",
       "    }\n",
       "</style>\n",
       "<table border=\"1\" class=\"dataframe\">\n",
       "  <thead>\n",
       "    <tr style=\"text-align: right;\">\n",
       "      <th></th>\n",
       "      <th>VIN (1-10)</th>\n",
       "      <th>County</th>\n",
       "      <th>City</th>\n",
       "      <th>State</th>\n",
       "      <th>Postal Code</th>\n",
       "      <th>Model Year</th>\n",
       "      <th>Make</th>\n",
       "      <th>Model</th>\n",
       "      <th>Electric Vehicle Type</th>\n",
       "      <th>Clean Alternative Fuel Vehicle (CAFV) Eligibility</th>\n",
       "      <th>Electric Range</th>\n",
       "      <th>Base MSRP</th>\n",
       "      <th>Legislative District</th>\n",
       "      <th>DOL Vehicle ID</th>\n",
       "      <th>Vehicle Location</th>\n",
       "      <th>Electric Utility</th>\n",
       "      <th>2020 Census Tract</th>\n",
       "    </tr>\n",
       "  </thead>\n",
       "  <tbody>\n",
       "    <tr>\n",
       "      <th>0</th>\n",
       "      <td>JTMEB3FV6N</td>\n",
       "      <td>Monroe</td>\n",
       "      <td>Key West</td>\n",
       "      <td>FL</td>\n",
       "      <td>33040</td>\n",
       "      <td>2022</td>\n",
       "      <td>TOYOTA</td>\n",
       "      <td>RAV4 PRIME</td>\n",
       "      <td>Plug-in Hybrid Electric Vehicle (PHEV)</td>\n",
       "      <td>Clean Alternative Fuel Vehicle Eligible</td>\n",
       "      <td>42</td>\n",
       "      <td>0</td>\n",
       "      <td>NaN</td>\n",
       "      <td>198968248</td>\n",
       "      <td>POINT (-81.80023 24.5545)</td>\n",
       "      <td>NaN</td>\n",
       "      <td>12087972100</td>\n",
       "    </tr>\n",
       "    <tr>\n",
       "      <th>1</th>\n",
       "      <td>1G1RD6E45D</td>\n",
       "      <td>Clark</td>\n",
       "      <td>Laughlin</td>\n",
       "      <td>NV</td>\n",
       "      <td>89029</td>\n",
       "      <td>2013</td>\n",
       "      <td>CHEVROLET</td>\n",
       "      <td>VOLT</td>\n",
       "      <td>Plug-in Hybrid Electric Vehicle (PHEV)</td>\n",
       "      <td>Clean Alternative Fuel Vehicle Eligible</td>\n",
       "      <td>38</td>\n",
       "      <td>0</td>\n",
       "      <td>NaN</td>\n",
       "      <td>5204412</td>\n",
       "      <td>POINT (-114.57245 35.16815)</td>\n",
       "      <td>NaN</td>\n",
       "      <td>32003005702</td>\n",
       "    </tr>\n",
       "    <tr>\n",
       "      <th>2</th>\n",
       "      <td>JN1AZ0CP8B</td>\n",
       "      <td>Yakima</td>\n",
       "      <td>Yakima</td>\n",
       "      <td>WA</td>\n",
       "      <td>98901</td>\n",
       "      <td>2011</td>\n",
       "      <td>NISSAN</td>\n",
       "      <td>LEAF</td>\n",
       "      <td>Battery Electric Vehicle (BEV)</td>\n",
       "      <td>Clean Alternative Fuel Vehicle Eligible</td>\n",
       "      <td>73</td>\n",
       "      <td>0</td>\n",
       "      <td>15.0</td>\n",
       "      <td>218972519</td>\n",
       "      <td>POINT (-120.50721 46.60448)</td>\n",
       "      <td>PACIFICORP</td>\n",
       "      <td>53077001602</td>\n",
       "    </tr>\n",
       "    <tr>\n",
       "      <th>3</th>\n",
       "      <td>1G1FW6S08H</td>\n",
       "      <td>Skagit</td>\n",
       "      <td>Concrete</td>\n",
       "      <td>WA</td>\n",
       "      <td>98237</td>\n",
       "      <td>2017</td>\n",
       "      <td>CHEVROLET</td>\n",
       "      <td>BOLT EV</td>\n",
       "      <td>Battery Electric Vehicle (BEV)</td>\n",
       "      <td>Clean Alternative Fuel Vehicle Eligible</td>\n",
       "      <td>238</td>\n",
       "      <td>0</td>\n",
       "      <td>39.0</td>\n",
       "      <td>186750406</td>\n",
       "      <td>POINT (-121.7515 48.53892)</td>\n",
       "      <td>PUGET SOUND ENERGY INC</td>\n",
       "      <td>53057951101</td>\n",
       "    </tr>\n",
       "    <tr>\n",
       "      <th>4</th>\n",
       "      <td>3FA6P0SU1K</td>\n",
       "      <td>Snohomish</td>\n",
       "      <td>Everett</td>\n",
       "      <td>WA</td>\n",
       "      <td>98201</td>\n",
       "      <td>2019</td>\n",
       "      <td>FORD</td>\n",
       "      <td>FUSION</td>\n",
       "      <td>Plug-in Hybrid Electric Vehicle (PHEV)</td>\n",
       "      <td>Not eligible due to low battery range</td>\n",
       "      <td>26</td>\n",
       "      <td>0</td>\n",
       "      <td>38.0</td>\n",
       "      <td>2006714</td>\n",
       "      <td>POINT (-122.20596 47.97659)</td>\n",
       "      <td>PUGET SOUND ENERGY INC</td>\n",
       "      <td>53061041500</td>\n",
       "    </tr>\n",
       "  </tbody>\n",
       "</table>\n",
       "</div>"
      ],
      "text/plain": [
       "   VIN (1-10)     County      City State  Postal Code  Model Year       Make  \\\n",
       "0  JTMEB3FV6N     Monroe  Key West    FL        33040        2022     TOYOTA   \n",
       "1  1G1RD6E45D      Clark  Laughlin    NV        89029        2013  CHEVROLET   \n",
       "2  JN1AZ0CP8B     Yakima    Yakima    WA        98901        2011     NISSAN   \n",
       "3  1G1FW6S08H     Skagit  Concrete    WA        98237        2017  CHEVROLET   \n",
       "4  3FA6P0SU1K  Snohomish   Everett    WA        98201        2019       FORD   \n",
       "\n",
       "        Model                   Electric Vehicle Type  \\\n",
       "0  RAV4 PRIME  Plug-in Hybrid Electric Vehicle (PHEV)   \n",
       "1        VOLT  Plug-in Hybrid Electric Vehicle (PHEV)   \n",
       "2        LEAF          Battery Electric Vehicle (BEV)   \n",
       "3     BOLT EV          Battery Electric Vehicle (BEV)   \n",
       "4      FUSION  Plug-in Hybrid Electric Vehicle (PHEV)   \n",
       "\n",
       "  Clean Alternative Fuel Vehicle (CAFV) Eligibility  Electric Range  \\\n",
       "0           Clean Alternative Fuel Vehicle Eligible              42   \n",
       "1           Clean Alternative Fuel Vehicle Eligible              38   \n",
       "2           Clean Alternative Fuel Vehicle Eligible              73   \n",
       "3           Clean Alternative Fuel Vehicle Eligible             238   \n",
       "4             Not eligible due to low battery range              26   \n",
       "\n",
       "   Base MSRP  Legislative District  DOL Vehicle ID  \\\n",
       "0          0                   NaN       198968248   \n",
       "1          0                   NaN         5204412   \n",
       "2          0                  15.0       218972519   \n",
       "3          0                  39.0       186750406   \n",
       "4          0                  38.0         2006714   \n",
       "\n",
       "              Vehicle Location        Electric Utility  2020 Census Tract  \n",
       "0    POINT (-81.80023 24.5545)                     NaN        12087972100  \n",
       "1  POINT (-114.57245 35.16815)                     NaN        32003005702  \n",
       "2  POINT (-120.50721 46.60448)              PACIFICORP        53077001602  \n",
       "3   POINT (-121.7515 48.53892)  PUGET SOUND ENERGY INC        53057951101  \n",
       "4  POINT (-122.20596 47.97659)  PUGET SOUND ENERGY INC        53061041500  "
      ]
     },
     "execution_count": 4,
     "metadata": {},
     "output_type": "execute_result"
    }
   ],
   "source": [
    "df.head()"
   ]
  },
  {
   "cell_type": "code",
   "execution_count": 5,
   "id": "abcf66a6",
   "metadata": {},
   "outputs": [
    {
     "name": "stdout",
     "output_type": "stream",
     "text": [
      "<class 'pandas.core.frame.DataFrame'>\n",
      "RangeIndex: 112634 entries, 0 to 112633\n",
      "Data columns (total 17 columns):\n",
      " #   Column                                             Non-Null Count   Dtype  \n",
      "---  ------                                             --------------   -----  \n",
      " 0   VIN (1-10)                                         112634 non-null  object \n",
      " 1   County                                             112634 non-null  object \n",
      " 2   City                                               112634 non-null  object \n",
      " 3   State                                              112634 non-null  object \n",
      " 4   Postal Code                                        112634 non-null  int64  \n",
      " 5   Model Year                                         112634 non-null  int64  \n",
      " 6   Make                                               112634 non-null  object \n",
      " 7   Model                                              112614 non-null  object \n",
      " 8   Electric Vehicle Type                              112634 non-null  object \n",
      " 9   Clean Alternative Fuel Vehicle (CAFV) Eligibility  112634 non-null  object \n",
      " 10  Electric Range                                     112634 non-null  int64  \n",
      " 11  Base MSRP                                          112634 non-null  int64  \n",
      " 12  Legislative District                               112348 non-null  float64\n",
      " 13  DOL Vehicle ID                                     112634 non-null  int64  \n",
      " 14  Vehicle Location                                   112610 non-null  object \n",
      " 15  Electric Utility                                   112191 non-null  object \n",
      " 16  2020 Census Tract                                  112634 non-null  int64  \n",
      "dtypes: float64(1), int64(6), object(10)\n",
      "memory usage: 14.6+ MB\n"
     ]
    }
   ],
   "source": [
    "df.info()"
   ]
  },
  {
   "cell_type": "code",
   "execution_count": 6,
   "id": "b966eee6",
   "metadata": {},
   "outputs": [
    {
     "data": {
      "text/plain": [
       "VIN (1-10)                                             0\n",
       "County                                                 0\n",
       "City                                                   0\n",
       "State                                                  0\n",
       "Postal Code                                            0\n",
       "Model Year                                             0\n",
       "Make                                                   0\n",
       "Model                                                 20\n",
       "Electric Vehicle Type                                  0\n",
       "Clean Alternative Fuel Vehicle (CAFV) Eligibility      0\n",
       "Electric Range                                         0\n",
       "Base MSRP                                              0\n",
       "Legislative District                                 286\n",
       "DOL Vehicle ID                                         0\n",
       "Vehicle Location                                      24\n",
       "Electric Utility                                     443\n",
       "2020 Census Tract                                      0\n",
       "dtype: int64"
      ]
     },
     "execution_count": 6,
     "metadata": {},
     "output_type": "execute_result"
    }
   ],
   "source": [
    "df.isnull().sum()"
   ]
  },
  {
   "cell_type": "code",
   "execution_count": 20,
   "id": "332c4a75",
   "metadata": {},
   "outputs": [],
   "source": [
    "df['V_ModelAlp']=df['VIN (1-10)'].apply(lambda x:x[-1])"
   ]
  },
  {
   "cell_type": "code",
   "execution_count": 21,
   "id": "a0fd0ade",
   "metadata": {},
   "outputs": [
    {
     "data": {
      "text/html": [
       "<div>\n",
       "<style scoped>\n",
       "    .dataframe tbody tr th:only-of-type {\n",
       "        vertical-align: middle;\n",
       "    }\n",
       "\n",
       "    .dataframe tbody tr th {\n",
       "        vertical-align: top;\n",
       "    }\n",
       "\n",
       "    .dataframe thead th {\n",
       "        text-align: right;\n",
       "    }\n",
       "</style>\n",
       "<table border=\"1\" class=\"dataframe\">\n",
       "  <thead>\n",
       "    <tr style=\"text-align: right;\">\n",
       "      <th></th>\n",
       "      <th>VIN (1-10)</th>\n",
       "      <th>County</th>\n",
       "      <th>City</th>\n",
       "      <th>State</th>\n",
       "      <th>Postal Code</th>\n",
       "      <th>Model Year</th>\n",
       "      <th>Make</th>\n",
       "      <th>Model</th>\n",
       "      <th>Electric Vehicle Type</th>\n",
       "      <th>Clean Alternative Fuel Vehicle (CAFV) Eligibility</th>\n",
       "      <th>Electric Range</th>\n",
       "      <th>Base MSRP</th>\n",
       "      <th>Legislative District</th>\n",
       "      <th>DOL Vehicle ID</th>\n",
       "      <th>Vehicle Location</th>\n",
       "      <th>Electric Utility</th>\n",
       "      <th>2020 Census Tract</th>\n",
       "      <th>V_ModelAlp</th>\n",
       "    </tr>\n",
       "  </thead>\n",
       "  <tbody>\n",
       "    <tr>\n",
       "      <th>0</th>\n",
       "      <td>JTMEB3FV6N</td>\n",
       "      <td>Monroe</td>\n",
       "      <td>Key West</td>\n",
       "      <td>FL</td>\n",
       "      <td>33040</td>\n",
       "      <td>2022</td>\n",
       "      <td>TOYOTA</td>\n",
       "      <td>RAV4 PRIME</td>\n",
       "      <td>Plug-in Hybrid Electric Vehicle (PHEV)</td>\n",
       "      <td>Clean Alternative Fuel Vehicle Eligible</td>\n",
       "      <td>42</td>\n",
       "      <td>0</td>\n",
       "      <td>NaN</td>\n",
       "      <td>198968248</td>\n",
       "      <td>POINT (-81.80023 24.5545)</td>\n",
       "      <td>NaN</td>\n",
       "      <td>12087972100</td>\n",
       "      <td>N</td>\n",
       "    </tr>\n",
       "    <tr>\n",
       "      <th>1</th>\n",
       "      <td>1G1RD6E45D</td>\n",
       "      <td>Clark</td>\n",
       "      <td>Laughlin</td>\n",
       "      <td>NV</td>\n",
       "      <td>89029</td>\n",
       "      <td>2013</td>\n",
       "      <td>CHEVROLET</td>\n",
       "      <td>VOLT</td>\n",
       "      <td>Plug-in Hybrid Electric Vehicle (PHEV)</td>\n",
       "      <td>Clean Alternative Fuel Vehicle Eligible</td>\n",
       "      <td>38</td>\n",
       "      <td>0</td>\n",
       "      <td>NaN</td>\n",
       "      <td>5204412</td>\n",
       "      <td>POINT (-114.57245 35.16815)</td>\n",
       "      <td>NaN</td>\n",
       "      <td>32003005702</td>\n",
       "      <td>D</td>\n",
       "    </tr>\n",
       "    <tr>\n",
       "      <th>2</th>\n",
       "      <td>JN1AZ0CP8B</td>\n",
       "      <td>Yakima</td>\n",
       "      <td>Yakima</td>\n",
       "      <td>WA</td>\n",
       "      <td>98901</td>\n",
       "      <td>2011</td>\n",
       "      <td>NISSAN</td>\n",
       "      <td>LEAF</td>\n",
       "      <td>Battery Electric Vehicle (BEV)</td>\n",
       "      <td>Clean Alternative Fuel Vehicle Eligible</td>\n",
       "      <td>73</td>\n",
       "      <td>0</td>\n",
       "      <td>15.0</td>\n",
       "      <td>218972519</td>\n",
       "      <td>POINT (-120.50721 46.60448)</td>\n",
       "      <td>PACIFICORP</td>\n",
       "      <td>53077001602</td>\n",
       "      <td>B</td>\n",
       "    </tr>\n",
       "    <tr>\n",
       "      <th>3</th>\n",
       "      <td>1G1FW6S08H</td>\n",
       "      <td>Skagit</td>\n",
       "      <td>Concrete</td>\n",
       "      <td>WA</td>\n",
       "      <td>98237</td>\n",
       "      <td>2017</td>\n",
       "      <td>CHEVROLET</td>\n",
       "      <td>BOLT EV</td>\n",
       "      <td>Battery Electric Vehicle (BEV)</td>\n",
       "      <td>Clean Alternative Fuel Vehicle Eligible</td>\n",
       "      <td>238</td>\n",
       "      <td>0</td>\n",
       "      <td>39.0</td>\n",
       "      <td>186750406</td>\n",
       "      <td>POINT (-121.7515 48.53892)</td>\n",
       "      <td>PUGET SOUND ENERGY INC</td>\n",
       "      <td>53057951101</td>\n",
       "      <td>H</td>\n",
       "    </tr>\n",
       "    <tr>\n",
       "      <th>4</th>\n",
       "      <td>3FA6P0SU1K</td>\n",
       "      <td>Snohomish</td>\n",
       "      <td>Everett</td>\n",
       "      <td>WA</td>\n",
       "      <td>98201</td>\n",
       "      <td>2019</td>\n",
       "      <td>FORD</td>\n",
       "      <td>FUSION</td>\n",
       "      <td>Plug-in Hybrid Electric Vehicle (PHEV)</td>\n",
       "      <td>Not eligible due to low battery range</td>\n",
       "      <td>26</td>\n",
       "      <td>0</td>\n",
       "      <td>38.0</td>\n",
       "      <td>2006714</td>\n",
       "      <td>POINT (-122.20596 47.97659)</td>\n",
       "      <td>PUGET SOUND ENERGY INC</td>\n",
       "      <td>53061041500</td>\n",
       "      <td>K</td>\n",
       "    </tr>\n",
       "  </tbody>\n",
       "</table>\n",
       "</div>"
      ],
      "text/plain": [
       "   VIN (1-10)     County      City State  Postal Code  Model Year       Make  \\\n",
       "0  JTMEB3FV6N     Monroe  Key West    FL        33040        2022     TOYOTA   \n",
       "1  1G1RD6E45D      Clark  Laughlin    NV        89029        2013  CHEVROLET   \n",
       "2  JN1AZ0CP8B     Yakima    Yakima    WA        98901        2011     NISSAN   \n",
       "3  1G1FW6S08H     Skagit  Concrete    WA        98237        2017  CHEVROLET   \n",
       "4  3FA6P0SU1K  Snohomish   Everett    WA        98201        2019       FORD   \n",
       "\n",
       "        Model                   Electric Vehicle Type  \\\n",
       "0  RAV4 PRIME  Plug-in Hybrid Electric Vehicle (PHEV)   \n",
       "1        VOLT  Plug-in Hybrid Electric Vehicle (PHEV)   \n",
       "2        LEAF          Battery Electric Vehicle (BEV)   \n",
       "3     BOLT EV          Battery Electric Vehicle (BEV)   \n",
       "4      FUSION  Plug-in Hybrid Electric Vehicle (PHEV)   \n",
       "\n",
       "  Clean Alternative Fuel Vehicle (CAFV) Eligibility  Electric Range  \\\n",
       "0           Clean Alternative Fuel Vehicle Eligible              42   \n",
       "1           Clean Alternative Fuel Vehicle Eligible              38   \n",
       "2           Clean Alternative Fuel Vehicle Eligible              73   \n",
       "3           Clean Alternative Fuel Vehicle Eligible             238   \n",
       "4             Not eligible due to low battery range              26   \n",
       "\n",
       "   Base MSRP  Legislative District  DOL Vehicle ID  \\\n",
       "0          0                   NaN       198968248   \n",
       "1          0                   NaN         5204412   \n",
       "2          0                  15.0       218972519   \n",
       "3          0                  39.0       186750406   \n",
       "4          0                  38.0         2006714   \n",
       "\n",
       "              Vehicle Location        Electric Utility  2020 Census Tract  \\\n",
       "0    POINT (-81.80023 24.5545)                     NaN        12087972100   \n",
       "1  POINT (-114.57245 35.16815)                     NaN        32003005702   \n",
       "2  POINT (-120.50721 46.60448)              PACIFICORP        53077001602   \n",
       "3   POINT (-121.7515 48.53892)  PUGET SOUND ENERGY INC        53057951101   \n",
       "4  POINT (-122.20596 47.97659)  PUGET SOUND ENERGY INC        53061041500   \n",
       "\n",
       "  V_ModelAlp  \n",
       "0          N  \n",
       "1          D  \n",
       "2          B  \n",
       "3          H  \n",
       "4          K  "
      ]
     },
     "execution_count": 21,
     "metadata": {},
     "output_type": "execute_result"
    }
   ],
   "source": [
    "df.head()"
   ]
  },
  {
   "cell_type": "code",
   "execution_count": 31,
   "id": "cc425312",
   "metadata": {},
   "outputs": [],
   "source": [
    "df.rename(columns={'Model Year':'Model_Year'},inplace=True)"
   ]
  },
  {
   "cell_type": "code",
   "execution_count": null,
   "id": "c8d2b322",
   "metadata": {},
   "outputs": [],
   "source": [
    "# Removing null rows of Vehicle Location"
   ]
  },
  {
   "cell_type": "code",
   "execution_count": 51,
   "id": "335358e8",
   "metadata": {},
   "outputs": [],
   "source": [
    "df=df[~df['Vehicle Location'].isnull()]"
   ]
  },
  {
   "cell_type": "code",
   "execution_count": null,
   "id": "ed98fc0d",
   "metadata": {},
   "outputs": [],
   "source": [
    "# Filling nan values in for different columns"
   ]
  },
  {
   "cell_type": "code",
   "execution_count": null,
   "id": "c99e4237",
   "metadata": {},
   "outputs": [],
   "source": [
    "df['Legislative District'].fillna(df['Legislative District'].mode()[0],inplace=True)"
   ]
  },
  {
   "cell_type": "code",
   "execution_count": 58,
   "id": "12a2bbeb",
   "metadata": {},
   "outputs": [],
   "source": [
    "df['Model'].fillna(df['Model'].mode()[0],inplace=True)"
   ]
  },
  {
   "cell_type": "code",
   "execution_count": 60,
   "id": "575c520d",
   "metadata": {},
   "outputs": [],
   "source": [
    "df['Electric Utility'].fillna(df['Electric Utility'].mode()[0],inplace=True)"
   ]
  },
  {
   "cell_type": "code",
   "execution_count": null,
   "id": "d634804f",
   "metadata": {},
   "outputs": [],
   "source": [
    "# Formating Vehicle Location   column"
   ]
  },
  {
   "cell_type": "code",
   "execution_count": 69,
   "id": "12810695",
   "metadata": {},
   "outputs": [],
   "source": [
    "df['Vehicle Location']=df['Vehicle Location'].apply(lambda x:x.replace(\"POINT\",\"\").replace(\"(\",\"\").replace(\")\",\"\"))"
   ]
  },
  {
   "cell_type": "code",
   "execution_count": 70,
   "id": "581aeabd",
   "metadata": {},
   "outputs": [
    {
     "data": {
      "text/plain": [
       "0            -81.80023 24.5545\n",
       "1          -114.57245 35.16815\n",
       "2          -120.50721 46.60448\n",
       "3           -121.7515 48.53892\n",
       "4          -122.20596 47.97659\n",
       "                  ...         \n",
       "112629     -121.98609 47.74068\n",
       "112630     -123.01648 48.53448\n",
       "112631      -122.4573 47.44929\n",
       "112632     -122.09124 47.33778\n",
       "112633     -122.09124 47.33778\n",
       "Name: Vehicle Location, Length: 112610, dtype: object"
      ]
     },
     "execution_count": 70,
     "metadata": {},
     "output_type": "execute_result"
    }
   ],
   "source": [
    "df['Vehicle Location']"
   ]
  },
  {
   "cell_type": "code",
   "execution_count": 71,
   "id": "75088675",
   "metadata": {},
   "outputs": [],
   "source": [
    "# Data Visualization and insights"
   ]
  },
  {
   "cell_type": "code",
   "execution_count": 73,
   "id": "87963a5b",
   "metadata": {},
   "outputs": [
    {
     "data": {
      "text/plain": [
       "5YJYGDEE9M    472\n",
       "5YJYGDEE0M    465\n",
       "5YJYGDEE7M    448\n",
       "5YJYGDEE8M    448\n",
       "5YJYGDEE2M    437\n",
       "             ... \n",
       "WA1LAAGE9M      1\n",
       "5UXKT0C50H      1\n",
       "5YJYGAED3M      1\n",
       "WDC0G5DBXL      1\n",
       "YV4ED3GM0P      1\n",
       "Name: VIN (1-10), Length: 7548, dtype: int64"
      ]
     },
     "execution_count": 73,
     "metadata": {},
     "output_type": "execute_result"
    }
   ],
   "source": [
    "df['VIN (1-10)'].value_counts()"
   ]
  },
  {
   "cell_type": "code",
   "execution_count": 74,
   "id": "c9f2534e",
   "metadata": {},
   "outputs": [],
   "source": [
    "import plotly.express as px"
   ]
  },
  {
   "cell_type": "code",
   "execution_count": 78,
   "id": "155184c5",
   "metadata": {},
   "outputs": [
    {
     "data": {
      "application/vnd.plotly.v1+json": {
       "config": {
        "plotlyServerURL": "https://plot.ly"
       },
       "data": [
        {
         "alignmentgroup": "True",
         "hovertemplate": "variable=Model_Year<br>index=%{x}<br>value=%{y}<extra></extra>",
         "legendgroup": "Model_Year",
         "marker": {
          "color": "#636efa",
          "pattern": {
           "shape": ""
          }
         },
         "name": "Model_Year",
         "offsetgroup": "Model_Year",
         "orientation": "v",
         "showlegend": true,
         "textposition": "auto",
         "type": "bar",
         "x": [
          2022,
          2021,
          2018,
          2020,
          2019,
          2017,
          2016,
          2015,
          2013,
          2014,
          2023,
          2012,
          2011,
          2010,
          2008,
          2000,
          1999,
          2002,
          1997,
          1998
         ],
         "xaxis": "x",
         "y": [
          26529,
          18361,
          14245,
          11037,
          10265,
          8642,
          5732,
          4940,
          4686,
          3683,
          1886,
          1702,
          838,
          24,
          23,
          10,
          3,
          2,
          1,
          1
         ],
         "yaxis": "y"
        }
       ],
       "layout": {
        "barmode": "relative",
        "legend": {
         "title": {
          "text": "variable"
         },
         "tracegroupgap": 0
        },
        "margin": {
         "t": 60
        },
        "template": {
         "data": {
          "bar": [
           {
            "error_x": {
             "color": "#2a3f5f"
            },
            "error_y": {
             "color": "#2a3f5f"
            },
            "marker": {
             "line": {
              "color": "#E5ECF6",
              "width": 0.5
             },
             "pattern": {
              "fillmode": "overlay",
              "size": 10,
              "solidity": 0.2
             }
            },
            "type": "bar"
           }
          ],
          "barpolar": [
           {
            "marker": {
             "line": {
              "color": "#E5ECF6",
              "width": 0.5
             },
             "pattern": {
              "fillmode": "overlay",
              "size": 10,
              "solidity": 0.2
             }
            },
            "type": "barpolar"
           }
          ],
          "carpet": [
           {
            "aaxis": {
             "endlinecolor": "#2a3f5f",
             "gridcolor": "white",
             "linecolor": "white",
             "minorgridcolor": "white",
             "startlinecolor": "#2a3f5f"
            },
            "baxis": {
             "endlinecolor": "#2a3f5f",
             "gridcolor": "white",
             "linecolor": "white",
             "minorgridcolor": "white",
             "startlinecolor": "#2a3f5f"
            },
            "type": "carpet"
           }
          ],
          "choropleth": [
           {
            "colorbar": {
             "outlinewidth": 0,
             "ticks": ""
            },
            "type": "choropleth"
           }
          ],
          "contour": [
           {
            "colorbar": {
             "outlinewidth": 0,
             "ticks": ""
            },
            "colorscale": [
             [
              0,
              "#0d0887"
             ],
             [
              0.1111111111111111,
              "#46039f"
             ],
             [
              0.2222222222222222,
              "#7201a8"
             ],
             [
              0.3333333333333333,
              "#9c179e"
             ],
             [
              0.4444444444444444,
              "#bd3786"
             ],
             [
              0.5555555555555556,
              "#d8576b"
             ],
             [
              0.6666666666666666,
              "#ed7953"
             ],
             [
              0.7777777777777778,
              "#fb9f3a"
             ],
             [
              0.8888888888888888,
              "#fdca26"
             ],
             [
              1,
              "#f0f921"
             ]
            ],
            "type": "contour"
           }
          ],
          "contourcarpet": [
           {
            "colorbar": {
             "outlinewidth": 0,
             "ticks": ""
            },
            "type": "contourcarpet"
           }
          ],
          "heatmap": [
           {
            "colorbar": {
             "outlinewidth": 0,
             "ticks": ""
            },
            "colorscale": [
             [
              0,
              "#0d0887"
             ],
             [
              0.1111111111111111,
              "#46039f"
             ],
             [
              0.2222222222222222,
              "#7201a8"
             ],
             [
              0.3333333333333333,
              "#9c179e"
             ],
             [
              0.4444444444444444,
              "#bd3786"
             ],
             [
              0.5555555555555556,
              "#d8576b"
             ],
             [
              0.6666666666666666,
              "#ed7953"
             ],
             [
              0.7777777777777778,
              "#fb9f3a"
             ],
             [
              0.8888888888888888,
              "#fdca26"
             ],
             [
              1,
              "#f0f921"
             ]
            ],
            "type": "heatmap"
           }
          ],
          "heatmapgl": [
           {
            "colorbar": {
             "outlinewidth": 0,
             "ticks": ""
            },
            "colorscale": [
             [
              0,
              "#0d0887"
             ],
             [
              0.1111111111111111,
              "#46039f"
             ],
             [
              0.2222222222222222,
              "#7201a8"
             ],
             [
              0.3333333333333333,
              "#9c179e"
             ],
             [
              0.4444444444444444,
              "#bd3786"
             ],
             [
              0.5555555555555556,
              "#d8576b"
             ],
             [
              0.6666666666666666,
              "#ed7953"
             ],
             [
              0.7777777777777778,
              "#fb9f3a"
             ],
             [
              0.8888888888888888,
              "#fdca26"
             ],
             [
              1,
              "#f0f921"
             ]
            ],
            "type": "heatmapgl"
           }
          ],
          "histogram": [
           {
            "marker": {
             "pattern": {
              "fillmode": "overlay",
              "size": 10,
              "solidity": 0.2
             }
            },
            "type": "histogram"
           }
          ],
          "histogram2d": [
           {
            "colorbar": {
             "outlinewidth": 0,
             "ticks": ""
            },
            "colorscale": [
             [
              0,
              "#0d0887"
             ],
             [
              0.1111111111111111,
              "#46039f"
             ],
             [
              0.2222222222222222,
              "#7201a8"
             ],
             [
              0.3333333333333333,
              "#9c179e"
             ],
             [
              0.4444444444444444,
              "#bd3786"
             ],
             [
              0.5555555555555556,
              "#d8576b"
             ],
             [
              0.6666666666666666,
              "#ed7953"
             ],
             [
              0.7777777777777778,
              "#fb9f3a"
             ],
             [
              0.8888888888888888,
              "#fdca26"
             ],
             [
              1,
              "#f0f921"
             ]
            ],
            "type": "histogram2d"
           }
          ],
          "histogram2dcontour": [
           {
            "colorbar": {
             "outlinewidth": 0,
             "ticks": ""
            },
            "colorscale": [
             [
              0,
              "#0d0887"
             ],
             [
              0.1111111111111111,
              "#46039f"
             ],
             [
              0.2222222222222222,
              "#7201a8"
             ],
             [
              0.3333333333333333,
              "#9c179e"
             ],
             [
              0.4444444444444444,
              "#bd3786"
             ],
             [
              0.5555555555555556,
              "#d8576b"
             ],
             [
              0.6666666666666666,
              "#ed7953"
             ],
             [
              0.7777777777777778,
              "#fb9f3a"
             ],
             [
              0.8888888888888888,
              "#fdca26"
             ],
             [
              1,
              "#f0f921"
             ]
            ],
            "type": "histogram2dcontour"
           }
          ],
          "mesh3d": [
           {
            "colorbar": {
             "outlinewidth": 0,
             "ticks": ""
            },
            "type": "mesh3d"
           }
          ],
          "parcoords": [
           {
            "line": {
             "colorbar": {
              "outlinewidth": 0,
              "ticks": ""
             }
            },
            "type": "parcoords"
           }
          ],
          "pie": [
           {
            "automargin": true,
            "type": "pie"
           }
          ],
          "scatter": [
           {
            "fillpattern": {
             "fillmode": "overlay",
             "size": 10,
             "solidity": 0.2
            },
            "type": "scatter"
           }
          ],
          "scatter3d": [
           {
            "line": {
             "colorbar": {
              "outlinewidth": 0,
              "ticks": ""
             }
            },
            "marker": {
             "colorbar": {
              "outlinewidth": 0,
              "ticks": ""
             }
            },
            "type": "scatter3d"
           }
          ],
          "scattercarpet": [
           {
            "marker": {
             "colorbar": {
              "outlinewidth": 0,
              "ticks": ""
             }
            },
            "type": "scattercarpet"
           }
          ],
          "scattergeo": [
           {
            "marker": {
             "colorbar": {
              "outlinewidth": 0,
              "ticks": ""
             }
            },
            "type": "scattergeo"
           }
          ],
          "scattergl": [
           {
            "marker": {
             "colorbar": {
              "outlinewidth": 0,
              "ticks": ""
             }
            },
            "type": "scattergl"
           }
          ],
          "scattermapbox": [
           {
            "marker": {
             "colorbar": {
              "outlinewidth": 0,
              "ticks": ""
             }
            },
            "type": "scattermapbox"
           }
          ],
          "scatterpolar": [
           {
            "marker": {
             "colorbar": {
              "outlinewidth": 0,
              "ticks": ""
             }
            },
            "type": "scatterpolar"
           }
          ],
          "scatterpolargl": [
           {
            "marker": {
             "colorbar": {
              "outlinewidth": 0,
              "ticks": ""
             }
            },
            "type": "scatterpolargl"
           }
          ],
          "scatterternary": [
           {
            "marker": {
             "colorbar": {
              "outlinewidth": 0,
              "ticks": ""
             }
            },
            "type": "scatterternary"
           }
          ],
          "surface": [
           {
            "colorbar": {
             "outlinewidth": 0,
             "ticks": ""
            },
            "colorscale": [
             [
              0,
              "#0d0887"
             ],
             [
              0.1111111111111111,
              "#46039f"
             ],
             [
              0.2222222222222222,
              "#7201a8"
             ],
             [
              0.3333333333333333,
              "#9c179e"
             ],
             [
              0.4444444444444444,
              "#bd3786"
             ],
             [
              0.5555555555555556,
              "#d8576b"
             ],
             [
              0.6666666666666666,
              "#ed7953"
             ],
             [
              0.7777777777777778,
              "#fb9f3a"
             ],
             [
              0.8888888888888888,
              "#fdca26"
             ],
             [
              1,
              "#f0f921"
             ]
            ],
            "type": "surface"
           }
          ],
          "table": [
           {
            "cells": {
             "fill": {
              "color": "#EBF0F8"
             },
             "line": {
              "color": "white"
             }
            },
            "header": {
             "fill": {
              "color": "#C8D4E3"
             },
             "line": {
              "color": "white"
             }
            },
            "type": "table"
           }
          ]
         },
         "layout": {
          "annotationdefaults": {
           "arrowcolor": "#2a3f5f",
           "arrowhead": 0,
           "arrowwidth": 1
          },
          "autotypenumbers": "strict",
          "coloraxis": {
           "colorbar": {
            "outlinewidth": 0,
            "ticks": ""
           }
          },
          "colorscale": {
           "diverging": [
            [
             0,
             "#8e0152"
            ],
            [
             0.1,
             "#c51b7d"
            ],
            [
             0.2,
             "#de77ae"
            ],
            [
             0.3,
             "#f1b6da"
            ],
            [
             0.4,
             "#fde0ef"
            ],
            [
             0.5,
             "#f7f7f7"
            ],
            [
             0.6,
             "#e6f5d0"
            ],
            [
             0.7,
             "#b8e186"
            ],
            [
             0.8,
             "#7fbc41"
            ],
            [
             0.9,
             "#4d9221"
            ],
            [
             1,
             "#276419"
            ]
           ],
           "sequential": [
            [
             0,
             "#0d0887"
            ],
            [
             0.1111111111111111,
             "#46039f"
            ],
            [
             0.2222222222222222,
             "#7201a8"
            ],
            [
             0.3333333333333333,
             "#9c179e"
            ],
            [
             0.4444444444444444,
             "#bd3786"
            ],
            [
             0.5555555555555556,
             "#d8576b"
            ],
            [
             0.6666666666666666,
             "#ed7953"
            ],
            [
             0.7777777777777778,
             "#fb9f3a"
            ],
            [
             0.8888888888888888,
             "#fdca26"
            ],
            [
             1,
             "#f0f921"
            ]
           ],
           "sequentialminus": [
            [
             0,
             "#0d0887"
            ],
            [
             0.1111111111111111,
             "#46039f"
            ],
            [
             0.2222222222222222,
             "#7201a8"
            ],
            [
             0.3333333333333333,
             "#9c179e"
            ],
            [
             0.4444444444444444,
             "#bd3786"
            ],
            [
             0.5555555555555556,
             "#d8576b"
            ],
            [
             0.6666666666666666,
             "#ed7953"
            ],
            [
             0.7777777777777778,
             "#fb9f3a"
            ],
            [
             0.8888888888888888,
             "#fdca26"
            ],
            [
             1,
             "#f0f921"
            ]
           ]
          },
          "colorway": [
           "#636efa",
           "#EF553B",
           "#00cc96",
           "#ab63fa",
           "#FFA15A",
           "#19d3f3",
           "#FF6692",
           "#B6E880",
           "#FF97FF",
           "#FECB52"
          ],
          "font": {
           "color": "#2a3f5f"
          },
          "geo": {
           "bgcolor": "white",
           "lakecolor": "white",
           "landcolor": "#E5ECF6",
           "showlakes": true,
           "showland": true,
           "subunitcolor": "white"
          },
          "hoverlabel": {
           "align": "left"
          },
          "hovermode": "closest",
          "mapbox": {
           "style": "light"
          },
          "paper_bgcolor": "white",
          "plot_bgcolor": "#E5ECF6",
          "polar": {
           "angularaxis": {
            "gridcolor": "white",
            "linecolor": "white",
            "ticks": ""
           },
           "bgcolor": "#E5ECF6",
           "radialaxis": {
            "gridcolor": "white",
            "linecolor": "white",
            "ticks": ""
           }
          },
          "scene": {
           "xaxis": {
            "backgroundcolor": "#E5ECF6",
            "gridcolor": "white",
            "gridwidth": 2,
            "linecolor": "white",
            "showbackground": true,
            "ticks": "",
            "zerolinecolor": "white"
           },
           "yaxis": {
            "backgroundcolor": "#E5ECF6",
            "gridcolor": "white",
            "gridwidth": 2,
            "linecolor": "white",
            "showbackground": true,
            "ticks": "",
            "zerolinecolor": "white"
           },
           "zaxis": {
            "backgroundcolor": "#E5ECF6",
            "gridcolor": "white",
            "gridwidth": 2,
            "linecolor": "white",
            "showbackground": true,
            "ticks": "",
            "zerolinecolor": "white"
           }
          },
          "shapedefaults": {
           "line": {
            "color": "#2a3f5f"
           }
          },
          "ternary": {
           "aaxis": {
            "gridcolor": "white",
            "linecolor": "white",
            "ticks": ""
           },
           "baxis": {
            "gridcolor": "white",
            "linecolor": "white",
            "ticks": ""
           },
           "bgcolor": "#E5ECF6",
           "caxis": {
            "gridcolor": "white",
            "linecolor": "white",
            "ticks": ""
           }
          },
          "title": {
           "x": 0.05
          },
          "xaxis": {
           "automargin": true,
           "gridcolor": "white",
           "linecolor": "white",
           "ticks": "",
           "title": {
            "standoff": 15
           },
           "zerolinecolor": "white",
           "zerolinewidth": 2
          },
          "yaxis": {
           "automargin": true,
           "gridcolor": "white",
           "linecolor": "white",
           "ticks": "",
           "title": {
            "standoff": 15
           },
           "zerolinecolor": "white",
           "zerolinewidth": 2
          }
         }
        },
        "xaxis": {
         "anchor": "y",
         "domain": [
          0,
          1
         ],
         "title": {
          "text": "index"
         }
        },
        "yaxis": {
         "anchor": "x",
         "domain": [
          0,
          1
         ],
         "title": {
          "text": "value"
         }
        }
       }
      },
      "text/html": [
       "<div>                            <div id=\"6b7087ea-184c-469c-b117-ca10168dc4e3\" class=\"plotly-graph-div\" style=\"height:525px; width:100%;\"></div>            <script type=\"text/javascript\">                require([\"plotly\"], function(Plotly) {                    window.PLOTLYENV=window.PLOTLYENV || {};                                    if (document.getElementById(\"6b7087ea-184c-469c-b117-ca10168dc4e3\")) {                    Plotly.newPlot(                        \"6b7087ea-184c-469c-b117-ca10168dc4e3\",                        [{\"alignmentgroup\":\"True\",\"hovertemplate\":\"variable=Model_Year<br>index=%{x}<br>value=%{y}<extra></extra>\",\"legendgroup\":\"Model_Year\",\"marker\":{\"color\":\"#636efa\",\"pattern\":{\"shape\":\"\"}},\"name\":\"Model_Year\",\"offsetgroup\":\"Model_Year\",\"orientation\":\"v\",\"showlegend\":true,\"textposition\":\"auto\",\"x\":[2022,2021,2018,2020,2019,2017,2016,2015,2013,2014,2023,2012,2011,2010,2008,2000,1999,2002,1997,1998],\"xaxis\":\"x\",\"y\":[26529,18361,14245,11037,10265,8642,5732,4940,4686,3683,1886,1702,838,24,23,10,3,2,1,1],\"yaxis\":\"y\",\"type\":\"bar\"}],                        {\"template\":{\"data\":{\"histogram2dcontour\":[{\"type\":\"histogram2dcontour\",\"colorbar\":{\"outlinewidth\":0,\"ticks\":\"\"},\"colorscale\":[[0.0,\"#0d0887\"],[0.1111111111111111,\"#46039f\"],[0.2222222222222222,\"#7201a8\"],[0.3333333333333333,\"#9c179e\"],[0.4444444444444444,\"#bd3786\"],[0.5555555555555556,\"#d8576b\"],[0.6666666666666666,\"#ed7953\"],[0.7777777777777778,\"#fb9f3a\"],[0.8888888888888888,\"#fdca26\"],[1.0,\"#f0f921\"]]}],\"choropleth\":[{\"type\":\"choropleth\",\"colorbar\":{\"outlinewidth\":0,\"ticks\":\"\"}}],\"histogram2d\":[{\"type\":\"histogram2d\",\"colorbar\":{\"outlinewidth\":0,\"ticks\":\"\"},\"colorscale\":[[0.0,\"#0d0887\"],[0.1111111111111111,\"#46039f\"],[0.2222222222222222,\"#7201a8\"],[0.3333333333333333,\"#9c179e\"],[0.4444444444444444,\"#bd3786\"],[0.5555555555555556,\"#d8576b\"],[0.6666666666666666,\"#ed7953\"],[0.7777777777777778,\"#fb9f3a\"],[0.8888888888888888,\"#fdca26\"],[1.0,\"#f0f921\"]]}],\"heatmap\":[{\"type\":\"heatmap\",\"colorbar\":{\"outlinewidth\":0,\"ticks\":\"\"},\"colorscale\":[[0.0,\"#0d0887\"],[0.1111111111111111,\"#46039f\"],[0.2222222222222222,\"#7201a8\"],[0.3333333333333333,\"#9c179e\"],[0.4444444444444444,\"#bd3786\"],[0.5555555555555556,\"#d8576b\"],[0.6666666666666666,\"#ed7953\"],[0.7777777777777778,\"#fb9f3a\"],[0.8888888888888888,\"#fdca26\"],[1.0,\"#f0f921\"]]}],\"heatmapgl\":[{\"type\":\"heatmapgl\",\"colorbar\":{\"outlinewidth\":0,\"ticks\":\"\"},\"colorscale\":[[0.0,\"#0d0887\"],[0.1111111111111111,\"#46039f\"],[0.2222222222222222,\"#7201a8\"],[0.3333333333333333,\"#9c179e\"],[0.4444444444444444,\"#bd3786\"],[0.5555555555555556,\"#d8576b\"],[0.6666666666666666,\"#ed7953\"],[0.7777777777777778,\"#fb9f3a\"],[0.8888888888888888,\"#fdca26\"],[1.0,\"#f0f921\"]]}],\"contourcarpet\":[{\"type\":\"contourcarpet\",\"colorbar\":{\"outlinewidth\":0,\"ticks\":\"\"}}],\"contour\":[{\"type\":\"contour\",\"colorbar\":{\"outlinewidth\":0,\"ticks\":\"\"},\"colorscale\":[[0.0,\"#0d0887\"],[0.1111111111111111,\"#46039f\"],[0.2222222222222222,\"#7201a8\"],[0.3333333333333333,\"#9c179e\"],[0.4444444444444444,\"#bd3786\"],[0.5555555555555556,\"#d8576b\"],[0.6666666666666666,\"#ed7953\"],[0.7777777777777778,\"#fb9f3a\"],[0.8888888888888888,\"#fdca26\"],[1.0,\"#f0f921\"]]}],\"surface\":[{\"type\":\"surface\",\"colorbar\":{\"outlinewidth\":0,\"ticks\":\"\"},\"colorscale\":[[0.0,\"#0d0887\"],[0.1111111111111111,\"#46039f\"],[0.2222222222222222,\"#7201a8\"],[0.3333333333333333,\"#9c179e\"],[0.4444444444444444,\"#bd3786\"],[0.5555555555555556,\"#d8576b\"],[0.6666666666666666,\"#ed7953\"],[0.7777777777777778,\"#fb9f3a\"],[0.8888888888888888,\"#fdca26\"],[1.0,\"#f0f921\"]]}],\"mesh3d\":[{\"type\":\"mesh3d\",\"colorbar\":{\"outlinewidth\":0,\"ticks\":\"\"}}],\"scatter\":[{\"fillpattern\":{\"fillmode\":\"overlay\",\"size\":10,\"solidity\":0.2},\"type\":\"scatter\"}],\"parcoords\":[{\"type\":\"parcoords\",\"line\":{\"colorbar\":{\"outlinewidth\":0,\"ticks\":\"\"}}}],\"scatterpolargl\":[{\"type\":\"scatterpolargl\",\"marker\":{\"colorbar\":{\"outlinewidth\":0,\"ticks\":\"\"}}}],\"bar\":[{\"error_x\":{\"color\":\"#2a3f5f\"},\"error_y\":{\"color\":\"#2a3f5f\"},\"marker\":{\"line\":{\"color\":\"#E5ECF6\",\"width\":0.5},\"pattern\":{\"fillmode\":\"overlay\",\"size\":10,\"solidity\":0.2}},\"type\":\"bar\"}],\"scattergeo\":[{\"type\":\"scattergeo\",\"marker\":{\"colorbar\":{\"outlinewidth\":0,\"ticks\":\"\"}}}],\"scatterpolar\":[{\"type\":\"scatterpolar\",\"marker\":{\"colorbar\":{\"outlinewidth\":0,\"ticks\":\"\"}}}],\"histogram\":[{\"marker\":{\"pattern\":{\"fillmode\":\"overlay\",\"size\":10,\"solidity\":0.2}},\"type\":\"histogram\"}],\"scattergl\":[{\"type\":\"scattergl\",\"marker\":{\"colorbar\":{\"outlinewidth\":0,\"ticks\":\"\"}}}],\"scatter3d\":[{\"type\":\"scatter3d\",\"line\":{\"colorbar\":{\"outlinewidth\":0,\"ticks\":\"\"}},\"marker\":{\"colorbar\":{\"outlinewidth\":0,\"ticks\":\"\"}}}],\"scattermapbox\":[{\"type\":\"scattermapbox\",\"marker\":{\"colorbar\":{\"outlinewidth\":0,\"ticks\":\"\"}}}],\"scatterternary\":[{\"type\":\"scatterternary\",\"marker\":{\"colorbar\":{\"outlinewidth\":0,\"ticks\":\"\"}}}],\"scattercarpet\":[{\"type\":\"scattercarpet\",\"marker\":{\"colorbar\":{\"outlinewidth\":0,\"ticks\":\"\"}}}],\"carpet\":[{\"aaxis\":{\"endlinecolor\":\"#2a3f5f\",\"gridcolor\":\"white\",\"linecolor\":\"white\",\"minorgridcolor\":\"white\",\"startlinecolor\":\"#2a3f5f\"},\"baxis\":{\"endlinecolor\":\"#2a3f5f\",\"gridcolor\":\"white\",\"linecolor\":\"white\",\"minorgridcolor\":\"white\",\"startlinecolor\":\"#2a3f5f\"},\"type\":\"carpet\"}],\"table\":[{\"cells\":{\"fill\":{\"color\":\"#EBF0F8\"},\"line\":{\"color\":\"white\"}},\"header\":{\"fill\":{\"color\":\"#C8D4E3\"},\"line\":{\"color\":\"white\"}},\"type\":\"table\"}],\"barpolar\":[{\"marker\":{\"line\":{\"color\":\"#E5ECF6\",\"width\":0.5},\"pattern\":{\"fillmode\":\"overlay\",\"size\":10,\"solidity\":0.2}},\"type\":\"barpolar\"}],\"pie\":[{\"automargin\":true,\"type\":\"pie\"}]},\"layout\":{\"autotypenumbers\":\"strict\",\"colorway\":[\"#636efa\",\"#EF553B\",\"#00cc96\",\"#ab63fa\",\"#FFA15A\",\"#19d3f3\",\"#FF6692\",\"#B6E880\",\"#FF97FF\",\"#FECB52\"],\"font\":{\"color\":\"#2a3f5f\"},\"hovermode\":\"closest\",\"hoverlabel\":{\"align\":\"left\"},\"paper_bgcolor\":\"white\",\"plot_bgcolor\":\"#E5ECF6\",\"polar\":{\"bgcolor\":\"#E5ECF6\",\"angularaxis\":{\"gridcolor\":\"white\",\"linecolor\":\"white\",\"ticks\":\"\"},\"radialaxis\":{\"gridcolor\":\"white\",\"linecolor\":\"white\",\"ticks\":\"\"}},\"ternary\":{\"bgcolor\":\"#E5ECF6\",\"aaxis\":{\"gridcolor\":\"white\",\"linecolor\":\"white\",\"ticks\":\"\"},\"baxis\":{\"gridcolor\":\"white\",\"linecolor\":\"white\",\"ticks\":\"\"},\"caxis\":{\"gridcolor\":\"white\",\"linecolor\":\"white\",\"ticks\":\"\"}},\"coloraxis\":{\"colorbar\":{\"outlinewidth\":0,\"ticks\":\"\"}},\"colorscale\":{\"sequential\":[[0.0,\"#0d0887\"],[0.1111111111111111,\"#46039f\"],[0.2222222222222222,\"#7201a8\"],[0.3333333333333333,\"#9c179e\"],[0.4444444444444444,\"#bd3786\"],[0.5555555555555556,\"#d8576b\"],[0.6666666666666666,\"#ed7953\"],[0.7777777777777778,\"#fb9f3a\"],[0.8888888888888888,\"#fdca26\"],[1.0,\"#f0f921\"]],\"sequentialminus\":[[0.0,\"#0d0887\"],[0.1111111111111111,\"#46039f\"],[0.2222222222222222,\"#7201a8\"],[0.3333333333333333,\"#9c179e\"],[0.4444444444444444,\"#bd3786\"],[0.5555555555555556,\"#d8576b\"],[0.6666666666666666,\"#ed7953\"],[0.7777777777777778,\"#fb9f3a\"],[0.8888888888888888,\"#fdca26\"],[1.0,\"#f0f921\"]],\"diverging\":[[0,\"#8e0152\"],[0.1,\"#c51b7d\"],[0.2,\"#de77ae\"],[0.3,\"#f1b6da\"],[0.4,\"#fde0ef\"],[0.5,\"#f7f7f7\"],[0.6,\"#e6f5d0\"],[0.7,\"#b8e186\"],[0.8,\"#7fbc41\"],[0.9,\"#4d9221\"],[1,\"#276419\"]]},\"xaxis\":{\"gridcolor\":\"white\",\"linecolor\":\"white\",\"ticks\":\"\",\"title\":{\"standoff\":15},\"zerolinecolor\":\"white\",\"automargin\":true,\"zerolinewidth\":2},\"yaxis\":{\"gridcolor\":\"white\",\"linecolor\":\"white\",\"ticks\":\"\",\"title\":{\"standoff\":15},\"zerolinecolor\":\"white\",\"automargin\":true,\"zerolinewidth\":2},\"scene\":{\"xaxis\":{\"backgroundcolor\":\"#E5ECF6\",\"gridcolor\":\"white\",\"linecolor\":\"white\",\"showbackground\":true,\"ticks\":\"\",\"zerolinecolor\":\"white\",\"gridwidth\":2},\"yaxis\":{\"backgroundcolor\":\"#E5ECF6\",\"gridcolor\":\"white\",\"linecolor\":\"white\",\"showbackground\":true,\"ticks\":\"\",\"zerolinecolor\":\"white\",\"gridwidth\":2},\"zaxis\":{\"backgroundcolor\":\"#E5ECF6\",\"gridcolor\":\"white\",\"linecolor\":\"white\",\"showbackground\":true,\"ticks\":\"\",\"zerolinecolor\":\"white\",\"gridwidth\":2}},\"shapedefaults\":{\"line\":{\"color\":\"#2a3f5f\"}},\"annotationdefaults\":{\"arrowcolor\":\"#2a3f5f\",\"arrowhead\":0,\"arrowwidth\":1},\"geo\":{\"bgcolor\":\"white\",\"landcolor\":\"#E5ECF6\",\"subunitcolor\":\"white\",\"showland\":true,\"showlakes\":true,\"lakecolor\":\"white\"},\"title\":{\"x\":0.05},\"mapbox\":{\"style\":\"light\"}}},\"xaxis\":{\"anchor\":\"y\",\"domain\":[0.0,1.0],\"title\":{\"text\":\"index\"}},\"yaxis\":{\"anchor\":\"x\",\"domain\":[0.0,1.0],\"title\":{\"text\":\"value\"}},\"legend\":{\"title\":{\"text\":\"variable\"},\"tracegroupgap\":0},\"margin\":{\"t\":60},\"barmode\":\"relative\"},                        {\"responsive\": true}                    ).then(function(){\n",
       "                            \n",
       "var gd = document.getElementById('6b7087ea-184c-469c-b117-ca10168dc4e3');\n",
       "var x = new MutationObserver(function (mutations, observer) {{\n",
       "        var display = window.getComputedStyle(gd).display;\n",
       "        if (!display || display === 'none') {{\n",
       "            console.log([gd, 'removed!']);\n",
       "            Plotly.purge(gd);\n",
       "            observer.disconnect();\n",
       "        }}\n",
       "}});\n",
       "\n",
       "// Listen for the removal of the full notebook cells\n",
       "var notebookContainer = gd.closest('#notebook-container');\n",
       "if (notebookContainer) {{\n",
       "    x.observe(notebookContainer, {childList: true});\n",
       "}}\n",
       "\n",
       "// Listen for the clearing of the current output cell\n",
       "var outputEl = gd.closest('.output');\n",
       "if (outputEl) {{\n",
       "    x.observe(outputEl, {childList: true});\n",
       "}}\n",
       "\n",
       "                        })                };                });            </script>        </div>"
      ]
     },
     "metadata": {},
     "output_type": "display_data"
    }
   ],
   "source": [
    "px.bar(df['Model_Year'].value_counts())"
   ]
  },
  {
   "cell_type": "markdown",
   "id": "d6b242bc",
   "metadata": {},
   "source": [
    "### In 2022 high no.of vechicles where manufactured\n",
    "### Electric vechicles where not started manufactured before 2011"
   ]
  },
  {
   "cell_type": "code",
   "execution_count": 101,
   "id": "c383aa11",
   "metadata": {},
   "outputs": [],
   "source": [
    "df1=pd.DataFrame(df['Model_Year'].value_counts()).reset_index()"
   ]
  },
  {
   "cell_type": "code",
   "execution_count": 104,
   "id": "792aee8c",
   "metadata": {},
   "outputs": [],
   "source": [
    "df1=df1.sort_values('index')"
   ]
  },
  {
   "cell_type": "code",
   "execution_count": 105,
   "id": "815bf93a",
   "metadata": {},
   "outputs": [],
   "source": [
    "df1['Lag_year']=df1['Model_Year'].shift(1)"
   ]
  },
  {
   "cell_type": "code",
   "execution_count": 111,
   "id": "cd8bbc82",
   "metadata": {},
   "outputs": [],
   "source": [
    "df1['Per_Growth']=df1['Model_Year']*100/df1['Lag_year']"
   ]
  },
  {
   "cell_type": "code",
   "execution_count": 116,
   "id": "a2d3cc5a",
   "metadata": {},
   "outputs": [],
   "source": [
    "df1.rename(columns={'index':'Year','Model_Year':'No_Of_Manufactur'},inplace=True)"
   ]
  },
  {
   "cell_type": "code",
   "execution_count": 117,
   "id": "6dbbe939",
   "metadata": {},
   "outputs": [
    {
     "data": {
      "application/vnd.plotly.v1+json": {
       "config": {
        "plotlyServerURL": "https://plot.ly"
       },
       "data": [
        {
         "alignmentgroup": "True",
         "hovertemplate": "Year=%{x}<br>Per_Growth=%{y}<extra></extra>",
         "legendgroup": "",
         "marker": {
          "color": "#636efa",
          "pattern": {
           "shape": ""
          }
         },
         "name": "",
         "offsetgroup": "",
         "orientation": "v",
         "showlegend": false,
         "textposition": "auto",
         "type": "bar",
         "x": [
          1997,
          1998,
          1999,
          2000,
          2002,
          2008,
          2010,
          2011,
          2012,
          2013,
          2014,
          2015,
          2016,
          2017,
          2018,
          2019,
          2020,
          2021,
          2022,
          2023
         ],
         "xaxis": "x",
         "y": [
          null,
          100,
          300,
          333.3333333333333,
          20,
          1150,
          104.34782608695652,
          3491.6666666666665,
          203.10262529832934,
          275.3231492361927,
          78.5958173282117,
          134.1297855009503,
          116.03238866396761,
          150.76762037683181,
          164.83452904420272,
          72.06037206037206,
          107.52070141256698,
          166.35861194165082,
          144.48559446653232,
          7.109201251460665
         ],
         "yaxis": "y"
        }
       ],
       "layout": {
        "barmode": "relative",
        "legend": {
         "tracegroupgap": 0
        },
        "margin": {
         "t": 60
        },
        "template": {
         "data": {
          "bar": [
           {
            "error_x": {
             "color": "#2a3f5f"
            },
            "error_y": {
             "color": "#2a3f5f"
            },
            "marker": {
             "line": {
              "color": "#E5ECF6",
              "width": 0.5
             },
             "pattern": {
              "fillmode": "overlay",
              "size": 10,
              "solidity": 0.2
             }
            },
            "type": "bar"
           }
          ],
          "barpolar": [
           {
            "marker": {
             "line": {
              "color": "#E5ECF6",
              "width": 0.5
             },
             "pattern": {
              "fillmode": "overlay",
              "size": 10,
              "solidity": 0.2
             }
            },
            "type": "barpolar"
           }
          ],
          "carpet": [
           {
            "aaxis": {
             "endlinecolor": "#2a3f5f",
             "gridcolor": "white",
             "linecolor": "white",
             "minorgridcolor": "white",
             "startlinecolor": "#2a3f5f"
            },
            "baxis": {
             "endlinecolor": "#2a3f5f",
             "gridcolor": "white",
             "linecolor": "white",
             "minorgridcolor": "white",
             "startlinecolor": "#2a3f5f"
            },
            "type": "carpet"
           }
          ],
          "choropleth": [
           {
            "colorbar": {
             "outlinewidth": 0,
             "ticks": ""
            },
            "type": "choropleth"
           }
          ],
          "contour": [
           {
            "colorbar": {
             "outlinewidth": 0,
             "ticks": ""
            },
            "colorscale": [
             [
              0,
              "#0d0887"
             ],
             [
              0.1111111111111111,
              "#46039f"
             ],
             [
              0.2222222222222222,
              "#7201a8"
             ],
             [
              0.3333333333333333,
              "#9c179e"
             ],
             [
              0.4444444444444444,
              "#bd3786"
             ],
             [
              0.5555555555555556,
              "#d8576b"
             ],
             [
              0.6666666666666666,
              "#ed7953"
             ],
             [
              0.7777777777777778,
              "#fb9f3a"
             ],
             [
              0.8888888888888888,
              "#fdca26"
             ],
             [
              1,
              "#f0f921"
             ]
            ],
            "type": "contour"
           }
          ],
          "contourcarpet": [
           {
            "colorbar": {
             "outlinewidth": 0,
             "ticks": ""
            },
            "type": "contourcarpet"
           }
          ],
          "heatmap": [
           {
            "colorbar": {
             "outlinewidth": 0,
             "ticks": ""
            },
            "colorscale": [
             [
              0,
              "#0d0887"
             ],
             [
              0.1111111111111111,
              "#46039f"
             ],
             [
              0.2222222222222222,
              "#7201a8"
             ],
             [
              0.3333333333333333,
              "#9c179e"
             ],
             [
              0.4444444444444444,
              "#bd3786"
             ],
             [
              0.5555555555555556,
              "#d8576b"
             ],
             [
              0.6666666666666666,
              "#ed7953"
             ],
             [
              0.7777777777777778,
              "#fb9f3a"
             ],
             [
              0.8888888888888888,
              "#fdca26"
             ],
             [
              1,
              "#f0f921"
             ]
            ],
            "type": "heatmap"
           }
          ],
          "heatmapgl": [
           {
            "colorbar": {
             "outlinewidth": 0,
             "ticks": ""
            },
            "colorscale": [
             [
              0,
              "#0d0887"
             ],
             [
              0.1111111111111111,
              "#46039f"
             ],
             [
              0.2222222222222222,
              "#7201a8"
             ],
             [
              0.3333333333333333,
              "#9c179e"
             ],
             [
              0.4444444444444444,
              "#bd3786"
             ],
             [
              0.5555555555555556,
              "#d8576b"
             ],
             [
              0.6666666666666666,
              "#ed7953"
             ],
             [
              0.7777777777777778,
              "#fb9f3a"
             ],
             [
              0.8888888888888888,
              "#fdca26"
             ],
             [
              1,
              "#f0f921"
             ]
            ],
            "type": "heatmapgl"
           }
          ],
          "histogram": [
           {
            "marker": {
             "pattern": {
              "fillmode": "overlay",
              "size": 10,
              "solidity": 0.2
             }
            },
            "type": "histogram"
           }
          ],
          "histogram2d": [
           {
            "colorbar": {
             "outlinewidth": 0,
             "ticks": ""
            },
            "colorscale": [
             [
              0,
              "#0d0887"
             ],
             [
              0.1111111111111111,
              "#46039f"
             ],
             [
              0.2222222222222222,
              "#7201a8"
             ],
             [
              0.3333333333333333,
              "#9c179e"
             ],
             [
              0.4444444444444444,
              "#bd3786"
             ],
             [
              0.5555555555555556,
              "#d8576b"
             ],
             [
              0.6666666666666666,
              "#ed7953"
             ],
             [
              0.7777777777777778,
              "#fb9f3a"
             ],
             [
              0.8888888888888888,
              "#fdca26"
             ],
             [
              1,
              "#f0f921"
             ]
            ],
            "type": "histogram2d"
           }
          ],
          "histogram2dcontour": [
           {
            "colorbar": {
             "outlinewidth": 0,
             "ticks": ""
            },
            "colorscale": [
             [
              0,
              "#0d0887"
             ],
             [
              0.1111111111111111,
              "#46039f"
             ],
             [
              0.2222222222222222,
              "#7201a8"
             ],
             [
              0.3333333333333333,
              "#9c179e"
             ],
             [
              0.4444444444444444,
              "#bd3786"
             ],
             [
              0.5555555555555556,
              "#d8576b"
             ],
             [
              0.6666666666666666,
              "#ed7953"
             ],
             [
              0.7777777777777778,
              "#fb9f3a"
             ],
             [
              0.8888888888888888,
              "#fdca26"
             ],
             [
              1,
              "#f0f921"
             ]
            ],
            "type": "histogram2dcontour"
           }
          ],
          "mesh3d": [
           {
            "colorbar": {
             "outlinewidth": 0,
             "ticks": ""
            },
            "type": "mesh3d"
           }
          ],
          "parcoords": [
           {
            "line": {
             "colorbar": {
              "outlinewidth": 0,
              "ticks": ""
             }
            },
            "type": "parcoords"
           }
          ],
          "pie": [
           {
            "automargin": true,
            "type": "pie"
           }
          ],
          "scatter": [
           {
            "fillpattern": {
             "fillmode": "overlay",
             "size": 10,
             "solidity": 0.2
            },
            "type": "scatter"
           }
          ],
          "scatter3d": [
           {
            "line": {
             "colorbar": {
              "outlinewidth": 0,
              "ticks": ""
             }
            },
            "marker": {
             "colorbar": {
              "outlinewidth": 0,
              "ticks": ""
             }
            },
            "type": "scatter3d"
           }
          ],
          "scattercarpet": [
           {
            "marker": {
             "colorbar": {
              "outlinewidth": 0,
              "ticks": ""
             }
            },
            "type": "scattercarpet"
           }
          ],
          "scattergeo": [
           {
            "marker": {
             "colorbar": {
              "outlinewidth": 0,
              "ticks": ""
             }
            },
            "type": "scattergeo"
           }
          ],
          "scattergl": [
           {
            "marker": {
             "colorbar": {
              "outlinewidth": 0,
              "ticks": ""
             }
            },
            "type": "scattergl"
           }
          ],
          "scattermapbox": [
           {
            "marker": {
             "colorbar": {
              "outlinewidth": 0,
              "ticks": ""
             }
            },
            "type": "scattermapbox"
           }
          ],
          "scatterpolar": [
           {
            "marker": {
             "colorbar": {
              "outlinewidth": 0,
              "ticks": ""
             }
            },
            "type": "scatterpolar"
           }
          ],
          "scatterpolargl": [
           {
            "marker": {
             "colorbar": {
              "outlinewidth": 0,
              "ticks": ""
             }
            },
            "type": "scatterpolargl"
           }
          ],
          "scatterternary": [
           {
            "marker": {
             "colorbar": {
              "outlinewidth": 0,
              "ticks": ""
             }
            },
            "type": "scatterternary"
           }
          ],
          "surface": [
           {
            "colorbar": {
             "outlinewidth": 0,
             "ticks": ""
            },
            "colorscale": [
             [
              0,
              "#0d0887"
             ],
             [
              0.1111111111111111,
              "#46039f"
             ],
             [
              0.2222222222222222,
              "#7201a8"
             ],
             [
              0.3333333333333333,
              "#9c179e"
             ],
             [
              0.4444444444444444,
              "#bd3786"
             ],
             [
              0.5555555555555556,
              "#d8576b"
             ],
             [
              0.6666666666666666,
              "#ed7953"
             ],
             [
              0.7777777777777778,
              "#fb9f3a"
             ],
             [
              0.8888888888888888,
              "#fdca26"
             ],
             [
              1,
              "#f0f921"
             ]
            ],
            "type": "surface"
           }
          ],
          "table": [
           {
            "cells": {
             "fill": {
              "color": "#EBF0F8"
             },
             "line": {
              "color": "white"
             }
            },
            "header": {
             "fill": {
              "color": "#C8D4E3"
             },
             "line": {
              "color": "white"
             }
            },
            "type": "table"
           }
          ]
         },
         "layout": {
          "annotationdefaults": {
           "arrowcolor": "#2a3f5f",
           "arrowhead": 0,
           "arrowwidth": 1
          },
          "autotypenumbers": "strict",
          "coloraxis": {
           "colorbar": {
            "outlinewidth": 0,
            "ticks": ""
           }
          },
          "colorscale": {
           "diverging": [
            [
             0,
             "#8e0152"
            ],
            [
             0.1,
             "#c51b7d"
            ],
            [
             0.2,
             "#de77ae"
            ],
            [
             0.3,
             "#f1b6da"
            ],
            [
             0.4,
             "#fde0ef"
            ],
            [
             0.5,
             "#f7f7f7"
            ],
            [
             0.6,
             "#e6f5d0"
            ],
            [
             0.7,
             "#b8e186"
            ],
            [
             0.8,
             "#7fbc41"
            ],
            [
             0.9,
             "#4d9221"
            ],
            [
             1,
             "#276419"
            ]
           ],
           "sequential": [
            [
             0,
             "#0d0887"
            ],
            [
             0.1111111111111111,
             "#46039f"
            ],
            [
             0.2222222222222222,
             "#7201a8"
            ],
            [
             0.3333333333333333,
             "#9c179e"
            ],
            [
             0.4444444444444444,
             "#bd3786"
            ],
            [
             0.5555555555555556,
             "#d8576b"
            ],
            [
             0.6666666666666666,
             "#ed7953"
            ],
            [
             0.7777777777777778,
             "#fb9f3a"
            ],
            [
             0.8888888888888888,
             "#fdca26"
            ],
            [
             1,
             "#f0f921"
            ]
           ],
           "sequentialminus": [
            [
             0,
             "#0d0887"
            ],
            [
             0.1111111111111111,
             "#46039f"
            ],
            [
             0.2222222222222222,
             "#7201a8"
            ],
            [
             0.3333333333333333,
             "#9c179e"
            ],
            [
             0.4444444444444444,
             "#bd3786"
            ],
            [
             0.5555555555555556,
             "#d8576b"
            ],
            [
             0.6666666666666666,
             "#ed7953"
            ],
            [
             0.7777777777777778,
             "#fb9f3a"
            ],
            [
             0.8888888888888888,
             "#fdca26"
            ],
            [
             1,
             "#f0f921"
            ]
           ]
          },
          "colorway": [
           "#636efa",
           "#EF553B",
           "#00cc96",
           "#ab63fa",
           "#FFA15A",
           "#19d3f3",
           "#FF6692",
           "#B6E880",
           "#FF97FF",
           "#FECB52"
          ],
          "font": {
           "color": "#2a3f5f"
          },
          "geo": {
           "bgcolor": "white",
           "lakecolor": "white",
           "landcolor": "#E5ECF6",
           "showlakes": true,
           "showland": true,
           "subunitcolor": "white"
          },
          "hoverlabel": {
           "align": "left"
          },
          "hovermode": "closest",
          "mapbox": {
           "style": "light"
          },
          "paper_bgcolor": "white",
          "plot_bgcolor": "#E5ECF6",
          "polar": {
           "angularaxis": {
            "gridcolor": "white",
            "linecolor": "white",
            "ticks": ""
           },
           "bgcolor": "#E5ECF6",
           "radialaxis": {
            "gridcolor": "white",
            "linecolor": "white",
            "ticks": ""
           }
          },
          "scene": {
           "xaxis": {
            "backgroundcolor": "#E5ECF6",
            "gridcolor": "white",
            "gridwidth": 2,
            "linecolor": "white",
            "showbackground": true,
            "ticks": "",
            "zerolinecolor": "white"
           },
           "yaxis": {
            "backgroundcolor": "#E5ECF6",
            "gridcolor": "white",
            "gridwidth": 2,
            "linecolor": "white",
            "showbackground": true,
            "ticks": "",
            "zerolinecolor": "white"
           },
           "zaxis": {
            "backgroundcolor": "#E5ECF6",
            "gridcolor": "white",
            "gridwidth": 2,
            "linecolor": "white",
            "showbackground": true,
            "ticks": "",
            "zerolinecolor": "white"
           }
          },
          "shapedefaults": {
           "line": {
            "color": "#2a3f5f"
           }
          },
          "ternary": {
           "aaxis": {
            "gridcolor": "white",
            "linecolor": "white",
            "ticks": ""
           },
           "baxis": {
            "gridcolor": "white",
            "linecolor": "white",
            "ticks": ""
           },
           "bgcolor": "#E5ECF6",
           "caxis": {
            "gridcolor": "white",
            "linecolor": "white",
            "ticks": ""
           }
          },
          "title": {
           "x": 0.05
          },
          "xaxis": {
           "automargin": true,
           "gridcolor": "white",
           "linecolor": "white",
           "ticks": "",
           "title": {
            "standoff": 15
           },
           "zerolinecolor": "white",
           "zerolinewidth": 2
          },
          "yaxis": {
           "automargin": true,
           "gridcolor": "white",
           "linecolor": "white",
           "ticks": "",
           "title": {
            "standoff": 15
           },
           "zerolinecolor": "white",
           "zerolinewidth": 2
          }
         }
        },
        "xaxis": {
         "anchor": "y",
         "domain": [
          0,
          1
         ],
         "title": {
          "text": "Year"
         }
        },
        "yaxis": {
         "anchor": "x",
         "domain": [
          0,
          1
         ],
         "title": {
          "text": "Per_Growth"
         }
        }
       }
      },
      "text/html": [
       "<div>                            <div id=\"de7d02d4-b2d3-4021-8da2-98469a18c338\" class=\"plotly-graph-div\" style=\"height:525px; width:100%;\"></div>            <script type=\"text/javascript\">                require([\"plotly\"], function(Plotly) {                    window.PLOTLYENV=window.PLOTLYENV || {};                                    if (document.getElementById(\"de7d02d4-b2d3-4021-8da2-98469a18c338\")) {                    Plotly.newPlot(                        \"de7d02d4-b2d3-4021-8da2-98469a18c338\",                        [{\"alignmentgroup\":\"True\",\"hovertemplate\":\"Year=%{x}<br>Per_Growth=%{y}<extra></extra>\",\"legendgroup\":\"\",\"marker\":{\"color\":\"#636efa\",\"pattern\":{\"shape\":\"\"}},\"name\":\"\",\"offsetgroup\":\"\",\"orientation\":\"v\",\"showlegend\":false,\"textposition\":\"auto\",\"x\":[1997,1998,1999,2000,2002,2008,2010,2011,2012,2013,2014,2015,2016,2017,2018,2019,2020,2021,2022,2023],\"xaxis\":\"x\",\"y\":[null,100.0,300.0,333.3333333333333,20.0,1150.0,104.34782608695652,3491.6666666666665,203.10262529832934,275.3231492361927,78.5958173282117,134.1297855009503,116.03238866396761,150.76762037683181,164.83452904420272,72.06037206037206,107.52070141256698,166.35861194165082,144.48559446653232,7.109201251460665],\"yaxis\":\"y\",\"type\":\"bar\"}],                        {\"template\":{\"data\":{\"histogram2dcontour\":[{\"type\":\"histogram2dcontour\",\"colorbar\":{\"outlinewidth\":0,\"ticks\":\"\"},\"colorscale\":[[0.0,\"#0d0887\"],[0.1111111111111111,\"#46039f\"],[0.2222222222222222,\"#7201a8\"],[0.3333333333333333,\"#9c179e\"],[0.4444444444444444,\"#bd3786\"],[0.5555555555555556,\"#d8576b\"],[0.6666666666666666,\"#ed7953\"],[0.7777777777777778,\"#fb9f3a\"],[0.8888888888888888,\"#fdca26\"],[1.0,\"#f0f921\"]]}],\"choropleth\":[{\"type\":\"choropleth\",\"colorbar\":{\"outlinewidth\":0,\"ticks\":\"\"}}],\"histogram2d\":[{\"type\":\"histogram2d\",\"colorbar\":{\"outlinewidth\":0,\"ticks\":\"\"},\"colorscale\":[[0.0,\"#0d0887\"],[0.1111111111111111,\"#46039f\"],[0.2222222222222222,\"#7201a8\"],[0.3333333333333333,\"#9c179e\"],[0.4444444444444444,\"#bd3786\"],[0.5555555555555556,\"#d8576b\"],[0.6666666666666666,\"#ed7953\"],[0.7777777777777778,\"#fb9f3a\"],[0.8888888888888888,\"#fdca26\"],[1.0,\"#f0f921\"]]}],\"heatmap\":[{\"type\":\"heatmap\",\"colorbar\":{\"outlinewidth\":0,\"ticks\":\"\"},\"colorscale\":[[0.0,\"#0d0887\"],[0.1111111111111111,\"#46039f\"],[0.2222222222222222,\"#7201a8\"],[0.3333333333333333,\"#9c179e\"],[0.4444444444444444,\"#bd3786\"],[0.5555555555555556,\"#d8576b\"],[0.6666666666666666,\"#ed7953\"],[0.7777777777777778,\"#fb9f3a\"],[0.8888888888888888,\"#fdca26\"],[1.0,\"#f0f921\"]]}],\"heatmapgl\":[{\"type\":\"heatmapgl\",\"colorbar\":{\"outlinewidth\":0,\"ticks\":\"\"},\"colorscale\":[[0.0,\"#0d0887\"],[0.1111111111111111,\"#46039f\"],[0.2222222222222222,\"#7201a8\"],[0.3333333333333333,\"#9c179e\"],[0.4444444444444444,\"#bd3786\"],[0.5555555555555556,\"#d8576b\"],[0.6666666666666666,\"#ed7953\"],[0.7777777777777778,\"#fb9f3a\"],[0.8888888888888888,\"#fdca26\"],[1.0,\"#f0f921\"]]}],\"contourcarpet\":[{\"type\":\"contourcarpet\",\"colorbar\":{\"outlinewidth\":0,\"ticks\":\"\"}}],\"contour\":[{\"type\":\"contour\",\"colorbar\":{\"outlinewidth\":0,\"ticks\":\"\"},\"colorscale\":[[0.0,\"#0d0887\"],[0.1111111111111111,\"#46039f\"],[0.2222222222222222,\"#7201a8\"],[0.3333333333333333,\"#9c179e\"],[0.4444444444444444,\"#bd3786\"],[0.5555555555555556,\"#d8576b\"],[0.6666666666666666,\"#ed7953\"],[0.7777777777777778,\"#fb9f3a\"],[0.8888888888888888,\"#fdca26\"],[1.0,\"#f0f921\"]]}],\"surface\":[{\"type\":\"surface\",\"colorbar\":{\"outlinewidth\":0,\"ticks\":\"\"},\"colorscale\":[[0.0,\"#0d0887\"],[0.1111111111111111,\"#46039f\"],[0.2222222222222222,\"#7201a8\"],[0.3333333333333333,\"#9c179e\"],[0.4444444444444444,\"#bd3786\"],[0.5555555555555556,\"#d8576b\"],[0.6666666666666666,\"#ed7953\"],[0.7777777777777778,\"#fb9f3a\"],[0.8888888888888888,\"#fdca26\"],[1.0,\"#f0f921\"]]}],\"mesh3d\":[{\"type\":\"mesh3d\",\"colorbar\":{\"outlinewidth\":0,\"ticks\":\"\"}}],\"scatter\":[{\"fillpattern\":{\"fillmode\":\"overlay\",\"size\":10,\"solidity\":0.2},\"type\":\"scatter\"}],\"parcoords\":[{\"type\":\"parcoords\",\"line\":{\"colorbar\":{\"outlinewidth\":0,\"ticks\":\"\"}}}],\"scatterpolargl\":[{\"type\":\"scatterpolargl\",\"marker\":{\"colorbar\":{\"outlinewidth\":0,\"ticks\":\"\"}}}],\"bar\":[{\"error_x\":{\"color\":\"#2a3f5f\"},\"error_y\":{\"color\":\"#2a3f5f\"},\"marker\":{\"line\":{\"color\":\"#E5ECF6\",\"width\":0.5},\"pattern\":{\"fillmode\":\"overlay\",\"size\":10,\"solidity\":0.2}},\"type\":\"bar\"}],\"scattergeo\":[{\"type\":\"scattergeo\",\"marker\":{\"colorbar\":{\"outlinewidth\":0,\"ticks\":\"\"}}}],\"scatterpolar\":[{\"type\":\"scatterpolar\",\"marker\":{\"colorbar\":{\"outlinewidth\":0,\"ticks\":\"\"}}}],\"histogram\":[{\"marker\":{\"pattern\":{\"fillmode\":\"overlay\",\"size\":10,\"solidity\":0.2}},\"type\":\"histogram\"}],\"scattergl\":[{\"type\":\"scattergl\",\"marker\":{\"colorbar\":{\"outlinewidth\":0,\"ticks\":\"\"}}}],\"scatter3d\":[{\"type\":\"scatter3d\",\"line\":{\"colorbar\":{\"outlinewidth\":0,\"ticks\":\"\"}},\"marker\":{\"colorbar\":{\"outlinewidth\":0,\"ticks\":\"\"}}}],\"scattermapbox\":[{\"type\":\"scattermapbox\",\"marker\":{\"colorbar\":{\"outlinewidth\":0,\"ticks\":\"\"}}}],\"scatterternary\":[{\"type\":\"scatterternary\",\"marker\":{\"colorbar\":{\"outlinewidth\":0,\"ticks\":\"\"}}}],\"scattercarpet\":[{\"type\":\"scattercarpet\",\"marker\":{\"colorbar\":{\"outlinewidth\":0,\"ticks\":\"\"}}}],\"carpet\":[{\"aaxis\":{\"endlinecolor\":\"#2a3f5f\",\"gridcolor\":\"white\",\"linecolor\":\"white\",\"minorgridcolor\":\"white\",\"startlinecolor\":\"#2a3f5f\"},\"baxis\":{\"endlinecolor\":\"#2a3f5f\",\"gridcolor\":\"white\",\"linecolor\":\"white\",\"minorgridcolor\":\"white\",\"startlinecolor\":\"#2a3f5f\"},\"type\":\"carpet\"}],\"table\":[{\"cells\":{\"fill\":{\"color\":\"#EBF0F8\"},\"line\":{\"color\":\"white\"}},\"header\":{\"fill\":{\"color\":\"#C8D4E3\"},\"line\":{\"color\":\"white\"}},\"type\":\"table\"}],\"barpolar\":[{\"marker\":{\"line\":{\"color\":\"#E5ECF6\",\"width\":0.5},\"pattern\":{\"fillmode\":\"overlay\",\"size\":10,\"solidity\":0.2}},\"type\":\"barpolar\"}],\"pie\":[{\"automargin\":true,\"type\":\"pie\"}]},\"layout\":{\"autotypenumbers\":\"strict\",\"colorway\":[\"#636efa\",\"#EF553B\",\"#00cc96\",\"#ab63fa\",\"#FFA15A\",\"#19d3f3\",\"#FF6692\",\"#B6E880\",\"#FF97FF\",\"#FECB52\"],\"font\":{\"color\":\"#2a3f5f\"},\"hovermode\":\"closest\",\"hoverlabel\":{\"align\":\"left\"},\"paper_bgcolor\":\"white\",\"plot_bgcolor\":\"#E5ECF6\",\"polar\":{\"bgcolor\":\"#E5ECF6\",\"angularaxis\":{\"gridcolor\":\"white\",\"linecolor\":\"white\",\"ticks\":\"\"},\"radialaxis\":{\"gridcolor\":\"white\",\"linecolor\":\"white\",\"ticks\":\"\"}},\"ternary\":{\"bgcolor\":\"#E5ECF6\",\"aaxis\":{\"gridcolor\":\"white\",\"linecolor\":\"white\",\"ticks\":\"\"},\"baxis\":{\"gridcolor\":\"white\",\"linecolor\":\"white\",\"ticks\":\"\"},\"caxis\":{\"gridcolor\":\"white\",\"linecolor\":\"white\",\"ticks\":\"\"}},\"coloraxis\":{\"colorbar\":{\"outlinewidth\":0,\"ticks\":\"\"}},\"colorscale\":{\"sequential\":[[0.0,\"#0d0887\"],[0.1111111111111111,\"#46039f\"],[0.2222222222222222,\"#7201a8\"],[0.3333333333333333,\"#9c179e\"],[0.4444444444444444,\"#bd3786\"],[0.5555555555555556,\"#d8576b\"],[0.6666666666666666,\"#ed7953\"],[0.7777777777777778,\"#fb9f3a\"],[0.8888888888888888,\"#fdca26\"],[1.0,\"#f0f921\"]],\"sequentialminus\":[[0.0,\"#0d0887\"],[0.1111111111111111,\"#46039f\"],[0.2222222222222222,\"#7201a8\"],[0.3333333333333333,\"#9c179e\"],[0.4444444444444444,\"#bd3786\"],[0.5555555555555556,\"#d8576b\"],[0.6666666666666666,\"#ed7953\"],[0.7777777777777778,\"#fb9f3a\"],[0.8888888888888888,\"#fdca26\"],[1.0,\"#f0f921\"]],\"diverging\":[[0,\"#8e0152\"],[0.1,\"#c51b7d\"],[0.2,\"#de77ae\"],[0.3,\"#f1b6da\"],[0.4,\"#fde0ef\"],[0.5,\"#f7f7f7\"],[0.6,\"#e6f5d0\"],[0.7,\"#b8e186\"],[0.8,\"#7fbc41\"],[0.9,\"#4d9221\"],[1,\"#276419\"]]},\"xaxis\":{\"gridcolor\":\"white\",\"linecolor\":\"white\",\"ticks\":\"\",\"title\":{\"standoff\":15},\"zerolinecolor\":\"white\",\"automargin\":true,\"zerolinewidth\":2},\"yaxis\":{\"gridcolor\":\"white\",\"linecolor\":\"white\",\"ticks\":\"\",\"title\":{\"standoff\":15},\"zerolinecolor\":\"white\",\"automargin\":true,\"zerolinewidth\":2},\"scene\":{\"xaxis\":{\"backgroundcolor\":\"#E5ECF6\",\"gridcolor\":\"white\",\"linecolor\":\"white\",\"showbackground\":true,\"ticks\":\"\",\"zerolinecolor\":\"white\",\"gridwidth\":2},\"yaxis\":{\"backgroundcolor\":\"#E5ECF6\",\"gridcolor\":\"white\",\"linecolor\":\"white\",\"showbackground\":true,\"ticks\":\"\",\"zerolinecolor\":\"white\",\"gridwidth\":2},\"zaxis\":{\"backgroundcolor\":\"#E5ECF6\",\"gridcolor\":\"white\",\"linecolor\":\"white\",\"showbackground\":true,\"ticks\":\"\",\"zerolinecolor\":\"white\",\"gridwidth\":2}},\"shapedefaults\":{\"line\":{\"color\":\"#2a3f5f\"}},\"annotationdefaults\":{\"arrowcolor\":\"#2a3f5f\",\"arrowhead\":0,\"arrowwidth\":1},\"geo\":{\"bgcolor\":\"white\",\"landcolor\":\"#E5ECF6\",\"subunitcolor\":\"white\",\"showland\":true,\"showlakes\":true,\"lakecolor\":\"white\"},\"title\":{\"x\":0.05},\"mapbox\":{\"style\":\"light\"}}},\"xaxis\":{\"anchor\":\"y\",\"domain\":[0.0,1.0],\"title\":{\"text\":\"Year\"}},\"yaxis\":{\"anchor\":\"x\",\"domain\":[0.0,1.0],\"title\":{\"text\":\"Per_Growth\"}},\"legend\":{\"tracegroupgap\":0},\"margin\":{\"t\":60},\"barmode\":\"relative\"},                        {\"responsive\": true}                    ).then(function(){\n",
       "                            \n",
       "var gd = document.getElementById('de7d02d4-b2d3-4021-8da2-98469a18c338');\n",
       "var x = new MutationObserver(function (mutations, observer) {{\n",
       "        var display = window.getComputedStyle(gd).display;\n",
       "        if (!display || display === 'none') {{\n",
       "            console.log([gd, 'removed!']);\n",
       "            Plotly.purge(gd);\n",
       "            observer.disconnect();\n",
       "        }}\n",
       "}});\n",
       "\n",
       "// Listen for the removal of the full notebook cells\n",
       "var notebookContainer = gd.closest('#notebook-container');\n",
       "if (notebookContainer) {{\n",
       "    x.observe(notebookContainer, {childList: true});\n",
       "}}\n",
       "\n",
       "// Listen for the clearing of the current output cell\n",
       "var outputEl = gd.closest('.output');\n",
       "if (outputEl) {{\n",
       "    x.observe(outputEl, {childList: true});\n",
       "}}\n",
       "\n",
       "                        })                };                });            </script>        </div>"
      ]
     },
     "metadata": {},
     "output_type": "display_data"
    }
   ],
   "source": [
    "px.bar(df1,x='Year',y='Per_Growth')"
   ]
  },
  {
   "cell_type": "markdown",
   "id": "fa469d29",
   "metadata": {},
   "source": [
    "### Percentage Growth of EV vechicles in each year"
   ]
  },
  {
   "cell_type": "code",
   "execution_count": 141,
   "id": "d6f9aa2d",
   "metadata": {},
   "outputs": [],
   "source": [
    "df2=pd.DataFrame(df['State'].value_counts())"
   ]
  },
  {
   "cell_type": "code",
   "execution_count": 142,
   "id": "95bf574a",
   "metadata": {},
   "outputs": [],
   "source": [
    "df2=df2.reset_index()"
   ]
  },
  {
   "cell_type": "code",
   "execution_count": 143,
   "id": "97188a16",
   "metadata": {},
   "outputs": [
    {
     "data": {
      "text/html": [
       "<div>\n",
       "<style scoped>\n",
       "    .dataframe tbody tr th:only-of-type {\n",
       "        vertical-align: middle;\n",
       "    }\n",
       "\n",
       "    .dataframe tbody tr th {\n",
       "        vertical-align: top;\n",
       "    }\n",
       "\n",
       "    .dataframe thead th {\n",
       "        text-align: right;\n",
       "    }\n",
       "</style>\n",
       "<table border=\"1\" class=\"dataframe\">\n",
       "  <thead>\n",
       "    <tr style=\"text-align: right;\">\n",
       "      <th></th>\n",
       "      <th>index</th>\n",
       "      <th>State</th>\n",
       "    </tr>\n",
       "  </thead>\n",
       "  <tbody>\n",
       "    <tr>\n",
       "      <th>0</th>\n",
       "      <td>WA</td>\n",
       "      <td>112329</td>\n",
       "    </tr>\n",
       "    <tr>\n",
       "      <th>1</th>\n",
       "      <td>CA</td>\n",
       "      <td>74</td>\n",
       "    </tr>\n",
       "    <tr>\n",
       "      <th>2</th>\n",
       "      <td>VA</td>\n",
       "      <td>36</td>\n",
       "    </tr>\n",
       "    <tr>\n",
       "      <th>3</th>\n",
       "      <td>MD</td>\n",
       "      <td>26</td>\n",
       "    </tr>\n",
       "    <tr>\n",
       "      <th>4</th>\n",
       "      <td>TX</td>\n",
       "      <td>13</td>\n",
       "    </tr>\n",
       "    <tr>\n",
       "      <th>5</th>\n",
       "      <td>CO</td>\n",
       "      <td>9</td>\n",
       "    </tr>\n",
       "    <tr>\n",
       "      <th>6</th>\n",
       "      <td>NV</td>\n",
       "      <td>8</td>\n",
       "    </tr>\n",
       "    <tr>\n",
       "      <th>7</th>\n",
       "      <td>GA</td>\n",
       "      <td>7</td>\n",
       "    </tr>\n",
       "    <tr>\n",
       "      <th>8</th>\n",
       "      <td>NC</td>\n",
       "      <td>7</td>\n",
       "    </tr>\n",
       "    <tr>\n",
       "      <th>9</th>\n",
       "      <td>CT</td>\n",
       "      <td>6</td>\n",
       "    </tr>\n",
       "    <tr>\n",
       "      <th>10</th>\n",
       "      <td>DC</td>\n",
       "      <td>6</td>\n",
       "    </tr>\n",
       "    <tr>\n",
       "      <th>11</th>\n",
       "      <td>FL</td>\n",
       "      <td>6</td>\n",
       "    </tr>\n",
       "    <tr>\n",
       "      <th>12</th>\n",
       "      <td>AZ</td>\n",
       "      <td>6</td>\n",
       "    </tr>\n",
       "    <tr>\n",
       "      <th>13</th>\n",
       "      <td>IL</td>\n",
       "      <td>6</td>\n",
       "    </tr>\n",
       "    <tr>\n",
       "      <th>14</th>\n",
       "      <td>SC</td>\n",
       "      <td>5</td>\n",
       "    </tr>\n",
       "    <tr>\n",
       "      <th>15</th>\n",
       "      <td>OR</td>\n",
       "      <td>5</td>\n",
       "    </tr>\n",
       "    <tr>\n",
       "      <th>16</th>\n",
       "      <td>NE</td>\n",
       "      <td>5</td>\n",
       "    </tr>\n",
       "    <tr>\n",
       "      <th>17</th>\n",
       "      <td>HI</td>\n",
       "      <td>4</td>\n",
       "    </tr>\n",
       "    <tr>\n",
       "      <th>18</th>\n",
       "      <td>UT</td>\n",
       "      <td>4</td>\n",
       "    </tr>\n",
       "    <tr>\n",
       "      <th>19</th>\n",
       "      <td>AR</td>\n",
       "      <td>4</td>\n",
       "    </tr>\n",
       "    <tr>\n",
       "      <th>20</th>\n",
       "      <td>NY</td>\n",
       "      <td>4</td>\n",
       "    </tr>\n",
       "    <tr>\n",
       "      <th>21</th>\n",
       "      <td>NJ</td>\n",
       "      <td>3</td>\n",
       "    </tr>\n",
       "    <tr>\n",
       "      <th>22</th>\n",
       "      <td>TN</td>\n",
       "      <td>3</td>\n",
       "    </tr>\n",
       "    <tr>\n",
       "      <th>23</th>\n",
       "      <td>KS</td>\n",
       "      <td>3</td>\n",
       "    </tr>\n",
       "    <tr>\n",
       "      <th>24</th>\n",
       "      <td>MO</td>\n",
       "      <td>3</td>\n",
       "    </tr>\n",
       "    <tr>\n",
       "      <th>25</th>\n",
       "      <td>LA</td>\n",
       "      <td>3</td>\n",
       "    </tr>\n",
       "    <tr>\n",
       "      <th>26</th>\n",
       "      <td>MA</td>\n",
       "      <td>3</td>\n",
       "    </tr>\n",
       "    <tr>\n",
       "      <th>27</th>\n",
       "      <td>ID</td>\n",
       "      <td>2</td>\n",
       "    </tr>\n",
       "    <tr>\n",
       "      <th>28</th>\n",
       "      <td>PA</td>\n",
       "      <td>2</td>\n",
       "    </tr>\n",
       "    <tr>\n",
       "      <th>29</th>\n",
       "      <td>WY</td>\n",
       "      <td>2</td>\n",
       "    </tr>\n",
       "    <tr>\n",
       "      <th>30</th>\n",
       "      <td>OH</td>\n",
       "      <td>2</td>\n",
       "    </tr>\n",
       "    <tr>\n",
       "      <th>31</th>\n",
       "      <td>ME</td>\n",
       "      <td>1</td>\n",
       "    </tr>\n",
       "    <tr>\n",
       "      <th>32</th>\n",
       "      <td>KY</td>\n",
       "      <td>1</td>\n",
       "    </tr>\n",
       "    <tr>\n",
       "      <th>33</th>\n",
       "      <td>RI</td>\n",
       "      <td>1</td>\n",
       "    </tr>\n",
       "    <tr>\n",
       "      <th>34</th>\n",
       "      <td>MN</td>\n",
       "      <td>1</td>\n",
       "    </tr>\n",
       "    <tr>\n",
       "      <th>35</th>\n",
       "      <td>NH</td>\n",
       "      <td>1</td>\n",
       "    </tr>\n",
       "    <tr>\n",
       "      <th>36</th>\n",
       "      <td>SD</td>\n",
       "      <td>1</td>\n",
       "    </tr>\n",
       "    <tr>\n",
       "      <th>37</th>\n",
       "      <td>AK</td>\n",
       "      <td>1</td>\n",
       "    </tr>\n",
       "    <tr>\n",
       "      <th>38</th>\n",
       "      <td>WI</td>\n",
       "      <td>1</td>\n",
       "    </tr>\n",
       "    <tr>\n",
       "      <th>39</th>\n",
       "      <td>NM</td>\n",
       "      <td>1</td>\n",
       "    </tr>\n",
       "    <tr>\n",
       "      <th>40</th>\n",
       "      <td>MS</td>\n",
       "      <td>1</td>\n",
       "    </tr>\n",
       "    <tr>\n",
       "      <th>41</th>\n",
       "      <td>AL</td>\n",
       "      <td>1</td>\n",
       "    </tr>\n",
       "    <tr>\n",
       "      <th>42</th>\n",
       "      <td>DE</td>\n",
       "      <td>1</td>\n",
       "    </tr>\n",
       "    <tr>\n",
       "      <th>43</th>\n",
       "      <td>OK</td>\n",
       "      <td>1</td>\n",
       "    </tr>\n",
       "    <tr>\n",
       "      <th>44</th>\n",
       "      <td>ND</td>\n",
       "      <td>1</td>\n",
       "    </tr>\n",
       "  </tbody>\n",
       "</table>\n",
       "</div>"
      ],
      "text/plain": [
       "   index   State\n",
       "0     WA  112329\n",
       "1     CA      74\n",
       "2     VA      36\n",
       "3     MD      26\n",
       "4     TX      13\n",
       "5     CO       9\n",
       "6     NV       8\n",
       "7     GA       7\n",
       "8     NC       7\n",
       "9     CT       6\n",
       "10    DC       6\n",
       "11    FL       6\n",
       "12    AZ       6\n",
       "13    IL       6\n",
       "14    SC       5\n",
       "15    OR       5\n",
       "16    NE       5\n",
       "17    HI       4\n",
       "18    UT       4\n",
       "19    AR       4\n",
       "20    NY       4\n",
       "21    NJ       3\n",
       "22    TN       3\n",
       "23    KS       3\n",
       "24    MO       3\n",
       "25    LA       3\n",
       "26    MA       3\n",
       "27    ID       2\n",
       "28    PA       2\n",
       "29    WY       2\n",
       "30    OH       2\n",
       "31    ME       1\n",
       "32    KY       1\n",
       "33    RI       1\n",
       "34    MN       1\n",
       "35    NH       1\n",
       "36    SD       1\n",
       "37    AK       1\n",
       "38    WI       1\n",
       "39    NM       1\n",
       "40    MS       1\n",
       "41    AL       1\n",
       "42    DE       1\n",
       "43    OK       1\n",
       "44    ND       1"
      ]
     },
     "execution_count": 143,
     "metadata": {},
     "output_type": "execute_result"
    }
   ],
   "source": [
    "df2"
   ]
  },
  {
   "cell_type": "code",
   "execution_count": 144,
   "id": "50300797",
   "metadata": {},
   "outputs": [],
   "source": [
    "df2.rename(columns={'index':'State','State':'No_EV'},inplace=True)"
   ]
  },
  {
   "cell_type": "code",
   "execution_count": 145,
   "id": "b79a1953",
   "metadata": {},
   "outputs": [
    {
     "data": {
      "application/vnd.plotly.v1+json": {
       "config": {
        "plotlyServerURL": "https://plot.ly"
       },
       "data": [
        {
         "coloraxis": "coloraxis",
         "geo": "geo",
         "hovertemplate": "<b>%{hovertext}</b><br><br>State=%{location}<br>No_EV=%{z}<extra></extra>",
         "hovertext": [
          112329,
          74,
          36,
          26,
          13,
          9,
          8,
          7,
          7,
          6,
          6,
          6,
          6,
          6,
          5,
          5,
          5,
          4,
          4,
          4,
          4,
          3,
          3,
          3,
          3,
          3,
          3,
          2,
          2,
          2,
          2,
          1,
          1,
          1,
          1,
          1,
          1,
          1,
          1,
          1,
          1,
          1,
          1,
          1,
          1
         ],
         "locationmode": "USA-states",
         "locations": [
          "WA",
          "CA",
          "VA",
          "MD",
          "TX",
          "CO",
          "NV",
          "GA",
          "NC",
          "CT",
          "DC",
          "FL",
          "AZ",
          "IL",
          "SC",
          "OR",
          "NE",
          "HI",
          "UT",
          "AR",
          "NY",
          "NJ",
          "TN",
          "KS",
          "MO",
          "LA",
          "MA",
          "ID",
          "PA",
          "WY",
          "OH",
          "ME",
          "KY",
          "RI",
          "MN",
          "NH",
          "SD",
          "AK",
          "WI",
          "NM",
          "MS",
          "AL",
          "DE",
          "OK",
          "ND"
         ],
         "name": "",
         "type": "choropleth",
         "z": [
          112329,
          74,
          36,
          26,
          13,
          9,
          8,
          7,
          7,
          6,
          6,
          6,
          6,
          6,
          5,
          5,
          5,
          4,
          4,
          4,
          4,
          3,
          3,
          3,
          3,
          3,
          3,
          2,
          2,
          2,
          2,
          1,
          1,
          1,
          1,
          1,
          1,
          1,
          1,
          1,
          1,
          1,
          1,
          1,
          1
         ]
        }
       ],
       "layout": {
        "coloraxis": {
         "colorbar": {
          "title": {
           "text": "No_EV"
          }
         },
         "colorscale": [
          [
           0,
           "#0d0887"
          ],
          [
           0.1111111111111111,
           "#46039f"
          ],
          [
           0.2222222222222222,
           "#7201a8"
          ],
          [
           0.3333333333333333,
           "#9c179e"
          ],
          [
           0.4444444444444444,
           "#bd3786"
          ],
          [
           0.5555555555555556,
           "#d8576b"
          ],
          [
           0.6666666666666666,
           "#ed7953"
          ],
          [
           0.7777777777777778,
           "#fb9f3a"
          ],
          [
           0.8888888888888888,
           "#fdca26"
          ],
          [
           1,
           "#f0f921"
          ]
         ]
        },
        "geo": {
         "center": {},
         "domain": {
          "x": [
           0,
           1
          ],
          "y": [
           0,
           1
          ]
         }
        },
        "legend": {
         "tracegroupgap": 0
        },
        "margin": {
         "t": 60
        },
        "template": {
         "data": {
          "bar": [
           {
            "error_x": {
             "color": "#2a3f5f"
            },
            "error_y": {
             "color": "#2a3f5f"
            },
            "marker": {
             "line": {
              "color": "#E5ECF6",
              "width": 0.5
             },
             "pattern": {
              "fillmode": "overlay",
              "size": 10,
              "solidity": 0.2
             }
            },
            "type": "bar"
           }
          ],
          "barpolar": [
           {
            "marker": {
             "line": {
              "color": "#E5ECF6",
              "width": 0.5
             },
             "pattern": {
              "fillmode": "overlay",
              "size": 10,
              "solidity": 0.2
             }
            },
            "type": "barpolar"
           }
          ],
          "carpet": [
           {
            "aaxis": {
             "endlinecolor": "#2a3f5f",
             "gridcolor": "white",
             "linecolor": "white",
             "minorgridcolor": "white",
             "startlinecolor": "#2a3f5f"
            },
            "baxis": {
             "endlinecolor": "#2a3f5f",
             "gridcolor": "white",
             "linecolor": "white",
             "minorgridcolor": "white",
             "startlinecolor": "#2a3f5f"
            },
            "type": "carpet"
           }
          ],
          "choropleth": [
           {
            "colorbar": {
             "outlinewidth": 0,
             "ticks": ""
            },
            "type": "choropleth"
           }
          ],
          "contour": [
           {
            "colorbar": {
             "outlinewidth": 0,
             "ticks": ""
            },
            "colorscale": [
             [
              0,
              "#0d0887"
             ],
             [
              0.1111111111111111,
              "#46039f"
             ],
             [
              0.2222222222222222,
              "#7201a8"
             ],
             [
              0.3333333333333333,
              "#9c179e"
             ],
             [
              0.4444444444444444,
              "#bd3786"
             ],
             [
              0.5555555555555556,
              "#d8576b"
             ],
             [
              0.6666666666666666,
              "#ed7953"
             ],
             [
              0.7777777777777778,
              "#fb9f3a"
             ],
             [
              0.8888888888888888,
              "#fdca26"
             ],
             [
              1,
              "#f0f921"
             ]
            ],
            "type": "contour"
           }
          ],
          "contourcarpet": [
           {
            "colorbar": {
             "outlinewidth": 0,
             "ticks": ""
            },
            "type": "contourcarpet"
           }
          ],
          "heatmap": [
           {
            "colorbar": {
             "outlinewidth": 0,
             "ticks": ""
            },
            "colorscale": [
             [
              0,
              "#0d0887"
             ],
             [
              0.1111111111111111,
              "#46039f"
             ],
             [
              0.2222222222222222,
              "#7201a8"
             ],
             [
              0.3333333333333333,
              "#9c179e"
             ],
             [
              0.4444444444444444,
              "#bd3786"
             ],
             [
              0.5555555555555556,
              "#d8576b"
             ],
             [
              0.6666666666666666,
              "#ed7953"
             ],
             [
              0.7777777777777778,
              "#fb9f3a"
             ],
             [
              0.8888888888888888,
              "#fdca26"
             ],
             [
              1,
              "#f0f921"
             ]
            ],
            "type": "heatmap"
           }
          ],
          "heatmapgl": [
           {
            "colorbar": {
             "outlinewidth": 0,
             "ticks": ""
            },
            "colorscale": [
             [
              0,
              "#0d0887"
             ],
             [
              0.1111111111111111,
              "#46039f"
             ],
             [
              0.2222222222222222,
              "#7201a8"
             ],
             [
              0.3333333333333333,
              "#9c179e"
             ],
             [
              0.4444444444444444,
              "#bd3786"
             ],
             [
              0.5555555555555556,
              "#d8576b"
             ],
             [
              0.6666666666666666,
              "#ed7953"
             ],
             [
              0.7777777777777778,
              "#fb9f3a"
             ],
             [
              0.8888888888888888,
              "#fdca26"
             ],
             [
              1,
              "#f0f921"
             ]
            ],
            "type": "heatmapgl"
           }
          ],
          "histogram": [
           {
            "marker": {
             "pattern": {
              "fillmode": "overlay",
              "size": 10,
              "solidity": 0.2
             }
            },
            "type": "histogram"
           }
          ],
          "histogram2d": [
           {
            "colorbar": {
             "outlinewidth": 0,
             "ticks": ""
            },
            "colorscale": [
             [
              0,
              "#0d0887"
             ],
             [
              0.1111111111111111,
              "#46039f"
             ],
             [
              0.2222222222222222,
              "#7201a8"
             ],
             [
              0.3333333333333333,
              "#9c179e"
             ],
             [
              0.4444444444444444,
              "#bd3786"
             ],
             [
              0.5555555555555556,
              "#d8576b"
             ],
             [
              0.6666666666666666,
              "#ed7953"
             ],
             [
              0.7777777777777778,
              "#fb9f3a"
             ],
             [
              0.8888888888888888,
              "#fdca26"
             ],
             [
              1,
              "#f0f921"
             ]
            ],
            "type": "histogram2d"
           }
          ],
          "histogram2dcontour": [
           {
            "colorbar": {
             "outlinewidth": 0,
             "ticks": ""
            },
            "colorscale": [
             [
              0,
              "#0d0887"
             ],
             [
              0.1111111111111111,
              "#46039f"
             ],
             [
              0.2222222222222222,
              "#7201a8"
             ],
             [
              0.3333333333333333,
              "#9c179e"
             ],
             [
              0.4444444444444444,
              "#bd3786"
             ],
             [
              0.5555555555555556,
              "#d8576b"
             ],
             [
              0.6666666666666666,
              "#ed7953"
             ],
             [
              0.7777777777777778,
              "#fb9f3a"
             ],
             [
              0.8888888888888888,
              "#fdca26"
             ],
             [
              1,
              "#f0f921"
             ]
            ],
            "type": "histogram2dcontour"
           }
          ],
          "mesh3d": [
           {
            "colorbar": {
             "outlinewidth": 0,
             "ticks": ""
            },
            "type": "mesh3d"
           }
          ],
          "parcoords": [
           {
            "line": {
             "colorbar": {
              "outlinewidth": 0,
              "ticks": ""
             }
            },
            "type": "parcoords"
           }
          ],
          "pie": [
           {
            "automargin": true,
            "type": "pie"
           }
          ],
          "scatter": [
           {
            "fillpattern": {
             "fillmode": "overlay",
             "size": 10,
             "solidity": 0.2
            },
            "type": "scatter"
           }
          ],
          "scatter3d": [
           {
            "line": {
             "colorbar": {
              "outlinewidth": 0,
              "ticks": ""
             }
            },
            "marker": {
             "colorbar": {
              "outlinewidth": 0,
              "ticks": ""
             }
            },
            "type": "scatter3d"
           }
          ],
          "scattercarpet": [
           {
            "marker": {
             "colorbar": {
              "outlinewidth": 0,
              "ticks": ""
             }
            },
            "type": "scattercarpet"
           }
          ],
          "scattergeo": [
           {
            "marker": {
             "colorbar": {
              "outlinewidth": 0,
              "ticks": ""
             }
            },
            "type": "scattergeo"
           }
          ],
          "scattergl": [
           {
            "marker": {
             "colorbar": {
              "outlinewidth": 0,
              "ticks": ""
             }
            },
            "type": "scattergl"
           }
          ],
          "scattermapbox": [
           {
            "marker": {
             "colorbar": {
              "outlinewidth": 0,
              "ticks": ""
             }
            },
            "type": "scattermapbox"
           }
          ],
          "scatterpolar": [
           {
            "marker": {
             "colorbar": {
              "outlinewidth": 0,
              "ticks": ""
             }
            },
            "type": "scatterpolar"
           }
          ],
          "scatterpolargl": [
           {
            "marker": {
             "colorbar": {
              "outlinewidth": 0,
              "ticks": ""
             }
            },
            "type": "scatterpolargl"
           }
          ],
          "scatterternary": [
           {
            "marker": {
             "colorbar": {
              "outlinewidth": 0,
              "ticks": ""
             }
            },
            "type": "scatterternary"
           }
          ],
          "surface": [
           {
            "colorbar": {
             "outlinewidth": 0,
             "ticks": ""
            },
            "colorscale": [
             [
              0,
              "#0d0887"
             ],
             [
              0.1111111111111111,
              "#46039f"
             ],
             [
              0.2222222222222222,
              "#7201a8"
             ],
             [
              0.3333333333333333,
              "#9c179e"
             ],
             [
              0.4444444444444444,
              "#bd3786"
             ],
             [
              0.5555555555555556,
              "#d8576b"
             ],
             [
              0.6666666666666666,
              "#ed7953"
             ],
             [
              0.7777777777777778,
              "#fb9f3a"
             ],
             [
              0.8888888888888888,
              "#fdca26"
             ],
             [
              1,
              "#f0f921"
             ]
            ],
            "type": "surface"
           }
          ],
          "table": [
           {
            "cells": {
             "fill": {
              "color": "#EBF0F8"
             },
             "line": {
              "color": "white"
             }
            },
            "header": {
             "fill": {
              "color": "#C8D4E3"
             },
             "line": {
              "color": "white"
             }
            },
            "type": "table"
           }
          ]
         },
         "layout": {
          "annotationdefaults": {
           "arrowcolor": "#2a3f5f",
           "arrowhead": 0,
           "arrowwidth": 1
          },
          "autotypenumbers": "strict",
          "coloraxis": {
           "colorbar": {
            "outlinewidth": 0,
            "ticks": ""
           }
          },
          "colorscale": {
           "diverging": [
            [
             0,
             "#8e0152"
            ],
            [
             0.1,
             "#c51b7d"
            ],
            [
             0.2,
             "#de77ae"
            ],
            [
             0.3,
             "#f1b6da"
            ],
            [
             0.4,
             "#fde0ef"
            ],
            [
             0.5,
             "#f7f7f7"
            ],
            [
             0.6,
             "#e6f5d0"
            ],
            [
             0.7,
             "#b8e186"
            ],
            [
             0.8,
             "#7fbc41"
            ],
            [
             0.9,
             "#4d9221"
            ],
            [
             1,
             "#276419"
            ]
           ],
           "sequential": [
            [
             0,
             "#0d0887"
            ],
            [
             0.1111111111111111,
             "#46039f"
            ],
            [
             0.2222222222222222,
             "#7201a8"
            ],
            [
             0.3333333333333333,
             "#9c179e"
            ],
            [
             0.4444444444444444,
             "#bd3786"
            ],
            [
             0.5555555555555556,
             "#d8576b"
            ],
            [
             0.6666666666666666,
             "#ed7953"
            ],
            [
             0.7777777777777778,
             "#fb9f3a"
            ],
            [
             0.8888888888888888,
             "#fdca26"
            ],
            [
             1,
             "#f0f921"
            ]
           ],
           "sequentialminus": [
            [
             0,
             "#0d0887"
            ],
            [
             0.1111111111111111,
             "#46039f"
            ],
            [
             0.2222222222222222,
             "#7201a8"
            ],
            [
             0.3333333333333333,
             "#9c179e"
            ],
            [
             0.4444444444444444,
             "#bd3786"
            ],
            [
             0.5555555555555556,
             "#d8576b"
            ],
            [
             0.6666666666666666,
             "#ed7953"
            ],
            [
             0.7777777777777778,
             "#fb9f3a"
            ],
            [
             0.8888888888888888,
             "#fdca26"
            ],
            [
             1,
             "#f0f921"
            ]
           ]
          },
          "colorway": [
           "#636efa",
           "#EF553B",
           "#00cc96",
           "#ab63fa",
           "#FFA15A",
           "#19d3f3",
           "#FF6692",
           "#B6E880",
           "#FF97FF",
           "#FECB52"
          ],
          "font": {
           "color": "#2a3f5f"
          },
          "geo": {
           "bgcolor": "white",
           "lakecolor": "white",
           "landcolor": "#E5ECF6",
           "showlakes": true,
           "showland": true,
           "subunitcolor": "white"
          },
          "hoverlabel": {
           "align": "left"
          },
          "hovermode": "closest",
          "mapbox": {
           "style": "light"
          },
          "paper_bgcolor": "white",
          "plot_bgcolor": "#E5ECF6",
          "polar": {
           "angularaxis": {
            "gridcolor": "white",
            "linecolor": "white",
            "ticks": ""
           },
           "bgcolor": "#E5ECF6",
           "radialaxis": {
            "gridcolor": "white",
            "linecolor": "white",
            "ticks": ""
           }
          },
          "scene": {
           "xaxis": {
            "backgroundcolor": "#E5ECF6",
            "gridcolor": "white",
            "gridwidth": 2,
            "linecolor": "white",
            "showbackground": true,
            "ticks": "",
            "zerolinecolor": "white"
           },
           "yaxis": {
            "backgroundcolor": "#E5ECF6",
            "gridcolor": "white",
            "gridwidth": 2,
            "linecolor": "white",
            "showbackground": true,
            "ticks": "",
            "zerolinecolor": "white"
           },
           "zaxis": {
            "backgroundcolor": "#E5ECF6",
            "gridcolor": "white",
            "gridwidth": 2,
            "linecolor": "white",
            "showbackground": true,
            "ticks": "",
            "zerolinecolor": "white"
           }
          },
          "shapedefaults": {
           "line": {
            "color": "#2a3f5f"
           }
          },
          "ternary": {
           "aaxis": {
            "gridcolor": "white",
            "linecolor": "white",
            "ticks": ""
           },
           "baxis": {
            "gridcolor": "white",
            "linecolor": "white",
            "ticks": ""
           },
           "bgcolor": "#E5ECF6",
           "caxis": {
            "gridcolor": "white",
            "linecolor": "white",
            "ticks": ""
           }
          },
          "title": {
           "x": 0.05
          },
          "xaxis": {
           "automargin": true,
           "gridcolor": "white",
           "linecolor": "white",
           "ticks": "",
           "title": {
            "standoff": 15
           },
           "zerolinecolor": "white",
           "zerolinewidth": 2
          },
          "yaxis": {
           "automargin": true,
           "gridcolor": "white",
           "linecolor": "white",
           "ticks": "",
           "title": {
            "standoff": 15
           },
           "zerolinecolor": "white",
           "zerolinewidth": 2
          }
         }
        }
       }
      },
      "text/html": [
       "<div>                            <div id=\"232cb048-f4c7-4112-8694-4957810ba89e\" class=\"plotly-graph-div\" style=\"height:525px; width:100%;\"></div>            <script type=\"text/javascript\">                require([\"plotly\"], function(Plotly) {                    window.PLOTLYENV=window.PLOTLYENV || {};                                    if (document.getElementById(\"232cb048-f4c7-4112-8694-4957810ba89e\")) {                    Plotly.newPlot(                        \"232cb048-f4c7-4112-8694-4957810ba89e\",                        [{\"coloraxis\":\"coloraxis\",\"geo\":\"geo\",\"hovertemplate\":\"<b>%{hovertext}</b><br><br>State=%{location}<br>No_EV=%{z}<extra></extra>\",\"hovertext\":[112329.0,74.0,36.0,26.0,13.0,9.0,8.0,7.0,7.0,6.0,6.0,6.0,6.0,6.0,5.0,5.0,5.0,4.0,4.0,4.0,4.0,3.0,3.0,3.0,3.0,3.0,3.0,2.0,2.0,2.0,2.0,1.0,1.0,1.0,1.0,1.0,1.0,1.0,1.0,1.0,1.0,1.0,1.0,1.0,1.0],\"locationmode\":\"USA-states\",\"locations\":[\"WA\",\"CA\",\"VA\",\"MD\",\"TX\",\"CO\",\"NV\",\"GA\",\"NC\",\"CT\",\"DC\",\"FL\",\"AZ\",\"IL\",\"SC\",\"OR\",\"NE\",\"HI\",\"UT\",\"AR\",\"NY\",\"NJ\",\"TN\",\"KS\",\"MO\",\"LA\",\"MA\",\"ID\",\"PA\",\"WY\",\"OH\",\"ME\",\"KY\",\"RI\",\"MN\",\"NH\",\"SD\",\"AK\",\"WI\",\"NM\",\"MS\",\"AL\",\"DE\",\"OK\",\"ND\"],\"name\":\"\",\"z\":[112329,74,36,26,13,9,8,7,7,6,6,6,6,6,5,5,5,4,4,4,4,3,3,3,3,3,3,2,2,2,2,1,1,1,1,1,1,1,1,1,1,1,1,1,1],\"type\":\"choropleth\"}],                        {\"template\":{\"data\":{\"histogram2dcontour\":[{\"type\":\"histogram2dcontour\",\"colorbar\":{\"outlinewidth\":0,\"ticks\":\"\"},\"colorscale\":[[0.0,\"#0d0887\"],[0.1111111111111111,\"#46039f\"],[0.2222222222222222,\"#7201a8\"],[0.3333333333333333,\"#9c179e\"],[0.4444444444444444,\"#bd3786\"],[0.5555555555555556,\"#d8576b\"],[0.6666666666666666,\"#ed7953\"],[0.7777777777777778,\"#fb9f3a\"],[0.8888888888888888,\"#fdca26\"],[1.0,\"#f0f921\"]]}],\"choropleth\":[{\"type\":\"choropleth\",\"colorbar\":{\"outlinewidth\":0,\"ticks\":\"\"}}],\"histogram2d\":[{\"type\":\"histogram2d\",\"colorbar\":{\"outlinewidth\":0,\"ticks\":\"\"},\"colorscale\":[[0.0,\"#0d0887\"],[0.1111111111111111,\"#46039f\"],[0.2222222222222222,\"#7201a8\"],[0.3333333333333333,\"#9c179e\"],[0.4444444444444444,\"#bd3786\"],[0.5555555555555556,\"#d8576b\"],[0.6666666666666666,\"#ed7953\"],[0.7777777777777778,\"#fb9f3a\"],[0.8888888888888888,\"#fdca26\"],[1.0,\"#f0f921\"]]}],\"heatmap\":[{\"type\":\"heatmap\",\"colorbar\":{\"outlinewidth\":0,\"ticks\":\"\"},\"colorscale\":[[0.0,\"#0d0887\"],[0.1111111111111111,\"#46039f\"],[0.2222222222222222,\"#7201a8\"],[0.3333333333333333,\"#9c179e\"],[0.4444444444444444,\"#bd3786\"],[0.5555555555555556,\"#d8576b\"],[0.6666666666666666,\"#ed7953\"],[0.7777777777777778,\"#fb9f3a\"],[0.8888888888888888,\"#fdca26\"],[1.0,\"#f0f921\"]]}],\"heatmapgl\":[{\"type\":\"heatmapgl\",\"colorbar\":{\"outlinewidth\":0,\"ticks\":\"\"},\"colorscale\":[[0.0,\"#0d0887\"],[0.1111111111111111,\"#46039f\"],[0.2222222222222222,\"#7201a8\"],[0.3333333333333333,\"#9c179e\"],[0.4444444444444444,\"#bd3786\"],[0.5555555555555556,\"#d8576b\"],[0.6666666666666666,\"#ed7953\"],[0.7777777777777778,\"#fb9f3a\"],[0.8888888888888888,\"#fdca26\"],[1.0,\"#f0f921\"]]}],\"contourcarpet\":[{\"type\":\"contourcarpet\",\"colorbar\":{\"outlinewidth\":0,\"ticks\":\"\"}}],\"contour\":[{\"type\":\"contour\",\"colorbar\":{\"outlinewidth\":0,\"ticks\":\"\"},\"colorscale\":[[0.0,\"#0d0887\"],[0.1111111111111111,\"#46039f\"],[0.2222222222222222,\"#7201a8\"],[0.3333333333333333,\"#9c179e\"],[0.4444444444444444,\"#bd3786\"],[0.5555555555555556,\"#d8576b\"],[0.6666666666666666,\"#ed7953\"],[0.7777777777777778,\"#fb9f3a\"],[0.8888888888888888,\"#fdca26\"],[1.0,\"#f0f921\"]]}],\"surface\":[{\"type\":\"surface\",\"colorbar\":{\"outlinewidth\":0,\"ticks\":\"\"},\"colorscale\":[[0.0,\"#0d0887\"],[0.1111111111111111,\"#46039f\"],[0.2222222222222222,\"#7201a8\"],[0.3333333333333333,\"#9c179e\"],[0.4444444444444444,\"#bd3786\"],[0.5555555555555556,\"#d8576b\"],[0.6666666666666666,\"#ed7953\"],[0.7777777777777778,\"#fb9f3a\"],[0.8888888888888888,\"#fdca26\"],[1.0,\"#f0f921\"]]}],\"mesh3d\":[{\"type\":\"mesh3d\",\"colorbar\":{\"outlinewidth\":0,\"ticks\":\"\"}}],\"scatter\":[{\"fillpattern\":{\"fillmode\":\"overlay\",\"size\":10,\"solidity\":0.2},\"type\":\"scatter\"}],\"parcoords\":[{\"type\":\"parcoords\",\"line\":{\"colorbar\":{\"outlinewidth\":0,\"ticks\":\"\"}}}],\"scatterpolargl\":[{\"type\":\"scatterpolargl\",\"marker\":{\"colorbar\":{\"outlinewidth\":0,\"ticks\":\"\"}}}],\"bar\":[{\"error_x\":{\"color\":\"#2a3f5f\"},\"error_y\":{\"color\":\"#2a3f5f\"},\"marker\":{\"line\":{\"color\":\"#E5ECF6\",\"width\":0.5},\"pattern\":{\"fillmode\":\"overlay\",\"size\":10,\"solidity\":0.2}},\"type\":\"bar\"}],\"scattergeo\":[{\"type\":\"scattergeo\",\"marker\":{\"colorbar\":{\"outlinewidth\":0,\"ticks\":\"\"}}}],\"scatterpolar\":[{\"type\":\"scatterpolar\",\"marker\":{\"colorbar\":{\"outlinewidth\":0,\"ticks\":\"\"}}}],\"histogram\":[{\"marker\":{\"pattern\":{\"fillmode\":\"overlay\",\"size\":10,\"solidity\":0.2}},\"type\":\"histogram\"}],\"scattergl\":[{\"type\":\"scattergl\",\"marker\":{\"colorbar\":{\"outlinewidth\":0,\"ticks\":\"\"}}}],\"scatter3d\":[{\"type\":\"scatter3d\",\"line\":{\"colorbar\":{\"outlinewidth\":0,\"ticks\":\"\"}},\"marker\":{\"colorbar\":{\"outlinewidth\":0,\"ticks\":\"\"}}}],\"scattermapbox\":[{\"type\":\"scattermapbox\",\"marker\":{\"colorbar\":{\"outlinewidth\":0,\"ticks\":\"\"}}}],\"scatterternary\":[{\"type\":\"scatterternary\",\"marker\":{\"colorbar\":{\"outlinewidth\":0,\"ticks\":\"\"}}}],\"scattercarpet\":[{\"type\":\"scattercarpet\",\"marker\":{\"colorbar\":{\"outlinewidth\":0,\"ticks\":\"\"}}}],\"carpet\":[{\"aaxis\":{\"endlinecolor\":\"#2a3f5f\",\"gridcolor\":\"white\",\"linecolor\":\"white\",\"minorgridcolor\":\"white\",\"startlinecolor\":\"#2a3f5f\"},\"baxis\":{\"endlinecolor\":\"#2a3f5f\",\"gridcolor\":\"white\",\"linecolor\":\"white\",\"minorgridcolor\":\"white\",\"startlinecolor\":\"#2a3f5f\"},\"type\":\"carpet\"}],\"table\":[{\"cells\":{\"fill\":{\"color\":\"#EBF0F8\"},\"line\":{\"color\":\"white\"}},\"header\":{\"fill\":{\"color\":\"#C8D4E3\"},\"line\":{\"color\":\"white\"}},\"type\":\"table\"}],\"barpolar\":[{\"marker\":{\"line\":{\"color\":\"#E5ECF6\",\"width\":0.5},\"pattern\":{\"fillmode\":\"overlay\",\"size\":10,\"solidity\":0.2}},\"type\":\"barpolar\"}],\"pie\":[{\"automargin\":true,\"type\":\"pie\"}]},\"layout\":{\"autotypenumbers\":\"strict\",\"colorway\":[\"#636efa\",\"#EF553B\",\"#00cc96\",\"#ab63fa\",\"#FFA15A\",\"#19d3f3\",\"#FF6692\",\"#B6E880\",\"#FF97FF\",\"#FECB52\"],\"font\":{\"color\":\"#2a3f5f\"},\"hovermode\":\"closest\",\"hoverlabel\":{\"align\":\"left\"},\"paper_bgcolor\":\"white\",\"plot_bgcolor\":\"#E5ECF6\",\"polar\":{\"bgcolor\":\"#E5ECF6\",\"angularaxis\":{\"gridcolor\":\"white\",\"linecolor\":\"white\",\"ticks\":\"\"},\"radialaxis\":{\"gridcolor\":\"white\",\"linecolor\":\"white\",\"ticks\":\"\"}},\"ternary\":{\"bgcolor\":\"#E5ECF6\",\"aaxis\":{\"gridcolor\":\"white\",\"linecolor\":\"white\",\"ticks\":\"\"},\"baxis\":{\"gridcolor\":\"white\",\"linecolor\":\"white\",\"ticks\":\"\"},\"caxis\":{\"gridcolor\":\"white\",\"linecolor\":\"white\",\"ticks\":\"\"}},\"coloraxis\":{\"colorbar\":{\"outlinewidth\":0,\"ticks\":\"\"}},\"colorscale\":{\"sequential\":[[0.0,\"#0d0887\"],[0.1111111111111111,\"#46039f\"],[0.2222222222222222,\"#7201a8\"],[0.3333333333333333,\"#9c179e\"],[0.4444444444444444,\"#bd3786\"],[0.5555555555555556,\"#d8576b\"],[0.6666666666666666,\"#ed7953\"],[0.7777777777777778,\"#fb9f3a\"],[0.8888888888888888,\"#fdca26\"],[1.0,\"#f0f921\"]],\"sequentialminus\":[[0.0,\"#0d0887\"],[0.1111111111111111,\"#46039f\"],[0.2222222222222222,\"#7201a8\"],[0.3333333333333333,\"#9c179e\"],[0.4444444444444444,\"#bd3786\"],[0.5555555555555556,\"#d8576b\"],[0.6666666666666666,\"#ed7953\"],[0.7777777777777778,\"#fb9f3a\"],[0.8888888888888888,\"#fdca26\"],[1.0,\"#f0f921\"]],\"diverging\":[[0,\"#8e0152\"],[0.1,\"#c51b7d\"],[0.2,\"#de77ae\"],[0.3,\"#f1b6da\"],[0.4,\"#fde0ef\"],[0.5,\"#f7f7f7\"],[0.6,\"#e6f5d0\"],[0.7,\"#b8e186\"],[0.8,\"#7fbc41\"],[0.9,\"#4d9221\"],[1,\"#276419\"]]},\"xaxis\":{\"gridcolor\":\"white\",\"linecolor\":\"white\",\"ticks\":\"\",\"title\":{\"standoff\":15},\"zerolinecolor\":\"white\",\"automargin\":true,\"zerolinewidth\":2},\"yaxis\":{\"gridcolor\":\"white\",\"linecolor\":\"white\",\"ticks\":\"\",\"title\":{\"standoff\":15},\"zerolinecolor\":\"white\",\"automargin\":true,\"zerolinewidth\":2},\"scene\":{\"xaxis\":{\"backgroundcolor\":\"#E5ECF6\",\"gridcolor\":\"white\",\"linecolor\":\"white\",\"showbackground\":true,\"ticks\":\"\",\"zerolinecolor\":\"white\",\"gridwidth\":2},\"yaxis\":{\"backgroundcolor\":\"#E5ECF6\",\"gridcolor\":\"white\",\"linecolor\":\"white\",\"showbackground\":true,\"ticks\":\"\",\"zerolinecolor\":\"white\",\"gridwidth\":2},\"zaxis\":{\"backgroundcolor\":\"#E5ECF6\",\"gridcolor\":\"white\",\"linecolor\":\"white\",\"showbackground\":true,\"ticks\":\"\",\"zerolinecolor\":\"white\",\"gridwidth\":2}},\"shapedefaults\":{\"line\":{\"color\":\"#2a3f5f\"}},\"annotationdefaults\":{\"arrowcolor\":\"#2a3f5f\",\"arrowhead\":0,\"arrowwidth\":1},\"geo\":{\"bgcolor\":\"white\",\"landcolor\":\"#E5ECF6\",\"subunitcolor\":\"white\",\"showland\":true,\"showlakes\":true,\"lakecolor\":\"white\"},\"title\":{\"x\":0.05},\"mapbox\":{\"style\":\"light\"}}},\"geo\":{\"domain\":{\"x\":[0.0,1.0],\"y\":[0.0,1.0]},\"center\":{}},\"coloraxis\":{\"colorbar\":{\"title\":{\"text\":\"No_EV\"}},\"colorscale\":[[0.0,\"#0d0887\"],[0.1111111111111111,\"#46039f\"],[0.2222222222222222,\"#7201a8\"],[0.3333333333333333,\"#9c179e\"],[0.4444444444444444,\"#bd3786\"],[0.5555555555555556,\"#d8576b\"],[0.6666666666666666,\"#ed7953\"],[0.7777777777777778,\"#fb9f3a\"],[0.8888888888888888,\"#fdca26\"],[1.0,\"#f0f921\"]]},\"legend\":{\"tracegroupgap\":0},\"margin\":{\"t\":60}},                        {\"responsive\": true}                    ).then(function(){\n",
       "                            \n",
       "var gd = document.getElementById('232cb048-f4c7-4112-8694-4957810ba89e');\n",
       "var x = new MutationObserver(function (mutations, observer) {{\n",
       "        var display = window.getComputedStyle(gd).display;\n",
       "        if (!display || display === 'none') {{\n",
       "            console.log([gd, 'removed!']);\n",
       "            Plotly.purge(gd);\n",
       "            observer.disconnect();\n",
       "        }}\n",
       "}});\n",
       "\n",
       "// Listen for the removal of the full notebook cells\n",
       "var notebookContainer = gd.closest('#notebook-container');\n",
       "if (notebookContainer) {{\n",
       "    x.observe(notebookContainer, {childList: true});\n",
       "}}\n",
       "\n",
       "// Listen for the clearing of the current output cell\n",
       "var outputEl = gd.closest('.output');\n",
       "if (outputEl) {{\n",
       "    x.observe(outputEl, {childList: true});\n",
       "}}\n",
       "\n",
       "                        })                };                });            </script>        </div>"
      ]
     },
     "metadata": {},
     "output_type": "display_data"
    }
   ],
   "source": [
    "px.choropleth(df2,locations='State',color='No_EV',hover_name='No_EV',locationmode='USA-states')"
   ]
  },
  {
   "cell_type": "markdown",
   "id": "7a53b8a2",
   "metadata": {},
   "source": [
    "### In WA State lot of EV Vechicle being used."
   ]
  },
  {
   "cell_type": "code",
   "execution_count": 158,
   "id": "b34c2630",
   "metadata": {},
   "outputs": [],
   "source": [
    "df3=pd.DataFrame(df.groupby(['Make','Model_Year'])['VIN (1-10)'].count())"
   ]
  },
  {
   "cell_type": "code",
   "execution_count": 162,
   "id": "81946ce7",
   "metadata": {},
   "outputs": [],
   "source": [
    "df3=df3.reset_index()"
   ]
  },
  {
   "cell_type": "code",
   "execution_count": 163,
   "id": "8f33de3b",
   "metadata": {},
   "outputs": [
    {
     "data": {
      "text/html": [
       "<div>\n",
       "<style scoped>\n",
       "    .dataframe tbody tr th:only-of-type {\n",
       "        vertical-align: middle;\n",
       "    }\n",
       "\n",
       "    .dataframe tbody tr th {\n",
       "        vertical-align: top;\n",
       "    }\n",
       "\n",
       "    .dataframe thead th {\n",
       "        text-align: right;\n",
       "    }\n",
       "</style>\n",
       "<table border=\"1\" class=\"dataframe\">\n",
       "  <thead>\n",
       "    <tr style=\"text-align: right;\">\n",
       "      <th></th>\n",
       "      <th>Make</th>\n",
       "      <th>Model_Year</th>\n",
       "      <th>VIN (1-10)</th>\n",
       "    </tr>\n",
       "  </thead>\n",
       "  <tbody>\n",
       "    <tr>\n",
       "      <th>0</th>\n",
       "      <td>AUDI</td>\n",
       "      <td>2016</td>\n",
       "      <td>214</td>\n",
       "    </tr>\n",
       "    <tr>\n",
       "      <th>1</th>\n",
       "      <td>AUDI</td>\n",
       "      <td>2017</td>\n",
       "      <td>187</td>\n",
       "    </tr>\n",
       "    <tr>\n",
       "      <th>2</th>\n",
       "      <td>AUDI</td>\n",
       "      <td>2018</td>\n",
       "      <td>174</td>\n",
       "    </tr>\n",
       "    <tr>\n",
       "      <th>3</th>\n",
       "      <td>AUDI</td>\n",
       "      <td>2019</td>\n",
       "      <td>392</td>\n",
       "    </tr>\n",
       "    <tr>\n",
       "      <th>4</th>\n",
       "      <td>AUDI</td>\n",
       "      <td>2020</td>\n",
       "      <td>224</td>\n",
       "    </tr>\n",
       "    <tr>\n",
       "      <th>...</th>\n",
       "      <td>...</td>\n",
       "      <td>...</td>\n",
       "      <td>...</td>\n",
       "    </tr>\n",
       "    <tr>\n",
       "      <th>204</th>\n",
       "      <td>VOLVO</td>\n",
       "      <td>2019</td>\n",
       "      <td>190</td>\n",
       "    </tr>\n",
       "    <tr>\n",
       "      <th>205</th>\n",
       "      <td>VOLVO</td>\n",
       "      <td>2020</td>\n",
       "      <td>162</td>\n",
       "    </tr>\n",
       "    <tr>\n",
       "      <th>206</th>\n",
       "      <td>VOLVO</td>\n",
       "      <td>2021</td>\n",
       "      <td>580</td>\n",
       "    </tr>\n",
       "    <tr>\n",
       "      <th>207</th>\n",
       "      <td>VOLVO</td>\n",
       "      <td>2022</td>\n",
       "      <td>882</td>\n",
       "    </tr>\n",
       "    <tr>\n",
       "      <th>208</th>\n",
       "      <td>VOLVO</td>\n",
       "      <td>2023</td>\n",
       "      <td>21</td>\n",
       "    </tr>\n",
       "  </tbody>\n",
       "</table>\n",
       "<p>209 rows × 3 columns</p>\n",
       "</div>"
      ],
      "text/plain": [
       "      Make  Model_Year  VIN (1-10)\n",
       "0     AUDI        2016         214\n",
       "1     AUDI        2017         187\n",
       "2     AUDI        2018         174\n",
       "3     AUDI        2019         392\n",
       "4     AUDI        2020         224\n",
       "..     ...         ...         ...\n",
       "204  VOLVO        2019         190\n",
       "205  VOLVO        2020         162\n",
       "206  VOLVO        2021         580\n",
       "207  VOLVO        2022         882\n",
       "208  VOLVO        2023          21\n",
       "\n",
       "[209 rows x 3 columns]"
      ]
     },
     "execution_count": 163,
     "metadata": {},
     "output_type": "execute_result"
    }
   ],
   "source": [
    "df3"
   ]
  },
  {
   "cell_type": "code",
   "execution_count": 170,
   "id": "6a4fc5d7",
   "metadata": {},
   "outputs": [
    {
     "data": {
      "application/vnd.plotly.v1+json": {
       "config": {
        "plotlyServerURL": "https://plot.ly"
       },
       "data": [
        {
         "alignmentgroup": "True",
         "bingroup": "y",
         "histfunc": "sum",
         "hovertemplate": "Make=%{y}<br>Model_Year=2016<br>sum of VIN (1-10)=%{x}<extra></extra>",
         "legendgroup": "AUDI",
         "marker": {
          "color": "#636efa",
          "pattern": {
           "shape": ""
          }
         },
         "name": "AUDI",
         "offsetgroup": "AUDI",
         "orientation": "h",
         "showlegend": true,
         "type": "histogram",
         "x": [
          214
         ],
         "xaxis": "x",
         "y": [
          "AUDI"
         ],
         "yaxis": "y"
        },
        {
         "alignmentgroup": "True",
         "bingroup": "y",
         "histfunc": "sum",
         "hovertemplate": "Make=%{y}<br>Model_Year=2016<br>sum of VIN (1-10)=%{x}<extra></extra>",
         "legendgroup": "BMW",
         "marker": {
          "color": "#ab63fa",
          "pattern": {
           "shape": ""
          }
         },
         "name": "BMW",
         "offsetgroup": "BMW",
         "orientation": "h",
         "showlegend": true,
         "type": "histogram",
         "x": [
          383
         ],
         "xaxis": "x",
         "y": [
          "BMW"
         ],
         "yaxis": "y"
        },
        {
         "alignmentgroup": "True",
         "bingroup": "y",
         "histfunc": "sum",
         "hovertemplate": "Make=%{y}<br>Model_Year=2016<br>sum of VIN (1-10)=%{x}<extra></extra>",
         "legendgroup": "CADILLAC",
         "marker": {
          "color": "#FFA15A",
          "pattern": {
           "shape": ""
          }
         },
         "name": "CADILLAC",
         "offsetgroup": "CADILLAC",
         "orientation": "h",
         "showlegend": true,
         "type": "histogram",
         "x": [
          18
         ],
         "xaxis": "x",
         "y": [
          "CADILLAC"
         ],
         "yaxis": "y"
        },
        {
         "alignmentgroup": "True",
         "bingroup": "y",
         "histfunc": "sum",
         "hovertemplate": "Make=%{y}<br>Model_Year=2016<br>sum of VIN (1-10)=%{x}<extra></extra>",
         "legendgroup": "CHEVROLET",
         "marker": {
          "color": "#19d3f3",
          "pattern": {
           "shape": ""
          }
         },
         "name": "CHEVROLET",
         "offsetgroup": "CHEVROLET",
         "orientation": "h",
         "showlegend": true,
         "type": "histogram",
         "x": [
          309
         ],
         "xaxis": "x",
         "y": [
          "CHEVROLET"
         ],
         "yaxis": "y"
        },
        {
         "alignmentgroup": "True",
         "bingroup": "y",
         "histfunc": "sum",
         "hovertemplate": "Make=%{y}<br>Model_Year=2016<br>sum of VIN (1-10)=%{x}<extra></extra>",
         "legendgroup": "FIAT",
         "marker": {
          "color": "#B6E880",
          "pattern": {
           "shape": ""
          }
         },
         "name": "FIAT",
         "offsetgroup": "FIAT",
         "orientation": "h",
         "showlegend": true,
         "type": "histogram",
         "x": [
          148
         ],
         "xaxis": "x",
         "y": [
          "FIAT"
         ],
         "yaxis": "y"
        },
        {
         "alignmentgroup": "True",
         "bingroup": "y",
         "histfunc": "sum",
         "hovertemplate": "Make=%{y}<br>Model_Year=2016<br>sum of VIN (1-10)=%{x}<extra></extra>",
         "legendgroup": "FORD",
         "marker": {
          "color": "#FECB52",
          "pattern": {
           "shape": ""
          }
         },
         "name": "FORD",
         "offsetgroup": "FORD",
         "orientation": "h",
         "showlegend": true,
         "type": "histogram",
         "x": [
          777
         ],
         "xaxis": "x",
         "y": [
          "FORD"
         ],
         "yaxis": "y"
        },
        {
         "alignmentgroup": "True",
         "bingroup": "y",
         "histfunc": "sum",
         "hovertemplate": "Make=%{y}<br>Model_Year=2016<br>sum of VIN (1-10)=%{x}<extra></extra>",
         "legendgroup": "HYUNDAI",
         "marker": {
          "color": "#00cc96",
          "pattern": {
           "shape": ""
          }
         },
         "name": "HYUNDAI",
         "offsetgroup": "HYUNDAI",
         "orientation": "h",
         "showlegend": true,
         "type": "histogram",
         "x": [
          44
         ],
         "xaxis": "x",
         "y": [
          "HYUNDAI"
         ],
         "yaxis": "y"
        },
        {
         "alignmentgroup": "True",
         "bingroup": "y",
         "histfunc": "sum",
         "hovertemplate": "Make=%{y}<br>Model_Year=2016<br>sum of VIN (1-10)=%{x}<extra></extra>",
         "legendgroup": "KIA",
         "marker": {
          "color": "#19d3f3",
          "pattern": {
           "shape": ""
          }
         },
         "name": "KIA",
         "offsetgroup": "KIA",
         "orientation": "h",
         "showlegend": true,
         "type": "histogram",
         "x": [
          407
         ],
         "xaxis": "x",
         "y": [
          "KIA"
         ],
         "yaxis": "y"
        },
        {
         "alignmentgroup": "True",
         "bingroup": "y",
         "histfunc": "sum",
         "hovertemplate": "Make=%{y}<br>Model_Year=2016<br>sum of VIN (1-10)=%{x}<extra></extra>",
         "legendgroup": "MERCEDES-BENZ",
         "marker": {
          "color": "#636efa",
          "pattern": {
           "shape": ""
          }
         },
         "name": "MERCEDES-BENZ",
         "offsetgroup": "MERCEDES-BENZ",
         "orientation": "h",
         "showlegend": true,
         "type": "histogram",
         "x": [
          35
         ],
         "xaxis": "x",
         "y": [
          "MERCEDES-BENZ"
         ],
         "yaxis": "y"
        },
        {
         "alignmentgroup": "True",
         "bingroup": "y",
         "histfunc": "sum",
         "hovertemplate": "Make=%{y}<br>Model_Year=2016<br>sum of VIN (1-10)=%{x}<extra></extra>",
         "legendgroup": "MITSUBISHI",
         "marker": {
          "color": "#00cc96",
          "pattern": {
           "shape": ""
          }
         },
         "name": "MITSUBISHI",
         "offsetgroup": "MITSUBISHI",
         "orientation": "h",
         "showlegend": true,
         "type": "histogram",
         "x": [
          12
         ],
         "xaxis": "x",
         "y": [
          "MITSUBISHI"
         ],
         "yaxis": "y"
        },
        {
         "alignmentgroup": "True",
         "bingroup": "y",
         "histfunc": "sum",
         "hovertemplate": "Make=%{y}<br>Model_Year=2016<br>sum of VIN (1-10)=%{x}<extra></extra>",
         "legendgroup": "NISSAN",
         "marker": {
          "color": "#ab63fa",
          "pattern": {
           "shape": ""
          }
         },
         "name": "NISSAN",
         "offsetgroup": "NISSAN",
         "orientation": "h",
         "showlegend": true,
         "type": "histogram",
         "x": [
          1208
         ],
         "xaxis": "x",
         "y": [
          "NISSAN"
         ],
         "yaxis": "y"
        },
        {
         "alignmentgroup": "True",
         "bingroup": "y",
         "histfunc": "sum",
         "hovertemplate": "Make=%{y}<br>Model_Year=2016<br>sum of VIN (1-10)=%{x}<extra></extra>",
         "legendgroup": "PORSCHE",
         "marker": {
          "color": "#19d3f3",
          "pattern": {
           "shape": ""
          }
         },
         "name": "PORSCHE",
         "offsetgroup": "PORSCHE",
         "orientation": "h",
         "showlegend": true,
         "type": "histogram",
         "x": [
          78
         ],
         "xaxis": "x",
         "y": [
          "PORSCHE"
         ],
         "yaxis": "y"
        },
        {
         "alignmentgroup": "True",
         "bingroup": "y",
         "histfunc": "sum",
         "hovertemplate": "Make=%{y}<br>Model_Year=2016<br>sum of VIN (1-10)=%{x}<extra></extra>",
         "legendgroup": "SMART",
         "marker": {
          "color": "#B6E880",
          "pattern": {
           "shape": ""
          }
         },
         "name": "SMART",
         "offsetgroup": "SMART",
         "orientation": "h",
         "showlegend": true,
         "type": "histogram",
         "x": [
          31
         ],
         "xaxis": "x",
         "y": [
          "SMART"
         ],
         "yaxis": "y"
        },
        {
         "alignmentgroup": "True",
         "bingroup": "y",
         "histfunc": "sum",
         "hovertemplate": "Make=%{y}<br>Model_Year=2016<br>sum of VIN (1-10)=%{x}<extra></extra>",
         "legendgroup": "TESLA",
         "marker": {
          "color": "#FECB52",
          "pattern": {
           "shape": ""
          }
         },
         "name": "TESLA",
         "offsetgroup": "TESLA",
         "orientation": "h",
         "showlegend": true,
         "type": "histogram",
         "x": [
          1637
         ],
         "xaxis": "x",
         "y": [
          "TESLA"
         ],
         "yaxis": "y"
        },
        {
         "alignmentgroup": "True",
         "bingroup": "y",
         "histfunc": "sum",
         "hovertemplate": "Make=%{y}<br>Model_Year=2016<br>sum of VIN (1-10)=%{x}<extra></extra>",
         "legendgroup": "VOLKSWAGEN",
         "marker": {
          "color": "#00cc96",
          "pattern": {
           "shape": ""
          }
         },
         "name": "VOLKSWAGEN",
         "offsetgroup": "VOLKSWAGEN",
         "orientation": "h",
         "showlegend": true,
         "type": "histogram",
         "x": [
          319
         ],
         "xaxis": "x",
         "y": [
          "VOLKSWAGEN"
         ],
         "yaxis": "y"
        },
        {
         "alignmentgroup": "True",
         "bingroup": "y",
         "histfunc": "sum",
         "hovertemplate": "Make=%{y}<br>Model_Year=2016<br>sum of VIN (1-10)=%{x}<extra></extra>",
         "legendgroup": "VOLVO",
         "marker": {
          "color": "#ab63fa",
          "pattern": {
           "shape": ""
          }
         },
         "name": "VOLVO",
         "offsetgroup": "VOLVO",
         "orientation": "h",
         "showlegend": true,
         "type": "histogram",
         "x": [
          112
         ],
         "xaxis": "x",
         "y": [
          "VOLVO"
         ],
         "yaxis": "y"
        }
       ],
       "frames": [
        {
         "data": [
          {
           "alignmentgroup": "True",
           "bingroup": "y",
           "histfunc": "sum",
           "hovertemplate": "Make=%{y}<br>Model_Year=2016<br>sum of VIN (1-10)=%{x}<extra></extra>",
           "legendgroup": "AUDI",
           "marker": {
            "color": "#636efa",
            "pattern": {
             "shape": ""
            }
           },
           "name": "AUDI",
           "offsetgroup": "AUDI",
           "orientation": "h",
           "showlegend": true,
           "type": "histogram",
           "x": [
            214
           ],
           "xaxis": "x",
           "y": [
            "AUDI"
           ],
           "yaxis": "y"
          },
          {
           "alignmentgroup": "True",
           "bingroup": "y",
           "histfunc": "sum",
           "hovertemplate": "Make=%{y}<br>Model_Year=2016<br>sum of VIN (1-10)=%{x}<extra></extra>",
           "legendgroup": "BMW",
           "marker": {
            "color": "#ab63fa",
            "pattern": {
             "shape": ""
            }
           },
           "name": "BMW",
           "offsetgroup": "BMW",
           "orientation": "h",
           "showlegend": true,
           "type": "histogram",
           "x": [
            383
           ],
           "xaxis": "x",
           "y": [
            "BMW"
           ],
           "yaxis": "y"
          },
          {
           "alignmentgroup": "True",
           "bingroup": "y",
           "histfunc": "sum",
           "hovertemplate": "Make=%{y}<br>Model_Year=2016<br>sum of VIN (1-10)=%{x}<extra></extra>",
           "legendgroup": "CADILLAC",
           "marker": {
            "color": "#FFA15A",
            "pattern": {
             "shape": ""
            }
           },
           "name": "CADILLAC",
           "offsetgroup": "CADILLAC",
           "orientation": "h",
           "showlegend": true,
           "type": "histogram",
           "x": [
            18
           ],
           "xaxis": "x",
           "y": [
            "CADILLAC"
           ],
           "yaxis": "y"
          },
          {
           "alignmentgroup": "True",
           "bingroup": "y",
           "histfunc": "sum",
           "hovertemplate": "Make=%{y}<br>Model_Year=2016<br>sum of VIN (1-10)=%{x}<extra></extra>",
           "legendgroup": "CHEVROLET",
           "marker": {
            "color": "#19d3f3",
            "pattern": {
             "shape": ""
            }
           },
           "name": "CHEVROLET",
           "offsetgroup": "CHEVROLET",
           "orientation": "h",
           "showlegend": true,
           "type": "histogram",
           "x": [
            309
           ],
           "xaxis": "x",
           "y": [
            "CHEVROLET"
           ],
           "yaxis": "y"
          },
          {
           "alignmentgroup": "True",
           "bingroup": "y",
           "histfunc": "sum",
           "hovertemplate": "Make=%{y}<br>Model_Year=2016<br>sum of VIN (1-10)=%{x}<extra></extra>",
           "legendgroup": "FIAT",
           "marker": {
            "color": "#B6E880",
            "pattern": {
             "shape": ""
            }
           },
           "name": "FIAT",
           "offsetgroup": "FIAT",
           "orientation": "h",
           "showlegend": true,
           "type": "histogram",
           "x": [
            148
           ],
           "xaxis": "x",
           "y": [
            "FIAT"
           ],
           "yaxis": "y"
          },
          {
           "alignmentgroup": "True",
           "bingroup": "y",
           "histfunc": "sum",
           "hovertemplate": "Make=%{y}<br>Model_Year=2016<br>sum of VIN (1-10)=%{x}<extra></extra>",
           "legendgroup": "FORD",
           "marker": {
            "color": "#FECB52",
            "pattern": {
             "shape": ""
            }
           },
           "name": "FORD",
           "offsetgroup": "FORD",
           "orientation": "h",
           "showlegend": true,
           "type": "histogram",
           "x": [
            777
           ],
           "xaxis": "x",
           "y": [
            "FORD"
           ],
           "yaxis": "y"
          },
          {
           "alignmentgroup": "True",
           "bingroup": "y",
           "histfunc": "sum",
           "hovertemplate": "Make=%{y}<br>Model_Year=2016<br>sum of VIN (1-10)=%{x}<extra></extra>",
           "legendgroup": "HYUNDAI",
           "marker": {
            "color": "#00cc96",
            "pattern": {
             "shape": ""
            }
           },
           "name": "HYUNDAI",
           "offsetgroup": "HYUNDAI",
           "orientation": "h",
           "showlegend": true,
           "type": "histogram",
           "x": [
            44
           ],
           "xaxis": "x",
           "y": [
            "HYUNDAI"
           ],
           "yaxis": "y"
          },
          {
           "alignmentgroup": "True",
           "bingroup": "y",
           "histfunc": "sum",
           "hovertemplate": "Make=%{y}<br>Model_Year=2016<br>sum of VIN (1-10)=%{x}<extra></extra>",
           "legendgroup": "KIA",
           "marker": {
            "color": "#19d3f3",
            "pattern": {
             "shape": ""
            }
           },
           "name": "KIA",
           "offsetgroup": "KIA",
           "orientation": "h",
           "showlegend": true,
           "type": "histogram",
           "x": [
            407
           ],
           "xaxis": "x",
           "y": [
            "KIA"
           ],
           "yaxis": "y"
          },
          {
           "alignmentgroup": "True",
           "bingroup": "y",
           "histfunc": "sum",
           "hovertemplate": "Make=%{y}<br>Model_Year=2016<br>sum of VIN (1-10)=%{x}<extra></extra>",
           "legendgroup": "MERCEDES-BENZ",
           "marker": {
            "color": "#636efa",
            "pattern": {
             "shape": ""
            }
           },
           "name": "MERCEDES-BENZ",
           "offsetgroup": "MERCEDES-BENZ",
           "orientation": "h",
           "showlegend": true,
           "type": "histogram",
           "x": [
            35
           ],
           "xaxis": "x",
           "y": [
            "MERCEDES-BENZ"
           ],
           "yaxis": "y"
          },
          {
           "alignmentgroup": "True",
           "bingroup": "y",
           "histfunc": "sum",
           "hovertemplate": "Make=%{y}<br>Model_Year=2016<br>sum of VIN (1-10)=%{x}<extra></extra>",
           "legendgroup": "MITSUBISHI",
           "marker": {
            "color": "#00cc96",
            "pattern": {
             "shape": ""
            }
           },
           "name": "MITSUBISHI",
           "offsetgroup": "MITSUBISHI",
           "orientation": "h",
           "showlegend": true,
           "type": "histogram",
           "x": [
            12
           ],
           "xaxis": "x",
           "y": [
            "MITSUBISHI"
           ],
           "yaxis": "y"
          },
          {
           "alignmentgroup": "True",
           "bingroup": "y",
           "histfunc": "sum",
           "hovertemplate": "Make=%{y}<br>Model_Year=2016<br>sum of VIN (1-10)=%{x}<extra></extra>",
           "legendgroup": "NISSAN",
           "marker": {
            "color": "#ab63fa",
            "pattern": {
             "shape": ""
            }
           },
           "name": "NISSAN",
           "offsetgroup": "NISSAN",
           "orientation": "h",
           "showlegend": true,
           "type": "histogram",
           "x": [
            1208
           ],
           "xaxis": "x",
           "y": [
            "NISSAN"
           ],
           "yaxis": "y"
          },
          {
           "alignmentgroup": "True",
           "bingroup": "y",
           "histfunc": "sum",
           "hovertemplate": "Make=%{y}<br>Model_Year=2016<br>sum of VIN (1-10)=%{x}<extra></extra>",
           "legendgroup": "PORSCHE",
           "marker": {
            "color": "#19d3f3",
            "pattern": {
             "shape": ""
            }
           },
           "name": "PORSCHE",
           "offsetgroup": "PORSCHE",
           "orientation": "h",
           "showlegend": true,
           "type": "histogram",
           "x": [
            78
           ],
           "xaxis": "x",
           "y": [
            "PORSCHE"
           ],
           "yaxis": "y"
          },
          {
           "alignmentgroup": "True",
           "bingroup": "y",
           "histfunc": "sum",
           "hovertemplate": "Make=%{y}<br>Model_Year=2016<br>sum of VIN (1-10)=%{x}<extra></extra>",
           "legendgroup": "SMART",
           "marker": {
            "color": "#B6E880",
            "pattern": {
             "shape": ""
            }
           },
           "name": "SMART",
           "offsetgroup": "SMART",
           "orientation": "h",
           "showlegend": true,
           "type": "histogram",
           "x": [
            31
           ],
           "xaxis": "x",
           "y": [
            "SMART"
           ],
           "yaxis": "y"
          },
          {
           "alignmentgroup": "True",
           "bingroup": "y",
           "histfunc": "sum",
           "hovertemplate": "Make=%{y}<br>Model_Year=2016<br>sum of VIN (1-10)=%{x}<extra></extra>",
           "legendgroup": "TESLA",
           "marker": {
            "color": "#FECB52",
            "pattern": {
             "shape": ""
            }
           },
           "name": "TESLA",
           "offsetgroup": "TESLA",
           "orientation": "h",
           "showlegend": true,
           "type": "histogram",
           "x": [
            1637
           ],
           "xaxis": "x",
           "y": [
            "TESLA"
           ],
           "yaxis": "y"
          },
          {
           "alignmentgroup": "True",
           "bingroup": "y",
           "histfunc": "sum",
           "hovertemplate": "Make=%{y}<br>Model_Year=2016<br>sum of VIN (1-10)=%{x}<extra></extra>",
           "legendgroup": "VOLKSWAGEN",
           "marker": {
            "color": "#00cc96",
            "pattern": {
             "shape": ""
            }
           },
           "name": "VOLKSWAGEN",
           "offsetgroup": "VOLKSWAGEN",
           "orientation": "h",
           "showlegend": true,
           "type": "histogram",
           "x": [
            319
           ],
           "xaxis": "x",
           "y": [
            "VOLKSWAGEN"
           ],
           "yaxis": "y"
          },
          {
           "alignmentgroup": "True",
           "bingroup": "y",
           "histfunc": "sum",
           "hovertemplate": "Make=%{y}<br>Model_Year=2016<br>sum of VIN (1-10)=%{x}<extra></extra>",
           "legendgroup": "VOLVO",
           "marker": {
            "color": "#ab63fa",
            "pattern": {
             "shape": ""
            }
           },
           "name": "VOLVO",
           "offsetgroup": "VOLVO",
           "orientation": "h",
           "showlegend": true,
           "type": "histogram",
           "x": [
            112
           ],
           "xaxis": "x",
           "y": [
            "VOLVO"
           ],
           "yaxis": "y"
          }
         ],
         "name": "2016"
        },
        {
         "data": [
          {
           "alignmentgroup": "True",
           "bingroup": "y",
           "histfunc": "sum",
           "hovertemplate": "Make=%{y}<br>Model_Year=2017<br>sum of VIN (1-10)=%{x}<extra></extra>",
           "legendgroup": "AUDI",
           "marker": {
            "color": "#636efa",
            "pattern": {
             "shape": ""
            }
           },
           "name": "AUDI",
           "offsetgroup": "AUDI",
           "orientation": "h",
           "showlegend": true,
           "type": "histogram",
           "x": [
            187
           ],
           "xaxis": "x",
           "y": [
            "AUDI"
           ],
           "yaxis": "y"
          },
          {
           "alignmentgroup": "True",
           "bingroup": "y",
           "histfunc": "sum",
           "hovertemplate": "Make=%{y}<br>Model_Year=2017<br>sum of VIN (1-10)=%{x}<extra></extra>",
           "legendgroup": "BMW",
           "marker": {
            "color": "#ab63fa",
            "pattern": {
             "shape": ""
            }
           },
           "name": "BMW",
           "offsetgroup": "BMW",
           "orientation": "h",
           "showlegend": true,
           "type": "histogram",
           "x": [
            692
           ],
           "xaxis": "x",
           "y": [
            "BMW"
           ],
           "yaxis": "y"
          },
          {
           "alignmentgroup": "True",
           "bingroup": "y",
           "histfunc": "sum",
           "hovertemplate": "Make=%{y}<br>Model_Year=2017<br>sum of VIN (1-10)=%{x}<extra></extra>",
           "legendgroup": "CADILLAC",
           "marker": {
            "color": "#FFA15A",
            "pattern": {
             "shape": ""
            }
           },
           "name": "CADILLAC",
           "offsetgroup": "CADILLAC",
           "orientation": "h",
           "showlegend": true,
           "type": "histogram",
           "x": [
            15
           ],
           "xaxis": "x",
           "y": [
            "CADILLAC"
           ],
           "yaxis": "y"
          },
          {
           "alignmentgroup": "True",
           "bingroup": "y",
           "histfunc": "sum",
           "hovertemplate": "Make=%{y}<br>Model_Year=2017<br>sum of VIN (1-10)=%{x}<extra></extra>",
           "legendgroup": "CHEVROLET",
           "marker": {
            "color": "#19d3f3",
            "pattern": {
             "shape": ""
            }
           },
           "name": "CHEVROLET",
           "offsetgroup": "CHEVROLET",
           "orientation": "h",
           "showlegend": true,
           "type": "histogram",
           "x": [
            2744
           ],
           "xaxis": "x",
           "y": [
            "CHEVROLET"
           ],
           "yaxis": "y"
          },
          {
           "alignmentgroup": "True",
           "bingroup": "y",
           "histfunc": "sum",
           "hovertemplate": "Make=%{y}<br>Model_Year=2017<br>sum of VIN (1-10)=%{x}<extra></extra>",
           "legendgroup": "CHRYSLER",
           "marker": {
            "color": "#FF6692",
            "pattern": {
             "shape": ""
            }
           },
           "name": "CHRYSLER",
           "offsetgroup": "CHRYSLER",
           "orientation": "h",
           "showlegend": true,
           "type": "histogram",
           "x": [
            94
           ],
           "xaxis": "x",
           "y": [
            "CHRYSLER"
           ],
           "yaxis": "y"
          },
          {
           "alignmentgroup": "True",
           "bingroup": "y",
           "histfunc": "sum",
           "hovertemplate": "Make=%{y}<br>Model_Year=2017<br>sum of VIN (1-10)=%{x}<extra></extra>",
           "legendgroup": "FIAT",
           "marker": {
            "color": "#B6E880",
            "pattern": {
             "shape": ""
            }
           },
           "name": "FIAT",
           "offsetgroup": "FIAT",
           "orientation": "h",
           "showlegend": true,
           "type": "histogram",
           "x": [
            167
           ],
           "xaxis": "x",
           "y": [
            "FIAT"
           ],
           "yaxis": "y"
          },
          {
           "alignmentgroup": "True",
           "bingroup": "y",
           "histfunc": "sum",
           "hovertemplate": "Make=%{y}<br>Model_Year=2017<br>sum of VIN (1-10)=%{x}<extra></extra>",
           "legendgroup": "FORD",
           "marker": {
            "color": "#FECB52",
            "pattern": {
             "shape": ""
            }
           },
           "name": "FORD",
           "offsetgroup": "FORD",
           "orientation": "h",
           "showlegend": true,
           "type": "histogram",
           "x": [
            659
           ],
           "xaxis": "x",
           "y": [
            "FORD"
           ],
           "yaxis": "y"
          },
          {
           "alignmentgroup": "True",
           "bingroup": "y",
           "histfunc": "sum",
           "hovertemplate": "Make=%{y}<br>Model_Year=2017<br>sum of VIN (1-10)=%{x}<extra></extra>",
           "legendgroup": "HYUNDAI",
           "marker": {
            "color": "#00cc96",
            "pattern": {
             "shape": ""
            }
           },
           "name": "HYUNDAI",
           "offsetgroup": "HYUNDAI",
           "orientation": "h",
           "showlegend": true,
           "type": "histogram",
           "x": [
            46
           ],
           "xaxis": "x",
           "y": [
            "HYUNDAI"
           ],
           "yaxis": "y"
          },
          {
           "alignmentgroup": "True",
           "bingroup": "y",
           "histfunc": "sum",
           "hovertemplate": "Make=%{y}<br>Model_Year=2017<br>sum of VIN (1-10)=%{x}<extra></extra>",
           "legendgroup": "KIA",
           "marker": {
            "color": "#19d3f3",
            "pattern": {
             "shape": ""
            }
           },
           "name": "KIA",
           "offsetgroup": "KIA",
           "orientation": "h",
           "showlegend": true,
           "type": "histogram",
           "x": [
            209
           ],
           "xaxis": "x",
           "y": [
            "KIA"
           ],
           "yaxis": "y"
          },
          {
           "alignmentgroup": "True",
           "bingroup": "y",
           "histfunc": "sum",
           "hovertemplate": "Make=%{y}<br>Model_Year=2017<br>sum of VIN (1-10)=%{x}<extra></extra>",
           "legendgroup": "MERCEDES-BENZ",
           "marker": {
            "color": "#636efa",
            "pattern": {
             "shape": ""
            }
           },
           "name": "MERCEDES-BENZ",
           "offsetgroup": "MERCEDES-BENZ",
           "orientation": "h",
           "showlegend": true,
           "type": "histogram",
           "x": [
            45
           ],
           "xaxis": "x",
           "y": [
            "MERCEDES-BENZ"
           ],
           "yaxis": "y"
          },
          {
           "alignmentgroup": "True",
           "bingroup": "y",
           "histfunc": "sum",
           "hovertemplate": "Make=%{y}<br>Model_Year=2017<br>sum of VIN (1-10)=%{x}<extra></extra>",
           "legendgroup": "MITSUBISHI",
           "marker": {
            "color": "#00cc96",
            "pattern": {
             "shape": ""
            }
           },
           "name": "MITSUBISHI",
           "offsetgroup": "MITSUBISHI",
           "orientation": "h",
           "showlegend": true,
           "type": "histogram",
           "x": [
            1
           ],
           "xaxis": "x",
           "y": [
            "MITSUBISHI"
           ],
           "yaxis": "y"
          },
          {
           "alignmentgroup": "True",
           "bingroup": "y",
           "histfunc": "sum",
           "hovertemplate": "Make=%{y}<br>Model_Year=2017<br>sum of VIN (1-10)=%{x}<extra></extra>",
           "legendgroup": "NISSAN",
           "marker": {
            "color": "#ab63fa",
            "pattern": {
             "shape": ""
            }
           },
           "name": "NISSAN",
           "offsetgroup": "NISSAN",
           "orientation": "h",
           "showlegend": true,
           "type": "histogram",
           "x": [
            934
           ],
           "xaxis": "x",
           "y": [
            "NISSAN"
           ],
           "yaxis": "y"
          },
          {
           "alignmentgroup": "True",
           "bingroup": "y",
           "histfunc": "sum",
           "hovertemplate": "Make=%{y}<br>Model_Year=2017<br>sum of VIN (1-10)=%{x}<extra></extra>",
           "legendgroup": "PORSCHE",
           "marker": {
            "color": "#19d3f3",
            "pattern": {
             "shape": ""
            }
           },
           "name": "PORSCHE",
           "offsetgroup": "PORSCHE",
           "orientation": "h",
           "showlegend": true,
           "type": "histogram",
           "x": [
            71
           ],
           "xaxis": "x",
           "y": [
            "PORSCHE"
           ],
           "yaxis": "y"
          },
          {
           "alignmentgroup": "True",
           "bingroup": "y",
           "histfunc": "sum",
           "hovertemplate": "Make=%{y}<br>Model_Year=2017<br>sum of VIN (1-10)=%{x}<extra></extra>",
           "legendgroup": "SMART",
           "marker": {
            "color": "#B6E880",
            "pattern": {
             "shape": ""
            }
           },
           "name": "SMART",
           "offsetgroup": "SMART",
           "orientation": "h",
           "showlegend": true,
           "type": "histogram",
           "x": [
            34
           ],
           "xaxis": "x",
           "y": [
            "SMART"
           ],
           "yaxis": "y"
          },
          {
           "alignmentgroup": "True",
           "bingroup": "y",
           "histfunc": "sum",
           "hovertemplate": "Make=%{y}<br>Model_Year=2017<br>sum of VIN (1-10)=%{x}<extra></extra>",
           "legendgroup": "TESLA",
           "marker": {
            "color": "#FECB52",
            "pattern": {
             "shape": ""
            }
           },
           "name": "TESLA",
           "offsetgroup": "TESLA",
           "orientation": "h",
           "showlegend": true,
           "type": "histogram",
           "x": [
            1679
           ],
           "xaxis": "x",
           "y": [
            "TESLA"
           ],
           "yaxis": "y"
          },
          {
           "alignmentgroup": "True",
           "bingroup": "y",
           "histfunc": "sum",
           "hovertemplate": "Make=%{y}<br>Model_Year=2017<br>sum of VIN (1-10)=%{x}<extra></extra>",
           "legendgroup": "TOYOTA",
           "marker": {
            "color": "#EF553B",
            "pattern": {
             "shape": ""
            }
           },
           "name": "TOYOTA",
           "offsetgroup": "TOYOTA",
           "orientation": "h",
           "showlegend": true,
           "type": "histogram",
           "x": [
            898
           ],
           "xaxis": "x",
           "y": [
            "TOYOTA"
           ],
           "yaxis": "y"
          },
          {
           "alignmentgroup": "True",
           "bingroup": "y",
           "histfunc": "sum",
           "hovertemplate": "Make=%{y}<br>Model_Year=2017<br>sum of VIN (1-10)=%{x}<extra></extra>",
           "legendgroup": "VOLKSWAGEN",
           "marker": {
            "color": "#00cc96",
            "pattern": {
             "shape": ""
            }
           },
           "name": "VOLKSWAGEN",
           "offsetgroup": "VOLKSWAGEN",
           "orientation": "h",
           "showlegend": true,
           "type": "histogram",
           "x": [
            52
           ],
           "xaxis": "x",
           "y": [
            "VOLKSWAGEN"
           ],
           "yaxis": "y"
          },
          {
           "alignmentgroup": "True",
           "bingroup": "y",
           "histfunc": "sum",
           "hovertemplate": "Make=%{y}<br>Model_Year=2017<br>sum of VIN (1-10)=%{x}<extra></extra>",
           "legendgroup": "VOLVO",
           "marker": {
            "color": "#ab63fa",
            "pattern": {
             "shape": ""
            }
           },
           "name": "VOLVO",
           "offsetgroup": "VOLVO",
           "orientation": "h",
           "showlegend": true,
           "type": "histogram",
           "x": [
            115
           ],
           "xaxis": "x",
           "y": [
            "VOLVO"
           ],
           "yaxis": "y"
          }
         ],
         "name": "2017"
        },
        {
         "data": [
          {
           "alignmentgroup": "True",
           "bingroup": "y",
           "histfunc": "sum",
           "hovertemplate": "Make=%{y}<br>Model_Year=2018<br>sum of VIN (1-10)=%{x}<extra></extra>",
           "legendgroup": "AUDI",
           "marker": {
            "color": "#636efa",
            "pattern": {
             "shape": ""
            }
           },
           "name": "AUDI",
           "offsetgroup": "AUDI",
           "orientation": "h",
           "showlegend": true,
           "type": "histogram",
           "x": [
            174
           ],
           "xaxis": "x",
           "y": [
            "AUDI"
           ],
           "yaxis": "y"
          },
          {
           "alignmentgroup": "True",
           "bingroup": "y",
           "histfunc": "sum",
           "hovertemplate": "Make=%{y}<br>Model_Year=2018<br>sum of VIN (1-10)=%{x}<extra></extra>",
           "legendgroup": "BMW",
           "marker": {
            "color": "#ab63fa",
            "pattern": {
             "shape": ""
            }
           },
           "name": "BMW",
           "offsetgroup": "BMW",
           "orientation": "h",
           "showlegend": true,
           "type": "histogram",
           "x": [
            710
           ],
           "xaxis": "x",
           "y": [
            "BMW"
           ],
           "yaxis": "y"
          },
          {
           "alignmentgroup": "True",
           "bingroup": "y",
           "histfunc": "sum",
           "hovertemplate": "Make=%{y}<br>Model_Year=2018<br>sum of VIN (1-10)=%{x}<extra></extra>",
           "legendgroup": "CADILLAC",
           "marker": {
            "color": "#FFA15A",
            "pattern": {
             "shape": ""
            }
           },
           "name": "CADILLAC",
           "offsetgroup": "CADILLAC",
           "orientation": "h",
           "showlegend": true,
           "type": "histogram",
           "x": [
            17
           ],
           "xaxis": "x",
           "y": [
            "CADILLAC"
           ],
           "yaxis": "y"
          },
          {
           "alignmentgroup": "True",
           "bingroup": "y",
           "histfunc": "sum",
           "hovertemplate": "Make=%{y}<br>Model_Year=2018<br>sum of VIN (1-10)=%{x}<extra></extra>",
           "legendgroup": "CHEVROLET",
           "marker": {
            "color": "#19d3f3",
            "pattern": {
             "shape": ""
            }
           },
           "name": "CHEVROLET",
           "offsetgroup": "CHEVROLET",
           "orientation": "h",
           "showlegend": true,
           "type": "histogram",
           "x": [
            1126
           ],
           "xaxis": "x",
           "y": [
            "CHEVROLET"
           ],
           "yaxis": "y"
          },
          {
           "alignmentgroup": "True",
           "bingroup": "y",
           "histfunc": "sum",
           "hovertemplate": "Make=%{y}<br>Model_Year=2018<br>sum of VIN (1-10)=%{x}<extra></extra>",
           "legendgroup": "CHRYSLER",
           "marker": {
            "color": "#FF6692",
            "pattern": {
             "shape": ""
            }
           },
           "name": "CHRYSLER",
           "offsetgroup": "CHRYSLER",
           "orientation": "h",
           "showlegend": true,
           "type": "histogram",
           "x": [
            554
           ],
           "xaxis": "x",
           "y": [
            "CHRYSLER"
           ],
           "yaxis": "y"
          },
          {
           "alignmentgroup": "True",
           "bingroup": "y",
           "histfunc": "sum",
           "hovertemplate": "Make=%{y}<br>Model_Year=2018<br>sum of VIN (1-10)=%{x}<extra></extra>",
           "legendgroup": "FIAT",
           "marker": {
            "color": "#B6E880",
            "pattern": {
             "shape": ""
            }
           },
           "name": "FIAT",
           "offsetgroup": "FIAT",
           "orientation": "h",
           "showlegend": true,
           "type": "histogram",
           "x": [
            53
           ],
           "xaxis": "x",
           "y": [
            "FIAT"
           ],
           "yaxis": "y"
          },
          {
           "alignmentgroup": "True",
           "bingroup": "y",
           "histfunc": "sum",
           "hovertemplate": "Make=%{y}<br>Model_Year=2018<br>sum of VIN (1-10)=%{x}<extra></extra>",
           "legendgroup": "FORD",
           "marker": {
            "color": "#FECB52",
            "pattern": {
             "shape": ""
            }
           },
           "name": "FORD",
           "offsetgroup": "FORD",
           "orientation": "h",
           "showlegend": true,
           "type": "histogram",
           "x": [
            170
           ],
           "xaxis": "x",
           "y": [
            "FORD"
           ],
           "yaxis": "y"
          },
          {
           "alignmentgroup": "True",
           "bingroup": "y",
           "histfunc": "sum",
           "hovertemplate": "Make=%{y}<br>Model_Year=2018<br>sum of VIN (1-10)=%{x}<extra></extra>",
           "legendgroup": "HONDA",
           "marker": {
            "color": "#EF553B",
            "pattern": {
             "shape": ""
            }
           },
           "name": "HONDA",
           "offsetgroup": "HONDA",
           "orientation": "h",
           "showlegend": true,
           "type": "histogram",
           "x": [
            614
           ],
           "xaxis": "x",
           "y": [
            "HONDA"
           ],
           "yaxis": "y"
          },
          {
           "alignmentgroup": "True",
           "bingroup": "y",
           "histfunc": "sum",
           "hovertemplate": "Make=%{y}<br>Model_Year=2018<br>sum of VIN (1-10)=%{x}<extra></extra>",
           "legendgroup": "HYUNDAI",
           "marker": {
            "color": "#00cc96",
            "pattern": {
             "shape": ""
            }
           },
           "name": "HYUNDAI",
           "offsetgroup": "HYUNDAI",
           "orientation": "h",
           "showlegend": true,
           "type": "histogram",
           "x": [
            20
           ],
           "xaxis": "x",
           "y": [
            "HYUNDAI"
           ],
           "yaxis": "y"
          },
          {
           "alignmentgroup": "True",
           "bingroup": "y",
           "histfunc": "sum",
           "hovertemplate": "Make=%{y}<br>Model_Year=2018<br>sum of VIN (1-10)=%{x}<extra></extra>",
           "legendgroup": "KIA",
           "marker": {
            "color": "#19d3f3",
            "pattern": {
             "shape": ""
            }
           },
           "name": "KIA",
           "offsetgroup": "KIA",
           "orientation": "h",
           "showlegend": true,
           "type": "histogram",
           "x": [
            322
           ],
           "xaxis": "x",
           "y": [
            "KIA"
           ],
           "yaxis": "y"
          },
          {
           "alignmentgroup": "True",
           "bingroup": "y",
           "histfunc": "sum",
           "hovertemplate": "Make=%{y}<br>Model_Year=2018<br>sum of VIN (1-10)=%{x}<extra></extra>",
           "legendgroup": "MERCEDES-BENZ",
           "marker": {
            "color": "#636efa",
            "pattern": {
             "shape": ""
            }
           },
           "name": "MERCEDES-BENZ",
           "offsetgroup": "MERCEDES-BENZ",
           "orientation": "h",
           "showlegend": true,
           "type": "histogram",
           "x": [
            53
           ],
           "xaxis": "x",
           "y": [
            "MERCEDES-BENZ"
           ],
           "yaxis": "y"
          },
          {
           "alignmentgroup": "True",
           "bingroup": "y",
           "histfunc": "sum",
           "hovertemplate": "Make=%{y}<br>Model_Year=2018<br>sum of VIN (1-10)=%{x}<extra></extra>",
           "legendgroup": "MINI",
           "marker": {
            "color": "#EF553B",
            "pattern": {
             "shape": ""
            }
           },
           "name": "MINI",
           "offsetgroup": "MINI",
           "orientation": "h",
           "showlegend": true,
           "type": "histogram",
           "x": [
            50
           ],
           "xaxis": "x",
           "y": [
            "MINI"
           ],
           "yaxis": "y"
          },
          {
           "alignmentgroup": "True",
           "bingroup": "y",
           "histfunc": "sum",
           "hovertemplate": "Make=%{y}<br>Model_Year=2018<br>sum of VIN (1-10)=%{x}<extra></extra>",
           "legendgroup": "MITSUBISHI",
           "marker": {
            "color": "#00cc96",
            "pattern": {
             "shape": ""
            }
           },
           "name": "MITSUBISHI",
           "offsetgroup": "MITSUBISHI",
           "orientation": "h",
           "showlegend": true,
           "type": "histogram",
           "x": [
            183
           ],
           "xaxis": "x",
           "y": [
            "MITSUBISHI"
           ],
           "yaxis": "y"
          },
          {
           "alignmentgroup": "True",
           "bingroup": "y",
           "histfunc": "sum",
           "hovertemplate": "Make=%{y}<br>Model_Year=2018<br>sum of VIN (1-10)=%{x}<extra></extra>",
           "legendgroup": "NISSAN",
           "marker": {
            "color": "#ab63fa",
            "pattern": {
             "shape": ""
            }
           },
           "name": "NISSAN",
           "offsetgroup": "NISSAN",
           "orientation": "h",
           "showlegend": true,
           "type": "histogram",
           "x": [
            1232
           ],
           "xaxis": "x",
           "y": [
            "NISSAN"
           ],
           "yaxis": "y"
          },
          {
           "alignmentgroup": "True",
           "bingroup": "y",
           "histfunc": "sum",
           "hovertemplate": "Make=%{y}<br>Model_Year=2018<br>sum of VIN (1-10)=%{x}<extra></extra>",
           "legendgroup": "PORSCHE",
           "marker": {
            "color": "#19d3f3",
            "pattern": {
             "shape": ""
            }
           },
           "name": "PORSCHE",
           "offsetgroup": "PORSCHE",
           "orientation": "h",
           "showlegend": true,
           "type": "histogram",
           "x": [
            78
           ],
           "xaxis": "x",
           "y": [
            "PORSCHE"
           ],
           "yaxis": "y"
          },
          {
           "alignmentgroup": "True",
           "bingroup": "y",
           "histfunc": "sum",
           "hovertemplate": "Make=%{y}<br>Model_Year=2018<br>sum of VIN (1-10)=%{x}<extra></extra>",
           "legendgroup": "SMART",
           "marker": {
            "color": "#B6E880",
            "pattern": {
             "shape": ""
            }
           },
           "name": "SMART",
           "offsetgroup": "SMART",
           "orientation": "h",
           "showlegend": true,
           "type": "histogram",
           "x": [
            47
           ],
           "xaxis": "x",
           "y": [
            "SMART"
           ],
           "yaxis": "y"
          },
          {
           "alignmentgroup": "True",
           "bingroup": "y",
           "histfunc": "sum",
           "hovertemplate": "Make=%{y}<br>Model_Year=2018<br>sum of VIN (1-10)=%{x}<extra></extra>",
           "legendgroup": "TESLA",
           "marker": {
            "color": "#FECB52",
            "pattern": {
             "shape": ""
            }
           },
           "name": "TESLA",
           "offsetgroup": "TESLA",
           "orientation": "h",
           "showlegend": true,
           "type": "histogram",
           "x": [
            7918
           ],
           "xaxis": "x",
           "y": [
            "TESLA"
           ],
           "yaxis": "y"
          },
          {
           "alignmentgroup": "True",
           "bingroup": "y",
           "histfunc": "sum",
           "hovertemplate": "Make=%{y}<br>Model_Year=2018<br>sum of VIN (1-10)=%{x}<extra></extra>",
           "legendgroup": "TOYOTA",
           "marker": {
            "color": "#EF553B",
            "pattern": {
             "shape": ""
            }
           },
           "name": "TOYOTA",
           "offsetgroup": "TOYOTA",
           "orientation": "h",
           "showlegend": true,
           "type": "histogram",
           "x": [
            659
           ],
           "xaxis": "x",
           "y": [
            "TOYOTA"
           ],
           "yaxis": "y"
          },
          {
           "alignmentgroup": "True",
           "bingroup": "y",
           "histfunc": "sum",
           "hovertemplate": "Make=%{y}<br>Model_Year=2018<br>sum of VIN (1-10)=%{x}<extra></extra>",
           "legendgroup": "VOLKSWAGEN",
           "marker": {
            "color": "#00cc96",
            "pattern": {
             "shape": ""
            }
           },
           "name": "VOLKSWAGEN",
           "offsetgroup": "VOLKSWAGEN",
           "orientation": "h",
           "showlegend": true,
           "type": "histogram",
           "x": [
            39
           ],
           "xaxis": "x",
           "y": [
            "VOLKSWAGEN"
           ],
           "yaxis": "y"
          },
          {
           "alignmentgroup": "True",
           "bingroup": "y",
           "histfunc": "sum",
           "hovertemplate": "Make=%{y}<br>Model_Year=2018<br>sum of VIN (1-10)=%{x}<extra></extra>",
           "legendgroup": "VOLVO",
           "marker": {
            "color": "#ab63fa",
            "pattern": {
             "shape": ""
            }
           },
           "name": "VOLVO",
           "offsetgroup": "VOLVO",
           "orientation": "h",
           "showlegend": true,
           "type": "histogram",
           "x": [
            226
           ],
           "xaxis": "x",
           "y": [
            "VOLVO"
           ],
           "yaxis": "y"
          }
         ],
         "name": "2018"
        },
        {
         "data": [
          {
           "alignmentgroup": "True",
           "bingroup": "y",
           "histfunc": "sum",
           "hovertemplate": "Make=%{y}<br>Model_Year=2019<br>sum of VIN (1-10)=%{x}<extra></extra>",
           "legendgroup": "AUDI",
           "marker": {
            "color": "#636efa",
            "pattern": {
             "shape": ""
            }
           },
           "name": "AUDI",
           "offsetgroup": "AUDI",
           "orientation": "h",
           "showlegend": true,
           "type": "histogram",
           "x": [
            392
           ],
           "xaxis": "x",
           "y": [
            "AUDI"
           ],
           "yaxis": "y"
          },
          {
           "alignmentgroup": "True",
           "bingroup": "y",
           "histfunc": "sum",
           "hovertemplate": "Make=%{y}<br>Model_Year=2019<br>sum of VIN (1-10)=%{x}<extra></extra>",
           "legendgroup": "BMW",
           "marker": {
            "color": "#ab63fa",
            "pattern": {
             "shape": ""
            }
           },
           "name": "BMW",
           "offsetgroup": "BMW",
           "orientation": "h",
           "showlegend": true,
           "type": "histogram",
           "x": [
            279
           ],
           "xaxis": "x",
           "y": [
            "BMW"
           ],
           "yaxis": "y"
          },
          {
           "alignmentgroup": "True",
           "bingroup": "y",
           "histfunc": "sum",
           "hovertemplate": "Make=%{y}<br>Model_Year=2019<br>sum of VIN (1-10)=%{x}<extra></extra>",
           "legendgroup": "CHEVROLET",
           "marker": {
            "color": "#19d3f3",
            "pattern": {
             "shape": ""
            }
           },
           "name": "CHEVROLET",
           "offsetgroup": "CHEVROLET",
           "orientation": "h",
           "showlegend": true,
           "type": "histogram",
           "x": [
            966
           ],
           "xaxis": "x",
           "y": [
            "CHEVROLET"
           ],
           "yaxis": "y"
          },
          {
           "alignmentgroup": "True",
           "bingroup": "y",
           "histfunc": "sum",
           "hovertemplate": "Make=%{y}<br>Model_Year=2019<br>sum of VIN (1-10)=%{x}<extra></extra>",
           "legendgroup": "CHRYSLER",
           "marker": {
            "color": "#FF6692",
            "pattern": {
             "shape": ""
            }
           },
           "name": "CHRYSLER",
           "offsetgroup": "CHRYSLER",
           "orientation": "h",
           "showlegend": true,
           "type": "histogram",
           "x": [
            119
           ],
           "xaxis": "x",
           "y": [
            "CHRYSLER"
           ],
           "yaxis": "y"
          },
          {
           "alignmentgroup": "True",
           "bingroup": "y",
           "histfunc": "sum",
           "hovertemplate": "Make=%{y}<br>Model_Year=2019<br>sum of VIN (1-10)=%{x}<extra></extra>",
           "legendgroup": "FIAT",
           "marker": {
            "color": "#B6E880",
            "pattern": {
             "shape": ""
            }
           },
           "name": "FIAT",
           "offsetgroup": "FIAT",
           "orientation": "h",
           "showlegend": true,
           "type": "histogram",
           "x": [
            9
           ],
           "xaxis": "x",
           "y": [
            "FIAT"
           ],
           "yaxis": "y"
          },
          {
           "alignmentgroup": "True",
           "bingroup": "y",
           "histfunc": "sum",
           "hovertemplate": "Make=%{y}<br>Model_Year=2019<br>sum of VIN (1-10)=%{x}<extra></extra>",
           "legendgroup": "FORD",
           "marker": {
            "color": "#FECB52",
            "pattern": {
             "shape": ""
            }
           },
           "name": "FORD",
           "offsetgroup": "FORD",
           "orientation": "h",
           "showlegend": true,
           "type": "histogram",
           "x": [
            136
           ],
           "xaxis": "x",
           "y": [
            "FORD"
           ],
           "yaxis": "y"
          },
          {
           "alignmentgroup": "True",
           "bingroup": "y",
           "histfunc": "sum",
           "hovertemplate": "Make=%{y}<br>Model_Year=2019<br>sum of VIN (1-10)=%{x}<extra></extra>",
           "legendgroup": "HONDA",
           "marker": {
            "color": "#EF553B",
            "pattern": {
             "shape": ""
            }
           },
           "name": "HONDA",
           "offsetgroup": "HONDA",
           "orientation": "h",
           "showlegend": true,
           "type": "histogram",
           "x": [
            73
           ],
           "xaxis": "x",
           "y": [
            "HONDA"
           ],
           "yaxis": "y"
          },
          {
           "alignmentgroup": "True",
           "bingroup": "y",
           "histfunc": "sum",
           "hovertemplate": "Make=%{y}<br>Model_Year=2019<br>sum of VIN (1-10)=%{x}<extra></extra>",
           "legendgroup": "HYUNDAI",
           "marker": {
            "color": "#00cc96",
            "pattern": {
             "shape": ""
            }
           },
           "name": "HYUNDAI",
           "offsetgroup": "HYUNDAI",
           "orientation": "h",
           "showlegend": true,
           "type": "histogram",
           "x": [
            116
           ],
           "xaxis": "x",
           "y": [
            "HYUNDAI"
           ],
           "yaxis": "y"
          },
          {
           "alignmentgroup": "True",
           "bingroup": "y",
           "histfunc": "sum",
           "hovertemplate": "Make=%{y}<br>Model_Year=2019<br>sum of VIN (1-10)=%{x}<extra></extra>",
           "legendgroup": "JAGUAR",
           "marker": {
            "color": "#ab63fa",
            "pattern": {
             "shape": ""
            }
           },
           "name": "JAGUAR",
           "offsetgroup": "JAGUAR",
           "orientation": "h",
           "showlegend": true,
           "type": "histogram",
           "x": [
            120
           ],
           "xaxis": "x",
           "y": [
            "JAGUAR"
           ],
           "yaxis": "y"
          },
          {
           "alignmentgroup": "True",
           "bingroup": "y",
           "histfunc": "sum",
           "hovertemplate": "Make=%{y}<br>Model_Year=2019<br>sum of VIN (1-10)=%{x}<extra></extra>",
           "legendgroup": "KIA",
           "marker": {
            "color": "#19d3f3",
            "pattern": {
             "shape": ""
            }
           },
           "name": "KIA",
           "offsetgroup": "KIA",
           "orientation": "h",
           "showlegend": true,
           "type": "histogram",
           "x": [
            681
           ],
           "xaxis": "x",
           "y": [
            "KIA"
           ],
           "yaxis": "y"
          },
          {
           "alignmentgroup": "True",
           "bingroup": "y",
           "histfunc": "sum",
           "hovertemplate": "Make=%{y}<br>Model_Year=2019<br>sum of VIN (1-10)=%{x}<extra></extra>",
           "legendgroup": "MERCEDES-BENZ",
           "marker": {
            "color": "#636efa",
            "pattern": {
             "shape": ""
            }
           },
           "name": "MERCEDES-BENZ",
           "offsetgroup": "MERCEDES-BENZ",
           "orientation": "h",
           "showlegend": true,
           "type": "histogram",
           "x": [
            133
           ],
           "xaxis": "x",
           "y": [
            "MERCEDES-BENZ"
           ],
           "yaxis": "y"
          },
          {
           "alignmentgroup": "True",
           "bingroup": "y",
           "histfunc": "sum",
           "hovertemplate": "Make=%{y}<br>Model_Year=2019<br>sum of VIN (1-10)=%{x}<extra></extra>",
           "legendgroup": "MINI",
           "marker": {
            "color": "#EF553B",
            "pattern": {
             "shape": ""
            }
           },
           "name": "MINI",
           "offsetgroup": "MINI",
           "orientation": "h",
           "showlegend": true,
           "type": "histogram",
           "x": [
            100
           ],
           "xaxis": "x",
           "y": [
            "MINI"
           ],
           "yaxis": "y"
          },
          {
           "alignmentgroup": "True",
           "bingroup": "y",
           "histfunc": "sum",
           "hovertemplate": "Make=%{y}<br>Model_Year=2019<br>sum of VIN (1-10)=%{x}<extra></extra>",
           "legendgroup": "MITSUBISHI",
           "marker": {
            "color": "#00cc96",
            "pattern": {
             "shape": ""
            }
           },
           "name": "MITSUBISHI",
           "offsetgroup": "MITSUBISHI",
           "orientation": "h",
           "showlegend": true,
           "type": "histogram",
           "x": [
            146
           ],
           "xaxis": "x",
           "y": [
            "MITSUBISHI"
           ],
           "yaxis": "y"
          },
          {
           "alignmentgroup": "True",
           "bingroup": "y",
           "histfunc": "sum",
           "hovertemplate": "Make=%{y}<br>Model_Year=2019<br>sum of VIN (1-10)=%{x}<extra></extra>",
           "legendgroup": "NISSAN",
           "marker": {
            "color": "#ab63fa",
            "pattern": {
             "shape": ""
            }
           },
           "name": "NISSAN",
           "offsetgroup": "NISSAN",
           "orientation": "h",
           "showlegend": true,
           "type": "histogram",
           "x": [
            1408
           ],
           "xaxis": "x",
           "y": [
            "NISSAN"
           ],
           "yaxis": "y"
          },
          {
           "alignmentgroup": "True",
           "bingroup": "y",
           "histfunc": "sum",
           "hovertemplate": "Make=%{y}<br>Model_Year=2019<br>sum of VIN (1-10)=%{x}<extra></extra>",
           "legendgroup": "PORSCHE",
           "marker": {
            "color": "#19d3f3",
            "pattern": {
             "shape": ""
            }
           },
           "name": "PORSCHE",
           "offsetgroup": "PORSCHE",
           "orientation": "h",
           "showlegend": true,
           "type": "histogram",
           "x": [
            62
           ],
           "xaxis": "x",
           "y": [
            "PORSCHE"
           ],
           "yaxis": "y"
          },
          {
           "alignmentgroup": "True",
           "bingroup": "y",
           "histfunc": "sum",
           "hovertemplate": "Make=%{y}<br>Model_Year=2019<br>sum of VIN (1-10)=%{x}<extra></extra>",
           "legendgroup": "SMART",
           "marker": {
            "color": "#B6E880",
            "pattern": {
             "shape": ""
            }
           },
           "name": "SMART",
           "offsetgroup": "SMART",
           "orientation": "h",
           "showlegend": true,
           "type": "histogram",
           "x": [
            9
           ],
           "xaxis": "x",
           "y": [
            "SMART"
           ],
           "yaxis": "y"
          },
          {
           "alignmentgroup": "True",
           "bingroup": "y",
           "histfunc": "sum",
           "hovertemplate": "Make=%{y}<br>Model_Year=2019<br>sum of VIN (1-10)=%{x}<extra></extra>",
           "legendgroup": "SUBARU",
           "marker": {
            "color": "#FF97FF",
            "pattern": {
             "shape": ""
            }
           },
           "name": "SUBARU",
           "offsetgroup": "SUBARU",
           "orientation": "h",
           "showlegend": true,
           "type": "histogram",
           "x": [
            58
           ],
           "xaxis": "x",
           "y": [
            "SUBARU"
           ],
           "yaxis": "y"
          },
          {
           "alignmentgroup": "True",
           "bingroup": "y",
           "histfunc": "sum",
           "hovertemplate": "Make=%{y}<br>Model_Year=2019<br>sum of VIN (1-10)=%{x}<extra></extra>",
           "legendgroup": "TESLA",
           "marker": {
            "color": "#FECB52",
            "pattern": {
             "shape": ""
            }
           },
           "name": "TESLA",
           "offsetgroup": "TESLA",
           "orientation": "h",
           "showlegend": true,
           "type": "histogram",
           "x": [
            4583
           ],
           "xaxis": "x",
           "y": [
            "TESLA"
           ],
           "yaxis": "y"
          },
          {
           "alignmentgroup": "True",
           "bingroup": "y",
           "histfunc": "sum",
           "hovertemplate": "Make=%{y}<br>Model_Year=2019<br>sum of VIN (1-10)=%{x}<extra></extra>",
           "legendgroup": "TOYOTA",
           "marker": {
            "color": "#EF553B",
            "pattern": {
             "shape": ""
            }
           },
           "name": "TOYOTA",
           "offsetgroup": "TOYOTA",
           "orientation": "h",
           "showlegend": true,
           "type": "histogram",
           "x": [
            190
           ],
           "xaxis": "x",
           "y": [
            "TOYOTA"
           ],
           "yaxis": "y"
          },
          {
           "alignmentgroup": "True",
           "bingroup": "y",
           "histfunc": "sum",
           "hovertemplate": "Make=%{y}<br>Model_Year=2019<br>sum of VIN (1-10)=%{x}<extra></extra>",
           "legendgroup": "VOLKSWAGEN",
           "marker": {
            "color": "#00cc96",
            "pattern": {
             "shape": ""
            }
           },
           "name": "VOLKSWAGEN",
           "offsetgroup": "VOLKSWAGEN",
           "orientation": "h",
           "showlegend": true,
           "type": "histogram",
           "x": [
            495
           ],
           "xaxis": "x",
           "y": [
            "VOLKSWAGEN"
           ],
           "yaxis": "y"
          },
          {
           "alignmentgroup": "True",
           "bingroup": "y",
           "histfunc": "sum",
           "hovertemplate": "Make=%{y}<br>Model_Year=2019<br>sum of VIN (1-10)=%{x}<extra></extra>",
           "legendgroup": "VOLVO",
           "marker": {
            "color": "#ab63fa",
            "pattern": {
             "shape": ""
            }
           },
           "name": "VOLVO",
           "offsetgroup": "VOLVO",
           "orientation": "h",
           "showlegend": true,
           "type": "histogram",
           "x": [
            190
           ],
           "xaxis": "x",
           "y": [
            "VOLVO"
           ],
           "yaxis": "y"
          }
         ],
         "name": "2019"
        },
        {
         "data": [
          {
           "alignmentgroup": "True",
           "bingroup": "y",
           "histfunc": "sum",
           "hovertemplate": "Make=%{y}<br>Model_Year=2020<br>sum of VIN (1-10)=%{x}<extra></extra>",
           "legendgroup": "AUDI",
           "marker": {
            "color": "#636efa",
            "pattern": {
             "shape": ""
            }
           },
           "name": "AUDI",
           "offsetgroup": "AUDI",
           "orientation": "h",
           "showlegend": true,
           "type": "histogram",
           "x": [
            224
           ],
           "xaxis": "x",
           "y": [
            "AUDI"
           ],
           "yaxis": "y"
          },
          {
           "alignmentgroup": "True",
           "bingroup": "y",
           "histfunc": "sum",
           "hovertemplate": "Make=%{y}<br>Model_Year=2020<br>sum of VIN (1-10)=%{x}<extra></extra>",
           "legendgroup": "BENTLEY",
           "marker": {
            "color": "#00cc96",
            "pattern": {
             "shape": ""
            }
           },
           "name": "BENTLEY",
           "offsetgroup": "BENTLEY",
           "orientation": "h",
           "showlegend": true,
           "type": "histogram",
           "x": [
            1
           ],
           "xaxis": "x",
           "y": [
            "BENTLEY"
           ],
           "yaxis": "y"
          },
          {
           "alignmentgroup": "True",
           "bingroup": "y",
           "histfunc": "sum",
           "hovertemplate": "Make=%{y}<br>Model_Year=2020<br>sum of VIN (1-10)=%{x}<extra></extra>",
           "legendgroup": "BMW",
           "marker": {
            "color": "#ab63fa",
            "pattern": {
             "shape": ""
            }
           },
           "name": "BMW",
           "offsetgroup": "BMW",
           "orientation": "h",
           "showlegend": true,
           "type": "histogram",
           "x": [
            143
           ],
           "xaxis": "x",
           "y": [
            "BMW"
           ],
           "yaxis": "y"
          },
          {
           "alignmentgroup": "True",
           "bingroup": "y",
           "histfunc": "sum",
           "hovertemplate": "Make=%{y}<br>Model_Year=2020<br>sum of VIN (1-10)=%{x}<extra></extra>",
           "legendgroup": "CHEVROLET",
           "marker": {
            "color": "#19d3f3",
            "pattern": {
             "shape": ""
            }
           },
           "name": "CHEVROLET",
           "offsetgroup": "CHEVROLET",
           "orientation": "h",
           "showlegend": true,
           "type": "histogram",
           "x": [
            1014
           ],
           "xaxis": "x",
           "y": [
            "CHEVROLET"
           ],
           "yaxis": "y"
          },
          {
           "alignmentgroup": "True",
           "bingroup": "y",
           "histfunc": "sum",
           "hovertemplate": "Make=%{y}<br>Model_Year=2020<br>sum of VIN (1-10)=%{x}<extra></extra>",
           "legendgroup": "CHRYSLER",
           "marker": {
            "color": "#FF6692",
            "pattern": {
             "shape": ""
            }
           },
           "name": "CHRYSLER",
           "offsetgroup": "CHRYSLER",
           "orientation": "h",
           "showlegend": true,
           "type": "histogram",
           "x": [
            286
           ],
           "xaxis": "x",
           "y": [
            "CHRYSLER"
           ],
           "yaxis": "y"
          },
          {
           "alignmentgroup": "True",
           "bingroup": "y",
           "histfunc": "sum",
           "hovertemplate": "Make=%{y}<br>Model_Year=2020<br>sum of VIN (1-10)=%{x}<extra></extra>",
           "legendgroup": "FORD",
           "marker": {
            "color": "#FECB52",
            "pattern": {
             "shape": ""
            }
           },
           "name": "FORD",
           "offsetgroup": "FORD",
           "orientation": "h",
           "showlegend": true,
           "type": "histogram",
           "x": [
            65
           ],
           "xaxis": "x",
           "y": [
            "FORD"
           ],
           "yaxis": "y"
          },
          {
           "alignmentgroup": "True",
           "bingroup": "y",
           "histfunc": "sum",
           "hovertemplate": "Make=%{y}<br>Model_Year=2020<br>sum of VIN (1-10)=%{x}<extra></extra>",
           "legendgroup": "HONDA",
           "marker": {
            "color": "#EF553B",
            "pattern": {
             "shape": ""
            }
           },
           "name": "HONDA",
           "offsetgroup": "HONDA",
           "orientation": "h",
           "showlegend": true,
           "type": "histogram",
           "x": [
            79
           ],
           "xaxis": "x",
           "y": [
            "HONDA"
           ],
           "yaxis": "y"
          },
          {
           "alignmentgroup": "True",
           "bingroup": "y",
           "histfunc": "sum",
           "hovertemplate": "Make=%{y}<br>Model_Year=2020<br>sum of VIN (1-10)=%{x}<extra></extra>",
           "legendgroup": "HYUNDAI",
           "marker": {
            "color": "#00cc96",
            "pattern": {
             "shape": ""
            }
           },
           "name": "HYUNDAI",
           "offsetgroup": "HYUNDAI",
           "orientation": "h",
           "showlegend": true,
           "type": "histogram",
           "x": [
            212
           ],
           "xaxis": "x",
           "y": [
            "HYUNDAI"
           ],
           "yaxis": "y"
          },
          {
           "alignmentgroup": "True",
           "bingroup": "y",
           "histfunc": "sum",
           "hovertemplate": "Make=%{y}<br>Model_Year=2020<br>sum of VIN (1-10)=%{x}<extra></extra>",
           "legendgroup": "JAGUAR",
           "marker": {
            "color": "#ab63fa",
            "pattern": {
             "shape": ""
            }
           },
           "name": "JAGUAR",
           "offsetgroup": "JAGUAR",
           "orientation": "h",
           "showlegend": true,
           "type": "histogram",
           "x": [
            74
           ],
           "xaxis": "x",
           "y": [
            "JAGUAR"
           ],
           "yaxis": "y"
          },
          {
           "alignmentgroup": "True",
           "bingroup": "y",
           "histfunc": "sum",
           "hovertemplate": "Make=%{y}<br>Model_Year=2020<br>sum of VIN (1-10)=%{x}<extra></extra>",
           "legendgroup": "KIA",
           "marker": {
            "color": "#19d3f3",
            "pattern": {
             "shape": ""
            }
           },
           "name": "KIA",
           "offsetgroup": "KIA",
           "orientation": "h",
           "showlegend": true,
           "type": "histogram",
           "x": [
            535
           ],
           "xaxis": "x",
           "y": [
            "KIA"
           ],
           "yaxis": "y"
          },
          {
           "alignmentgroup": "True",
           "bingroup": "y",
           "histfunc": "sum",
           "hovertemplate": "Make=%{y}<br>Model_Year=2020<br>sum of VIN (1-10)=%{x}<extra></extra>",
           "legendgroup": "LAND ROVER",
           "marker": {
            "color": "#FF6692",
            "pattern": {
             "shape": ""
            }
           },
           "name": "LAND ROVER",
           "offsetgroup": "LAND ROVER",
           "orientation": "h",
           "showlegend": true,
           "type": "histogram",
           "x": [
            30
           ],
           "xaxis": "x",
           "y": [
            "LAND ROVER"
           ],
           "yaxis": "y"
          },
          {
           "alignmentgroup": "True",
           "bingroup": "y",
           "histfunc": "sum",
           "hovertemplate": "Make=%{y}<br>Model_Year=2020<br>sum of VIN (1-10)=%{x}<extra></extra>",
           "legendgroup": "LINCOLN",
           "marker": {
            "color": "#FF97FF",
            "pattern": {
             "shape": ""
            }
           },
           "name": "LINCOLN",
           "offsetgroup": "LINCOLN",
           "orientation": "h",
           "showlegend": true,
           "type": "histogram",
           "x": [
            29
           ],
           "xaxis": "x",
           "y": [
            "LINCOLN"
           ],
           "yaxis": "y"
          },
          {
           "alignmentgroup": "True",
           "bingroup": "y",
           "histfunc": "sum",
           "hovertemplate": "Make=%{y}<br>Model_Year=2020<br>sum of VIN (1-10)=%{x}<extra></extra>",
           "legendgroup": "MERCEDES-BENZ",
           "marker": {
            "color": "#636efa",
            "pattern": {
             "shape": ""
            }
           },
           "name": "MERCEDES-BENZ",
           "offsetgroup": "MERCEDES-BENZ",
           "orientation": "h",
           "showlegend": true,
           "type": "histogram",
           "x": [
            32
           ],
           "xaxis": "x",
           "y": [
            "MERCEDES-BENZ"
           ],
           "yaxis": "y"
          },
          {
           "alignmentgroup": "True",
           "bingroup": "y",
           "histfunc": "sum",
           "hovertemplate": "Make=%{y}<br>Model_Year=2020<br>sum of VIN (1-10)=%{x}<extra></extra>",
           "legendgroup": "MINI",
           "marker": {
            "color": "#EF553B",
            "pattern": {
             "shape": ""
            }
           },
           "name": "MINI",
           "offsetgroup": "MINI",
           "orientation": "h",
           "showlegend": true,
           "type": "histogram",
           "x": [
            3
           ],
           "xaxis": "x",
           "y": [
            "MINI"
           ],
           "yaxis": "y"
          },
          {
           "alignmentgroup": "True",
           "bingroup": "y",
           "histfunc": "sum",
           "hovertemplate": "Make=%{y}<br>Model_Year=2020<br>sum of VIN (1-10)=%{x}<extra></extra>",
           "legendgroup": "MITSUBISHI",
           "marker": {
            "color": "#00cc96",
            "pattern": {
             "shape": ""
            }
           },
           "name": "MITSUBISHI",
           "offsetgroup": "MITSUBISHI",
           "orientation": "h",
           "showlegend": true,
           "type": "histogram",
           "x": [
            97
           ],
           "xaxis": "x",
           "y": [
            "MITSUBISHI"
           ],
           "yaxis": "y"
          },
          {
           "alignmentgroup": "True",
           "bingroup": "y",
           "histfunc": "sum",
           "hovertemplate": "Make=%{y}<br>Model_Year=2020<br>sum of VIN (1-10)=%{x}<extra></extra>",
           "legendgroup": "NISSAN",
           "marker": {
            "color": "#ab63fa",
            "pattern": {
             "shape": ""
            }
           },
           "name": "NISSAN",
           "offsetgroup": "NISSAN",
           "orientation": "h",
           "showlegend": true,
           "type": "histogram",
           "x": [
            580
           ],
           "xaxis": "x",
           "y": [
            "NISSAN"
           ],
           "yaxis": "y"
          },
          {
           "alignmentgroup": "True",
           "bingroup": "y",
           "histfunc": "sum",
           "hovertemplate": "Make=%{y}<br>Model_Year=2020<br>sum of VIN (1-10)=%{x}<extra></extra>",
           "legendgroup": "PORSCHE",
           "marker": {
            "color": "#19d3f3",
            "pattern": {
             "shape": ""
            }
           },
           "name": "PORSCHE",
           "offsetgroup": "PORSCHE",
           "orientation": "h",
           "showlegend": true,
           "type": "histogram",
           "x": [
            143
           ],
           "xaxis": "x",
           "y": [
            "PORSCHE"
           ],
           "yaxis": "y"
          },
          {
           "alignmentgroup": "True",
           "bingroup": "y",
           "histfunc": "sum",
           "hovertemplate": "Make=%{y}<br>Model_Year=2020<br>sum of VIN (1-10)=%{x}<extra></extra>",
           "legendgroup": "TESLA",
           "marker": {
            "color": "#FECB52",
            "pattern": {
             "shape": ""
            }
           },
           "name": "TESLA",
           "offsetgroup": "TESLA",
           "orientation": "h",
           "showlegend": true,
           "type": "histogram",
           "x": [
            7017
           ],
           "xaxis": "x",
           "y": [
            "TESLA"
           ],
           "yaxis": "y"
          },
          {
           "alignmentgroup": "True",
           "bingroup": "y",
           "histfunc": "sum",
           "hovertemplate": "Make=%{y}<br>Model_Year=2020<br>sum of VIN (1-10)=%{x}<extra></extra>",
           "legendgroup": "TOYOTA",
           "marker": {
            "color": "#EF553B",
            "pattern": {
             "shape": ""
            }
           },
           "name": "TOYOTA",
           "offsetgroup": "TOYOTA",
           "orientation": "h",
           "showlegend": true,
           "type": "histogram",
           "x": [
            311
           ],
           "xaxis": "x",
           "y": [
            "TOYOTA"
           ],
           "yaxis": "y"
          },
          {
           "alignmentgroup": "True",
           "bingroup": "y",
           "histfunc": "sum",
           "hovertemplate": "Make=%{y}<br>Model_Year=2020<br>sum of VIN (1-10)=%{x}<extra></extra>",
           "legendgroup": "VOLVO",
           "marker": {
            "color": "#ab63fa",
            "pattern": {
             "shape": ""
            }
           },
           "name": "VOLVO",
           "offsetgroup": "VOLVO",
           "orientation": "h",
           "showlegend": true,
           "type": "histogram",
           "x": [
            162
           ],
           "xaxis": "x",
           "y": [
            "VOLVO"
           ],
           "yaxis": "y"
          }
         ],
         "name": "2020"
        },
        {
         "data": [
          {
           "alignmentgroup": "True",
           "bingroup": "y",
           "histfunc": "sum",
           "hovertemplate": "Make=%{y}<br>Model_Year=2021<br>sum of VIN (1-10)=%{x}<extra></extra>",
           "legendgroup": "AUDI",
           "marker": {
            "color": "#636efa",
            "pattern": {
             "shape": ""
            }
           },
           "name": "AUDI",
           "offsetgroup": "AUDI",
           "orientation": "h",
           "showlegend": true,
           "type": "histogram",
           "x": [
            544
           ],
           "xaxis": "x",
           "y": [
            "AUDI"
           ],
           "yaxis": "y"
          },
          {
           "alignmentgroup": "True",
           "bingroup": "y",
           "histfunc": "sum",
           "hovertemplate": "Make=%{y}<br>Model_Year=2021<br>sum of VIN (1-10)=%{x}<extra></extra>",
           "legendgroup": "BENTLEY",
           "marker": {
            "color": "#00cc96",
            "pattern": {
             "shape": ""
            }
           },
           "name": "BENTLEY",
           "offsetgroup": "BENTLEY",
           "orientation": "h",
           "showlegend": true,
           "type": "histogram",
           "x": [
            1
           ],
           "xaxis": "x",
           "y": [
            "BENTLEY"
           ],
           "yaxis": "y"
          },
          {
           "alignmentgroup": "True",
           "bingroup": "y",
           "histfunc": "sum",
           "hovertemplate": "Make=%{y}<br>Model_Year=2021<br>sum of VIN (1-10)=%{x}<extra></extra>",
           "legendgroup": "BMW",
           "marker": {
            "color": "#ab63fa",
            "pattern": {
             "shape": ""
            }
           },
           "name": "BMW",
           "offsetgroup": "BMW",
           "orientation": "h",
           "showlegend": true,
           "type": "histogram",
           "x": [
            635
           ],
           "xaxis": "x",
           "y": [
            "BMW"
           ],
           "yaxis": "y"
          },
          {
           "alignmentgroup": "True",
           "bingroup": "y",
           "histfunc": "sum",
           "hovertemplate": "Make=%{y}<br>Model_Year=2021<br>sum of VIN (1-10)=%{x}<extra></extra>",
           "legendgroup": "CHEVROLET",
           "marker": {
            "color": "#19d3f3",
            "pattern": {
             "shape": ""
            }
           },
           "name": "CHEVROLET",
           "offsetgroup": "CHEVROLET",
           "orientation": "h",
           "showlegend": true,
           "type": "histogram",
           "x": [
            377
           ],
           "xaxis": "x",
           "y": [
            "CHEVROLET"
           ],
           "yaxis": "y"
          },
          {
           "alignmentgroup": "True",
           "bingroup": "y",
           "histfunc": "sum",
           "hovertemplate": "Make=%{y}<br>Model_Year=2021<br>sum of VIN (1-10)=%{x}<extra></extra>",
           "legendgroup": "CHRYSLER",
           "marker": {
            "color": "#FF6692",
            "pattern": {
             "shape": ""
            }
           },
           "name": "CHRYSLER",
           "offsetgroup": "CHRYSLER",
           "orientation": "h",
           "showlegend": true,
           "type": "histogram",
           "x": [
            504
           ],
           "xaxis": "x",
           "y": [
            "CHRYSLER"
           ],
           "yaxis": "y"
          },
          {
           "alignmentgroup": "True",
           "bingroup": "y",
           "histfunc": "sum",
           "hovertemplate": "Make=%{y}<br>Model_Year=2021<br>sum of VIN (1-10)=%{x}<extra></extra>",
           "legendgroup": "FORD",
           "marker": {
            "color": "#FECB52",
            "pattern": {
             "shape": ""
            }
           },
           "name": "FORD",
           "offsetgroup": "FORD",
           "orientation": "h",
           "showlegend": true,
           "type": "histogram",
           "x": [
            881
           ],
           "xaxis": "x",
           "y": [
            "FORD"
           ],
           "yaxis": "y"
          },
          {
           "alignmentgroup": "True",
           "bingroup": "y",
           "histfunc": "sum",
           "hovertemplate": "Make=%{y}<br>Model_Year=2021<br>sum of VIN (1-10)=%{x}<extra></extra>",
           "legendgroup": "HONDA",
           "marker": {
            "color": "#EF553B",
            "pattern": {
             "shape": ""
            }
           },
           "name": "HONDA",
           "offsetgroup": "HONDA",
           "orientation": "h",
           "showlegend": true,
           "type": "histogram",
           "x": [
            17
           ],
           "xaxis": "x",
           "y": [
            "HONDA"
           ],
           "yaxis": "y"
          },
          {
           "alignmentgroup": "True",
           "bingroup": "y",
           "histfunc": "sum",
           "hovertemplate": "Make=%{y}<br>Model_Year=2021<br>sum of VIN (1-10)=%{x}<extra></extra>",
           "legendgroup": "HYUNDAI",
           "marker": {
            "color": "#00cc96",
            "pattern": {
             "shape": ""
            }
           },
           "name": "HYUNDAI",
           "offsetgroup": "HYUNDAI",
           "orientation": "h",
           "showlegend": true,
           "type": "histogram",
           "x": [
            186
           ],
           "xaxis": "x",
           "y": [
            "HYUNDAI"
           ],
           "yaxis": "y"
          },
          {
           "alignmentgroup": "True",
           "bingroup": "y",
           "histfunc": "sum",
           "hovertemplate": "Make=%{y}<br>Model_Year=2021<br>sum of VIN (1-10)=%{x}<extra></extra>",
           "legendgroup": "JAGUAR",
           "marker": {
            "color": "#ab63fa",
            "pattern": {
             "shape": ""
            }
           },
           "name": "JAGUAR",
           "offsetgroup": "JAGUAR",
           "orientation": "h",
           "showlegend": true,
           "type": "histogram",
           "x": [
            6
           ],
           "xaxis": "x",
           "y": [
            "JAGUAR"
           ],
           "yaxis": "y"
          },
          {
           "alignmentgroup": "True",
           "bingroup": "y",
           "histfunc": "sum",
           "hovertemplate": "Make=%{y}<br>Model_Year=2021<br>sum of VIN (1-10)=%{x}<extra></extra>",
           "legendgroup": "JEEP",
           "marker": {
            "color": "#FFA15A",
            "pattern": {
             "shape": ""
            }
           },
           "name": "JEEP",
           "offsetgroup": "JEEP",
           "orientation": "h",
           "showlegend": true,
           "type": "histogram",
           "x": [
            628
           ],
           "xaxis": "x",
           "y": [
            "JEEP"
           ],
           "yaxis": "y"
          },
          {
           "alignmentgroup": "True",
           "bingroup": "y",
           "histfunc": "sum",
           "hovertemplate": "Make=%{y}<br>Model_Year=2021<br>sum of VIN (1-10)=%{x}<extra></extra>",
           "legendgroup": "KIA",
           "marker": {
            "color": "#19d3f3",
            "pattern": {
             "shape": ""
            }
           },
           "name": "KIA",
           "offsetgroup": "KIA",
           "orientation": "h",
           "showlegend": true,
           "type": "histogram",
           "x": [
            74
           ],
           "xaxis": "x",
           "y": [
            "KIA"
           ],
           "yaxis": "y"
          },
          {
           "alignmentgroup": "True",
           "bingroup": "y",
           "histfunc": "sum",
           "hovertemplate": "Make=%{y}<br>Model_Year=2021<br>sum of VIN (1-10)=%{x}<extra></extra>",
           "legendgroup": "LAND ROVER",
           "marker": {
            "color": "#FF6692",
            "pattern": {
             "shape": ""
            }
           },
           "name": "LAND ROVER",
           "offsetgroup": "LAND ROVER",
           "orientation": "h",
           "showlegend": true,
           "type": "histogram",
           "x": [
            8
           ],
           "xaxis": "x",
           "y": [
            "LAND ROVER"
           ],
           "yaxis": "y"
          },
          {
           "alignmentgroup": "True",
           "bingroup": "y",
           "histfunc": "sum",
           "hovertemplate": "Make=%{y}<br>Model_Year=2021<br>sum of VIN (1-10)=%{x}<extra></extra>",
           "legendgroup": "LINCOLN",
           "marker": {
            "color": "#FF97FF",
            "pattern": {
             "shape": ""
            }
           },
           "name": "LINCOLN",
           "offsetgroup": "LINCOLN",
           "orientation": "h",
           "showlegend": true,
           "type": "histogram",
           "x": [
            41
           ],
           "xaxis": "x",
           "y": [
            "LINCOLN"
           ],
           "yaxis": "y"
          },
          {
           "alignmentgroup": "True",
           "bingroup": "y",
           "histfunc": "sum",
           "hovertemplate": "Make=%{y}<br>Model_Year=2021<br>sum of VIN (1-10)=%{x}<extra></extra>",
           "legendgroup": "MINI",
           "marker": {
            "color": "#EF553B",
            "pattern": {
             "shape": ""
            }
           },
           "name": "MINI",
           "offsetgroup": "MINI",
           "orientation": "h",
           "showlegend": true,
           "type": "histogram",
           "x": [
            143
           ],
           "xaxis": "x",
           "y": [
            "MINI"
           ],
           "yaxis": "y"
          },
          {
           "alignmentgroup": "True",
           "bingroup": "y",
           "histfunc": "sum",
           "hovertemplate": "Make=%{y}<br>Model_Year=2021<br>sum of VIN (1-10)=%{x}<extra></extra>",
           "legendgroup": "MITSUBISHI",
           "marker": {
            "color": "#00cc96",
            "pattern": {
             "shape": ""
            }
           },
           "name": "MITSUBISHI",
           "offsetgroup": "MITSUBISHI",
           "orientation": "h",
           "showlegend": true,
           "type": "histogram",
           "x": [
            8
           ],
           "xaxis": "x",
           "y": [
            "MITSUBISHI"
           ],
           "yaxis": "y"
          },
          {
           "alignmentgroup": "True",
           "bingroup": "y",
           "histfunc": "sum",
           "hovertemplate": "Make=%{y}<br>Model_Year=2021<br>sum of VIN (1-10)=%{x}<extra></extra>",
           "legendgroup": "NISSAN",
           "marker": {
            "color": "#ab63fa",
            "pattern": {
             "shape": ""
            }
           },
           "name": "NISSAN",
           "offsetgroup": "NISSAN",
           "orientation": "h",
           "showlegend": true,
           "type": "histogram",
           "x": [
            534
           ],
           "xaxis": "x",
           "y": [
            "NISSAN"
           ],
           "yaxis": "y"
          },
          {
           "alignmentgroup": "True",
           "bingroup": "y",
           "histfunc": "sum",
           "hovertemplate": "Make=%{y}<br>Model_Year=2021<br>sum of VIN (1-10)=%{x}<extra></extra>",
           "legendgroup": "POLESTAR",
           "marker": {
            "color": "#FFA15A",
            "pattern": {
             "shape": ""
            }
           },
           "name": "POLESTAR",
           "offsetgroup": "POLESTAR",
           "orientation": "h",
           "showlegend": true,
           "type": "histogram",
           "x": [
            98
           ],
           "xaxis": "x",
           "y": [
            "POLESTAR"
           ],
           "yaxis": "y"
          },
          {
           "alignmentgroup": "True",
           "bingroup": "y",
           "histfunc": "sum",
           "hovertemplate": "Make=%{y}<br>Model_Year=2021<br>sum of VIN (1-10)=%{x}<extra></extra>",
           "legendgroup": "PORSCHE",
           "marker": {
            "color": "#19d3f3",
            "pattern": {
             "shape": ""
            }
           },
           "name": "PORSCHE",
           "offsetgroup": "PORSCHE",
           "orientation": "h",
           "showlegend": true,
           "type": "histogram",
           "x": [
            145
           ],
           "xaxis": "x",
           "y": [
            "PORSCHE"
           ],
           "yaxis": "y"
          },
          {
           "alignmentgroup": "True",
           "bingroup": "y",
           "histfunc": "sum",
           "hovertemplate": "Make=%{y}<br>Model_Year=2021<br>sum of VIN (1-10)=%{x}<extra></extra>",
           "legendgroup": "TESLA",
           "marker": {
            "color": "#FECB52",
            "pattern": {
             "shape": ""
            }
           },
           "name": "TESLA",
           "offsetgroup": "TESLA",
           "orientation": "h",
           "showlegend": true,
           "type": "histogram",
           "x": [
            11028
           ],
           "xaxis": "x",
           "y": [
            "TESLA"
           ],
           "yaxis": "y"
          },
          {
           "alignmentgroup": "True",
           "bingroup": "y",
           "histfunc": "sum",
           "hovertemplate": "Make=%{y}<br>Model_Year=2021<br>sum of VIN (1-10)=%{x}<extra></extra>",
           "legendgroup": "TOYOTA",
           "marker": {
            "color": "#EF553B",
            "pattern": {
             "shape": ""
            }
           },
           "name": "TOYOTA",
           "offsetgroup": "TOYOTA",
           "orientation": "h",
           "showlegend": true,
           "type": "histogram",
           "x": [
            935
           ],
           "xaxis": "x",
           "y": [
            "TOYOTA"
           ],
           "yaxis": "y"
          },
          {
           "alignmentgroup": "True",
           "bingroup": "y",
           "histfunc": "sum",
           "hovertemplate": "Make=%{y}<br>Model_Year=2021<br>sum of VIN (1-10)=%{x}<extra></extra>",
           "legendgroup": "VOLKSWAGEN",
           "marker": {
            "color": "#00cc96",
            "pattern": {
             "shape": ""
            }
           },
           "name": "VOLKSWAGEN",
           "offsetgroup": "VOLKSWAGEN",
           "orientation": "h",
           "showlegend": true,
           "type": "histogram",
           "x": [
            988
           ],
           "xaxis": "x",
           "y": [
            "VOLKSWAGEN"
           ],
           "yaxis": "y"
          },
          {
           "alignmentgroup": "True",
           "bingroup": "y",
           "histfunc": "sum",
           "hovertemplate": "Make=%{y}<br>Model_Year=2021<br>sum of VIN (1-10)=%{x}<extra></extra>",
           "legendgroup": "VOLVO",
           "marker": {
            "color": "#ab63fa",
            "pattern": {
             "shape": ""
            }
           },
           "name": "VOLVO",
           "offsetgroup": "VOLVO",
           "orientation": "h",
           "showlegend": true,
           "type": "histogram",
           "x": [
            580
           ],
           "xaxis": "x",
           "y": [
            "VOLVO"
           ],
           "yaxis": "y"
          }
         ],
         "name": "2021"
        },
        {
         "data": [
          {
           "alignmentgroup": "True",
           "bingroup": "y",
           "histfunc": "sum",
           "hovertemplate": "Make=%{y}<br>Model_Year=2022<br>sum of VIN (1-10)=%{x}<extra></extra>",
           "legendgroup": "AUDI",
           "marker": {
            "color": "#636efa",
            "pattern": {
             "shape": ""
            }
           },
           "name": "AUDI",
           "offsetgroup": "AUDI",
           "orientation": "h",
           "showlegend": true,
           "type": "histogram",
           "x": [
            585
           ],
           "xaxis": "x",
           "y": [
            "AUDI"
           ],
           "yaxis": "y"
          },
          {
           "alignmentgroup": "True",
           "bingroup": "y",
           "histfunc": "sum",
           "hovertemplate": "Make=%{y}<br>Model_Year=2022<br>sum of VIN (1-10)=%{x}<extra></extra>",
           "legendgroup": "BENTLEY",
           "marker": {
            "color": "#00cc96",
            "pattern": {
             "shape": ""
            }
           },
           "name": "BENTLEY",
           "offsetgroup": "BENTLEY",
           "orientation": "h",
           "showlegend": true,
           "type": "histogram",
           "x": [
            1
           ],
           "xaxis": "x",
           "y": [
            "BENTLEY"
           ],
           "yaxis": "y"
          },
          {
           "alignmentgroup": "True",
           "bingroup": "y",
           "histfunc": "sum",
           "hovertemplate": "Make=%{y}<br>Model_Year=2022<br>sum of VIN (1-10)=%{x}<extra></extra>",
           "legendgroup": "BMW",
           "marker": {
            "color": "#ab63fa",
            "pattern": {
             "shape": ""
            }
           },
           "name": "BMW",
           "offsetgroup": "BMW",
           "orientation": "h",
           "showlegend": true,
           "type": "histogram",
           "x": [
            905
           ],
           "xaxis": "x",
           "y": [
            "BMW"
           ],
           "yaxis": "y"
          },
          {
           "alignmentgroup": "True",
           "bingroup": "y",
           "histfunc": "sum",
           "hovertemplate": "Make=%{y}<br>Model_Year=2022<br>sum of VIN (1-10)=%{x}<extra></extra>",
           "legendgroup": "CHEVROLET",
           "marker": {
            "color": "#19d3f3",
            "pattern": {
             "shape": ""
            }
           },
           "name": "CHEVROLET",
           "offsetgroup": "CHEVROLET",
           "orientation": "h",
           "showlegend": true,
           "type": "histogram",
           "x": [
            891
           ],
           "xaxis": "x",
           "y": [
            "CHEVROLET"
           ],
           "yaxis": "y"
          },
          {
           "alignmentgroup": "True",
           "bingroup": "y",
           "histfunc": "sum",
           "hovertemplate": "Make=%{y}<br>Model_Year=2022<br>sum of VIN (1-10)=%{x}<extra></extra>",
           "legendgroup": "CHRYSLER",
           "marker": {
            "color": "#FF6692",
            "pattern": {
             "shape": ""
            }
           },
           "name": "CHRYSLER",
           "offsetgroup": "CHRYSLER",
           "orientation": "h",
           "showlegend": true,
           "type": "histogram",
           "x": [
            237
           ],
           "xaxis": "x",
           "y": [
            "CHRYSLER"
           ],
           "yaxis": "y"
          },
          {
           "alignmentgroup": "True",
           "bingroup": "y",
           "histfunc": "sum",
           "hovertemplate": "Make=%{y}<br>Model_Year=2022<br>sum of VIN (1-10)=%{x}<extra></extra>",
           "legendgroup": "FORD",
           "marker": {
            "color": "#FECB52",
            "pattern": {
             "shape": ""
            }
           },
           "name": "FORD",
           "offsetgroup": "FORD",
           "orientation": "h",
           "showlegend": true,
           "type": "histogram",
           "x": [
            1250
           ],
           "xaxis": "x",
           "y": [
            "FORD"
           ],
           "yaxis": "y"
          },
          {
           "alignmentgroup": "True",
           "bingroup": "y",
           "histfunc": "sum",
           "hovertemplate": "Make=%{y}<br>Model_Year=2022<br>sum of VIN (1-10)=%{x}<extra></extra>",
           "legendgroup": "HYUNDAI",
           "marker": {
            "color": "#00cc96",
            "pattern": {
             "shape": ""
            }
           },
           "name": "HYUNDAI",
           "offsetgroup": "HYUNDAI",
           "orientation": "h",
           "showlegend": true,
           "type": "histogram",
           "x": [
            633
           ],
           "xaxis": "x",
           "y": [
            "HYUNDAI"
           ],
           "yaxis": "y"
          },
          {
           "alignmentgroup": "True",
           "bingroup": "y",
           "histfunc": "sum",
           "hovertemplate": "Make=%{y}<br>Model_Year=2022<br>sum of VIN (1-10)=%{x}<extra></extra>",
           "legendgroup": "JAGUAR",
           "marker": {
            "color": "#ab63fa",
            "pattern": {
             "shape": ""
            }
           },
           "name": "JAGUAR",
           "offsetgroup": "JAGUAR",
           "orientation": "h",
           "showlegend": true,
           "type": "histogram",
           "x": [
            19
           ],
           "xaxis": "x",
           "y": [
            "JAGUAR"
           ],
           "yaxis": "y"
          },
          {
           "alignmentgroup": "True",
           "bingroup": "y",
           "histfunc": "sum",
           "hovertemplate": "Make=%{y}<br>Model_Year=2022<br>sum of VIN (1-10)=%{x}<extra></extra>",
           "legendgroup": "JEEP",
           "marker": {
            "color": "#FFA15A",
            "pattern": {
             "shape": ""
            }
           },
           "name": "JEEP",
           "offsetgroup": "JEEP",
           "orientation": "h",
           "showlegend": true,
           "type": "histogram",
           "x": [
            523
           ],
           "xaxis": "x",
           "y": [
            "JEEP"
           ],
           "yaxis": "y"
          },
          {
           "alignmentgroup": "True",
           "bingroup": "y",
           "histfunc": "sum",
           "hovertemplate": "Make=%{y}<br>Model_Year=2022<br>sum of VIN (1-10)=%{x}<extra></extra>",
           "legendgroup": "KIA",
           "marker": {
            "color": "#19d3f3",
            "pattern": {
             "shape": ""
            }
           },
           "name": "KIA",
           "offsetgroup": "KIA",
           "orientation": "h",
           "showlegend": true,
           "type": "histogram",
           "x": [
            2153
           ],
           "xaxis": "x",
           "y": [
            "KIA"
           ],
           "yaxis": "y"
          },
          {
           "alignmentgroup": "True",
           "bingroup": "y",
           "histfunc": "sum",
           "hovertemplate": "Make=%{y}<br>Model_Year=2022<br>sum of VIN (1-10)=%{x}<extra></extra>",
           "legendgroup": "LEXUS",
           "marker": {
            "color": "#B6E880",
            "pattern": {
             "shape": ""
            }
           },
           "name": "LEXUS",
           "offsetgroup": "LEXUS",
           "orientation": "h",
           "showlegend": true,
           "type": "histogram",
           "x": [
            33
           ],
           "xaxis": "x",
           "y": [
            "LEXUS"
           ],
           "yaxis": "y"
          },
          {
           "alignmentgroup": "True",
           "bingroup": "y",
           "histfunc": "sum",
           "hovertemplate": "Make=%{y}<br>Model_Year=2022<br>sum of VIN (1-10)=%{x}<extra></extra>",
           "legendgroup": "LINCOLN",
           "marker": {
            "color": "#FF97FF",
            "pattern": {
             "shape": ""
            }
           },
           "name": "LINCOLN",
           "offsetgroup": "LINCOLN",
           "orientation": "h",
           "showlegend": true,
           "type": "histogram",
           "x": [
            94
           ],
           "xaxis": "x",
           "y": [
            "LINCOLN"
           ],
           "yaxis": "y"
          },
          {
           "alignmentgroup": "True",
           "bingroup": "y",
           "histfunc": "sum",
           "hovertemplate": "Make=%{y}<br>Model_Year=2022<br>sum of VIN (1-10)=%{x}<extra></extra>",
           "legendgroup": "LUCID MOTORS",
           "marker": {
            "color": "#FECB52",
            "pattern": {
             "shape": ""
            }
           },
           "name": "LUCID MOTORS",
           "offsetgroup": "LUCID MOTORS",
           "orientation": "h",
           "showlegend": true,
           "type": "histogram",
           "x": [
            65
           ],
           "xaxis": "x",
           "y": [
            "LUCID MOTORS"
           ],
           "yaxis": "y"
          },
          {
           "alignmentgroup": "True",
           "bingroup": "y",
           "histfunc": "sum",
           "hovertemplate": "Make=%{y}<br>Model_Year=2022<br>sum of VIN (1-10)=%{x}<extra></extra>",
           "legendgroup": "MERCEDES-BENZ",
           "marker": {
            "color": "#636efa",
            "pattern": {
             "shape": ""
            }
           },
           "name": "MERCEDES-BENZ",
           "offsetgroup": "MERCEDES-BENZ",
           "orientation": "h",
           "showlegend": true,
           "type": "histogram",
           "x": [
            130
           ],
           "xaxis": "x",
           "y": [
            "MERCEDES-BENZ"
           ],
           "yaxis": "y"
          },
          {
           "alignmentgroup": "True",
           "bingroup": "y",
           "histfunc": "sum",
           "hovertemplate": "Make=%{y}<br>Model_Year=2022<br>sum of VIN (1-10)=%{x}<extra></extra>",
           "legendgroup": "MINI",
           "marker": {
            "color": "#EF553B",
            "pattern": {
             "shape": ""
            }
           },
           "name": "MINI",
           "offsetgroup": "MINI",
           "orientation": "h",
           "showlegend": true,
           "type": "histogram",
           "x": [
            212
           ],
           "xaxis": "x",
           "y": [
            "MINI"
           ],
           "yaxis": "y"
          },
          {
           "alignmentgroup": "True",
           "bingroup": "y",
           "histfunc": "sum",
           "hovertemplate": "Make=%{y}<br>Model_Year=2022<br>sum of VIN (1-10)=%{x}<extra></extra>",
           "legendgroup": "MITSUBISHI",
           "marker": {
            "color": "#00cc96",
            "pattern": {
             "shape": ""
            }
           },
           "name": "MITSUBISHI",
           "offsetgroup": "MITSUBISHI",
           "orientation": "h",
           "showlegend": true,
           "type": "histogram",
           "x": [
            89
           ],
           "xaxis": "x",
           "y": [
            "MITSUBISHI"
           ],
           "yaxis": "y"
          },
          {
           "alignmentgroup": "True",
           "bingroup": "y",
           "histfunc": "sum",
           "hovertemplate": "Make=%{y}<br>Model_Year=2022<br>sum of VIN (1-10)=%{x}<extra></extra>",
           "legendgroup": "NISSAN",
           "marker": {
            "color": "#ab63fa",
            "pattern": {
             "shape": ""
            }
           },
           "name": "NISSAN",
           "offsetgroup": "NISSAN",
           "orientation": "h",
           "showlegend": true,
           "type": "histogram",
           "x": [
            970
           ],
           "xaxis": "x",
           "y": [
            "NISSAN"
           ],
           "yaxis": "y"
          },
          {
           "alignmentgroup": "True",
           "bingroup": "y",
           "histfunc": "sum",
           "hovertemplate": "Make=%{y}<br>Model_Year=2022<br>sum of VIN (1-10)=%{x}<extra></extra>",
           "legendgroup": "POLESTAR",
           "marker": {
            "color": "#FFA15A",
            "pattern": {
             "shape": ""
            }
           },
           "name": "POLESTAR",
           "offsetgroup": "POLESTAR",
           "orientation": "h",
           "showlegend": true,
           "type": "histogram",
           "x": [
            372
           ],
           "xaxis": "x",
           "y": [
            "POLESTAR"
           ],
           "yaxis": "y"
          },
          {
           "alignmentgroup": "True",
           "bingroup": "y",
           "histfunc": "sum",
           "hovertemplate": "Make=%{y}<br>Model_Year=2022<br>sum of VIN (1-10)=%{x}<extra></extra>",
           "legendgroup": "PORSCHE",
           "marker": {
            "color": "#19d3f3",
            "pattern": {
             "shape": ""
            }
           },
           "name": "PORSCHE",
           "offsetgroup": "PORSCHE",
           "orientation": "h",
           "showlegend": true,
           "type": "histogram",
           "x": [
            200
           ],
           "xaxis": "x",
           "y": [
            "PORSCHE"
           ],
           "yaxis": "y"
          },
          {
           "alignmentgroup": "True",
           "bingroup": "y",
           "histfunc": "sum",
           "hovertemplate": "Make=%{y}<br>Model_Year=2022<br>sum of VIN (1-10)=%{x}<extra></extra>",
           "legendgroup": "RIVIAN",
           "marker": {
            "color": "#FF6692",
            "pattern": {
             "shape": ""
            }
           },
           "name": "RIVIAN",
           "offsetgroup": "RIVIAN",
           "orientation": "h",
           "showlegend": true,
           "type": "histogram",
           "x": [
            885
           ],
           "xaxis": "x",
           "y": [
            "RIVIAN"
           ],
           "yaxis": "y"
          },
          {
           "alignmentgroup": "True",
           "bingroup": "y",
           "histfunc": "sum",
           "hovertemplate": "Make=%{y}<br>Model_Year=2022<br>sum of VIN (1-10)=%{x}<extra></extra>",
           "legendgroup": "TESLA",
           "marker": {
            "color": "#FECB52",
            "pattern": {
             "shape": ""
            }
           },
           "name": "TESLA",
           "offsetgroup": "TESLA",
           "orientation": "h",
           "showlegend": true,
           "type": "histogram",
           "x": [
            14548
           ],
           "xaxis": "x",
           "y": [
            "TESLA"
           ],
           "yaxis": "y"
          },
          {
           "alignmentgroup": "True",
           "bingroup": "y",
           "histfunc": "sum",
           "hovertemplate": "Make=%{y}<br>Model_Year=2022<br>sum of VIN (1-10)=%{x}<extra></extra>",
           "legendgroup": "TOYOTA",
           "marker": {
            "color": "#EF553B",
            "pattern": {
             "shape": ""
            }
           },
           "name": "TOYOTA",
           "offsetgroup": "TOYOTA",
           "orientation": "h",
           "showlegend": true,
           "type": "histogram",
           "x": [
            424
           ],
           "xaxis": "x",
           "y": [
            "TOYOTA"
           ],
           "yaxis": "y"
          },
          {
           "alignmentgroup": "True",
           "bingroup": "y",
           "histfunc": "sum",
           "hovertemplate": "Make=%{y}<br>Model_Year=2022<br>sum of VIN (1-10)=%{x}<extra></extra>",
           "legendgroup": "VOLKSWAGEN",
           "marker": {
            "color": "#00cc96",
            "pattern": {
             "shape": ""
            }
           },
           "name": "VOLKSWAGEN",
           "offsetgroup": "VOLKSWAGEN",
           "orientation": "h",
           "showlegend": true,
           "type": "histogram",
           "x": [
            428
           ],
           "xaxis": "x",
           "y": [
            "VOLKSWAGEN"
           ],
           "yaxis": "y"
          },
          {
           "alignmentgroup": "True",
           "bingroup": "y",
           "histfunc": "sum",
           "hovertemplate": "Make=%{y}<br>Model_Year=2022<br>sum of VIN (1-10)=%{x}<extra></extra>",
           "legendgroup": "VOLVO",
           "marker": {
            "color": "#ab63fa",
            "pattern": {
             "shape": ""
            }
           },
           "name": "VOLVO",
           "offsetgroup": "VOLVO",
           "orientation": "h",
           "showlegend": true,
           "type": "histogram",
           "x": [
            882
           ],
           "xaxis": "x",
           "y": [
            "VOLVO"
           ],
           "yaxis": "y"
          }
         ],
         "name": "2022"
        },
        {
         "data": [
          {
           "alignmentgroup": "True",
           "bingroup": "y",
           "histfunc": "sum",
           "hovertemplate": "Make=%{y}<br>Model_Year=2023<br>sum of VIN (1-10)=%{x}<extra></extra>",
           "legendgroup": "AUDI",
           "marker": {
            "color": "#636efa",
            "pattern": {
             "shape": ""
            }
           },
           "name": "AUDI",
           "offsetgroup": "AUDI",
           "orientation": "h",
           "showlegend": true,
           "type": "histogram",
           "x": [
            12
           ],
           "xaxis": "x",
           "y": [
            "AUDI"
           ],
           "yaxis": "y"
          },
          {
           "alignmentgroup": "True",
           "bingroup": "y",
           "histfunc": "sum",
           "hovertemplate": "Make=%{y}<br>Model_Year=2023<br>sum of VIN (1-10)=%{x}<extra></extra>",
           "legendgroup": "BMW",
           "marker": {
            "color": "#ab63fa",
            "pattern": {
             "shape": ""
            }
           },
           "name": "BMW",
           "offsetgroup": "BMW",
           "orientation": "h",
           "showlegend": true,
           "type": "histogram",
           "x": [
            73
           ],
           "xaxis": "x",
           "y": [
            "BMW"
           ],
           "yaxis": "y"
          },
          {
           "alignmentgroup": "True",
           "bingroup": "y",
           "histfunc": "sum",
           "hovertemplate": "Make=%{y}<br>Model_Year=2023<br>sum of VIN (1-10)=%{x}<extra></extra>",
           "legendgroup": "CHEVROLET",
           "marker": {
            "color": "#19d3f3",
            "pattern": {
             "shape": ""
            }
           },
           "name": "CHEVROLET",
           "offsetgroup": "CHEVROLET",
           "orientation": "h",
           "showlegend": true,
           "type": "histogram",
           "x": [
            177
           ],
           "xaxis": "x",
           "y": [
            "CHEVROLET"
           ],
           "yaxis": "y"
          },
          {
           "alignmentgroup": "True",
           "bingroup": "y",
           "histfunc": "sum",
           "hovertemplate": "Make=%{y}<br>Model_Year=2023<br>sum of VIN (1-10)=%{x}<extra></extra>",
           "legendgroup": "FORD",
           "marker": {
            "color": "#FECB52",
            "pattern": {
             "shape": ""
            }
           },
           "name": "FORD",
           "offsetgroup": "FORD",
           "orientation": "h",
           "showlegend": true,
           "type": "histogram",
           "x": [
            4
           ],
           "xaxis": "x",
           "y": [
            "FORD"
           ],
           "yaxis": "y"
          },
          {
           "alignmentgroup": "True",
           "bingroup": "y",
           "histfunc": "sum",
           "hovertemplate": "Make=%{y}<br>Model_Year=2023<br>sum of VIN (1-10)=%{x}<extra></extra>",
           "legendgroup": "GENESIS",
           "marker": {
            "color": "#636efa",
            "pattern": {
             "shape": ""
            }
           },
           "name": "GENESIS",
           "offsetgroup": "GENESIS",
           "orientation": "h",
           "showlegend": true,
           "type": "histogram",
           "x": [
            18
           ],
           "xaxis": "x",
           "y": [
            "GENESIS"
           ],
           "yaxis": "y"
          },
          {
           "alignmentgroup": "True",
           "bingroup": "y",
           "histfunc": "sum",
           "hovertemplate": "Make=%{y}<br>Model_Year=2023<br>sum of VIN (1-10)=%{x}<extra></extra>",
           "legendgroup": "HYUNDAI",
           "marker": {
            "color": "#00cc96",
            "pattern": {
             "shape": ""
            }
           },
           "name": "HYUNDAI",
           "offsetgroup": "HYUNDAI",
           "orientation": "h",
           "showlegend": true,
           "type": "histogram",
           "x": [
            154
           ],
           "xaxis": "x",
           "y": [
            "HYUNDAI"
           ],
           "yaxis": "y"
          },
          {
           "alignmentgroup": "True",
           "bingroup": "y",
           "histfunc": "sum",
           "hovertemplate": "Make=%{y}<br>Model_Year=2023<br>sum of VIN (1-10)=%{x}<extra></extra>",
           "legendgroup": "KIA",
           "marker": {
            "color": "#19d3f3",
            "pattern": {
             "shape": ""
            }
           },
           "name": "KIA",
           "offsetgroup": "KIA",
           "orientation": "h",
           "showlegend": true,
           "type": "histogram",
           "x": [
            79
           ],
           "xaxis": "x",
           "y": [
            "KIA"
           ],
           "yaxis": "y"
          },
          {
           "alignmentgroup": "True",
           "bingroup": "y",
           "histfunc": "sum",
           "hovertemplate": "Make=%{y}<br>Model_Year=2023<br>sum of VIN (1-10)=%{x}<extra></extra>",
           "legendgroup": "LINCOLN",
           "marker": {
            "color": "#FF97FF",
            "pattern": {
             "shape": ""
            }
           },
           "name": "LINCOLN",
           "offsetgroup": "LINCOLN",
           "orientation": "h",
           "showlegend": true,
           "type": "histogram",
           "x": [
            4
           ],
           "xaxis": "x",
           "y": [
            "LINCOLN"
           ],
           "yaxis": "y"
          },
          {
           "alignmentgroup": "True",
           "bingroup": "y",
           "histfunc": "sum",
           "hovertemplate": "Make=%{y}<br>Model_Year=2023<br>sum of VIN (1-10)=%{x}<extra></extra>",
           "legendgroup": "MERCEDES-BENZ",
           "marker": {
            "color": "#636efa",
            "pattern": {
             "shape": ""
            }
           },
           "name": "MERCEDES-BENZ",
           "offsetgroup": "MERCEDES-BENZ",
           "orientation": "h",
           "showlegend": true,
           "type": "histogram",
           "x": [
            23
           ],
           "xaxis": "x",
           "y": [
            "MERCEDES-BENZ"
           ],
           "yaxis": "y"
          },
          {
           "alignmentgroup": "True",
           "bingroup": "y",
           "histfunc": "sum",
           "hovertemplate": "Make=%{y}<br>Model_Year=2023<br>sum of VIN (1-10)=%{x}<extra></extra>",
           "legendgroup": "MINI",
           "marker": {
            "color": "#EF553B",
            "pattern": {
             "shape": ""
            }
           },
           "name": "MINI",
           "offsetgroup": "MINI",
           "orientation": "h",
           "showlegend": true,
           "type": "histogram",
           "x": [
            124
           ],
           "xaxis": "x",
           "y": [
            "MINI"
           ],
           "yaxis": "y"
          },
          {
           "alignmentgroup": "True",
           "bingroup": "y",
           "histfunc": "sum",
           "hovertemplate": "Make=%{y}<br>Model_Year=2023<br>sum of VIN (1-10)=%{x}<extra></extra>",
           "legendgroup": "NISSAN",
           "marker": {
            "color": "#ab63fa",
            "pattern": {
             "shape": ""
            }
           },
           "name": "NISSAN",
           "offsetgroup": "NISSAN",
           "orientation": "h",
           "showlegend": true,
           "type": "histogram",
           "x": [
            149
           ],
           "xaxis": "x",
           "y": [
            "NISSAN"
           ],
           "yaxis": "y"
          },
          {
           "alignmentgroup": "True",
           "bingroup": "y",
           "histfunc": "sum",
           "hovertemplate": "Make=%{y}<br>Model_Year=2023<br>sum of VIN (1-10)=%{x}<extra></extra>",
           "legendgroup": "POLESTAR",
           "marker": {
            "color": "#FFA15A",
            "pattern": {
             "shape": ""
            }
           },
           "name": "POLESTAR",
           "offsetgroup": "POLESTAR",
           "orientation": "h",
           "showlegend": true,
           "type": "histogram",
           "x": [
            88
           ],
           "xaxis": "x",
           "y": [
            "POLESTAR"
           ],
           "yaxis": "y"
          },
          {
           "alignmentgroup": "True",
           "bingroup": "y",
           "histfunc": "sum",
           "hovertemplate": "Make=%{y}<br>Model_Year=2023<br>sum of VIN (1-10)=%{x}<extra></extra>",
           "legendgroup": "SUBARU",
           "marker": {
            "color": "#FF97FF",
            "pattern": {
             "shape": ""
            }
           },
           "name": "SUBARU",
           "offsetgroup": "SUBARU",
           "orientation": "h",
           "showlegend": true,
           "type": "histogram",
           "x": [
            1
           ],
           "xaxis": "x",
           "y": [
            "SUBARU"
           ],
           "yaxis": "y"
          },
          {
           "alignmentgroup": "True",
           "bingroup": "y",
           "histfunc": "sum",
           "hovertemplate": "Make=%{y}<br>Model_Year=2023<br>sum of VIN (1-10)=%{x}<extra></extra>",
           "legendgroup": "TESLA",
           "marker": {
            "color": "#FECB52",
            "pattern": {
             "shape": ""
            }
           },
           "name": "TESLA",
           "offsetgroup": "TESLA",
           "orientation": "h",
           "showlegend": true,
           "type": "histogram",
           "x": [
            890
           ],
           "xaxis": "x",
           "y": [
            "TESLA"
           ],
           "yaxis": "y"
          },
          {
           "alignmentgroup": "True",
           "bingroup": "y",
           "histfunc": "sum",
           "hovertemplate": "Make=%{y}<br>Model_Year=2023<br>sum of VIN (1-10)=%{x}<extra></extra>",
           "legendgroup": "VOLKSWAGEN",
           "marker": {
            "color": "#00cc96",
            "pattern": {
             "shape": ""
            }
           },
           "name": "VOLKSWAGEN",
           "offsetgroup": "VOLKSWAGEN",
           "orientation": "h",
           "showlegend": true,
           "type": "histogram",
           "x": [
            69
           ],
           "xaxis": "x",
           "y": [
            "VOLKSWAGEN"
           ],
           "yaxis": "y"
          },
          {
           "alignmentgroup": "True",
           "bingroup": "y",
           "histfunc": "sum",
           "hovertemplate": "Make=%{y}<br>Model_Year=2023<br>sum of VIN (1-10)=%{x}<extra></extra>",
           "legendgroup": "VOLVO",
           "marker": {
            "color": "#ab63fa",
            "pattern": {
             "shape": ""
            }
           },
           "name": "VOLVO",
           "offsetgroup": "VOLVO",
           "orientation": "h",
           "showlegend": true,
           "type": "histogram",
           "x": [
            21
           ],
           "xaxis": "x",
           "y": [
            "VOLVO"
           ],
           "yaxis": "y"
          }
         ],
         "name": "2023"
        },
        {
         "data": [
          {
           "alignmentgroup": "True",
           "bingroup": "y",
           "histfunc": "sum",
           "hovertemplate": "Make=%{y}<br>Model_Year=2011<br>sum of VIN (1-10)=%{x}<extra></extra>",
           "legendgroup": "AZURE DYNAMICS",
           "marker": {
            "color": "#EF553B",
            "pattern": {
             "shape": ""
            }
           },
           "name": "AZURE DYNAMICS",
           "offsetgroup": "AZURE DYNAMICS",
           "orientation": "h",
           "showlegend": true,
           "type": "histogram",
           "x": [
            4
           ],
           "xaxis": "x",
           "y": [
            "AZURE DYNAMICS"
           ],
           "yaxis": "y"
          },
          {
           "alignmentgroup": "True",
           "bingroup": "y",
           "histfunc": "sum",
           "hovertemplate": "Make=%{y}<br>Model_Year=2011<br>sum of VIN (1-10)=%{x}<extra></extra>",
           "legendgroup": "CHEVROLET",
           "marker": {
            "color": "#19d3f3",
            "pattern": {
             "shape": ""
            }
           },
           "name": "CHEVROLET",
           "offsetgroup": "CHEVROLET",
           "orientation": "h",
           "showlegend": true,
           "type": "histogram",
           "x": [
            71
           ],
           "xaxis": "x",
           "y": [
            "CHEVROLET"
           ],
           "yaxis": "y"
          },
          {
           "alignmentgroup": "True",
           "bingroup": "y",
           "histfunc": "sum",
           "hovertemplate": "Make=%{y}<br>Model_Year=2011<br>sum of VIN (1-10)=%{x}<extra></extra>",
           "legendgroup": "NISSAN",
           "marker": {
            "color": "#ab63fa",
            "pattern": {
             "shape": ""
            }
           },
           "name": "NISSAN",
           "offsetgroup": "NISSAN",
           "orientation": "h",
           "showlegend": true,
           "type": "histogram",
           "x": [
            753
           ],
           "xaxis": "x",
           "y": [
            "NISSAN"
           ],
           "yaxis": "y"
          },
          {
           "alignmentgroup": "True",
           "bingroup": "y",
           "histfunc": "sum",
           "hovertemplate": "Make=%{y}<br>Model_Year=2011<br>sum of VIN (1-10)=%{x}<extra></extra>",
           "legendgroup": "TESLA",
           "marker": {
            "color": "#FECB52",
            "pattern": {
             "shape": ""
            }
           },
           "name": "TESLA",
           "offsetgroup": "TESLA",
           "orientation": "h",
           "showlegend": true,
           "type": "histogram",
           "x": [
            7
           ],
           "xaxis": "x",
           "y": [
            "TESLA"
           ],
           "yaxis": "y"
          },
          {
           "alignmentgroup": "True",
           "bingroup": "y",
           "histfunc": "sum",
           "hovertemplate": "Make=%{y}<br>Model_Year=2011<br>sum of VIN (1-10)=%{x}<extra></extra>",
           "legendgroup": "TH!NK",
           "marker": {
            "color": "#636efa",
            "pattern": {
             "shape": ""
            }
           },
           "name": "TH!NK",
           "offsetgroup": "TH!NK",
           "orientation": "h",
           "showlegend": true,
           "type": "histogram",
           "x": [
            3
           ],
           "xaxis": "x",
           "y": [
            "TH!NK"
           ],
           "yaxis": "y"
          }
         ],
         "name": "2011"
        },
        {
         "data": [
          {
           "alignmentgroup": "True",
           "bingroup": "y",
           "histfunc": "sum",
           "hovertemplate": "Make=%{y}<br>Model_Year=2012<br>sum of VIN (1-10)=%{x}<extra></extra>",
           "legendgroup": "AZURE DYNAMICS",
           "marker": {
            "color": "#EF553B",
            "pattern": {
             "shape": ""
            }
           },
           "name": "AZURE DYNAMICS",
           "offsetgroup": "AZURE DYNAMICS",
           "orientation": "h",
           "showlegend": true,
           "type": "histogram",
           "x": [
            3
           ],
           "xaxis": "x",
           "y": [
            "AZURE DYNAMICS"
           ],
           "yaxis": "y"
          },
          {
           "alignmentgroup": "True",
           "bingroup": "y",
           "histfunc": "sum",
           "hovertemplate": "Make=%{y}<br>Model_Year=2012<br>sum of VIN (1-10)=%{x}<extra></extra>",
           "legendgroup": "CHEVROLET",
           "marker": {
            "color": "#19d3f3",
            "pattern": {
             "shape": ""
            }
           },
           "name": "CHEVROLET",
           "offsetgroup": "CHEVROLET",
           "orientation": "h",
           "showlegend": true,
           "type": "histogram",
           "x": [
            495
           ],
           "xaxis": "x",
           "y": [
            "CHEVROLET"
           ],
           "yaxis": "y"
          },
          {
           "alignmentgroup": "True",
           "bingroup": "y",
           "histfunc": "sum",
           "hovertemplate": "Make=%{y}<br>Model_Year=2012<br>sum of VIN (1-10)=%{x}<extra></extra>",
           "legendgroup": "FISKER",
           "marker": {
            "color": "#FF97FF",
            "pattern": {
             "shape": ""
            }
           },
           "name": "FISKER",
           "offsetgroup": "FISKER",
           "orientation": "h",
           "showlegend": true,
           "type": "histogram",
           "x": [
            20
           ],
           "xaxis": "x",
           "y": [
            "FISKER"
           ],
           "yaxis": "y"
          },
          {
           "alignmentgroup": "True",
           "bingroup": "y",
           "histfunc": "sum",
           "hovertemplate": "Make=%{y}<br>Model_Year=2012<br>sum of VIN (1-10)=%{x}<extra></extra>",
           "legendgroup": "FORD",
           "marker": {
            "color": "#FECB52",
            "pattern": {
             "shape": ""
            }
           },
           "name": "FORD",
           "offsetgroup": "FORD",
           "orientation": "h",
           "showlegend": true,
           "type": "histogram",
           "x": [
            15
           ],
           "xaxis": "x",
           "y": [
            "FORD"
           ],
           "yaxis": "y"
          },
          {
           "alignmentgroup": "True",
           "bingroup": "y",
           "histfunc": "sum",
           "hovertemplate": "Make=%{y}<br>Model_Year=2012<br>sum of VIN (1-10)=%{x}<extra></extra>",
           "legendgroup": "MITSUBISHI",
           "marker": {
            "color": "#00cc96",
            "pattern": {
             "shape": ""
            }
           },
           "name": "MITSUBISHI",
           "offsetgroup": "MITSUBISHI",
           "orientation": "h",
           "showlegend": true,
           "type": "histogram",
           "x": [
            42
           ],
           "xaxis": "x",
           "y": [
            "MITSUBISHI"
           ],
           "yaxis": "y"
          },
          {
           "alignmentgroup": "True",
           "bingroup": "y",
           "histfunc": "sum",
           "hovertemplate": "Make=%{y}<br>Model_Year=2012<br>sum of VIN (1-10)=%{x}<extra></extra>",
           "legendgroup": "NISSAN",
           "marker": {
            "color": "#ab63fa",
            "pattern": {
             "shape": ""
            }
           },
           "name": "NISSAN",
           "offsetgroup": "NISSAN",
           "orientation": "h",
           "showlegend": true,
           "type": "histogram",
           "x": [
            608
           ],
           "xaxis": "x",
           "y": [
            "NISSAN"
           ],
           "yaxis": "y"
          },
          {
           "alignmentgroup": "True",
           "bingroup": "y",
           "histfunc": "sum",
           "hovertemplate": "Make=%{y}<br>Model_Year=2012<br>sum of VIN (1-10)=%{x}<extra></extra>",
           "legendgroup": "TESLA",
           "marker": {
            "color": "#FECB52",
            "pattern": {
             "shape": ""
            }
           },
           "name": "TESLA",
           "offsetgroup": "TESLA",
           "orientation": "h",
           "showlegend": true,
           "type": "histogram",
           "x": [
            134
           ],
           "xaxis": "x",
           "y": [
            "TESLA"
           ],
           "yaxis": "y"
          },
          {
           "alignmentgroup": "True",
           "bingroup": "y",
           "histfunc": "sum",
           "hovertemplate": "Make=%{y}<br>Model_Year=2012<br>sum of VIN (1-10)=%{x}<extra></extra>",
           "legendgroup": "TOYOTA",
           "marker": {
            "color": "#EF553B",
            "pattern": {
             "shape": ""
            }
           },
           "name": "TOYOTA",
           "offsetgroup": "TOYOTA",
           "orientation": "h",
           "showlegend": true,
           "type": "histogram",
           "x": [
            385
           ],
           "xaxis": "x",
           "y": [
            "TOYOTA"
           ],
           "yaxis": "y"
          }
         ],
         "name": "2012"
        },
        {
         "data": [
          {
           "alignmentgroup": "True",
           "bingroup": "y",
           "histfunc": "sum",
           "hovertemplate": "Make=%{y}<br>Model_Year=2014<br>sum of VIN (1-10)=%{x}<extra></extra>",
           "legendgroup": "BMW",
           "marker": {
            "color": "#ab63fa",
            "pattern": {
             "shape": ""
            }
           },
           "name": "BMW",
           "offsetgroup": "BMW",
           "orientation": "h",
           "showlegend": true,
           "type": "histogram",
           "x": [
            457
           ],
           "xaxis": "x",
           "y": [
            "BMW"
           ],
           "yaxis": "y"
          },
          {
           "alignmentgroup": "True",
           "bingroup": "y",
           "histfunc": "sum",
           "hovertemplate": "Make=%{y}<br>Model_Year=2014<br>sum of VIN (1-10)=%{x}<extra></extra>",
           "legendgroup": "CADILLAC",
           "marker": {
            "color": "#FFA15A",
            "pattern": {
             "shape": ""
            }
           },
           "name": "CADILLAC",
           "offsetgroup": "CADILLAC",
           "orientation": "h",
           "showlegend": true,
           "type": "histogram",
           "x": [
            58
           ],
           "xaxis": "x",
           "y": [
            "CADILLAC"
           ],
           "yaxis": "y"
          },
          {
           "alignmentgroup": "True",
           "bingroup": "y",
           "histfunc": "sum",
           "hovertemplate": "Make=%{y}<br>Model_Year=2014<br>sum of VIN (1-10)=%{x}<extra></extra>",
           "legendgroup": "CHEVROLET",
           "marker": {
            "color": "#19d3f3",
            "pattern": {
             "shape": ""
            }
           },
           "name": "CHEVROLET",
           "offsetgroup": "CHEVROLET",
           "orientation": "h",
           "showlegend": true,
           "type": "histogram",
           "x": [
            724
           ],
           "xaxis": "x",
           "y": [
            "CHEVROLET"
           ],
           "yaxis": "y"
          },
          {
           "alignmentgroup": "True",
           "bingroup": "y",
           "histfunc": "sum",
           "hovertemplate": "Make=%{y}<br>Model_Year=2014<br>sum of VIN (1-10)=%{x}<extra></extra>",
           "legendgroup": "FIAT",
           "marker": {
            "color": "#B6E880",
            "pattern": {
             "shape": ""
            }
           },
           "name": "FIAT",
           "offsetgroup": "FIAT",
           "orientation": "h",
           "showlegend": true,
           "type": "histogram",
           "x": [
            97
           ],
           "xaxis": "x",
           "y": [
            "FIAT"
           ],
           "yaxis": "y"
          },
          {
           "alignmentgroup": "True",
           "bingroup": "y",
           "histfunc": "sum",
           "hovertemplate": "Make=%{y}<br>Model_Year=2014<br>sum of VIN (1-10)=%{x}<extra></extra>",
           "legendgroup": "FORD",
           "marker": {
            "color": "#FECB52",
            "pattern": {
             "shape": ""
            }
           },
           "name": "FORD",
           "offsetgroup": "FORD",
           "orientation": "h",
           "showlegend": true,
           "type": "histogram",
           "x": [
            627
           ],
           "xaxis": "x",
           "y": [
            "FORD"
           ],
           "yaxis": "y"
          },
          {
           "alignmentgroup": "True",
           "bingroup": "y",
           "histfunc": "sum",
           "hovertemplate": "Make=%{y}<br>Model_Year=2014<br>sum of VIN (1-10)=%{x}<extra></extra>",
           "legendgroup": "HONDA",
           "marker": {
            "color": "#EF553B",
            "pattern": {
             "shape": ""
            }
           },
           "name": "HONDA",
           "offsetgroup": "HONDA",
           "orientation": "h",
           "showlegend": true,
           "type": "histogram",
           "x": [
            9
           ],
           "xaxis": "x",
           "y": [
            "HONDA"
           ],
           "yaxis": "y"
          },
          {
           "alignmentgroup": "True",
           "bingroup": "y",
           "histfunc": "sum",
           "hovertemplate": "Make=%{y}<br>Model_Year=2014<br>sum of VIN (1-10)=%{x}<extra></extra>",
           "legendgroup": "MERCEDES-BENZ",
           "marker": {
            "color": "#636efa",
            "pattern": {
             "shape": ""
            }
           },
           "name": "MERCEDES-BENZ",
           "offsetgroup": "MERCEDES-BENZ",
           "orientation": "h",
           "showlegend": true,
           "type": "histogram",
           "x": [
            31
           ],
           "xaxis": "x",
           "y": [
            "MERCEDES-BENZ"
           ],
           "yaxis": "y"
          },
          {
           "alignmentgroup": "True",
           "bingroup": "y",
           "histfunc": "sum",
           "hovertemplate": "Make=%{y}<br>Model_Year=2014<br>sum of VIN (1-10)=%{x}<extra></extra>",
           "legendgroup": "MITSUBISHI",
           "marker": {
            "color": "#00cc96",
            "pattern": {
             "shape": ""
            }
           },
           "name": "MITSUBISHI",
           "offsetgroup": "MITSUBISHI",
           "orientation": "h",
           "showlegend": true,
           "type": "histogram",
           "x": [
            10
           ],
           "xaxis": "x",
           "y": [
            "MITSUBISHI"
           ],
           "yaxis": "y"
          },
          {
           "alignmentgroup": "True",
           "bingroup": "y",
           "histfunc": "sum",
           "hovertemplate": "Make=%{y}<br>Model_Year=2014<br>sum of VIN (1-10)=%{x}<extra></extra>",
           "legendgroup": "NISSAN",
           "marker": {
            "color": "#ab63fa",
            "pattern": {
             "shape": ""
            }
           },
           "name": "NISSAN",
           "offsetgroup": "NISSAN",
           "orientation": "h",
           "showlegend": true,
           "type": "histogram",
           "x": [
            694
           ],
           "xaxis": "x",
           "y": [
            "NISSAN"
           ],
           "yaxis": "y"
          },
          {
           "alignmentgroup": "True",
           "bingroup": "y",
           "histfunc": "sum",
           "hovertemplate": "Make=%{y}<br>Model_Year=2014<br>sum of VIN (1-10)=%{x}<extra></extra>",
           "legendgroup": "PORSCHE",
           "marker": {
            "color": "#19d3f3",
            "pattern": {
             "shape": ""
            }
           },
           "name": "PORSCHE",
           "offsetgroup": "PORSCHE",
           "orientation": "h",
           "showlegend": true,
           "type": "histogram",
           "x": [
            8
           ],
           "xaxis": "x",
           "y": [
            "PORSCHE"
           ],
           "yaxis": "y"
          },
          {
           "alignmentgroup": "True",
           "bingroup": "y",
           "histfunc": "sum",
           "hovertemplate": "Make=%{y}<br>Model_Year=2014<br>sum of VIN (1-10)=%{x}<extra></extra>",
           "legendgroup": "SMART",
           "marker": {
            "color": "#B6E880",
            "pattern": {
             "shape": ""
            }
           },
           "name": "SMART",
           "offsetgroup": "SMART",
           "orientation": "h",
           "showlegend": true,
           "type": "histogram",
           "x": [
            71
           ],
           "xaxis": "x",
           "y": [
            "SMART"
           ],
           "yaxis": "y"
          },
          {
           "alignmentgroup": "True",
           "bingroup": "y",
           "histfunc": "sum",
           "hovertemplate": "Make=%{y}<br>Model_Year=2014<br>sum of VIN (1-10)=%{x}<extra></extra>",
           "legendgroup": "TESLA",
           "marker": {
            "color": "#FECB52",
            "pattern": {
             "shape": ""
            }
           },
           "name": "TESLA",
           "offsetgroup": "TESLA",
           "orientation": "h",
           "showlegend": true,
           "type": "histogram",
           "x": [
            683
           ],
           "xaxis": "x",
           "y": [
            "TESLA"
           ],
           "yaxis": "y"
          },
          {
           "alignmentgroup": "True",
           "bingroup": "y",
           "histfunc": "sum",
           "hovertemplate": "Make=%{y}<br>Model_Year=2014<br>sum of VIN (1-10)=%{x}<extra></extra>",
           "legendgroup": "TOYOTA",
           "marker": {
            "color": "#EF553B",
            "pattern": {
             "shape": ""
            }
           },
           "name": "TOYOTA",
           "offsetgroup": "TOYOTA",
           "orientation": "h",
           "showlegend": true,
           "type": "histogram",
           "x": [
            214
           ],
           "xaxis": "x",
           "y": [
            "TOYOTA"
           ],
           "yaxis": "y"
          }
         ],
         "name": "2014"
        },
        {
         "data": [
          {
           "alignmentgroup": "True",
           "bingroup": "y",
           "histfunc": "sum",
           "hovertemplate": "Make=%{y}<br>Model_Year=2015<br>sum of VIN (1-10)=%{x}<extra></extra>",
           "legendgroup": "BMW",
           "marker": {
            "color": "#ab63fa",
            "pattern": {
             "shape": ""
            }
           },
           "name": "BMW",
           "offsetgroup": "BMW",
           "orientation": "h",
           "showlegend": true,
           "type": "histogram",
           "x": [
            403
           ],
           "xaxis": "x",
           "y": [
            "BMW"
           ],
           "yaxis": "y"
          },
          {
           "alignmentgroup": "True",
           "bingroup": "y",
           "histfunc": "sum",
           "hovertemplate": "Make=%{y}<br>Model_Year=2015<br>sum of VIN (1-10)=%{x}<extra></extra>",
           "legendgroup": "CHEVROLET",
           "marker": {
            "color": "#19d3f3",
            "pattern": {
             "shape": ""
            }
           },
           "name": "CHEVROLET",
           "offsetgroup": "CHEVROLET",
           "orientation": "h",
           "showlegend": true,
           "type": "histogram",
           "x": [
            467
           ],
           "xaxis": "x",
           "y": [
            "CHEVROLET"
           ],
           "yaxis": "y"
          },
          {
           "alignmentgroup": "True",
           "bingroup": "y",
           "histfunc": "sum",
           "hovertemplate": "Make=%{y}<br>Model_Year=2015<br>sum of VIN (1-10)=%{x}<extra></extra>",
           "legendgroup": "FIAT",
           "marker": {
            "color": "#B6E880",
            "pattern": {
             "shape": ""
            }
           },
           "name": "FIAT",
           "offsetgroup": "FIAT",
           "orientation": "h",
           "showlegend": true,
           "type": "histogram",
           "x": [
            242
           ],
           "xaxis": "x",
           "y": [
            "FIAT"
           ],
           "yaxis": "y"
          },
          {
           "alignmentgroup": "True",
           "bingroup": "y",
           "histfunc": "sum",
           "hovertemplate": "Make=%{y}<br>Model_Year=2015<br>sum of VIN (1-10)=%{x}<extra></extra>",
           "legendgroup": "FORD",
           "marker": {
            "color": "#FECB52",
            "pattern": {
             "shape": ""
            }
           },
           "name": "FORD",
           "offsetgroup": "FORD",
           "orientation": "h",
           "showlegend": true,
           "type": "histogram",
           "x": [
            556
           ],
           "xaxis": "x",
           "y": [
            "FORD"
           ],
           "yaxis": "y"
          },
          {
           "alignmentgroup": "True",
           "bingroup": "y",
           "histfunc": "sum",
           "hovertemplate": "Make=%{y}<br>Model_Year=2015<br>sum of VIN (1-10)=%{x}<extra></extra>",
           "legendgroup": "KIA",
           "marker": {
            "color": "#19d3f3",
            "pattern": {
             "shape": ""
            }
           },
           "name": "KIA",
           "offsetgroup": "KIA",
           "orientation": "h",
           "showlegend": true,
           "type": "histogram",
           "x": [
            22
           ],
           "xaxis": "x",
           "y": [
            "KIA"
           ],
           "yaxis": "y"
          },
          {
           "alignmentgroup": "True",
           "bingroup": "y",
           "histfunc": "sum",
           "hovertemplate": "Make=%{y}<br>Model_Year=2015<br>sum of VIN (1-10)=%{x}<extra></extra>",
           "legendgroup": "MERCEDES-BENZ",
           "marker": {
            "color": "#636efa",
            "pattern": {
             "shape": ""
            }
           },
           "name": "MERCEDES-BENZ",
           "offsetgroup": "MERCEDES-BENZ",
           "orientation": "h",
           "showlegend": true,
           "type": "histogram",
           "x": [
            24
           ],
           "xaxis": "x",
           "y": [
            "MERCEDES-BENZ"
           ],
           "yaxis": "y"
          },
          {
           "alignmentgroup": "True",
           "bingroup": "y",
           "histfunc": "sum",
           "hovertemplate": "Make=%{y}<br>Model_Year=2015<br>sum of VIN (1-10)=%{x}<extra></extra>",
           "legendgroup": "NISSAN",
           "marker": {
            "color": "#ab63fa",
            "pattern": {
             "shape": ""
            }
           },
           "name": "NISSAN",
           "offsetgroup": "NISSAN",
           "orientation": "h",
           "showlegend": true,
           "type": "histogram",
           "x": [
            1839
           ],
           "xaxis": "x",
           "y": [
            "NISSAN"
           ],
           "yaxis": "y"
          },
          {
           "alignmentgroup": "True",
           "bingroup": "y",
           "histfunc": "sum",
           "hovertemplate": "Make=%{y}<br>Model_Year=2015<br>sum of VIN (1-10)=%{x}<extra></extra>",
           "legendgroup": "PORSCHE",
           "marker": {
            "color": "#19d3f3",
            "pattern": {
             "shape": ""
            }
           },
           "name": "PORSCHE",
           "offsetgroup": "PORSCHE",
           "orientation": "h",
           "showlegend": true,
           "type": "histogram",
           "x": [
            33
           ],
           "xaxis": "x",
           "y": [
            "PORSCHE"
           ],
           "yaxis": "y"
          },
          {
           "alignmentgroup": "True",
           "bingroup": "y",
           "histfunc": "sum",
           "hovertemplate": "Make=%{y}<br>Model_Year=2015<br>sum of VIN (1-10)=%{x}<extra></extra>",
           "legendgroup": "SMART",
           "marker": {
            "color": "#B6E880",
            "pattern": {
             "shape": ""
            }
           },
           "name": "SMART",
           "offsetgroup": "SMART",
           "orientation": "h",
           "showlegend": true,
           "type": "histogram",
           "x": [
            52
           ],
           "xaxis": "x",
           "y": [
            "SMART"
           ],
           "yaxis": "y"
          },
          {
           "alignmentgroup": "True",
           "bingroup": "y",
           "histfunc": "sum",
           "hovertemplate": "Make=%{y}<br>Model_Year=2015<br>sum of VIN (1-10)=%{x}<extra></extra>",
           "legendgroup": "TESLA",
           "marker": {
            "color": "#FECB52",
            "pattern": {
             "shape": ""
            }
           },
           "name": "TESLA",
           "offsetgroup": "TESLA",
           "orientation": "h",
           "showlegend": true,
           "type": "histogram",
           "x": [
            1089
           ],
           "xaxis": "x",
           "y": [
            "TESLA"
           ],
           "yaxis": "y"
          },
          {
           "alignmentgroup": "True",
           "bingroup": "y",
           "histfunc": "sum",
           "hovertemplate": "Make=%{y}<br>Model_Year=2015<br>sum of VIN (1-10)=%{x}<extra></extra>",
           "legendgroup": "TOYOTA",
           "marker": {
            "color": "#EF553B",
            "pattern": {
             "shape": ""
            }
           },
           "name": "TOYOTA",
           "offsetgroup": "TOYOTA",
           "orientation": "h",
           "showlegend": true,
           "type": "histogram",
           "x": [
            89
           ],
           "xaxis": "x",
           "y": [
            "TOYOTA"
           ],
           "yaxis": "y"
          },
          {
           "alignmentgroup": "True",
           "bingroup": "y",
           "histfunc": "sum",
           "hovertemplate": "Make=%{y}<br>Model_Year=2015<br>sum of VIN (1-10)=%{x}<extra></extra>",
           "legendgroup": "VOLKSWAGEN",
           "marker": {
            "color": "#00cc96",
            "pattern": {
             "shape": ""
            }
           },
           "name": "VOLKSWAGEN",
           "offsetgroup": "VOLKSWAGEN",
           "orientation": "h",
           "showlegend": true,
           "type": "histogram",
           "x": [
            124
           ],
           "xaxis": "x",
           "y": [
            "VOLKSWAGEN"
           ],
           "yaxis": "y"
          }
         ],
         "name": "2015"
        },
        {
         "data": [
          {
           "alignmentgroup": "True",
           "bingroup": "y",
           "histfunc": "sum",
           "hovertemplate": "Make=%{y}<br>Model_Year=1997<br>sum of VIN (1-10)=%{x}<extra></extra>",
           "legendgroup": "CHEVROLET",
           "marker": {
            "color": "#19d3f3",
            "pattern": {
             "shape": ""
            }
           },
           "name": "CHEVROLET",
           "offsetgroup": "CHEVROLET",
           "orientation": "h",
           "showlegend": true,
           "type": "histogram",
           "x": [
            1
           ],
           "xaxis": "x",
           "y": [
            "CHEVROLET"
           ],
           "yaxis": "y"
          }
         ],
         "name": "1997"
        },
        {
         "data": [
          {
           "alignmentgroup": "True",
           "bingroup": "y",
           "histfunc": "sum",
           "hovertemplate": "Make=%{y}<br>Model_Year=2013<br>sum of VIN (1-10)=%{x}<extra></extra>",
           "legendgroup": "CHEVROLET",
           "marker": {
            "color": "#19d3f3",
            "pattern": {
             "shape": ""
            }
           },
           "name": "CHEVROLET",
           "offsetgroup": "CHEVROLET",
           "orientation": "h",
           "showlegend": true,
           "type": "histogram",
           "x": [
            817
           ],
           "xaxis": "x",
           "y": [
            "CHEVROLET"
           ],
           "yaxis": "y"
          },
          {
           "alignmentgroup": "True",
           "bingroup": "y",
           "histfunc": "sum",
           "hovertemplate": "Make=%{y}<br>Model_Year=2013<br>sum of VIN (1-10)=%{x}<extra></extra>",
           "legendgroup": "FIAT",
           "marker": {
            "color": "#B6E880",
            "pattern": {
             "shape": ""
            }
           },
           "name": "FIAT",
           "offsetgroup": "FIAT",
           "orientation": "h",
           "showlegend": true,
           "type": "histogram",
           "x": [
            106
           ],
           "xaxis": "x",
           "y": [
            "FIAT"
           ],
           "yaxis": "y"
          },
          {
           "alignmentgroup": "True",
           "bingroup": "y",
           "histfunc": "sum",
           "hovertemplate": "Make=%{y}<br>Model_Year=2013<br>sum of VIN (1-10)=%{x}<extra></extra>",
           "legendgroup": "FORD",
           "marker": {
            "color": "#FECB52",
            "pattern": {
             "shape": ""
            }
           },
           "name": "FORD",
           "offsetgroup": "FORD",
           "orientation": "h",
           "showlegend": true,
           "type": "histogram",
           "x": [
            659
           ],
           "xaxis": "x",
           "y": [
            "FORD"
           ],
           "yaxis": "y"
          },
          {
           "alignmentgroup": "True",
           "bingroup": "y",
           "histfunc": "sum",
           "hovertemplate": "Make=%{y}<br>Model_Year=2013<br>sum of VIN (1-10)=%{x}<extra></extra>",
           "legendgroup": "NISSAN",
           "marker": {
            "color": "#ab63fa",
            "pattern": {
             "shape": ""
            }
           },
           "name": "NISSAN",
           "offsetgroup": "NISSAN",
           "orientation": "h",
           "showlegend": true,
           "type": "histogram",
           "x": [
            1965
           ],
           "xaxis": "x",
           "y": [
            "NISSAN"
           ],
           "yaxis": "y"
          },
          {
           "alignmentgroup": "True",
           "bingroup": "y",
           "histfunc": "sum",
           "hovertemplate": "Make=%{y}<br>Model_Year=2013<br>sum of VIN (1-10)=%{x}<extra></extra>",
           "legendgroup": "SMART",
           "marker": {
            "color": "#B6E880",
            "pattern": {
             "shape": ""
            }
           },
           "name": "SMART",
           "offsetgroup": "SMART",
           "orientation": "h",
           "showlegend": true,
           "type": "histogram",
           "x": [
            29
           ],
           "xaxis": "x",
           "y": [
            "SMART"
           ],
           "yaxis": "y"
          },
          {
           "alignmentgroup": "True",
           "bingroup": "y",
           "histfunc": "sum",
           "hovertemplate": "Make=%{y}<br>Model_Year=2013<br>sum of VIN (1-10)=%{x}<extra></extra>",
           "legendgroup": "TESLA",
           "marker": {
            "color": "#FECB52",
            "pattern": {
             "shape": ""
            }
           },
           "name": "TESLA",
           "offsetgroup": "TESLA",
           "orientation": "h",
           "showlegend": true,
           "type": "histogram",
           "x": [
            814
           ],
           "xaxis": "x",
           "y": [
            "TESLA"
           ],
           "yaxis": "y"
          },
          {
           "alignmentgroup": "True",
           "bingroup": "y",
           "histfunc": "sum",
           "hovertemplate": "Make=%{y}<br>Model_Year=2013<br>sum of VIN (1-10)=%{x}<extra></extra>",
           "legendgroup": "TOYOTA",
           "marker": {
            "color": "#EF553B",
            "pattern": {
             "shape": ""
            }
           },
           "name": "TOYOTA",
           "offsetgroup": "TOYOTA",
           "orientation": "h",
           "showlegend": true,
           "type": "histogram",
           "x": [
            296
           ],
           "xaxis": "x",
           "y": [
            "TOYOTA"
           ],
           "yaxis": "y"
          }
         ],
         "name": "2013"
        },
        {
         "data": [
          {
           "alignmentgroup": "True",
           "bingroup": "y",
           "histfunc": "sum",
           "hovertemplate": "Make=%{y}<br>Model_Year=1998<br>sum of VIN (1-10)=%{x}<extra></extra>",
           "legendgroup": "FORD",
           "marker": {
            "color": "#FECB52",
            "pattern": {
             "shape": ""
            }
           },
           "name": "FORD",
           "offsetgroup": "FORD",
           "orientation": "h",
           "showlegend": true,
           "type": "histogram",
           "x": [
            1
           ],
           "xaxis": "x",
           "y": [
            "FORD"
           ],
           "yaxis": "y"
          }
         ],
         "name": "1998"
        },
        {
         "data": [
          {
           "alignmentgroup": "True",
           "bingroup": "y",
           "histfunc": "sum",
           "hovertemplate": "Make=%{y}<br>Model_Year=1999<br>sum of VIN (1-10)=%{x}<extra></extra>",
           "legendgroup": "FORD",
           "marker": {
            "color": "#FECB52",
            "pattern": {
             "shape": ""
            }
           },
           "name": "FORD",
           "offsetgroup": "FORD",
           "orientation": "h",
           "showlegend": true,
           "type": "histogram",
           "x": [
            3
           ],
           "xaxis": "x",
           "y": [
            "FORD"
           ],
           "yaxis": "y"
          }
         ],
         "name": "1999"
        },
        {
         "data": [
          {
           "alignmentgroup": "True",
           "bingroup": "y",
           "histfunc": "sum",
           "hovertemplate": "Make=%{y}<br>Model_Year=2000<br>sum of VIN (1-10)=%{x}<extra></extra>",
           "legendgroup": "FORD",
           "marker": {
            "color": "#FECB52",
            "pattern": {
             "shape": ""
            }
           },
           "name": "FORD",
           "offsetgroup": "FORD",
           "orientation": "h",
           "showlegend": true,
           "type": "histogram",
           "x": [
            10
           ],
           "xaxis": "x",
           "y": [
            "FORD"
           ],
           "yaxis": "y"
          }
         ],
         "name": "2000"
        },
        {
         "data": [
          {
           "alignmentgroup": "True",
           "bingroup": "y",
           "histfunc": "sum",
           "hovertemplate": "Make=%{y}<br>Model_Year=2008<br>sum of VIN (1-10)=%{x}<extra></extra>",
           "legendgroup": "TESLA",
           "marker": {
            "color": "#FECB52",
            "pattern": {
             "shape": ""
            }
           },
           "name": "TESLA",
           "offsetgroup": "TESLA",
           "orientation": "h",
           "showlegend": true,
           "type": "histogram",
           "x": [
            23
           ],
           "xaxis": "x",
           "y": [
            "TESLA"
           ],
           "yaxis": "y"
          }
         ],
         "name": "2008"
        },
        {
         "data": [
          {
           "alignmentgroup": "True",
           "bingroup": "y",
           "histfunc": "sum",
           "hovertemplate": "Make=%{y}<br>Model_Year=2010<br>sum of VIN (1-10)=%{x}<extra></extra>",
           "legendgroup": "TESLA",
           "marker": {
            "color": "#FECB52",
            "pattern": {
             "shape": ""
            }
           },
           "name": "TESLA",
           "offsetgroup": "TESLA",
           "orientation": "h",
           "showlegend": true,
           "type": "histogram",
           "x": [
            24
           ],
           "xaxis": "x",
           "y": [
            "TESLA"
           ],
           "yaxis": "y"
          }
         ],
         "name": "2010"
        },
        {
         "data": [
          {
           "alignmentgroup": "True",
           "bingroup": "y",
           "histfunc": "sum",
           "hovertemplate": "Make=%{y}<br>Model_Year=2002<br>sum of VIN (1-10)=%{x}<extra></extra>",
           "legendgroup": "TOYOTA",
           "marker": {
            "color": "#EF553B",
            "pattern": {
             "shape": ""
            }
           },
           "name": "TOYOTA",
           "offsetgroup": "TOYOTA",
           "orientation": "h",
           "showlegend": true,
           "type": "histogram",
           "x": [
            2
           ],
           "xaxis": "x",
           "y": [
            "TOYOTA"
           ],
           "yaxis": "y"
          }
         ],
         "name": "2002"
        }
       ],
       "layout": {
        "barmode": "relative",
        "legend": {
         "title": {
          "text": "Make"
         },
         "tracegroupgap": 0
        },
        "margin": {
         "t": 60
        },
        "sliders": [
         {
          "active": 0,
          "currentvalue": {
           "prefix": "Model_Year="
          },
          "len": 0.9,
          "pad": {
           "b": 10,
           "t": 60
          },
          "steps": [
           {
            "args": [
             [
              "2016"
             ],
             {
              "frame": {
               "duration": 0,
               "redraw": true
              },
              "fromcurrent": true,
              "mode": "immediate",
              "transition": {
               "duration": 0,
               "easing": "linear"
              }
             }
            ],
            "label": "2016",
            "method": "animate"
           },
           {
            "args": [
             [
              "2017"
             ],
             {
              "frame": {
               "duration": 0,
               "redraw": true
              },
              "fromcurrent": true,
              "mode": "immediate",
              "transition": {
               "duration": 0,
               "easing": "linear"
              }
             }
            ],
            "label": "2017",
            "method": "animate"
           },
           {
            "args": [
             [
              "2018"
             ],
             {
              "frame": {
               "duration": 0,
               "redraw": true
              },
              "fromcurrent": true,
              "mode": "immediate",
              "transition": {
               "duration": 0,
               "easing": "linear"
              }
             }
            ],
            "label": "2018",
            "method": "animate"
           },
           {
            "args": [
             [
              "2019"
             ],
             {
              "frame": {
               "duration": 0,
               "redraw": true
              },
              "fromcurrent": true,
              "mode": "immediate",
              "transition": {
               "duration": 0,
               "easing": "linear"
              }
             }
            ],
            "label": "2019",
            "method": "animate"
           },
           {
            "args": [
             [
              "2020"
             ],
             {
              "frame": {
               "duration": 0,
               "redraw": true
              },
              "fromcurrent": true,
              "mode": "immediate",
              "transition": {
               "duration": 0,
               "easing": "linear"
              }
             }
            ],
            "label": "2020",
            "method": "animate"
           },
           {
            "args": [
             [
              "2021"
             ],
             {
              "frame": {
               "duration": 0,
               "redraw": true
              },
              "fromcurrent": true,
              "mode": "immediate",
              "transition": {
               "duration": 0,
               "easing": "linear"
              }
             }
            ],
            "label": "2021",
            "method": "animate"
           },
           {
            "args": [
             [
              "2022"
             ],
             {
              "frame": {
               "duration": 0,
               "redraw": true
              },
              "fromcurrent": true,
              "mode": "immediate",
              "transition": {
               "duration": 0,
               "easing": "linear"
              }
             }
            ],
            "label": "2022",
            "method": "animate"
           },
           {
            "args": [
             [
              "2023"
             ],
             {
              "frame": {
               "duration": 0,
               "redraw": true
              },
              "fromcurrent": true,
              "mode": "immediate",
              "transition": {
               "duration": 0,
               "easing": "linear"
              }
             }
            ],
            "label": "2023",
            "method": "animate"
           },
           {
            "args": [
             [
              "2011"
             ],
             {
              "frame": {
               "duration": 0,
               "redraw": true
              },
              "fromcurrent": true,
              "mode": "immediate",
              "transition": {
               "duration": 0,
               "easing": "linear"
              }
             }
            ],
            "label": "2011",
            "method": "animate"
           },
           {
            "args": [
             [
              "2012"
             ],
             {
              "frame": {
               "duration": 0,
               "redraw": true
              },
              "fromcurrent": true,
              "mode": "immediate",
              "transition": {
               "duration": 0,
               "easing": "linear"
              }
             }
            ],
            "label": "2012",
            "method": "animate"
           },
           {
            "args": [
             [
              "2014"
             ],
             {
              "frame": {
               "duration": 0,
               "redraw": true
              },
              "fromcurrent": true,
              "mode": "immediate",
              "transition": {
               "duration": 0,
               "easing": "linear"
              }
             }
            ],
            "label": "2014",
            "method": "animate"
           },
           {
            "args": [
             [
              "2015"
             ],
             {
              "frame": {
               "duration": 0,
               "redraw": true
              },
              "fromcurrent": true,
              "mode": "immediate",
              "transition": {
               "duration": 0,
               "easing": "linear"
              }
             }
            ],
            "label": "2015",
            "method": "animate"
           },
           {
            "args": [
             [
              "1997"
             ],
             {
              "frame": {
               "duration": 0,
               "redraw": true
              },
              "fromcurrent": true,
              "mode": "immediate",
              "transition": {
               "duration": 0,
               "easing": "linear"
              }
             }
            ],
            "label": "1997",
            "method": "animate"
           },
           {
            "args": [
             [
              "2013"
             ],
             {
              "frame": {
               "duration": 0,
               "redraw": true
              },
              "fromcurrent": true,
              "mode": "immediate",
              "transition": {
               "duration": 0,
               "easing": "linear"
              }
             }
            ],
            "label": "2013",
            "method": "animate"
           },
           {
            "args": [
             [
              "1998"
             ],
             {
              "frame": {
               "duration": 0,
               "redraw": true
              },
              "fromcurrent": true,
              "mode": "immediate",
              "transition": {
               "duration": 0,
               "easing": "linear"
              }
             }
            ],
            "label": "1998",
            "method": "animate"
           },
           {
            "args": [
             [
              "1999"
             ],
             {
              "frame": {
               "duration": 0,
               "redraw": true
              },
              "fromcurrent": true,
              "mode": "immediate",
              "transition": {
               "duration": 0,
               "easing": "linear"
              }
             }
            ],
            "label": "1999",
            "method": "animate"
           },
           {
            "args": [
             [
              "2000"
             ],
             {
              "frame": {
               "duration": 0,
               "redraw": true
              },
              "fromcurrent": true,
              "mode": "immediate",
              "transition": {
               "duration": 0,
               "easing": "linear"
              }
             }
            ],
            "label": "2000",
            "method": "animate"
           },
           {
            "args": [
             [
              "2008"
             ],
             {
              "frame": {
               "duration": 0,
               "redraw": true
              },
              "fromcurrent": true,
              "mode": "immediate",
              "transition": {
               "duration": 0,
               "easing": "linear"
              }
             }
            ],
            "label": "2008",
            "method": "animate"
           },
           {
            "args": [
             [
              "2010"
             ],
             {
              "frame": {
               "duration": 0,
               "redraw": true
              },
              "fromcurrent": true,
              "mode": "immediate",
              "transition": {
               "duration": 0,
               "easing": "linear"
              }
             }
            ],
            "label": "2010",
            "method": "animate"
           },
           {
            "args": [
             [
              "2002"
             ],
             {
              "frame": {
               "duration": 0,
               "redraw": true
              },
              "fromcurrent": true,
              "mode": "immediate",
              "transition": {
               "duration": 0,
               "easing": "linear"
              }
             }
            ],
            "label": "2002",
            "method": "animate"
           }
          ],
          "x": 0.1,
          "xanchor": "left",
          "y": 0,
          "yanchor": "top"
         }
        ],
        "template": {
         "data": {
          "bar": [
           {
            "error_x": {
             "color": "#2a3f5f"
            },
            "error_y": {
             "color": "#2a3f5f"
            },
            "marker": {
             "line": {
              "color": "#E5ECF6",
              "width": 0.5
             },
             "pattern": {
              "fillmode": "overlay",
              "size": 10,
              "solidity": 0.2
             }
            },
            "type": "bar"
           }
          ],
          "barpolar": [
           {
            "marker": {
             "line": {
              "color": "#E5ECF6",
              "width": 0.5
             },
             "pattern": {
              "fillmode": "overlay",
              "size": 10,
              "solidity": 0.2
             }
            },
            "type": "barpolar"
           }
          ],
          "carpet": [
           {
            "aaxis": {
             "endlinecolor": "#2a3f5f",
             "gridcolor": "white",
             "linecolor": "white",
             "minorgridcolor": "white",
             "startlinecolor": "#2a3f5f"
            },
            "baxis": {
             "endlinecolor": "#2a3f5f",
             "gridcolor": "white",
             "linecolor": "white",
             "minorgridcolor": "white",
             "startlinecolor": "#2a3f5f"
            },
            "type": "carpet"
           }
          ],
          "choropleth": [
           {
            "colorbar": {
             "outlinewidth": 0,
             "ticks": ""
            },
            "type": "choropleth"
           }
          ],
          "contour": [
           {
            "colorbar": {
             "outlinewidth": 0,
             "ticks": ""
            },
            "colorscale": [
             [
              0,
              "#0d0887"
             ],
             [
              0.1111111111111111,
              "#46039f"
             ],
             [
              0.2222222222222222,
              "#7201a8"
             ],
             [
              0.3333333333333333,
              "#9c179e"
             ],
             [
              0.4444444444444444,
              "#bd3786"
             ],
             [
              0.5555555555555556,
              "#d8576b"
             ],
             [
              0.6666666666666666,
              "#ed7953"
             ],
             [
              0.7777777777777778,
              "#fb9f3a"
             ],
             [
              0.8888888888888888,
              "#fdca26"
             ],
             [
              1,
              "#f0f921"
             ]
            ],
            "type": "contour"
           }
          ],
          "contourcarpet": [
           {
            "colorbar": {
             "outlinewidth": 0,
             "ticks": ""
            },
            "type": "contourcarpet"
           }
          ],
          "heatmap": [
           {
            "colorbar": {
             "outlinewidth": 0,
             "ticks": ""
            },
            "colorscale": [
             [
              0,
              "#0d0887"
             ],
             [
              0.1111111111111111,
              "#46039f"
             ],
             [
              0.2222222222222222,
              "#7201a8"
             ],
             [
              0.3333333333333333,
              "#9c179e"
             ],
             [
              0.4444444444444444,
              "#bd3786"
             ],
             [
              0.5555555555555556,
              "#d8576b"
             ],
             [
              0.6666666666666666,
              "#ed7953"
             ],
             [
              0.7777777777777778,
              "#fb9f3a"
             ],
             [
              0.8888888888888888,
              "#fdca26"
             ],
             [
              1,
              "#f0f921"
             ]
            ],
            "type": "heatmap"
           }
          ],
          "heatmapgl": [
           {
            "colorbar": {
             "outlinewidth": 0,
             "ticks": ""
            },
            "colorscale": [
             [
              0,
              "#0d0887"
             ],
             [
              0.1111111111111111,
              "#46039f"
             ],
             [
              0.2222222222222222,
              "#7201a8"
             ],
             [
              0.3333333333333333,
              "#9c179e"
             ],
             [
              0.4444444444444444,
              "#bd3786"
             ],
             [
              0.5555555555555556,
              "#d8576b"
             ],
             [
              0.6666666666666666,
              "#ed7953"
             ],
             [
              0.7777777777777778,
              "#fb9f3a"
             ],
             [
              0.8888888888888888,
              "#fdca26"
             ],
             [
              1,
              "#f0f921"
             ]
            ],
            "type": "heatmapgl"
           }
          ],
          "histogram": [
           {
            "marker": {
             "pattern": {
              "fillmode": "overlay",
              "size": 10,
              "solidity": 0.2
             }
            },
            "type": "histogram"
           }
          ],
          "histogram2d": [
           {
            "colorbar": {
             "outlinewidth": 0,
             "ticks": ""
            },
            "colorscale": [
             [
              0,
              "#0d0887"
             ],
             [
              0.1111111111111111,
              "#46039f"
             ],
             [
              0.2222222222222222,
              "#7201a8"
             ],
             [
              0.3333333333333333,
              "#9c179e"
             ],
             [
              0.4444444444444444,
              "#bd3786"
             ],
             [
              0.5555555555555556,
              "#d8576b"
             ],
             [
              0.6666666666666666,
              "#ed7953"
             ],
             [
              0.7777777777777778,
              "#fb9f3a"
             ],
             [
              0.8888888888888888,
              "#fdca26"
             ],
             [
              1,
              "#f0f921"
             ]
            ],
            "type": "histogram2d"
           }
          ],
          "histogram2dcontour": [
           {
            "colorbar": {
             "outlinewidth": 0,
             "ticks": ""
            },
            "colorscale": [
             [
              0,
              "#0d0887"
             ],
             [
              0.1111111111111111,
              "#46039f"
             ],
             [
              0.2222222222222222,
              "#7201a8"
             ],
             [
              0.3333333333333333,
              "#9c179e"
             ],
             [
              0.4444444444444444,
              "#bd3786"
             ],
             [
              0.5555555555555556,
              "#d8576b"
             ],
             [
              0.6666666666666666,
              "#ed7953"
             ],
             [
              0.7777777777777778,
              "#fb9f3a"
             ],
             [
              0.8888888888888888,
              "#fdca26"
             ],
             [
              1,
              "#f0f921"
             ]
            ],
            "type": "histogram2dcontour"
           }
          ],
          "mesh3d": [
           {
            "colorbar": {
             "outlinewidth": 0,
             "ticks": ""
            },
            "type": "mesh3d"
           }
          ],
          "parcoords": [
           {
            "line": {
             "colorbar": {
              "outlinewidth": 0,
              "ticks": ""
             }
            },
            "type": "parcoords"
           }
          ],
          "pie": [
           {
            "automargin": true,
            "type": "pie"
           }
          ],
          "scatter": [
           {
            "fillpattern": {
             "fillmode": "overlay",
             "size": 10,
             "solidity": 0.2
            },
            "type": "scatter"
           }
          ],
          "scatter3d": [
           {
            "line": {
             "colorbar": {
              "outlinewidth": 0,
              "ticks": ""
             }
            },
            "marker": {
             "colorbar": {
              "outlinewidth": 0,
              "ticks": ""
             }
            },
            "type": "scatter3d"
           }
          ],
          "scattercarpet": [
           {
            "marker": {
             "colorbar": {
              "outlinewidth": 0,
              "ticks": ""
             }
            },
            "type": "scattercarpet"
           }
          ],
          "scattergeo": [
           {
            "marker": {
             "colorbar": {
              "outlinewidth": 0,
              "ticks": ""
             }
            },
            "type": "scattergeo"
           }
          ],
          "scattergl": [
           {
            "marker": {
             "colorbar": {
              "outlinewidth": 0,
              "ticks": ""
             }
            },
            "type": "scattergl"
           }
          ],
          "scattermapbox": [
           {
            "marker": {
             "colorbar": {
              "outlinewidth": 0,
              "ticks": ""
             }
            },
            "type": "scattermapbox"
           }
          ],
          "scatterpolar": [
           {
            "marker": {
             "colorbar": {
              "outlinewidth": 0,
              "ticks": ""
             }
            },
            "type": "scatterpolar"
           }
          ],
          "scatterpolargl": [
           {
            "marker": {
             "colorbar": {
              "outlinewidth": 0,
              "ticks": ""
             }
            },
            "type": "scatterpolargl"
           }
          ],
          "scatterternary": [
           {
            "marker": {
             "colorbar": {
              "outlinewidth": 0,
              "ticks": ""
             }
            },
            "type": "scatterternary"
           }
          ],
          "surface": [
           {
            "colorbar": {
             "outlinewidth": 0,
             "ticks": ""
            },
            "colorscale": [
             [
              0,
              "#0d0887"
             ],
             [
              0.1111111111111111,
              "#46039f"
             ],
             [
              0.2222222222222222,
              "#7201a8"
             ],
             [
              0.3333333333333333,
              "#9c179e"
             ],
             [
              0.4444444444444444,
              "#bd3786"
             ],
             [
              0.5555555555555556,
              "#d8576b"
             ],
             [
              0.6666666666666666,
              "#ed7953"
             ],
             [
              0.7777777777777778,
              "#fb9f3a"
             ],
             [
              0.8888888888888888,
              "#fdca26"
             ],
             [
              1,
              "#f0f921"
             ]
            ],
            "type": "surface"
           }
          ],
          "table": [
           {
            "cells": {
             "fill": {
              "color": "#EBF0F8"
             },
             "line": {
              "color": "white"
             }
            },
            "header": {
             "fill": {
              "color": "#C8D4E3"
             },
             "line": {
              "color": "white"
             }
            },
            "type": "table"
           }
          ]
         },
         "layout": {
          "annotationdefaults": {
           "arrowcolor": "#2a3f5f",
           "arrowhead": 0,
           "arrowwidth": 1
          },
          "autotypenumbers": "strict",
          "coloraxis": {
           "colorbar": {
            "outlinewidth": 0,
            "ticks": ""
           }
          },
          "colorscale": {
           "diverging": [
            [
             0,
             "#8e0152"
            ],
            [
             0.1,
             "#c51b7d"
            ],
            [
             0.2,
             "#de77ae"
            ],
            [
             0.3,
             "#f1b6da"
            ],
            [
             0.4,
             "#fde0ef"
            ],
            [
             0.5,
             "#f7f7f7"
            ],
            [
             0.6,
             "#e6f5d0"
            ],
            [
             0.7,
             "#b8e186"
            ],
            [
             0.8,
             "#7fbc41"
            ],
            [
             0.9,
             "#4d9221"
            ],
            [
             1,
             "#276419"
            ]
           ],
           "sequential": [
            [
             0,
             "#0d0887"
            ],
            [
             0.1111111111111111,
             "#46039f"
            ],
            [
             0.2222222222222222,
             "#7201a8"
            ],
            [
             0.3333333333333333,
             "#9c179e"
            ],
            [
             0.4444444444444444,
             "#bd3786"
            ],
            [
             0.5555555555555556,
             "#d8576b"
            ],
            [
             0.6666666666666666,
             "#ed7953"
            ],
            [
             0.7777777777777778,
             "#fb9f3a"
            ],
            [
             0.8888888888888888,
             "#fdca26"
            ],
            [
             1,
             "#f0f921"
            ]
           ],
           "sequentialminus": [
            [
             0,
             "#0d0887"
            ],
            [
             0.1111111111111111,
             "#46039f"
            ],
            [
             0.2222222222222222,
             "#7201a8"
            ],
            [
             0.3333333333333333,
             "#9c179e"
            ],
            [
             0.4444444444444444,
             "#bd3786"
            ],
            [
             0.5555555555555556,
             "#d8576b"
            ],
            [
             0.6666666666666666,
             "#ed7953"
            ],
            [
             0.7777777777777778,
             "#fb9f3a"
            ],
            [
             0.8888888888888888,
             "#fdca26"
            ],
            [
             1,
             "#f0f921"
            ]
           ]
          },
          "colorway": [
           "#636efa",
           "#EF553B",
           "#00cc96",
           "#ab63fa",
           "#FFA15A",
           "#19d3f3",
           "#FF6692",
           "#B6E880",
           "#FF97FF",
           "#FECB52"
          ],
          "font": {
           "color": "#2a3f5f"
          },
          "geo": {
           "bgcolor": "white",
           "lakecolor": "white",
           "landcolor": "#E5ECF6",
           "showlakes": true,
           "showland": true,
           "subunitcolor": "white"
          },
          "hoverlabel": {
           "align": "left"
          },
          "hovermode": "closest",
          "mapbox": {
           "style": "light"
          },
          "paper_bgcolor": "white",
          "plot_bgcolor": "#E5ECF6",
          "polar": {
           "angularaxis": {
            "gridcolor": "white",
            "linecolor": "white",
            "ticks": ""
           },
           "bgcolor": "#E5ECF6",
           "radialaxis": {
            "gridcolor": "white",
            "linecolor": "white",
            "ticks": ""
           }
          },
          "scene": {
           "xaxis": {
            "backgroundcolor": "#E5ECF6",
            "gridcolor": "white",
            "gridwidth": 2,
            "linecolor": "white",
            "showbackground": true,
            "ticks": "",
            "zerolinecolor": "white"
           },
           "yaxis": {
            "backgroundcolor": "#E5ECF6",
            "gridcolor": "white",
            "gridwidth": 2,
            "linecolor": "white",
            "showbackground": true,
            "ticks": "",
            "zerolinecolor": "white"
           },
           "zaxis": {
            "backgroundcolor": "#E5ECF6",
            "gridcolor": "white",
            "gridwidth": 2,
            "linecolor": "white",
            "showbackground": true,
            "ticks": "",
            "zerolinecolor": "white"
           }
          },
          "shapedefaults": {
           "line": {
            "color": "#2a3f5f"
           }
          },
          "ternary": {
           "aaxis": {
            "gridcolor": "white",
            "linecolor": "white",
            "ticks": ""
           },
           "baxis": {
            "gridcolor": "white",
            "linecolor": "white",
            "ticks": ""
           },
           "bgcolor": "#E5ECF6",
           "caxis": {
            "gridcolor": "white",
            "linecolor": "white",
            "ticks": ""
           }
          },
          "title": {
           "x": 0.05
          },
          "xaxis": {
           "automargin": true,
           "gridcolor": "white",
           "linecolor": "white",
           "ticks": "",
           "title": {
            "standoff": 15
           },
           "zerolinecolor": "white",
           "zerolinewidth": 2
          },
          "yaxis": {
           "automargin": true,
           "gridcolor": "white",
           "linecolor": "white",
           "ticks": "",
           "title": {
            "standoff": 15
           },
           "zerolinecolor": "white",
           "zerolinewidth": 2
          }
         }
        },
        "updatemenus": [
         {
          "buttons": [
           {
            "args": [
             null,
             {
              "frame": {
               "duration": 500,
               "redraw": true
              },
              "fromcurrent": true,
              "mode": "immediate",
              "transition": {
               "duration": 500,
               "easing": "linear"
              }
             }
            ],
            "label": "&#9654;",
            "method": "animate"
           },
           {
            "args": [
             [
              null
             ],
             {
              "frame": {
               "duration": 0,
               "redraw": true
              },
              "fromcurrent": true,
              "mode": "immediate",
              "transition": {
               "duration": 0,
               "easing": "linear"
              }
             }
            ],
            "label": "&#9724;",
            "method": "animate"
           }
          ],
          "direction": "left",
          "pad": {
           "r": 10,
           "t": 70
          },
          "showactive": false,
          "type": "buttons",
          "x": 0.1,
          "xanchor": "right",
          "y": 0,
          "yanchor": "top"
         }
        ],
        "xaxis": {
         "anchor": "y",
         "domain": [
          0,
          1
         ],
         "title": {
          "text": "sum of VIN (1-10)"
         }
        },
        "yaxis": {
         "anchor": "x",
         "categoryarray": [
          "VOLVO",
          "VOLKSWAGEN",
          "TOYOTA",
          "TH!NK",
          "TESLA",
          "SUBARU",
          "SMART",
          "RIVIAN",
          "PORSCHE",
          "POLESTAR",
          "NISSAN",
          "MITSUBISHI",
          "MINI",
          "MERCEDES-BENZ",
          "LUCID MOTORS",
          "LINCOLN",
          "LEXUS",
          "LAND ROVER",
          "KIA",
          "JEEP",
          "JAGUAR",
          "HYUNDAI",
          "HONDA",
          "GENESIS",
          "FORD",
          "FISKER",
          "FIAT",
          "CHRYSLER",
          "CHEVROLET",
          "CADILLAC",
          "BMW",
          "BENTLEY",
          "AZURE DYNAMICS",
          "AUDI"
         ],
         "categoryorder": "array",
         "domain": [
          0,
          1
         ],
         "title": {
          "text": "Make"
         }
        }
       }
      },
      "text/html": [
       "<div>                            <div id=\"78a5d408-16f8-4612-a5d6-014543e49d5c\" class=\"plotly-graph-div\" style=\"height:525px; width:100%;\"></div>            <script type=\"text/javascript\">                require([\"plotly\"], function(Plotly) {                    window.PLOTLYENV=window.PLOTLYENV || {};                                    if (document.getElementById(\"78a5d408-16f8-4612-a5d6-014543e49d5c\")) {                    Plotly.newPlot(                        \"78a5d408-16f8-4612-a5d6-014543e49d5c\",                        [{\"alignmentgroup\":\"True\",\"bingroup\":\"y\",\"histfunc\":\"sum\",\"hovertemplate\":\"Make=%{y}<br>Model_Year=2016<br>sum of VIN (1-10)=%{x}<extra></extra>\",\"legendgroup\":\"AUDI\",\"marker\":{\"color\":\"#636efa\",\"pattern\":{\"shape\":\"\"}},\"name\":\"AUDI\",\"offsetgroup\":\"AUDI\",\"orientation\":\"h\",\"showlegend\":true,\"x\":[214],\"xaxis\":\"x\",\"y\":[\"AUDI\"],\"yaxis\":\"y\",\"type\":\"histogram\"},{\"alignmentgroup\":\"True\",\"bingroup\":\"y\",\"histfunc\":\"sum\",\"hovertemplate\":\"Make=%{y}<br>Model_Year=2016<br>sum of VIN (1-10)=%{x}<extra></extra>\",\"legendgroup\":\"BMW\",\"marker\":{\"color\":\"#ab63fa\",\"pattern\":{\"shape\":\"\"}},\"name\":\"BMW\",\"offsetgroup\":\"BMW\",\"orientation\":\"h\",\"showlegend\":true,\"x\":[383],\"xaxis\":\"x\",\"y\":[\"BMW\"],\"yaxis\":\"y\",\"type\":\"histogram\"},{\"alignmentgroup\":\"True\",\"bingroup\":\"y\",\"histfunc\":\"sum\",\"hovertemplate\":\"Make=%{y}<br>Model_Year=2016<br>sum of VIN (1-10)=%{x}<extra></extra>\",\"legendgroup\":\"CADILLAC\",\"marker\":{\"color\":\"#FFA15A\",\"pattern\":{\"shape\":\"\"}},\"name\":\"CADILLAC\",\"offsetgroup\":\"CADILLAC\",\"orientation\":\"h\",\"showlegend\":true,\"x\":[18],\"xaxis\":\"x\",\"y\":[\"CADILLAC\"],\"yaxis\":\"y\",\"type\":\"histogram\"},{\"alignmentgroup\":\"True\",\"bingroup\":\"y\",\"histfunc\":\"sum\",\"hovertemplate\":\"Make=%{y}<br>Model_Year=2016<br>sum of VIN (1-10)=%{x}<extra></extra>\",\"legendgroup\":\"CHEVROLET\",\"marker\":{\"color\":\"#19d3f3\",\"pattern\":{\"shape\":\"\"}},\"name\":\"CHEVROLET\",\"offsetgroup\":\"CHEVROLET\",\"orientation\":\"h\",\"showlegend\":true,\"x\":[309],\"xaxis\":\"x\",\"y\":[\"CHEVROLET\"],\"yaxis\":\"y\",\"type\":\"histogram\"},{\"alignmentgroup\":\"True\",\"bingroup\":\"y\",\"histfunc\":\"sum\",\"hovertemplate\":\"Make=%{y}<br>Model_Year=2016<br>sum of VIN (1-10)=%{x}<extra></extra>\",\"legendgroup\":\"FIAT\",\"marker\":{\"color\":\"#B6E880\",\"pattern\":{\"shape\":\"\"}},\"name\":\"FIAT\",\"offsetgroup\":\"FIAT\",\"orientation\":\"h\",\"showlegend\":true,\"x\":[148],\"xaxis\":\"x\",\"y\":[\"FIAT\"],\"yaxis\":\"y\",\"type\":\"histogram\"},{\"alignmentgroup\":\"True\",\"bingroup\":\"y\",\"histfunc\":\"sum\",\"hovertemplate\":\"Make=%{y}<br>Model_Year=2016<br>sum of VIN (1-10)=%{x}<extra></extra>\",\"legendgroup\":\"FORD\",\"marker\":{\"color\":\"#FECB52\",\"pattern\":{\"shape\":\"\"}},\"name\":\"FORD\",\"offsetgroup\":\"FORD\",\"orientation\":\"h\",\"showlegend\":true,\"x\":[777],\"xaxis\":\"x\",\"y\":[\"FORD\"],\"yaxis\":\"y\",\"type\":\"histogram\"},{\"alignmentgroup\":\"True\",\"bingroup\":\"y\",\"histfunc\":\"sum\",\"hovertemplate\":\"Make=%{y}<br>Model_Year=2016<br>sum of VIN (1-10)=%{x}<extra></extra>\",\"legendgroup\":\"HYUNDAI\",\"marker\":{\"color\":\"#00cc96\",\"pattern\":{\"shape\":\"\"}},\"name\":\"HYUNDAI\",\"offsetgroup\":\"HYUNDAI\",\"orientation\":\"h\",\"showlegend\":true,\"x\":[44],\"xaxis\":\"x\",\"y\":[\"HYUNDAI\"],\"yaxis\":\"y\",\"type\":\"histogram\"},{\"alignmentgroup\":\"True\",\"bingroup\":\"y\",\"histfunc\":\"sum\",\"hovertemplate\":\"Make=%{y}<br>Model_Year=2016<br>sum of VIN (1-10)=%{x}<extra></extra>\",\"legendgroup\":\"KIA\",\"marker\":{\"color\":\"#19d3f3\",\"pattern\":{\"shape\":\"\"}},\"name\":\"KIA\",\"offsetgroup\":\"KIA\",\"orientation\":\"h\",\"showlegend\":true,\"x\":[407],\"xaxis\":\"x\",\"y\":[\"KIA\"],\"yaxis\":\"y\",\"type\":\"histogram\"},{\"alignmentgroup\":\"True\",\"bingroup\":\"y\",\"histfunc\":\"sum\",\"hovertemplate\":\"Make=%{y}<br>Model_Year=2016<br>sum of VIN (1-10)=%{x}<extra></extra>\",\"legendgroup\":\"MERCEDES-BENZ\",\"marker\":{\"color\":\"#636efa\",\"pattern\":{\"shape\":\"\"}},\"name\":\"MERCEDES-BENZ\",\"offsetgroup\":\"MERCEDES-BENZ\",\"orientation\":\"h\",\"showlegend\":true,\"x\":[35],\"xaxis\":\"x\",\"y\":[\"MERCEDES-BENZ\"],\"yaxis\":\"y\",\"type\":\"histogram\"},{\"alignmentgroup\":\"True\",\"bingroup\":\"y\",\"histfunc\":\"sum\",\"hovertemplate\":\"Make=%{y}<br>Model_Year=2016<br>sum of VIN (1-10)=%{x}<extra></extra>\",\"legendgroup\":\"MITSUBISHI\",\"marker\":{\"color\":\"#00cc96\",\"pattern\":{\"shape\":\"\"}},\"name\":\"MITSUBISHI\",\"offsetgroup\":\"MITSUBISHI\",\"orientation\":\"h\",\"showlegend\":true,\"x\":[12],\"xaxis\":\"x\",\"y\":[\"MITSUBISHI\"],\"yaxis\":\"y\",\"type\":\"histogram\"},{\"alignmentgroup\":\"True\",\"bingroup\":\"y\",\"histfunc\":\"sum\",\"hovertemplate\":\"Make=%{y}<br>Model_Year=2016<br>sum of VIN (1-10)=%{x}<extra></extra>\",\"legendgroup\":\"NISSAN\",\"marker\":{\"color\":\"#ab63fa\",\"pattern\":{\"shape\":\"\"}},\"name\":\"NISSAN\",\"offsetgroup\":\"NISSAN\",\"orientation\":\"h\",\"showlegend\":true,\"x\":[1208],\"xaxis\":\"x\",\"y\":[\"NISSAN\"],\"yaxis\":\"y\",\"type\":\"histogram\"},{\"alignmentgroup\":\"True\",\"bingroup\":\"y\",\"histfunc\":\"sum\",\"hovertemplate\":\"Make=%{y}<br>Model_Year=2016<br>sum of VIN (1-10)=%{x}<extra></extra>\",\"legendgroup\":\"PORSCHE\",\"marker\":{\"color\":\"#19d3f3\",\"pattern\":{\"shape\":\"\"}},\"name\":\"PORSCHE\",\"offsetgroup\":\"PORSCHE\",\"orientation\":\"h\",\"showlegend\":true,\"x\":[78],\"xaxis\":\"x\",\"y\":[\"PORSCHE\"],\"yaxis\":\"y\",\"type\":\"histogram\"},{\"alignmentgroup\":\"True\",\"bingroup\":\"y\",\"histfunc\":\"sum\",\"hovertemplate\":\"Make=%{y}<br>Model_Year=2016<br>sum of VIN (1-10)=%{x}<extra></extra>\",\"legendgroup\":\"SMART\",\"marker\":{\"color\":\"#B6E880\",\"pattern\":{\"shape\":\"\"}},\"name\":\"SMART\",\"offsetgroup\":\"SMART\",\"orientation\":\"h\",\"showlegend\":true,\"x\":[31],\"xaxis\":\"x\",\"y\":[\"SMART\"],\"yaxis\":\"y\",\"type\":\"histogram\"},{\"alignmentgroup\":\"True\",\"bingroup\":\"y\",\"histfunc\":\"sum\",\"hovertemplate\":\"Make=%{y}<br>Model_Year=2016<br>sum of VIN (1-10)=%{x}<extra></extra>\",\"legendgroup\":\"TESLA\",\"marker\":{\"color\":\"#FECB52\",\"pattern\":{\"shape\":\"\"}},\"name\":\"TESLA\",\"offsetgroup\":\"TESLA\",\"orientation\":\"h\",\"showlegend\":true,\"x\":[1637],\"xaxis\":\"x\",\"y\":[\"TESLA\"],\"yaxis\":\"y\",\"type\":\"histogram\"},{\"alignmentgroup\":\"True\",\"bingroup\":\"y\",\"histfunc\":\"sum\",\"hovertemplate\":\"Make=%{y}<br>Model_Year=2016<br>sum of VIN (1-10)=%{x}<extra></extra>\",\"legendgroup\":\"VOLKSWAGEN\",\"marker\":{\"color\":\"#00cc96\",\"pattern\":{\"shape\":\"\"}},\"name\":\"VOLKSWAGEN\",\"offsetgroup\":\"VOLKSWAGEN\",\"orientation\":\"h\",\"showlegend\":true,\"x\":[319],\"xaxis\":\"x\",\"y\":[\"VOLKSWAGEN\"],\"yaxis\":\"y\",\"type\":\"histogram\"},{\"alignmentgroup\":\"True\",\"bingroup\":\"y\",\"histfunc\":\"sum\",\"hovertemplate\":\"Make=%{y}<br>Model_Year=2016<br>sum of VIN (1-10)=%{x}<extra></extra>\",\"legendgroup\":\"VOLVO\",\"marker\":{\"color\":\"#ab63fa\",\"pattern\":{\"shape\":\"\"}},\"name\":\"VOLVO\",\"offsetgroup\":\"VOLVO\",\"orientation\":\"h\",\"showlegend\":true,\"x\":[112],\"xaxis\":\"x\",\"y\":[\"VOLVO\"],\"yaxis\":\"y\",\"type\":\"histogram\"}],                        {\"template\":{\"data\":{\"histogram2dcontour\":[{\"type\":\"histogram2dcontour\",\"colorbar\":{\"outlinewidth\":0,\"ticks\":\"\"},\"colorscale\":[[0.0,\"#0d0887\"],[0.1111111111111111,\"#46039f\"],[0.2222222222222222,\"#7201a8\"],[0.3333333333333333,\"#9c179e\"],[0.4444444444444444,\"#bd3786\"],[0.5555555555555556,\"#d8576b\"],[0.6666666666666666,\"#ed7953\"],[0.7777777777777778,\"#fb9f3a\"],[0.8888888888888888,\"#fdca26\"],[1.0,\"#f0f921\"]]}],\"choropleth\":[{\"type\":\"choropleth\",\"colorbar\":{\"outlinewidth\":0,\"ticks\":\"\"}}],\"histogram2d\":[{\"type\":\"histogram2d\",\"colorbar\":{\"outlinewidth\":0,\"ticks\":\"\"},\"colorscale\":[[0.0,\"#0d0887\"],[0.1111111111111111,\"#46039f\"],[0.2222222222222222,\"#7201a8\"],[0.3333333333333333,\"#9c179e\"],[0.4444444444444444,\"#bd3786\"],[0.5555555555555556,\"#d8576b\"],[0.6666666666666666,\"#ed7953\"],[0.7777777777777778,\"#fb9f3a\"],[0.8888888888888888,\"#fdca26\"],[1.0,\"#f0f921\"]]}],\"heatmap\":[{\"type\":\"heatmap\",\"colorbar\":{\"outlinewidth\":0,\"ticks\":\"\"},\"colorscale\":[[0.0,\"#0d0887\"],[0.1111111111111111,\"#46039f\"],[0.2222222222222222,\"#7201a8\"],[0.3333333333333333,\"#9c179e\"],[0.4444444444444444,\"#bd3786\"],[0.5555555555555556,\"#d8576b\"],[0.6666666666666666,\"#ed7953\"],[0.7777777777777778,\"#fb9f3a\"],[0.8888888888888888,\"#fdca26\"],[1.0,\"#f0f921\"]]}],\"heatmapgl\":[{\"type\":\"heatmapgl\",\"colorbar\":{\"outlinewidth\":0,\"ticks\":\"\"},\"colorscale\":[[0.0,\"#0d0887\"],[0.1111111111111111,\"#46039f\"],[0.2222222222222222,\"#7201a8\"],[0.3333333333333333,\"#9c179e\"],[0.4444444444444444,\"#bd3786\"],[0.5555555555555556,\"#d8576b\"],[0.6666666666666666,\"#ed7953\"],[0.7777777777777778,\"#fb9f3a\"],[0.8888888888888888,\"#fdca26\"],[1.0,\"#f0f921\"]]}],\"contourcarpet\":[{\"type\":\"contourcarpet\",\"colorbar\":{\"outlinewidth\":0,\"ticks\":\"\"}}],\"contour\":[{\"type\":\"contour\",\"colorbar\":{\"outlinewidth\":0,\"ticks\":\"\"},\"colorscale\":[[0.0,\"#0d0887\"],[0.1111111111111111,\"#46039f\"],[0.2222222222222222,\"#7201a8\"],[0.3333333333333333,\"#9c179e\"],[0.4444444444444444,\"#bd3786\"],[0.5555555555555556,\"#d8576b\"],[0.6666666666666666,\"#ed7953\"],[0.7777777777777778,\"#fb9f3a\"],[0.8888888888888888,\"#fdca26\"],[1.0,\"#f0f921\"]]}],\"surface\":[{\"type\":\"surface\",\"colorbar\":{\"outlinewidth\":0,\"ticks\":\"\"},\"colorscale\":[[0.0,\"#0d0887\"],[0.1111111111111111,\"#46039f\"],[0.2222222222222222,\"#7201a8\"],[0.3333333333333333,\"#9c179e\"],[0.4444444444444444,\"#bd3786\"],[0.5555555555555556,\"#d8576b\"],[0.6666666666666666,\"#ed7953\"],[0.7777777777777778,\"#fb9f3a\"],[0.8888888888888888,\"#fdca26\"],[1.0,\"#f0f921\"]]}],\"mesh3d\":[{\"type\":\"mesh3d\",\"colorbar\":{\"outlinewidth\":0,\"ticks\":\"\"}}],\"scatter\":[{\"fillpattern\":{\"fillmode\":\"overlay\",\"size\":10,\"solidity\":0.2},\"type\":\"scatter\"}],\"parcoords\":[{\"type\":\"parcoords\",\"line\":{\"colorbar\":{\"outlinewidth\":0,\"ticks\":\"\"}}}],\"scatterpolargl\":[{\"type\":\"scatterpolargl\",\"marker\":{\"colorbar\":{\"outlinewidth\":0,\"ticks\":\"\"}}}],\"bar\":[{\"error_x\":{\"color\":\"#2a3f5f\"},\"error_y\":{\"color\":\"#2a3f5f\"},\"marker\":{\"line\":{\"color\":\"#E5ECF6\",\"width\":0.5},\"pattern\":{\"fillmode\":\"overlay\",\"size\":10,\"solidity\":0.2}},\"type\":\"bar\"}],\"scattergeo\":[{\"type\":\"scattergeo\",\"marker\":{\"colorbar\":{\"outlinewidth\":0,\"ticks\":\"\"}}}],\"scatterpolar\":[{\"type\":\"scatterpolar\",\"marker\":{\"colorbar\":{\"outlinewidth\":0,\"ticks\":\"\"}}}],\"histogram\":[{\"marker\":{\"pattern\":{\"fillmode\":\"overlay\",\"size\":10,\"solidity\":0.2}},\"type\":\"histogram\"}],\"scattergl\":[{\"type\":\"scattergl\",\"marker\":{\"colorbar\":{\"outlinewidth\":0,\"ticks\":\"\"}}}],\"scatter3d\":[{\"type\":\"scatter3d\",\"line\":{\"colorbar\":{\"outlinewidth\":0,\"ticks\":\"\"}},\"marker\":{\"colorbar\":{\"outlinewidth\":0,\"ticks\":\"\"}}}],\"scattermapbox\":[{\"type\":\"scattermapbox\",\"marker\":{\"colorbar\":{\"outlinewidth\":0,\"ticks\":\"\"}}}],\"scatterternary\":[{\"type\":\"scatterternary\",\"marker\":{\"colorbar\":{\"outlinewidth\":0,\"ticks\":\"\"}}}],\"scattercarpet\":[{\"type\":\"scattercarpet\",\"marker\":{\"colorbar\":{\"outlinewidth\":0,\"ticks\":\"\"}}}],\"carpet\":[{\"aaxis\":{\"endlinecolor\":\"#2a3f5f\",\"gridcolor\":\"white\",\"linecolor\":\"white\",\"minorgridcolor\":\"white\",\"startlinecolor\":\"#2a3f5f\"},\"baxis\":{\"endlinecolor\":\"#2a3f5f\",\"gridcolor\":\"white\",\"linecolor\":\"white\",\"minorgridcolor\":\"white\",\"startlinecolor\":\"#2a3f5f\"},\"type\":\"carpet\"}],\"table\":[{\"cells\":{\"fill\":{\"color\":\"#EBF0F8\"},\"line\":{\"color\":\"white\"}},\"header\":{\"fill\":{\"color\":\"#C8D4E3\"},\"line\":{\"color\":\"white\"}},\"type\":\"table\"}],\"barpolar\":[{\"marker\":{\"line\":{\"color\":\"#E5ECF6\",\"width\":0.5},\"pattern\":{\"fillmode\":\"overlay\",\"size\":10,\"solidity\":0.2}},\"type\":\"barpolar\"}],\"pie\":[{\"automargin\":true,\"type\":\"pie\"}]},\"layout\":{\"autotypenumbers\":\"strict\",\"colorway\":[\"#636efa\",\"#EF553B\",\"#00cc96\",\"#ab63fa\",\"#FFA15A\",\"#19d3f3\",\"#FF6692\",\"#B6E880\",\"#FF97FF\",\"#FECB52\"],\"font\":{\"color\":\"#2a3f5f\"},\"hovermode\":\"closest\",\"hoverlabel\":{\"align\":\"left\"},\"paper_bgcolor\":\"white\",\"plot_bgcolor\":\"#E5ECF6\",\"polar\":{\"bgcolor\":\"#E5ECF6\",\"angularaxis\":{\"gridcolor\":\"white\",\"linecolor\":\"white\",\"ticks\":\"\"},\"radialaxis\":{\"gridcolor\":\"white\",\"linecolor\":\"white\",\"ticks\":\"\"}},\"ternary\":{\"bgcolor\":\"#E5ECF6\",\"aaxis\":{\"gridcolor\":\"white\",\"linecolor\":\"white\",\"ticks\":\"\"},\"baxis\":{\"gridcolor\":\"white\",\"linecolor\":\"white\",\"ticks\":\"\"},\"caxis\":{\"gridcolor\":\"white\",\"linecolor\":\"white\",\"ticks\":\"\"}},\"coloraxis\":{\"colorbar\":{\"outlinewidth\":0,\"ticks\":\"\"}},\"colorscale\":{\"sequential\":[[0.0,\"#0d0887\"],[0.1111111111111111,\"#46039f\"],[0.2222222222222222,\"#7201a8\"],[0.3333333333333333,\"#9c179e\"],[0.4444444444444444,\"#bd3786\"],[0.5555555555555556,\"#d8576b\"],[0.6666666666666666,\"#ed7953\"],[0.7777777777777778,\"#fb9f3a\"],[0.8888888888888888,\"#fdca26\"],[1.0,\"#f0f921\"]],\"sequentialminus\":[[0.0,\"#0d0887\"],[0.1111111111111111,\"#46039f\"],[0.2222222222222222,\"#7201a8\"],[0.3333333333333333,\"#9c179e\"],[0.4444444444444444,\"#bd3786\"],[0.5555555555555556,\"#d8576b\"],[0.6666666666666666,\"#ed7953\"],[0.7777777777777778,\"#fb9f3a\"],[0.8888888888888888,\"#fdca26\"],[1.0,\"#f0f921\"]],\"diverging\":[[0,\"#8e0152\"],[0.1,\"#c51b7d\"],[0.2,\"#de77ae\"],[0.3,\"#f1b6da\"],[0.4,\"#fde0ef\"],[0.5,\"#f7f7f7\"],[0.6,\"#e6f5d0\"],[0.7,\"#b8e186\"],[0.8,\"#7fbc41\"],[0.9,\"#4d9221\"],[1,\"#276419\"]]},\"xaxis\":{\"gridcolor\":\"white\",\"linecolor\":\"white\",\"ticks\":\"\",\"title\":{\"standoff\":15},\"zerolinecolor\":\"white\",\"automargin\":true,\"zerolinewidth\":2},\"yaxis\":{\"gridcolor\":\"white\",\"linecolor\":\"white\",\"ticks\":\"\",\"title\":{\"standoff\":15},\"zerolinecolor\":\"white\",\"automargin\":true,\"zerolinewidth\":2},\"scene\":{\"xaxis\":{\"backgroundcolor\":\"#E5ECF6\",\"gridcolor\":\"white\",\"linecolor\":\"white\",\"showbackground\":true,\"ticks\":\"\",\"zerolinecolor\":\"white\",\"gridwidth\":2},\"yaxis\":{\"backgroundcolor\":\"#E5ECF6\",\"gridcolor\":\"white\",\"linecolor\":\"white\",\"showbackground\":true,\"ticks\":\"\",\"zerolinecolor\":\"white\",\"gridwidth\":2},\"zaxis\":{\"backgroundcolor\":\"#E5ECF6\",\"gridcolor\":\"white\",\"linecolor\":\"white\",\"showbackground\":true,\"ticks\":\"\",\"zerolinecolor\":\"white\",\"gridwidth\":2}},\"shapedefaults\":{\"line\":{\"color\":\"#2a3f5f\"}},\"annotationdefaults\":{\"arrowcolor\":\"#2a3f5f\",\"arrowhead\":0,\"arrowwidth\":1},\"geo\":{\"bgcolor\":\"white\",\"landcolor\":\"#E5ECF6\",\"subunitcolor\":\"white\",\"showland\":true,\"showlakes\":true,\"lakecolor\":\"white\"},\"title\":{\"x\":0.05},\"mapbox\":{\"style\":\"light\"}}},\"xaxis\":{\"anchor\":\"y\",\"domain\":[0.0,1.0],\"title\":{\"text\":\"sum of VIN (1-10)\"}},\"yaxis\":{\"anchor\":\"x\",\"domain\":[0.0,1.0],\"title\":{\"text\":\"Make\"},\"categoryorder\":\"array\",\"categoryarray\":[\"VOLVO\",\"VOLKSWAGEN\",\"TOYOTA\",\"TH!NK\",\"TESLA\",\"SUBARU\",\"SMART\",\"RIVIAN\",\"PORSCHE\",\"POLESTAR\",\"NISSAN\",\"MITSUBISHI\",\"MINI\",\"MERCEDES-BENZ\",\"LUCID MOTORS\",\"LINCOLN\",\"LEXUS\",\"LAND ROVER\",\"KIA\",\"JEEP\",\"JAGUAR\",\"HYUNDAI\",\"HONDA\",\"GENESIS\",\"FORD\",\"FISKER\",\"FIAT\",\"CHRYSLER\",\"CHEVROLET\",\"CADILLAC\",\"BMW\",\"BENTLEY\",\"AZURE DYNAMICS\",\"AUDI\"]},\"legend\":{\"title\":{\"text\":\"Make\"},\"tracegroupgap\":0},\"margin\":{\"t\":60},\"barmode\":\"relative\",\"updatemenus\":[{\"buttons\":[{\"args\":[null,{\"frame\":{\"duration\":500,\"redraw\":true},\"mode\":\"immediate\",\"fromcurrent\":true,\"transition\":{\"duration\":500,\"easing\":\"linear\"}}],\"label\":\"&#9654;\",\"method\":\"animate\"},{\"args\":[[null],{\"frame\":{\"duration\":0,\"redraw\":true},\"mode\":\"immediate\",\"fromcurrent\":true,\"transition\":{\"duration\":0,\"easing\":\"linear\"}}],\"label\":\"&#9724;\",\"method\":\"animate\"}],\"direction\":\"left\",\"pad\":{\"r\":10,\"t\":70},\"showactive\":false,\"type\":\"buttons\",\"x\":0.1,\"xanchor\":\"right\",\"y\":0,\"yanchor\":\"top\"}],\"sliders\":[{\"active\":0,\"currentvalue\":{\"prefix\":\"Model_Year=\"},\"len\":0.9,\"pad\":{\"b\":10,\"t\":60},\"steps\":[{\"args\":[[\"2016\"],{\"frame\":{\"duration\":0,\"redraw\":true},\"mode\":\"immediate\",\"fromcurrent\":true,\"transition\":{\"duration\":0,\"easing\":\"linear\"}}],\"label\":\"2016\",\"method\":\"animate\"},{\"args\":[[\"2017\"],{\"frame\":{\"duration\":0,\"redraw\":true},\"mode\":\"immediate\",\"fromcurrent\":true,\"transition\":{\"duration\":0,\"easing\":\"linear\"}}],\"label\":\"2017\",\"method\":\"animate\"},{\"args\":[[\"2018\"],{\"frame\":{\"duration\":0,\"redraw\":true},\"mode\":\"immediate\",\"fromcurrent\":true,\"transition\":{\"duration\":0,\"easing\":\"linear\"}}],\"label\":\"2018\",\"method\":\"animate\"},{\"args\":[[\"2019\"],{\"frame\":{\"duration\":0,\"redraw\":true},\"mode\":\"immediate\",\"fromcurrent\":true,\"transition\":{\"duration\":0,\"easing\":\"linear\"}}],\"label\":\"2019\",\"method\":\"animate\"},{\"args\":[[\"2020\"],{\"frame\":{\"duration\":0,\"redraw\":true},\"mode\":\"immediate\",\"fromcurrent\":true,\"transition\":{\"duration\":0,\"easing\":\"linear\"}}],\"label\":\"2020\",\"method\":\"animate\"},{\"args\":[[\"2021\"],{\"frame\":{\"duration\":0,\"redraw\":true},\"mode\":\"immediate\",\"fromcurrent\":true,\"transition\":{\"duration\":0,\"easing\":\"linear\"}}],\"label\":\"2021\",\"method\":\"animate\"},{\"args\":[[\"2022\"],{\"frame\":{\"duration\":0,\"redraw\":true},\"mode\":\"immediate\",\"fromcurrent\":true,\"transition\":{\"duration\":0,\"easing\":\"linear\"}}],\"label\":\"2022\",\"method\":\"animate\"},{\"args\":[[\"2023\"],{\"frame\":{\"duration\":0,\"redraw\":true},\"mode\":\"immediate\",\"fromcurrent\":true,\"transition\":{\"duration\":0,\"easing\":\"linear\"}}],\"label\":\"2023\",\"method\":\"animate\"},{\"args\":[[\"2011\"],{\"frame\":{\"duration\":0,\"redraw\":true},\"mode\":\"immediate\",\"fromcurrent\":true,\"transition\":{\"duration\":0,\"easing\":\"linear\"}}],\"label\":\"2011\",\"method\":\"animate\"},{\"args\":[[\"2012\"],{\"frame\":{\"duration\":0,\"redraw\":true},\"mode\":\"immediate\",\"fromcurrent\":true,\"transition\":{\"duration\":0,\"easing\":\"linear\"}}],\"label\":\"2012\",\"method\":\"animate\"},{\"args\":[[\"2014\"],{\"frame\":{\"duration\":0,\"redraw\":true},\"mode\":\"immediate\",\"fromcurrent\":true,\"transition\":{\"duration\":0,\"easing\":\"linear\"}}],\"label\":\"2014\",\"method\":\"animate\"},{\"args\":[[\"2015\"],{\"frame\":{\"duration\":0,\"redraw\":true},\"mode\":\"immediate\",\"fromcurrent\":true,\"transition\":{\"duration\":0,\"easing\":\"linear\"}}],\"label\":\"2015\",\"method\":\"animate\"},{\"args\":[[\"1997\"],{\"frame\":{\"duration\":0,\"redraw\":true},\"mode\":\"immediate\",\"fromcurrent\":true,\"transition\":{\"duration\":0,\"easing\":\"linear\"}}],\"label\":\"1997\",\"method\":\"animate\"},{\"args\":[[\"2013\"],{\"frame\":{\"duration\":0,\"redraw\":true},\"mode\":\"immediate\",\"fromcurrent\":true,\"transition\":{\"duration\":0,\"easing\":\"linear\"}}],\"label\":\"2013\",\"method\":\"animate\"},{\"args\":[[\"1998\"],{\"frame\":{\"duration\":0,\"redraw\":true},\"mode\":\"immediate\",\"fromcurrent\":true,\"transition\":{\"duration\":0,\"easing\":\"linear\"}}],\"label\":\"1998\",\"method\":\"animate\"},{\"args\":[[\"1999\"],{\"frame\":{\"duration\":0,\"redraw\":true},\"mode\":\"immediate\",\"fromcurrent\":true,\"transition\":{\"duration\":0,\"easing\":\"linear\"}}],\"label\":\"1999\",\"method\":\"animate\"},{\"args\":[[\"2000\"],{\"frame\":{\"duration\":0,\"redraw\":true},\"mode\":\"immediate\",\"fromcurrent\":true,\"transition\":{\"duration\":0,\"easing\":\"linear\"}}],\"label\":\"2000\",\"method\":\"animate\"},{\"args\":[[\"2008\"],{\"frame\":{\"duration\":0,\"redraw\":true},\"mode\":\"immediate\",\"fromcurrent\":true,\"transition\":{\"duration\":0,\"easing\":\"linear\"}}],\"label\":\"2008\",\"method\":\"animate\"},{\"args\":[[\"2010\"],{\"frame\":{\"duration\":0,\"redraw\":true},\"mode\":\"immediate\",\"fromcurrent\":true,\"transition\":{\"duration\":0,\"easing\":\"linear\"}}],\"label\":\"2010\",\"method\":\"animate\"},{\"args\":[[\"2002\"],{\"frame\":{\"duration\":0,\"redraw\":true},\"mode\":\"immediate\",\"fromcurrent\":true,\"transition\":{\"duration\":0,\"easing\":\"linear\"}}],\"label\":\"2002\",\"method\":\"animate\"}],\"x\":0.1,\"xanchor\":\"left\",\"y\":0,\"yanchor\":\"top\"}]},                        {\"responsive\": true}                    ).then(function(){\n",
       "                            Plotly.addFrames('78a5d408-16f8-4612-a5d6-014543e49d5c', [{\"data\":[{\"alignmentgroup\":\"True\",\"bingroup\":\"y\",\"histfunc\":\"sum\",\"hovertemplate\":\"Make=%{y}<br>Model_Year=2016<br>sum of VIN (1-10)=%{x}<extra></extra>\",\"legendgroup\":\"AUDI\",\"marker\":{\"color\":\"#636efa\",\"pattern\":{\"shape\":\"\"}},\"name\":\"AUDI\",\"offsetgroup\":\"AUDI\",\"orientation\":\"h\",\"showlegend\":true,\"x\":[214],\"xaxis\":\"x\",\"y\":[\"AUDI\"],\"yaxis\":\"y\",\"type\":\"histogram\"},{\"alignmentgroup\":\"True\",\"bingroup\":\"y\",\"histfunc\":\"sum\",\"hovertemplate\":\"Make=%{y}<br>Model_Year=2016<br>sum of VIN (1-10)=%{x}<extra></extra>\",\"legendgroup\":\"BMW\",\"marker\":{\"color\":\"#ab63fa\",\"pattern\":{\"shape\":\"\"}},\"name\":\"BMW\",\"offsetgroup\":\"BMW\",\"orientation\":\"h\",\"showlegend\":true,\"x\":[383],\"xaxis\":\"x\",\"y\":[\"BMW\"],\"yaxis\":\"y\",\"type\":\"histogram\"},{\"alignmentgroup\":\"True\",\"bingroup\":\"y\",\"histfunc\":\"sum\",\"hovertemplate\":\"Make=%{y}<br>Model_Year=2016<br>sum of VIN (1-10)=%{x}<extra></extra>\",\"legendgroup\":\"CADILLAC\",\"marker\":{\"color\":\"#FFA15A\",\"pattern\":{\"shape\":\"\"}},\"name\":\"CADILLAC\",\"offsetgroup\":\"CADILLAC\",\"orientation\":\"h\",\"showlegend\":true,\"x\":[18],\"xaxis\":\"x\",\"y\":[\"CADILLAC\"],\"yaxis\":\"y\",\"type\":\"histogram\"},{\"alignmentgroup\":\"True\",\"bingroup\":\"y\",\"histfunc\":\"sum\",\"hovertemplate\":\"Make=%{y}<br>Model_Year=2016<br>sum of VIN (1-10)=%{x}<extra></extra>\",\"legendgroup\":\"CHEVROLET\",\"marker\":{\"color\":\"#19d3f3\",\"pattern\":{\"shape\":\"\"}},\"name\":\"CHEVROLET\",\"offsetgroup\":\"CHEVROLET\",\"orientation\":\"h\",\"showlegend\":true,\"x\":[309],\"xaxis\":\"x\",\"y\":[\"CHEVROLET\"],\"yaxis\":\"y\",\"type\":\"histogram\"},{\"alignmentgroup\":\"True\",\"bingroup\":\"y\",\"histfunc\":\"sum\",\"hovertemplate\":\"Make=%{y}<br>Model_Year=2016<br>sum of VIN (1-10)=%{x}<extra></extra>\",\"legendgroup\":\"FIAT\",\"marker\":{\"color\":\"#B6E880\",\"pattern\":{\"shape\":\"\"}},\"name\":\"FIAT\",\"offsetgroup\":\"FIAT\",\"orientation\":\"h\",\"showlegend\":true,\"x\":[148],\"xaxis\":\"x\",\"y\":[\"FIAT\"],\"yaxis\":\"y\",\"type\":\"histogram\"},{\"alignmentgroup\":\"True\",\"bingroup\":\"y\",\"histfunc\":\"sum\",\"hovertemplate\":\"Make=%{y}<br>Model_Year=2016<br>sum of VIN (1-10)=%{x}<extra></extra>\",\"legendgroup\":\"FORD\",\"marker\":{\"color\":\"#FECB52\",\"pattern\":{\"shape\":\"\"}},\"name\":\"FORD\",\"offsetgroup\":\"FORD\",\"orientation\":\"h\",\"showlegend\":true,\"x\":[777],\"xaxis\":\"x\",\"y\":[\"FORD\"],\"yaxis\":\"y\",\"type\":\"histogram\"},{\"alignmentgroup\":\"True\",\"bingroup\":\"y\",\"histfunc\":\"sum\",\"hovertemplate\":\"Make=%{y}<br>Model_Year=2016<br>sum of VIN (1-10)=%{x}<extra></extra>\",\"legendgroup\":\"HYUNDAI\",\"marker\":{\"color\":\"#00cc96\",\"pattern\":{\"shape\":\"\"}},\"name\":\"HYUNDAI\",\"offsetgroup\":\"HYUNDAI\",\"orientation\":\"h\",\"showlegend\":true,\"x\":[44],\"xaxis\":\"x\",\"y\":[\"HYUNDAI\"],\"yaxis\":\"y\",\"type\":\"histogram\"},{\"alignmentgroup\":\"True\",\"bingroup\":\"y\",\"histfunc\":\"sum\",\"hovertemplate\":\"Make=%{y}<br>Model_Year=2016<br>sum of VIN (1-10)=%{x}<extra></extra>\",\"legendgroup\":\"KIA\",\"marker\":{\"color\":\"#19d3f3\",\"pattern\":{\"shape\":\"\"}},\"name\":\"KIA\",\"offsetgroup\":\"KIA\",\"orientation\":\"h\",\"showlegend\":true,\"x\":[407],\"xaxis\":\"x\",\"y\":[\"KIA\"],\"yaxis\":\"y\",\"type\":\"histogram\"},{\"alignmentgroup\":\"True\",\"bingroup\":\"y\",\"histfunc\":\"sum\",\"hovertemplate\":\"Make=%{y}<br>Model_Year=2016<br>sum of VIN (1-10)=%{x}<extra></extra>\",\"legendgroup\":\"MERCEDES-BENZ\",\"marker\":{\"color\":\"#636efa\",\"pattern\":{\"shape\":\"\"}},\"name\":\"MERCEDES-BENZ\",\"offsetgroup\":\"MERCEDES-BENZ\",\"orientation\":\"h\",\"showlegend\":true,\"x\":[35],\"xaxis\":\"x\",\"y\":[\"MERCEDES-BENZ\"],\"yaxis\":\"y\",\"type\":\"histogram\"},{\"alignmentgroup\":\"True\",\"bingroup\":\"y\",\"histfunc\":\"sum\",\"hovertemplate\":\"Make=%{y}<br>Model_Year=2016<br>sum of VIN (1-10)=%{x}<extra></extra>\",\"legendgroup\":\"MITSUBISHI\",\"marker\":{\"color\":\"#00cc96\",\"pattern\":{\"shape\":\"\"}},\"name\":\"MITSUBISHI\",\"offsetgroup\":\"MITSUBISHI\",\"orientation\":\"h\",\"showlegend\":true,\"x\":[12],\"xaxis\":\"x\",\"y\":[\"MITSUBISHI\"],\"yaxis\":\"y\",\"type\":\"histogram\"},{\"alignmentgroup\":\"True\",\"bingroup\":\"y\",\"histfunc\":\"sum\",\"hovertemplate\":\"Make=%{y}<br>Model_Year=2016<br>sum of VIN (1-10)=%{x}<extra></extra>\",\"legendgroup\":\"NISSAN\",\"marker\":{\"color\":\"#ab63fa\",\"pattern\":{\"shape\":\"\"}},\"name\":\"NISSAN\",\"offsetgroup\":\"NISSAN\",\"orientation\":\"h\",\"showlegend\":true,\"x\":[1208],\"xaxis\":\"x\",\"y\":[\"NISSAN\"],\"yaxis\":\"y\",\"type\":\"histogram\"},{\"alignmentgroup\":\"True\",\"bingroup\":\"y\",\"histfunc\":\"sum\",\"hovertemplate\":\"Make=%{y}<br>Model_Year=2016<br>sum of VIN (1-10)=%{x}<extra></extra>\",\"legendgroup\":\"PORSCHE\",\"marker\":{\"color\":\"#19d3f3\",\"pattern\":{\"shape\":\"\"}},\"name\":\"PORSCHE\",\"offsetgroup\":\"PORSCHE\",\"orientation\":\"h\",\"showlegend\":true,\"x\":[78],\"xaxis\":\"x\",\"y\":[\"PORSCHE\"],\"yaxis\":\"y\",\"type\":\"histogram\"},{\"alignmentgroup\":\"True\",\"bingroup\":\"y\",\"histfunc\":\"sum\",\"hovertemplate\":\"Make=%{y}<br>Model_Year=2016<br>sum of VIN (1-10)=%{x}<extra></extra>\",\"legendgroup\":\"SMART\",\"marker\":{\"color\":\"#B6E880\",\"pattern\":{\"shape\":\"\"}},\"name\":\"SMART\",\"offsetgroup\":\"SMART\",\"orientation\":\"h\",\"showlegend\":true,\"x\":[31],\"xaxis\":\"x\",\"y\":[\"SMART\"],\"yaxis\":\"y\",\"type\":\"histogram\"},{\"alignmentgroup\":\"True\",\"bingroup\":\"y\",\"histfunc\":\"sum\",\"hovertemplate\":\"Make=%{y}<br>Model_Year=2016<br>sum of VIN (1-10)=%{x}<extra></extra>\",\"legendgroup\":\"TESLA\",\"marker\":{\"color\":\"#FECB52\",\"pattern\":{\"shape\":\"\"}},\"name\":\"TESLA\",\"offsetgroup\":\"TESLA\",\"orientation\":\"h\",\"showlegend\":true,\"x\":[1637],\"xaxis\":\"x\",\"y\":[\"TESLA\"],\"yaxis\":\"y\",\"type\":\"histogram\"},{\"alignmentgroup\":\"True\",\"bingroup\":\"y\",\"histfunc\":\"sum\",\"hovertemplate\":\"Make=%{y}<br>Model_Year=2016<br>sum of VIN (1-10)=%{x}<extra></extra>\",\"legendgroup\":\"VOLKSWAGEN\",\"marker\":{\"color\":\"#00cc96\",\"pattern\":{\"shape\":\"\"}},\"name\":\"VOLKSWAGEN\",\"offsetgroup\":\"VOLKSWAGEN\",\"orientation\":\"h\",\"showlegend\":true,\"x\":[319],\"xaxis\":\"x\",\"y\":[\"VOLKSWAGEN\"],\"yaxis\":\"y\",\"type\":\"histogram\"},{\"alignmentgroup\":\"True\",\"bingroup\":\"y\",\"histfunc\":\"sum\",\"hovertemplate\":\"Make=%{y}<br>Model_Year=2016<br>sum of VIN (1-10)=%{x}<extra></extra>\",\"legendgroup\":\"VOLVO\",\"marker\":{\"color\":\"#ab63fa\",\"pattern\":{\"shape\":\"\"}},\"name\":\"VOLVO\",\"offsetgroup\":\"VOLVO\",\"orientation\":\"h\",\"showlegend\":true,\"x\":[112],\"xaxis\":\"x\",\"y\":[\"VOLVO\"],\"yaxis\":\"y\",\"type\":\"histogram\"}],\"name\":\"2016\"},{\"data\":[{\"alignmentgroup\":\"True\",\"bingroup\":\"y\",\"histfunc\":\"sum\",\"hovertemplate\":\"Make=%{y}<br>Model_Year=2017<br>sum of VIN (1-10)=%{x}<extra></extra>\",\"legendgroup\":\"AUDI\",\"marker\":{\"color\":\"#636efa\",\"pattern\":{\"shape\":\"\"}},\"name\":\"AUDI\",\"offsetgroup\":\"AUDI\",\"orientation\":\"h\",\"showlegend\":true,\"x\":[187],\"xaxis\":\"x\",\"y\":[\"AUDI\"],\"yaxis\":\"y\",\"type\":\"histogram\"},{\"alignmentgroup\":\"True\",\"bingroup\":\"y\",\"histfunc\":\"sum\",\"hovertemplate\":\"Make=%{y}<br>Model_Year=2017<br>sum of VIN (1-10)=%{x}<extra></extra>\",\"legendgroup\":\"BMW\",\"marker\":{\"color\":\"#ab63fa\",\"pattern\":{\"shape\":\"\"}},\"name\":\"BMW\",\"offsetgroup\":\"BMW\",\"orientation\":\"h\",\"showlegend\":true,\"x\":[692],\"xaxis\":\"x\",\"y\":[\"BMW\"],\"yaxis\":\"y\",\"type\":\"histogram\"},{\"alignmentgroup\":\"True\",\"bingroup\":\"y\",\"histfunc\":\"sum\",\"hovertemplate\":\"Make=%{y}<br>Model_Year=2017<br>sum of VIN (1-10)=%{x}<extra></extra>\",\"legendgroup\":\"CADILLAC\",\"marker\":{\"color\":\"#FFA15A\",\"pattern\":{\"shape\":\"\"}},\"name\":\"CADILLAC\",\"offsetgroup\":\"CADILLAC\",\"orientation\":\"h\",\"showlegend\":true,\"x\":[15],\"xaxis\":\"x\",\"y\":[\"CADILLAC\"],\"yaxis\":\"y\",\"type\":\"histogram\"},{\"alignmentgroup\":\"True\",\"bingroup\":\"y\",\"histfunc\":\"sum\",\"hovertemplate\":\"Make=%{y}<br>Model_Year=2017<br>sum of VIN (1-10)=%{x}<extra></extra>\",\"legendgroup\":\"CHEVROLET\",\"marker\":{\"color\":\"#19d3f3\",\"pattern\":{\"shape\":\"\"}},\"name\":\"CHEVROLET\",\"offsetgroup\":\"CHEVROLET\",\"orientation\":\"h\",\"showlegend\":true,\"x\":[2744],\"xaxis\":\"x\",\"y\":[\"CHEVROLET\"],\"yaxis\":\"y\",\"type\":\"histogram\"},{\"alignmentgroup\":\"True\",\"bingroup\":\"y\",\"histfunc\":\"sum\",\"hovertemplate\":\"Make=%{y}<br>Model_Year=2017<br>sum of VIN (1-10)=%{x}<extra></extra>\",\"legendgroup\":\"CHRYSLER\",\"marker\":{\"color\":\"#FF6692\",\"pattern\":{\"shape\":\"\"}},\"name\":\"CHRYSLER\",\"offsetgroup\":\"CHRYSLER\",\"orientation\":\"h\",\"showlegend\":true,\"x\":[94],\"xaxis\":\"x\",\"y\":[\"CHRYSLER\"],\"yaxis\":\"y\",\"type\":\"histogram\"},{\"alignmentgroup\":\"True\",\"bingroup\":\"y\",\"histfunc\":\"sum\",\"hovertemplate\":\"Make=%{y}<br>Model_Year=2017<br>sum of VIN (1-10)=%{x}<extra></extra>\",\"legendgroup\":\"FIAT\",\"marker\":{\"color\":\"#B6E880\",\"pattern\":{\"shape\":\"\"}},\"name\":\"FIAT\",\"offsetgroup\":\"FIAT\",\"orientation\":\"h\",\"showlegend\":true,\"x\":[167],\"xaxis\":\"x\",\"y\":[\"FIAT\"],\"yaxis\":\"y\",\"type\":\"histogram\"},{\"alignmentgroup\":\"True\",\"bingroup\":\"y\",\"histfunc\":\"sum\",\"hovertemplate\":\"Make=%{y}<br>Model_Year=2017<br>sum of VIN (1-10)=%{x}<extra></extra>\",\"legendgroup\":\"FORD\",\"marker\":{\"color\":\"#FECB52\",\"pattern\":{\"shape\":\"\"}},\"name\":\"FORD\",\"offsetgroup\":\"FORD\",\"orientation\":\"h\",\"showlegend\":true,\"x\":[659],\"xaxis\":\"x\",\"y\":[\"FORD\"],\"yaxis\":\"y\",\"type\":\"histogram\"},{\"alignmentgroup\":\"True\",\"bingroup\":\"y\",\"histfunc\":\"sum\",\"hovertemplate\":\"Make=%{y}<br>Model_Year=2017<br>sum of VIN (1-10)=%{x}<extra></extra>\",\"legendgroup\":\"HYUNDAI\",\"marker\":{\"color\":\"#00cc96\",\"pattern\":{\"shape\":\"\"}},\"name\":\"HYUNDAI\",\"offsetgroup\":\"HYUNDAI\",\"orientation\":\"h\",\"showlegend\":true,\"x\":[46],\"xaxis\":\"x\",\"y\":[\"HYUNDAI\"],\"yaxis\":\"y\",\"type\":\"histogram\"},{\"alignmentgroup\":\"True\",\"bingroup\":\"y\",\"histfunc\":\"sum\",\"hovertemplate\":\"Make=%{y}<br>Model_Year=2017<br>sum of VIN (1-10)=%{x}<extra></extra>\",\"legendgroup\":\"KIA\",\"marker\":{\"color\":\"#19d3f3\",\"pattern\":{\"shape\":\"\"}},\"name\":\"KIA\",\"offsetgroup\":\"KIA\",\"orientation\":\"h\",\"showlegend\":true,\"x\":[209],\"xaxis\":\"x\",\"y\":[\"KIA\"],\"yaxis\":\"y\",\"type\":\"histogram\"},{\"alignmentgroup\":\"True\",\"bingroup\":\"y\",\"histfunc\":\"sum\",\"hovertemplate\":\"Make=%{y}<br>Model_Year=2017<br>sum of VIN (1-10)=%{x}<extra></extra>\",\"legendgroup\":\"MERCEDES-BENZ\",\"marker\":{\"color\":\"#636efa\",\"pattern\":{\"shape\":\"\"}},\"name\":\"MERCEDES-BENZ\",\"offsetgroup\":\"MERCEDES-BENZ\",\"orientation\":\"h\",\"showlegend\":true,\"x\":[45],\"xaxis\":\"x\",\"y\":[\"MERCEDES-BENZ\"],\"yaxis\":\"y\",\"type\":\"histogram\"},{\"alignmentgroup\":\"True\",\"bingroup\":\"y\",\"histfunc\":\"sum\",\"hovertemplate\":\"Make=%{y}<br>Model_Year=2017<br>sum of VIN (1-10)=%{x}<extra></extra>\",\"legendgroup\":\"MITSUBISHI\",\"marker\":{\"color\":\"#00cc96\",\"pattern\":{\"shape\":\"\"}},\"name\":\"MITSUBISHI\",\"offsetgroup\":\"MITSUBISHI\",\"orientation\":\"h\",\"showlegend\":true,\"x\":[1],\"xaxis\":\"x\",\"y\":[\"MITSUBISHI\"],\"yaxis\":\"y\",\"type\":\"histogram\"},{\"alignmentgroup\":\"True\",\"bingroup\":\"y\",\"histfunc\":\"sum\",\"hovertemplate\":\"Make=%{y}<br>Model_Year=2017<br>sum of VIN (1-10)=%{x}<extra></extra>\",\"legendgroup\":\"NISSAN\",\"marker\":{\"color\":\"#ab63fa\",\"pattern\":{\"shape\":\"\"}},\"name\":\"NISSAN\",\"offsetgroup\":\"NISSAN\",\"orientation\":\"h\",\"showlegend\":true,\"x\":[934],\"xaxis\":\"x\",\"y\":[\"NISSAN\"],\"yaxis\":\"y\",\"type\":\"histogram\"},{\"alignmentgroup\":\"True\",\"bingroup\":\"y\",\"histfunc\":\"sum\",\"hovertemplate\":\"Make=%{y}<br>Model_Year=2017<br>sum of VIN (1-10)=%{x}<extra></extra>\",\"legendgroup\":\"PORSCHE\",\"marker\":{\"color\":\"#19d3f3\",\"pattern\":{\"shape\":\"\"}},\"name\":\"PORSCHE\",\"offsetgroup\":\"PORSCHE\",\"orientation\":\"h\",\"showlegend\":true,\"x\":[71],\"xaxis\":\"x\",\"y\":[\"PORSCHE\"],\"yaxis\":\"y\",\"type\":\"histogram\"},{\"alignmentgroup\":\"True\",\"bingroup\":\"y\",\"histfunc\":\"sum\",\"hovertemplate\":\"Make=%{y}<br>Model_Year=2017<br>sum of VIN (1-10)=%{x}<extra></extra>\",\"legendgroup\":\"SMART\",\"marker\":{\"color\":\"#B6E880\",\"pattern\":{\"shape\":\"\"}},\"name\":\"SMART\",\"offsetgroup\":\"SMART\",\"orientation\":\"h\",\"showlegend\":true,\"x\":[34],\"xaxis\":\"x\",\"y\":[\"SMART\"],\"yaxis\":\"y\",\"type\":\"histogram\"},{\"alignmentgroup\":\"True\",\"bingroup\":\"y\",\"histfunc\":\"sum\",\"hovertemplate\":\"Make=%{y}<br>Model_Year=2017<br>sum of VIN (1-10)=%{x}<extra></extra>\",\"legendgroup\":\"TESLA\",\"marker\":{\"color\":\"#FECB52\",\"pattern\":{\"shape\":\"\"}},\"name\":\"TESLA\",\"offsetgroup\":\"TESLA\",\"orientation\":\"h\",\"showlegend\":true,\"x\":[1679],\"xaxis\":\"x\",\"y\":[\"TESLA\"],\"yaxis\":\"y\",\"type\":\"histogram\"},{\"alignmentgroup\":\"True\",\"bingroup\":\"y\",\"histfunc\":\"sum\",\"hovertemplate\":\"Make=%{y}<br>Model_Year=2017<br>sum of VIN (1-10)=%{x}<extra></extra>\",\"legendgroup\":\"TOYOTA\",\"marker\":{\"color\":\"#EF553B\",\"pattern\":{\"shape\":\"\"}},\"name\":\"TOYOTA\",\"offsetgroup\":\"TOYOTA\",\"orientation\":\"h\",\"showlegend\":true,\"x\":[898],\"xaxis\":\"x\",\"y\":[\"TOYOTA\"],\"yaxis\":\"y\",\"type\":\"histogram\"},{\"alignmentgroup\":\"True\",\"bingroup\":\"y\",\"histfunc\":\"sum\",\"hovertemplate\":\"Make=%{y}<br>Model_Year=2017<br>sum of VIN (1-10)=%{x}<extra></extra>\",\"legendgroup\":\"VOLKSWAGEN\",\"marker\":{\"color\":\"#00cc96\",\"pattern\":{\"shape\":\"\"}},\"name\":\"VOLKSWAGEN\",\"offsetgroup\":\"VOLKSWAGEN\",\"orientation\":\"h\",\"showlegend\":true,\"x\":[52],\"xaxis\":\"x\",\"y\":[\"VOLKSWAGEN\"],\"yaxis\":\"y\",\"type\":\"histogram\"},{\"alignmentgroup\":\"True\",\"bingroup\":\"y\",\"histfunc\":\"sum\",\"hovertemplate\":\"Make=%{y}<br>Model_Year=2017<br>sum of VIN (1-10)=%{x}<extra></extra>\",\"legendgroup\":\"VOLVO\",\"marker\":{\"color\":\"#ab63fa\",\"pattern\":{\"shape\":\"\"}},\"name\":\"VOLVO\",\"offsetgroup\":\"VOLVO\",\"orientation\":\"h\",\"showlegend\":true,\"x\":[115],\"xaxis\":\"x\",\"y\":[\"VOLVO\"],\"yaxis\":\"y\",\"type\":\"histogram\"}],\"name\":\"2017\"},{\"data\":[{\"alignmentgroup\":\"True\",\"bingroup\":\"y\",\"histfunc\":\"sum\",\"hovertemplate\":\"Make=%{y}<br>Model_Year=2018<br>sum of VIN (1-10)=%{x}<extra></extra>\",\"legendgroup\":\"AUDI\",\"marker\":{\"color\":\"#636efa\",\"pattern\":{\"shape\":\"\"}},\"name\":\"AUDI\",\"offsetgroup\":\"AUDI\",\"orientation\":\"h\",\"showlegend\":true,\"x\":[174],\"xaxis\":\"x\",\"y\":[\"AUDI\"],\"yaxis\":\"y\",\"type\":\"histogram\"},{\"alignmentgroup\":\"True\",\"bingroup\":\"y\",\"histfunc\":\"sum\",\"hovertemplate\":\"Make=%{y}<br>Model_Year=2018<br>sum of VIN (1-10)=%{x}<extra></extra>\",\"legendgroup\":\"BMW\",\"marker\":{\"color\":\"#ab63fa\",\"pattern\":{\"shape\":\"\"}},\"name\":\"BMW\",\"offsetgroup\":\"BMW\",\"orientation\":\"h\",\"showlegend\":true,\"x\":[710],\"xaxis\":\"x\",\"y\":[\"BMW\"],\"yaxis\":\"y\",\"type\":\"histogram\"},{\"alignmentgroup\":\"True\",\"bingroup\":\"y\",\"histfunc\":\"sum\",\"hovertemplate\":\"Make=%{y}<br>Model_Year=2018<br>sum of VIN (1-10)=%{x}<extra></extra>\",\"legendgroup\":\"CADILLAC\",\"marker\":{\"color\":\"#FFA15A\",\"pattern\":{\"shape\":\"\"}},\"name\":\"CADILLAC\",\"offsetgroup\":\"CADILLAC\",\"orientation\":\"h\",\"showlegend\":true,\"x\":[17],\"xaxis\":\"x\",\"y\":[\"CADILLAC\"],\"yaxis\":\"y\",\"type\":\"histogram\"},{\"alignmentgroup\":\"True\",\"bingroup\":\"y\",\"histfunc\":\"sum\",\"hovertemplate\":\"Make=%{y}<br>Model_Year=2018<br>sum of VIN (1-10)=%{x}<extra></extra>\",\"legendgroup\":\"CHEVROLET\",\"marker\":{\"color\":\"#19d3f3\",\"pattern\":{\"shape\":\"\"}},\"name\":\"CHEVROLET\",\"offsetgroup\":\"CHEVROLET\",\"orientation\":\"h\",\"showlegend\":true,\"x\":[1126],\"xaxis\":\"x\",\"y\":[\"CHEVROLET\"],\"yaxis\":\"y\",\"type\":\"histogram\"},{\"alignmentgroup\":\"True\",\"bingroup\":\"y\",\"histfunc\":\"sum\",\"hovertemplate\":\"Make=%{y}<br>Model_Year=2018<br>sum of VIN (1-10)=%{x}<extra></extra>\",\"legendgroup\":\"CHRYSLER\",\"marker\":{\"color\":\"#FF6692\",\"pattern\":{\"shape\":\"\"}},\"name\":\"CHRYSLER\",\"offsetgroup\":\"CHRYSLER\",\"orientation\":\"h\",\"showlegend\":true,\"x\":[554],\"xaxis\":\"x\",\"y\":[\"CHRYSLER\"],\"yaxis\":\"y\",\"type\":\"histogram\"},{\"alignmentgroup\":\"True\",\"bingroup\":\"y\",\"histfunc\":\"sum\",\"hovertemplate\":\"Make=%{y}<br>Model_Year=2018<br>sum of VIN (1-10)=%{x}<extra></extra>\",\"legendgroup\":\"FIAT\",\"marker\":{\"color\":\"#B6E880\",\"pattern\":{\"shape\":\"\"}},\"name\":\"FIAT\",\"offsetgroup\":\"FIAT\",\"orientation\":\"h\",\"showlegend\":true,\"x\":[53],\"xaxis\":\"x\",\"y\":[\"FIAT\"],\"yaxis\":\"y\",\"type\":\"histogram\"},{\"alignmentgroup\":\"True\",\"bingroup\":\"y\",\"histfunc\":\"sum\",\"hovertemplate\":\"Make=%{y}<br>Model_Year=2018<br>sum of VIN (1-10)=%{x}<extra></extra>\",\"legendgroup\":\"FORD\",\"marker\":{\"color\":\"#FECB52\",\"pattern\":{\"shape\":\"\"}},\"name\":\"FORD\",\"offsetgroup\":\"FORD\",\"orientation\":\"h\",\"showlegend\":true,\"x\":[170],\"xaxis\":\"x\",\"y\":[\"FORD\"],\"yaxis\":\"y\",\"type\":\"histogram\"},{\"alignmentgroup\":\"True\",\"bingroup\":\"y\",\"histfunc\":\"sum\",\"hovertemplate\":\"Make=%{y}<br>Model_Year=2018<br>sum of VIN (1-10)=%{x}<extra></extra>\",\"legendgroup\":\"HONDA\",\"marker\":{\"color\":\"#EF553B\",\"pattern\":{\"shape\":\"\"}},\"name\":\"HONDA\",\"offsetgroup\":\"HONDA\",\"orientation\":\"h\",\"showlegend\":true,\"x\":[614],\"xaxis\":\"x\",\"y\":[\"HONDA\"],\"yaxis\":\"y\",\"type\":\"histogram\"},{\"alignmentgroup\":\"True\",\"bingroup\":\"y\",\"histfunc\":\"sum\",\"hovertemplate\":\"Make=%{y}<br>Model_Year=2018<br>sum of VIN (1-10)=%{x}<extra></extra>\",\"legendgroup\":\"HYUNDAI\",\"marker\":{\"color\":\"#00cc96\",\"pattern\":{\"shape\":\"\"}},\"name\":\"HYUNDAI\",\"offsetgroup\":\"HYUNDAI\",\"orientation\":\"h\",\"showlegend\":true,\"x\":[20],\"xaxis\":\"x\",\"y\":[\"HYUNDAI\"],\"yaxis\":\"y\",\"type\":\"histogram\"},{\"alignmentgroup\":\"True\",\"bingroup\":\"y\",\"histfunc\":\"sum\",\"hovertemplate\":\"Make=%{y}<br>Model_Year=2018<br>sum of VIN (1-10)=%{x}<extra></extra>\",\"legendgroup\":\"KIA\",\"marker\":{\"color\":\"#19d3f3\",\"pattern\":{\"shape\":\"\"}},\"name\":\"KIA\",\"offsetgroup\":\"KIA\",\"orientation\":\"h\",\"showlegend\":true,\"x\":[322],\"xaxis\":\"x\",\"y\":[\"KIA\"],\"yaxis\":\"y\",\"type\":\"histogram\"},{\"alignmentgroup\":\"True\",\"bingroup\":\"y\",\"histfunc\":\"sum\",\"hovertemplate\":\"Make=%{y}<br>Model_Year=2018<br>sum of VIN (1-10)=%{x}<extra></extra>\",\"legendgroup\":\"MERCEDES-BENZ\",\"marker\":{\"color\":\"#636efa\",\"pattern\":{\"shape\":\"\"}},\"name\":\"MERCEDES-BENZ\",\"offsetgroup\":\"MERCEDES-BENZ\",\"orientation\":\"h\",\"showlegend\":true,\"x\":[53],\"xaxis\":\"x\",\"y\":[\"MERCEDES-BENZ\"],\"yaxis\":\"y\",\"type\":\"histogram\"},{\"alignmentgroup\":\"True\",\"bingroup\":\"y\",\"histfunc\":\"sum\",\"hovertemplate\":\"Make=%{y}<br>Model_Year=2018<br>sum of VIN (1-10)=%{x}<extra></extra>\",\"legendgroup\":\"MINI\",\"marker\":{\"color\":\"#EF553B\",\"pattern\":{\"shape\":\"\"}},\"name\":\"MINI\",\"offsetgroup\":\"MINI\",\"orientation\":\"h\",\"showlegend\":true,\"x\":[50],\"xaxis\":\"x\",\"y\":[\"MINI\"],\"yaxis\":\"y\",\"type\":\"histogram\"},{\"alignmentgroup\":\"True\",\"bingroup\":\"y\",\"histfunc\":\"sum\",\"hovertemplate\":\"Make=%{y}<br>Model_Year=2018<br>sum of VIN (1-10)=%{x}<extra></extra>\",\"legendgroup\":\"MITSUBISHI\",\"marker\":{\"color\":\"#00cc96\",\"pattern\":{\"shape\":\"\"}},\"name\":\"MITSUBISHI\",\"offsetgroup\":\"MITSUBISHI\",\"orientation\":\"h\",\"showlegend\":true,\"x\":[183],\"xaxis\":\"x\",\"y\":[\"MITSUBISHI\"],\"yaxis\":\"y\",\"type\":\"histogram\"},{\"alignmentgroup\":\"True\",\"bingroup\":\"y\",\"histfunc\":\"sum\",\"hovertemplate\":\"Make=%{y}<br>Model_Year=2018<br>sum of VIN (1-10)=%{x}<extra></extra>\",\"legendgroup\":\"NISSAN\",\"marker\":{\"color\":\"#ab63fa\",\"pattern\":{\"shape\":\"\"}},\"name\":\"NISSAN\",\"offsetgroup\":\"NISSAN\",\"orientation\":\"h\",\"showlegend\":true,\"x\":[1232],\"xaxis\":\"x\",\"y\":[\"NISSAN\"],\"yaxis\":\"y\",\"type\":\"histogram\"},{\"alignmentgroup\":\"True\",\"bingroup\":\"y\",\"histfunc\":\"sum\",\"hovertemplate\":\"Make=%{y}<br>Model_Year=2018<br>sum of VIN (1-10)=%{x}<extra></extra>\",\"legendgroup\":\"PORSCHE\",\"marker\":{\"color\":\"#19d3f3\",\"pattern\":{\"shape\":\"\"}},\"name\":\"PORSCHE\",\"offsetgroup\":\"PORSCHE\",\"orientation\":\"h\",\"showlegend\":true,\"x\":[78],\"xaxis\":\"x\",\"y\":[\"PORSCHE\"],\"yaxis\":\"y\",\"type\":\"histogram\"},{\"alignmentgroup\":\"True\",\"bingroup\":\"y\",\"histfunc\":\"sum\",\"hovertemplate\":\"Make=%{y}<br>Model_Year=2018<br>sum of VIN (1-10)=%{x}<extra></extra>\",\"legendgroup\":\"SMART\",\"marker\":{\"color\":\"#B6E880\",\"pattern\":{\"shape\":\"\"}},\"name\":\"SMART\",\"offsetgroup\":\"SMART\",\"orientation\":\"h\",\"showlegend\":true,\"x\":[47],\"xaxis\":\"x\",\"y\":[\"SMART\"],\"yaxis\":\"y\",\"type\":\"histogram\"},{\"alignmentgroup\":\"True\",\"bingroup\":\"y\",\"histfunc\":\"sum\",\"hovertemplate\":\"Make=%{y}<br>Model_Year=2018<br>sum of VIN (1-10)=%{x}<extra></extra>\",\"legendgroup\":\"TESLA\",\"marker\":{\"color\":\"#FECB52\",\"pattern\":{\"shape\":\"\"}},\"name\":\"TESLA\",\"offsetgroup\":\"TESLA\",\"orientation\":\"h\",\"showlegend\":true,\"x\":[7918],\"xaxis\":\"x\",\"y\":[\"TESLA\"],\"yaxis\":\"y\",\"type\":\"histogram\"},{\"alignmentgroup\":\"True\",\"bingroup\":\"y\",\"histfunc\":\"sum\",\"hovertemplate\":\"Make=%{y}<br>Model_Year=2018<br>sum of VIN (1-10)=%{x}<extra></extra>\",\"legendgroup\":\"TOYOTA\",\"marker\":{\"color\":\"#EF553B\",\"pattern\":{\"shape\":\"\"}},\"name\":\"TOYOTA\",\"offsetgroup\":\"TOYOTA\",\"orientation\":\"h\",\"showlegend\":true,\"x\":[659],\"xaxis\":\"x\",\"y\":[\"TOYOTA\"],\"yaxis\":\"y\",\"type\":\"histogram\"},{\"alignmentgroup\":\"True\",\"bingroup\":\"y\",\"histfunc\":\"sum\",\"hovertemplate\":\"Make=%{y}<br>Model_Year=2018<br>sum of VIN (1-10)=%{x}<extra></extra>\",\"legendgroup\":\"VOLKSWAGEN\",\"marker\":{\"color\":\"#00cc96\",\"pattern\":{\"shape\":\"\"}},\"name\":\"VOLKSWAGEN\",\"offsetgroup\":\"VOLKSWAGEN\",\"orientation\":\"h\",\"showlegend\":true,\"x\":[39],\"xaxis\":\"x\",\"y\":[\"VOLKSWAGEN\"],\"yaxis\":\"y\",\"type\":\"histogram\"},{\"alignmentgroup\":\"True\",\"bingroup\":\"y\",\"histfunc\":\"sum\",\"hovertemplate\":\"Make=%{y}<br>Model_Year=2018<br>sum of VIN (1-10)=%{x}<extra></extra>\",\"legendgroup\":\"VOLVO\",\"marker\":{\"color\":\"#ab63fa\",\"pattern\":{\"shape\":\"\"}},\"name\":\"VOLVO\",\"offsetgroup\":\"VOLVO\",\"orientation\":\"h\",\"showlegend\":true,\"x\":[226],\"xaxis\":\"x\",\"y\":[\"VOLVO\"],\"yaxis\":\"y\",\"type\":\"histogram\"}],\"name\":\"2018\"},{\"data\":[{\"alignmentgroup\":\"True\",\"bingroup\":\"y\",\"histfunc\":\"sum\",\"hovertemplate\":\"Make=%{y}<br>Model_Year=2019<br>sum of VIN (1-10)=%{x}<extra></extra>\",\"legendgroup\":\"AUDI\",\"marker\":{\"color\":\"#636efa\",\"pattern\":{\"shape\":\"\"}},\"name\":\"AUDI\",\"offsetgroup\":\"AUDI\",\"orientation\":\"h\",\"showlegend\":true,\"x\":[392],\"xaxis\":\"x\",\"y\":[\"AUDI\"],\"yaxis\":\"y\",\"type\":\"histogram\"},{\"alignmentgroup\":\"True\",\"bingroup\":\"y\",\"histfunc\":\"sum\",\"hovertemplate\":\"Make=%{y}<br>Model_Year=2019<br>sum of VIN (1-10)=%{x}<extra></extra>\",\"legendgroup\":\"BMW\",\"marker\":{\"color\":\"#ab63fa\",\"pattern\":{\"shape\":\"\"}},\"name\":\"BMW\",\"offsetgroup\":\"BMW\",\"orientation\":\"h\",\"showlegend\":true,\"x\":[279],\"xaxis\":\"x\",\"y\":[\"BMW\"],\"yaxis\":\"y\",\"type\":\"histogram\"},{\"alignmentgroup\":\"True\",\"bingroup\":\"y\",\"histfunc\":\"sum\",\"hovertemplate\":\"Make=%{y}<br>Model_Year=2019<br>sum of VIN (1-10)=%{x}<extra></extra>\",\"legendgroup\":\"CHEVROLET\",\"marker\":{\"color\":\"#19d3f3\",\"pattern\":{\"shape\":\"\"}},\"name\":\"CHEVROLET\",\"offsetgroup\":\"CHEVROLET\",\"orientation\":\"h\",\"showlegend\":true,\"x\":[966],\"xaxis\":\"x\",\"y\":[\"CHEVROLET\"],\"yaxis\":\"y\",\"type\":\"histogram\"},{\"alignmentgroup\":\"True\",\"bingroup\":\"y\",\"histfunc\":\"sum\",\"hovertemplate\":\"Make=%{y}<br>Model_Year=2019<br>sum of VIN (1-10)=%{x}<extra></extra>\",\"legendgroup\":\"CHRYSLER\",\"marker\":{\"color\":\"#FF6692\",\"pattern\":{\"shape\":\"\"}},\"name\":\"CHRYSLER\",\"offsetgroup\":\"CHRYSLER\",\"orientation\":\"h\",\"showlegend\":true,\"x\":[119],\"xaxis\":\"x\",\"y\":[\"CHRYSLER\"],\"yaxis\":\"y\",\"type\":\"histogram\"},{\"alignmentgroup\":\"True\",\"bingroup\":\"y\",\"histfunc\":\"sum\",\"hovertemplate\":\"Make=%{y}<br>Model_Year=2019<br>sum of VIN (1-10)=%{x}<extra></extra>\",\"legendgroup\":\"FIAT\",\"marker\":{\"color\":\"#B6E880\",\"pattern\":{\"shape\":\"\"}},\"name\":\"FIAT\",\"offsetgroup\":\"FIAT\",\"orientation\":\"h\",\"showlegend\":true,\"x\":[9],\"xaxis\":\"x\",\"y\":[\"FIAT\"],\"yaxis\":\"y\",\"type\":\"histogram\"},{\"alignmentgroup\":\"True\",\"bingroup\":\"y\",\"histfunc\":\"sum\",\"hovertemplate\":\"Make=%{y}<br>Model_Year=2019<br>sum of VIN (1-10)=%{x}<extra></extra>\",\"legendgroup\":\"FORD\",\"marker\":{\"color\":\"#FECB52\",\"pattern\":{\"shape\":\"\"}},\"name\":\"FORD\",\"offsetgroup\":\"FORD\",\"orientation\":\"h\",\"showlegend\":true,\"x\":[136],\"xaxis\":\"x\",\"y\":[\"FORD\"],\"yaxis\":\"y\",\"type\":\"histogram\"},{\"alignmentgroup\":\"True\",\"bingroup\":\"y\",\"histfunc\":\"sum\",\"hovertemplate\":\"Make=%{y}<br>Model_Year=2019<br>sum of VIN (1-10)=%{x}<extra></extra>\",\"legendgroup\":\"HONDA\",\"marker\":{\"color\":\"#EF553B\",\"pattern\":{\"shape\":\"\"}},\"name\":\"HONDA\",\"offsetgroup\":\"HONDA\",\"orientation\":\"h\",\"showlegend\":true,\"x\":[73],\"xaxis\":\"x\",\"y\":[\"HONDA\"],\"yaxis\":\"y\",\"type\":\"histogram\"},{\"alignmentgroup\":\"True\",\"bingroup\":\"y\",\"histfunc\":\"sum\",\"hovertemplate\":\"Make=%{y}<br>Model_Year=2019<br>sum of VIN (1-10)=%{x}<extra></extra>\",\"legendgroup\":\"HYUNDAI\",\"marker\":{\"color\":\"#00cc96\",\"pattern\":{\"shape\":\"\"}},\"name\":\"HYUNDAI\",\"offsetgroup\":\"HYUNDAI\",\"orientation\":\"h\",\"showlegend\":true,\"x\":[116],\"xaxis\":\"x\",\"y\":[\"HYUNDAI\"],\"yaxis\":\"y\",\"type\":\"histogram\"},{\"alignmentgroup\":\"True\",\"bingroup\":\"y\",\"histfunc\":\"sum\",\"hovertemplate\":\"Make=%{y}<br>Model_Year=2019<br>sum of VIN (1-10)=%{x}<extra></extra>\",\"legendgroup\":\"JAGUAR\",\"marker\":{\"color\":\"#ab63fa\",\"pattern\":{\"shape\":\"\"}},\"name\":\"JAGUAR\",\"offsetgroup\":\"JAGUAR\",\"orientation\":\"h\",\"showlegend\":true,\"x\":[120],\"xaxis\":\"x\",\"y\":[\"JAGUAR\"],\"yaxis\":\"y\",\"type\":\"histogram\"},{\"alignmentgroup\":\"True\",\"bingroup\":\"y\",\"histfunc\":\"sum\",\"hovertemplate\":\"Make=%{y}<br>Model_Year=2019<br>sum of VIN (1-10)=%{x}<extra></extra>\",\"legendgroup\":\"KIA\",\"marker\":{\"color\":\"#19d3f3\",\"pattern\":{\"shape\":\"\"}},\"name\":\"KIA\",\"offsetgroup\":\"KIA\",\"orientation\":\"h\",\"showlegend\":true,\"x\":[681],\"xaxis\":\"x\",\"y\":[\"KIA\"],\"yaxis\":\"y\",\"type\":\"histogram\"},{\"alignmentgroup\":\"True\",\"bingroup\":\"y\",\"histfunc\":\"sum\",\"hovertemplate\":\"Make=%{y}<br>Model_Year=2019<br>sum of VIN (1-10)=%{x}<extra></extra>\",\"legendgroup\":\"MERCEDES-BENZ\",\"marker\":{\"color\":\"#636efa\",\"pattern\":{\"shape\":\"\"}},\"name\":\"MERCEDES-BENZ\",\"offsetgroup\":\"MERCEDES-BENZ\",\"orientation\":\"h\",\"showlegend\":true,\"x\":[133],\"xaxis\":\"x\",\"y\":[\"MERCEDES-BENZ\"],\"yaxis\":\"y\",\"type\":\"histogram\"},{\"alignmentgroup\":\"True\",\"bingroup\":\"y\",\"histfunc\":\"sum\",\"hovertemplate\":\"Make=%{y}<br>Model_Year=2019<br>sum of VIN (1-10)=%{x}<extra></extra>\",\"legendgroup\":\"MINI\",\"marker\":{\"color\":\"#EF553B\",\"pattern\":{\"shape\":\"\"}},\"name\":\"MINI\",\"offsetgroup\":\"MINI\",\"orientation\":\"h\",\"showlegend\":true,\"x\":[100],\"xaxis\":\"x\",\"y\":[\"MINI\"],\"yaxis\":\"y\",\"type\":\"histogram\"},{\"alignmentgroup\":\"True\",\"bingroup\":\"y\",\"histfunc\":\"sum\",\"hovertemplate\":\"Make=%{y}<br>Model_Year=2019<br>sum of VIN (1-10)=%{x}<extra></extra>\",\"legendgroup\":\"MITSUBISHI\",\"marker\":{\"color\":\"#00cc96\",\"pattern\":{\"shape\":\"\"}},\"name\":\"MITSUBISHI\",\"offsetgroup\":\"MITSUBISHI\",\"orientation\":\"h\",\"showlegend\":true,\"x\":[146],\"xaxis\":\"x\",\"y\":[\"MITSUBISHI\"],\"yaxis\":\"y\",\"type\":\"histogram\"},{\"alignmentgroup\":\"True\",\"bingroup\":\"y\",\"histfunc\":\"sum\",\"hovertemplate\":\"Make=%{y}<br>Model_Year=2019<br>sum of VIN (1-10)=%{x}<extra></extra>\",\"legendgroup\":\"NISSAN\",\"marker\":{\"color\":\"#ab63fa\",\"pattern\":{\"shape\":\"\"}},\"name\":\"NISSAN\",\"offsetgroup\":\"NISSAN\",\"orientation\":\"h\",\"showlegend\":true,\"x\":[1408],\"xaxis\":\"x\",\"y\":[\"NISSAN\"],\"yaxis\":\"y\",\"type\":\"histogram\"},{\"alignmentgroup\":\"True\",\"bingroup\":\"y\",\"histfunc\":\"sum\",\"hovertemplate\":\"Make=%{y}<br>Model_Year=2019<br>sum of VIN (1-10)=%{x}<extra></extra>\",\"legendgroup\":\"PORSCHE\",\"marker\":{\"color\":\"#19d3f3\",\"pattern\":{\"shape\":\"\"}},\"name\":\"PORSCHE\",\"offsetgroup\":\"PORSCHE\",\"orientation\":\"h\",\"showlegend\":true,\"x\":[62],\"xaxis\":\"x\",\"y\":[\"PORSCHE\"],\"yaxis\":\"y\",\"type\":\"histogram\"},{\"alignmentgroup\":\"True\",\"bingroup\":\"y\",\"histfunc\":\"sum\",\"hovertemplate\":\"Make=%{y}<br>Model_Year=2019<br>sum of VIN (1-10)=%{x}<extra></extra>\",\"legendgroup\":\"SMART\",\"marker\":{\"color\":\"#B6E880\",\"pattern\":{\"shape\":\"\"}},\"name\":\"SMART\",\"offsetgroup\":\"SMART\",\"orientation\":\"h\",\"showlegend\":true,\"x\":[9],\"xaxis\":\"x\",\"y\":[\"SMART\"],\"yaxis\":\"y\",\"type\":\"histogram\"},{\"alignmentgroup\":\"True\",\"bingroup\":\"y\",\"histfunc\":\"sum\",\"hovertemplate\":\"Make=%{y}<br>Model_Year=2019<br>sum of VIN (1-10)=%{x}<extra></extra>\",\"legendgroup\":\"SUBARU\",\"marker\":{\"color\":\"#FF97FF\",\"pattern\":{\"shape\":\"\"}},\"name\":\"SUBARU\",\"offsetgroup\":\"SUBARU\",\"orientation\":\"h\",\"showlegend\":true,\"x\":[58],\"xaxis\":\"x\",\"y\":[\"SUBARU\"],\"yaxis\":\"y\",\"type\":\"histogram\"},{\"alignmentgroup\":\"True\",\"bingroup\":\"y\",\"histfunc\":\"sum\",\"hovertemplate\":\"Make=%{y}<br>Model_Year=2019<br>sum of VIN (1-10)=%{x}<extra></extra>\",\"legendgroup\":\"TESLA\",\"marker\":{\"color\":\"#FECB52\",\"pattern\":{\"shape\":\"\"}},\"name\":\"TESLA\",\"offsetgroup\":\"TESLA\",\"orientation\":\"h\",\"showlegend\":true,\"x\":[4583],\"xaxis\":\"x\",\"y\":[\"TESLA\"],\"yaxis\":\"y\",\"type\":\"histogram\"},{\"alignmentgroup\":\"True\",\"bingroup\":\"y\",\"histfunc\":\"sum\",\"hovertemplate\":\"Make=%{y}<br>Model_Year=2019<br>sum of VIN (1-10)=%{x}<extra></extra>\",\"legendgroup\":\"TOYOTA\",\"marker\":{\"color\":\"#EF553B\",\"pattern\":{\"shape\":\"\"}},\"name\":\"TOYOTA\",\"offsetgroup\":\"TOYOTA\",\"orientation\":\"h\",\"showlegend\":true,\"x\":[190],\"xaxis\":\"x\",\"y\":[\"TOYOTA\"],\"yaxis\":\"y\",\"type\":\"histogram\"},{\"alignmentgroup\":\"True\",\"bingroup\":\"y\",\"histfunc\":\"sum\",\"hovertemplate\":\"Make=%{y}<br>Model_Year=2019<br>sum of VIN (1-10)=%{x}<extra></extra>\",\"legendgroup\":\"VOLKSWAGEN\",\"marker\":{\"color\":\"#00cc96\",\"pattern\":{\"shape\":\"\"}},\"name\":\"VOLKSWAGEN\",\"offsetgroup\":\"VOLKSWAGEN\",\"orientation\":\"h\",\"showlegend\":true,\"x\":[495],\"xaxis\":\"x\",\"y\":[\"VOLKSWAGEN\"],\"yaxis\":\"y\",\"type\":\"histogram\"},{\"alignmentgroup\":\"True\",\"bingroup\":\"y\",\"histfunc\":\"sum\",\"hovertemplate\":\"Make=%{y}<br>Model_Year=2019<br>sum of VIN (1-10)=%{x}<extra></extra>\",\"legendgroup\":\"VOLVO\",\"marker\":{\"color\":\"#ab63fa\",\"pattern\":{\"shape\":\"\"}},\"name\":\"VOLVO\",\"offsetgroup\":\"VOLVO\",\"orientation\":\"h\",\"showlegend\":true,\"x\":[190],\"xaxis\":\"x\",\"y\":[\"VOLVO\"],\"yaxis\":\"y\",\"type\":\"histogram\"}],\"name\":\"2019\"},{\"data\":[{\"alignmentgroup\":\"True\",\"bingroup\":\"y\",\"histfunc\":\"sum\",\"hovertemplate\":\"Make=%{y}<br>Model_Year=2020<br>sum of VIN (1-10)=%{x}<extra></extra>\",\"legendgroup\":\"AUDI\",\"marker\":{\"color\":\"#636efa\",\"pattern\":{\"shape\":\"\"}},\"name\":\"AUDI\",\"offsetgroup\":\"AUDI\",\"orientation\":\"h\",\"showlegend\":true,\"x\":[224],\"xaxis\":\"x\",\"y\":[\"AUDI\"],\"yaxis\":\"y\",\"type\":\"histogram\"},{\"alignmentgroup\":\"True\",\"bingroup\":\"y\",\"histfunc\":\"sum\",\"hovertemplate\":\"Make=%{y}<br>Model_Year=2020<br>sum of VIN (1-10)=%{x}<extra></extra>\",\"legendgroup\":\"BENTLEY\",\"marker\":{\"color\":\"#00cc96\",\"pattern\":{\"shape\":\"\"}},\"name\":\"BENTLEY\",\"offsetgroup\":\"BENTLEY\",\"orientation\":\"h\",\"showlegend\":true,\"x\":[1],\"xaxis\":\"x\",\"y\":[\"BENTLEY\"],\"yaxis\":\"y\",\"type\":\"histogram\"},{\"alignmentgroup\":\"True\",\"bingroup\":\"y\",\"histfunc\":\"sum\",\"hovertemplate\":\"Make=%{y}<br>Model_Year=2020<br>sum of VIN (1-10)=%{x}<extra></extra>\",\"legendgroup\":\"BMW\",\"marker\":{\"color\":\"#ab63fa\",\"pattern\":{\"shape\":\"\"}},\"name\":\"BMW\",\"offsetgroup\":\"BMW\",\"orientation\":\"h\",\"showlegend\":true,\"x\":[143],\"xaxis\":\"x\",\"y\":[\"BMW\"],\"yaxis\":\"y\",\"type\":\"histogram\"},{\"alignmentgroup\":\"True\",\"bingroup\":\"y\",\"histfunc\":\"sum\",\"hovertemplate\":\"Make=%{y}<br>Model_Year=2020<br>sum of VIN (1-10)=%{x}<extra></extra>\",\"legendgroup\":\"CHEVROLET\",\"marker\":{\"color\":\"#19d3f3\",\"pattern\":{\"shape\":\"\"}},\"name\":\"CHEVROLET\",\"offsetgroup\":\"CHEVROLET\",\"orientation\":\"h\",\"showlegend\":true,\"x\":[1014],\"xaxis\":\"x\",\"y\":[\"CHEVROLET\"],\"yaxis\":\"y\",\"type\":\"histogram\"},{\"alignmentgroup\":\"True\",\"bingroup\":\"y\",\"histfunc\":\"sum\",\"hovertemplate\":\"Make=%{y}<br>Model_Year=2020<br>sum of VIN (1-10)=%{x}<extra></extra>\",\"legendgroup\":\"CHRYSLER\",\"marker\":{\"color\":\"#FF6692\",\"pattern\":{\"shape\":\"\"}},\"name\":\"CHRYSLER\",\"offsetgroup\":\"CHRYSLER\",\"orientation\":\"h\",\"showlegend\":true,\"x\":[286],\"xaxis\":\"x\",\"y\":[\"CHRYSLER\"],\"yaxis\":\"y\",\"type\":\"histogram\"},{\"alignmentgroup\":\"True\",\"bingroup\":\"y\",\"histfunc\":\"sum\",\"hovertemplate\":\"Make=%{y}<br>Model_Year=2020<br>sum of VIN (1-10)=%{x}<extra></extra>\",\"legendgroup\":\"FORD\",\"marker\":{\"color\":\"#FECB52\",\"pattern\":{\"shape\":\"\"}},\"name\":\"FORD\",\"offsetgroup\":\"FORD\",\"orientation\":\"h\",\"showlegend\":true,\"x\":[65],\"xaxis\":\"x\",\"y\":[\"FORD\"],\"yaxis\":\"y\",\"type\":\"histogram\"},{\"alignmentgroup\":\"True\",\"bingroup\":\"y\",\"histfunc\":\"sum\",\"hovertemplate\":\"Make=%{y}<br>Model_Year=2020<br>sum of VIN (1-10)=%{x}<extra></extra>\",\"legendgroup\":\"HONDA\",\"marker\":{\"color\":\"#EF553B\",\"pattern\":{\"shape\":\"\"}},\"name\":\"HONDA\",\"offsetgroup\":\"HONDA\",\"orientation\":\"h\",\"showlegend\":true,\"x\":[79],\"xaxis\":\"x\",\"y\":[\"HONDA\"],\"yaxis\":\"y\",\"type\":\"histogram\"},{\"alignmentgroup\":\"True\",\"bingroup\":\"y\",\"histfunc\":\"sum\",\"hovertemplate\":\"Make=%{y}<br>Model_Year=2020<br>sum of VIN (1-10)=%{x}<extra></extra>\",\"legendgroup\":\"HYUNDAI\",\"marker\":{\"color\":\"#00cc96\",\"pattern\":{\"shape\":\"\"}},\"name\":\"HYUNDAI\",\"offsetgroup\":\"HYUNDAI\",\"orientation\":\"h\",\"showlegend\":true,\"x\":[212],\"xaxis\":\"x\",\"y\":[\"HYUNDAI\"],\"yaxis\":\"y\",\"type\":\"histogram\"},{\"alignmentgroup\":\"True\",\"bingroup\":\"y\",\"histfunc\":\"sum\",\"hovertemplate\":\"Make=%{y}<br>Model_Year=2020<br>sum of VIN (1-10)=%{x}<extra></extra>\",\"legendgroup\":\"JAGUAR\",\"marker\":{\"color\":\"#ab63fa\",\"pattern\":{\"shape\":\"\"}},\"name\":\"JAGUAR\",\"offsetgroup\":\"JAGUAR\",\"orientation\":\"h\",\"showlegend\":true,\"x\":[74],\"xaxis\":\"x\",\"y\":[\"JAGUAR\"],\"yaxis\":\"y\",\"type\":\"histogram\"},{\"alignmentgroup\":\"True\",\"bingroup\":\"y\",\"histfunc\":\"sum\",\"hovertemplate\":\"Make=%{y}<br>Model_Year=2020<br>sum of VIN (1-10)=%{x}<extra></extra>\",\"legendgroup\":\"KIA\",\"marker\":{\"color\":\"#19d3f3\",\"pattern\":{\"shape\":\"\"}},\"name\":\"KIA\",\"offsetgroup\":\"KIA\",\"orientation\":\"h\",\"showlegend\":true,\"x\":[535],\"xaxis\":\"x\",\"y\":[\"KIA\"],\"yaxis\":\"y\",\"type\":\"histogram\"},{\"alignmentgroup\":\"True\",\"bingroup\":\"y\",\"histfunc\":\"sum\",\"hovertemplate\":\"Make=%{y}<br>Model_Year=2020<br>sum of VIN (1-10)=%{x}<extra></extra>\",\"legendgroup\":\"LAND ROVER\",\"marker\":{\"color\":\"#FF6692\",\"pattern\":{\"shape\":\"\"}},\"name\":\"LAND ROVER\",\"offsetgroup\":\"LAND ROVER\",\"orientation\":\"h\",\"showlegend\":true,\"x\":[30],\"xaxis\":\"x\",\"y\":[\"LAND ROVER\"],\"yaxis\":\"y\",\"type\":\"histogram\"},{\"alignmentgroup\":\"True\",\"bingroup\":\"y\",\"histfunc\":\"sum\",\"hovertemplate\":\"Make=%{y}<br>Model_Year=2020<br>sum of VIN (1-10)=%{x}<extra></extra>\",\"legendgroup\":\"LINCOLN\",\"marker\":{\"color\":\"#FF97FF\",\"pattern\":{\"shape\":\"\"}},\"name\":\"LINCOLN\",\"offsetgroup\":\"LINCOLN\",\"orientation\":\"h\",\"showlegend\":true,\"x\":[29],\"xaxis\":\"x\",\"y\":[\"LINCOLN\"],\"yaxis\":\"y\",\"type\":\"histogram\"},{\"alignmentgroup\":\"True\",\"bingroup\":\"y\",\"histfunc\":\"sum\",\"hovertemplate\":\"Make=%{y}<br>Model_Year=2020<br>sum of VIN (1-10)=%{x}<extra></extra>\",\"legendgroup\":\"MERCEDES-BENZ\",\"marker\":{\"color\":\"#636efa\",\"pattern\":{\"shape\":\"\"}},\"name\":\"MERCEDES-BENZ\",\"offsetgroup\":\"MERCEDES-BENZ\",\"orientation\":\"h\",\"showlegend\":true,\"x\":[32],\"xaxis\":\"x\",\"y\":[\"MERCEDES-BENZ\"],\"yaxis\":\"y\",\"type\":\"histogram\"},{\"alignmentgroup\":\"True\",\"bingroup\":\"y\",\"histfunc\":\"sum\",\"hovertemplate\":\"Make=%{y}<br>Model_Year=2020<br>sum of VIN (1-10)=%{x}<extra></extra>\",\"legendgroup\":\"MINI\",\"marker\":{\"color\":\"#EF553B\",\"pattern\":{\"shape\":\"\"}},\"name\":\"MINI\",\"offsetgroup\":\"MINI\",\"orientation\":\"h\",\"showlegend\":true,\"x\":[3],\"xaxis\":\"x\",\"y\":[\"MINI\"],\"yaxis\":\"y\",\"type\":\"histogram\"},{\"alignmentgroup\":\"True\",\"bingroup\":\"y\",\"histfunc\":\"sum\",\"hovertemplate\":\"Make=%{y}<br>Model_Year=2020<br>sum of VIN (1-10)=%{x}<extra></extra>\",\"legendgroup\":\"MITSUBISHI\",\"marker\":{\"color\":\"#00cc96\",\"pattern\":{\"shape\":\"\"}},\"name\":\"MITSUBISHI\",\"offsetgroup\":\"MITSUBISHI\",\"orientation\":\"h\",\"showlegend\":true,\"x\":[97],\"xaxis\":\"x\",\"y\":[\"MITSUBISHI\"],\"yaxis\":\"y\",\"type\":\"histogram\"},{\"alignmentgroup\":\"True\",\"bingroup\":\"y\",\"histfunc\":\"sum\",\"hovertemplate\":\"Make=%{y}<br>Model_Year=2020<br>sum of VIN (1-10)=%{x}<extra></extra>\",\"legendgroup\":\"NISSAN\",\"marker\":{\"color\":\"#ab63fa\",\"pattern\":{\"shape\":\"\"}},\"name\":\"NISSAN\",\"offsetgroup\":\"NISSAN\",\"orientation\":\"h\",\"showlegend\":true,\"x\":[580],\"xaxis\":\"x\",\"y\":[\"NISSAN\"],\"yaxis\":\"y\",\"type\":\"histogram\"},{\"alignmentgroup\":\"True\",\"bingroup\":\"y\",\"histfunc\":\"sum\",\"hovertemplate\":\"Make=%{y}<br>Model_Year=2020<br>sum of VIN (1-10)=%{x}<extra></extra>\",\"legendgroup\":\"PORSCHE\",\"marker\":{\"color\":\"#19d3f3\",\"pattern\":{\"shape\":\"\"}},\"name\":\"PORSCHE\",\"offsetgroup\":\"PORSCHE\",\"orientation\":\"h\",\"showlegend\":true,\"x\":[143],\"xaxis\":\"x\",\"y\":[\"PORSCHE\"],\"yaxis\":\"y\",\"type\":\"histogram\"},{\"alignmentgroup\":\"True\",\"bingroup\":\"y\",\"histfunc\":\"sum\",\"hovertemplate\":\"Make=%{y}<br>Model_Year=2020<br>sum of VIN (1-10)=%{x}<extra></extra>\",\"legendgroup\":\"TESLA\",\"marker\":{\"color\":\"#FECB52\",\"pattern\":{\"shape\":\"\"}},\"name\":\"TESLA\",\"offsetgroup\":\"TESLA\",\"orientation\":\"h\",\"showlegend\":true,\"x\":[7017],\"xaxis\":\"x\",\"y\":[\"TESLA\"],\"yaxis\":\"y\",\"type\":\"histogram\"},{\"alignmentgroup\":\"True\",\"bingroup\":\"y\",\"histfunc\":\"sum\",\"hovertemplate\":\"Make=%{y}<br>Model_Year=2020<br>sum of VIN (1-10)=%{x}<extra></extra>\",\"legendgroup\":\"TOYOTA\",\"marker\":{\"color\":\"#EF553B\",\"pattern\":{\"shape\":\"\"}},\"name\":\"TOYOTA\",\"offsetgroup\":\"TOYOTA\",\"orientation\":\"h\",\"showlegend\":true,\"x\":[311],\"xaxis\":\"x\",\"y\":[\"TOYOTA\"],\"yaxis\":\"y\",\"type\":\"histogram\"},{\"alignmentgroup\":\"True\",\"bingroup\":\"y\",\"histfunc\":\"sum\",\"hovertemplate\":\"Make=%{y}<br>Model_Year=2020<br>sum of VIN (1-10)=%{x}<extra></extra>\",\"legendgroup\":\"VOLVO\",\"marker\":{\"color\":\"#ab63fa\",\"pattern\":{\"shape\":\"\"}},\"name\":\"VOLVO\",\"offsetgroup\":\"VOLVO\",\"orientation\":\"h\",\"showlegend\":true,\"x\":[162],\"xaxis\":\"x\",\"y\":[\"VOLVO\"],\"yaxis\":\"y\",\"type\":\"histogram\"}],\"name\":\"2020\"},{\"data\":[{\"alignmentgroup\":\"True\",\"bingroup\":\"y\",\"histfunc\":\"sum\",\"hovertemplate\":\"Make=%{y}<br>Model_Year=2021<br>sum of VIN (1-10)=%{x}<extra></extra>\",\"legendgroup\":\"AUDI\",\"marker\":{\"color\":\"#636efa\",\"pattern\":{\"shape\":\"\"}},\"name\":\"AUDI\",\"offsetgroup\":\"AUDI\",\"orientation\":\"h\",\"showlegend\":true,\"x\":[544],\"xaxis\":\"x\",\"y\":[\"AUDI\"],\"yaxis\":\"y\",\"type\":\"histogram\"},{\"alignmentgroup\":\"True\",\"bingroup\":\"y\",\"histfunc\":\"sum\",\"hovertemplate\":\"Make=%{y}<br>Model_Year=2021<br>sum of VIN (1-10)=%{x}<extra></extra>\",\"legendgroup\":\"BENTLEY\",\"marker\":{\"color\":\"#00cc96\",\"pattern\":{\"shape\":\"\"}},\"name\":\"BENTLEY\",\"offsetgroup\":\"BENTLEY\",\"orientation\":\"h\",\"showlegend\":true,\"x\":[1],\"xaxis\":\"x\",\"y\":[\"BENTLEY\"],\"yaxis\":\"y\",\"type\":\"histogram\"},{\"alignmentgroup\":\"True\",\"bingroup\":\"y\",\"histfunc\":\"sum\",\"hovertemplate\":\"Make=%{y}<br>Model_Year=2021<br>sum of VIN (1-10)=%{x}<extra></extra>\",\"legendgroup\":\"BMW\",\"marker\":{\"color\":\"#ab63fa\",\"pattern\":{\"shape\":\"\"}},\"name\":\"BMW\",\"offsetgroup\":\"BMW\",\"orientation\":\"h\",\"showlegend\":true,\"x\":[635],\"xaxis\":\"x\",\"y\":[\"BMW\"],\"yaxis\":\"y\",\"type\":\"histogram\"},{\"alignmentgroup\":\"True\",\"bingroup\":\"y\",\"histfunc\":\"sum\",\"hovertemplate\":\"Make=%{y}<br>Model_Year=2021<br>sum of VIN (1-10)=%{x}<extra></extra>\",\"legendgroup\":\"CHEVROLET\",\"marker\":{\"color\":\"#19d3f3\",\"pattern\":{\"shape\":\"\"}},\"name\":\"CHEVROLET\",\"offsetgroup\":\"CHEVROLET\",\"orientation\":\"h\",\"showlegend\":true,\"x\":[377],\"xaxis\":\"x\",\"y\":[\"CHEVROLET\"],\"yaxis\":\"y\",\"type\":\"histogram\"},{\"alignmentgroup\":\"True\",\"bingroup\":\"y\",\"histfunc\":\"sum\",\"hovertemplate\":\"Make=%{y}<br>Model_Year=2021<br>sum of VIN (1-10)=%{x}<extra></extra>\",\"legendgroup\":\"CHRYSLER\",\"marker\":{\"color\":\"#FF6692\",\"pattern\":{\"shape\":\"\"}},\"name\":\"CHRYSLER\",\"offsetgroup\":\"CHRYSLER\",\"orientation\":\"h\",\"showlegend\":true,\"x\":[504],\"xaxis\":\"x\",\"y\":[\"CHRYSLER\"],\"yaxis\":\"y\",\"type\":\"histogram\"},{\"alignmentgroup\":\"True\",\"bingroup\":\"y\",\"histfunc\":\"sum\",\"hovertemplate\":\"Make=%{y}<br>Model_Year=2021<br>sum of VIN (1-10)=%{x}<extra></extra>\",\"legendgroup\":\"FORD\",\"marker\":{\"color\":\"#FECB52\",\"pattern\":{\"shape\":\"\"}},\"name\":\"FORD\",\"offsetgroup\":\"FORD\",\"orientation\":\"h\",\"showlegend\":true,\"x\":[881],\"xaxis\":\"x\",\"y\":[\"FORD\"],\"yaxis\":\"y\",\"type\":\"histogram\"},{\"alignmentgroup\":\"True\",\"bingroup\":\"y\",\"histfunc\":\"sum\",\"hovertemplate\":\"Make=%{y}<br>Model_Year=2021<br>sum of VIN (1-10)=%{x}<extra></extra>\",\"legendgroup\":\"HONDA\",\"marker\":{\"color\":\"#EF553B\",\"pattern\":{\"shape\":\"\"}},\"name\":\"HONDA\",\"offsetgroup\":\"HONDA\",\"orientation\":\"h\",\"showlegend\":true,\"x\":[17],\"xaxis\":\"x\",\"y\":[\"HONDA\"],\"yaxis\":\"y\",\"type\":\"histogram\"},{\"alignmentgroup\":\"True\",\"bingroup\":\"y\",\"histfunc\":\"sum\",\"hovertemplate\":\"Make=%{y}<br>Model_Year=2021<br>sum of VIN (1-10)=%{x}<extra></extra>\",\"legendgroup\":\"HYUNDAI\",\"marker\":{\"color\":\"#00cc96\",\"pattern\":{\"shape\":\"\"}},\"name\":\"HYUNDAI\",\"offsetgroup\":\"HYUNDAI\",\"orientation\":\"h\",\"showlegend\":true,\"x\":[186],\"xaxis\":\"x\",\"y\":[\"HYUNDAI\"],\"yaxis\":\"y\",\"type\":\"histogram\"},{\"alignmentgroup\":\"True\",\"bingroup\":\"y\",\"histfunc\":\"sum\",\"hovertemplate\":\"Make=%{y}<br>Model_Year=2021<br>sum of VIN (1-10)=%{x}<extra></extra>\",\"legendgroup\":\"JAGUAR\",\"marker\":{\"color\":\"#ab63fa\",\"pattern\":{\"shape\":\"\"}},\"name\":\"JAGUAR\",\"offsetgroup\":\"JAGUAR\",\"orientation\":\"h\",\"showlegend\":true,\"x\":[6],\"xaxis\":\"x\",\"y\":[\"JAGUAR\"],\"yaxis\":\"y\",\"type\":\"histogram\"},{\"alignmentgroup\":\"True\",\"bingroup\":\"y\",\"histfunc\":\"sum\",\"hovertemplate\":\"Make=%{y}<br>Model_Year=2021<br>sum of VIN (1-10)=%{x}<extra></extra>\",\"legendgroup\":\"JEEP\",\"marker\":{\"color\":\"#FFA15A\",\"pattern\":{\"shape\":\"\"}},\"name\":\"JEEP\",\"offsetgroup\":\"JEEP\",\"orientation\":\"h\",\"showlegend\":true,\"x\":[628],\"xaxis\":\"x\",\"y\":[\"JEEP\"],\"yaxis\":\"y\",\"type\":\"histogram\"},{\"alignmentgroup\":\"True\",\"bingroup\":\"y\",\"histfunc\":\"sum\",\"hovertemplate\":\"Make=%{y}<br>Model_Year=2021<br>sum of VIN (1-10)=%{x}<extra></extra>\",\"legendgroup\":\"KIA\",\"marker\":{\"color\":\"#19d3f3\",\"pattern\":{\"shape\":\"\"}},\"name\":\"KIA\",\"offsetgroup\":\"KIA\",\"orientation\":\"h\",\"showlegend\":true,\"x\":[74],\"xaxis\":\"x\",\"y\":[\"KIA\"],\"yaxis\":\"y\",\"type\":\"histogram\"},{\"alignmentgroup\":\"True\",\"bingroup\":\"y\",\"histfunc\":\"sum\",\"hovertemplate\":\"Make=%{y}<br>Model_Year=2021<br>sum of VIN (1-10)=%{x}<extra></extra>\",\"legendgroup\":\"LAND ROVER\",\"marker\":{\"color\":\"#FF6692\",\"pattern\":{\"shape\":\"\"}},\"name\":\"LAND ROVER\",\"offsetgroup\":\"LAND ROVER\",\"orientation\":\"h\",\"showlegend\":true,\"x\":[8],\"xaxis\":\"x\",\"y\":[\"LAND ROVER\"],\"yaxis\":\"y\",\"type\":\"histogram\"},{\"alignmentgroup\":\"True\",\"bingroup\":\"y\",\"histfunc\":\"sum\",\"hovertemplate\":\"Make=%{y}<br>Model_Year=2021<br>sum of VIN (1-10)=%{x}<extra></extra>\",\"legendgroup\":\"LINCOLN\",\"marker\":{\"color\":\"#FF97FF\",\"pattern\":{\"shape\":\"\"}},\"name\":\"LINCOLN\",\"offsetgroup\":\"LINCOLN\",\"orientation\":\"h\",\"showlegend\":true,\"x\":[41],\"xaxis\":\"x\",\"y\":[\"LINCOLN\"],\"yaxis\":\"y\",\"type\":\"histogram\"},{\"alignmentgroup\":\"True\",\"bingroup\":\"y\",\"histfunc\":\"sum\",\"hovertemplate\":\"Make=%{y}<br>Model_Year=2021<br>sum of VIN (1-10)=%{x}<extra></extra>\",\"legendgroup\":\"MINI\",\"marker\":{\"color\":\"#EF553B\",\"pattern\":{\"shape\":\"\"}},\"name\":\"MINI\",\"offsetgroup\":\"MINI\",\"orientation\":\"h\",\"showlegend\":true,\"x\":[143],\"xaxis\":\"x\",\"y\":[\"MINI\"],\"yaxis\":\"y\",\"type\":\"histogram\"},{\"alignmentgroup\":\"True\",\"bingroup\":\"y\",\"histfunc\":\"sum\",\"hovertemplate\":\"Make=%{y}<br>Model_Year=2021<br>sum of VIN (1-10)=%{x}<extra></extra>\",\"legendgroup\":\"MITSUBISHI\",\"marker\":{\"color\":\"#00cc96\",\"pattern\":{\"shape\":\"\"}},\"name\":\"MITSUBISHI\",\"offsetgroup\":\"MITSUBISHI\",\"orientation\":\"h\",\"showlegend\":true,\"x\":[8],\"xaxis\":\"x\",\"y\":[\"MITSUBISHI\"],\"yaxis\":\"y\",\"type\":\"histogram\"},{\"alignmentgroup\":\"True\",\"bingroup\":\"y\",\"histfunc\":\"sum\",\"hovertemplate\":\"Make=%{y}<br>Model_Year=2021<br>sum of VIN (1-10)=%{x}<extra></extra>\",\"legendgroup\":\"NISSAN\",\"marker\":{\"color\":\"#ab63fa\",\"pattern\":{\"shape\":\"\"}},\"name\":\"NISSAN\",\"offsetgroup\":\"NISSAN\",\"orientation\":\"h\",\"showlegend\":true,\"x\":[534],\"xaxis\":\"x\",\"y\":[\"NISSAN\"],\"yaxis\":\"y\",\"type\":\"histogram\"},{\"alignmentgroup\":\"True\",\"bingroup\":\"y\",\"histfunc\":\"sum\",\"hovertemplate\":\"Make=%{y}<br>Model_Year=2021<br>sum of VIN (1-10)=%{x}<extra></extra>\",\"legendgroup\":\"POLESTAR\",\"marker\":{\"color\":\"#FFA15A\",\"pattern\":{\"shape\":\"\"}},\"name\":\"POLESTAR\",\"offsetgroup\":\"POLESTAR\",\"orientation\":\"h\",\"showlegend\":true,\"x\":[98],\"xaxis\":\"x\",\"y\":[\"POLESTAR\"],\"yaxis\":\"y\",\"type\":\"histogram\"},{\"alignmentgroup\":\"True\",\"bingroup\":\"y\",\"histfunc\":\"sum\",\"hovertemplate\":\"Make=%{y}<br>Model_Year=2021<br>sum of VIN (1-10)=%{x}<extra></extra>\",\"legendgroup\":\"PORSCHE\",\"marker\":{\"color\":\"#19d3f3\",\"pattern\":{\"shape\":\"\"}},\"name\":\"PORSCHE\",\"offsetgroup\":\"PORSCHE\",\"orientation\":\"h\",\"showlegend\":true,\"x\":[145],\"xaxis\":\"x\",\"y\":[\"PORSCHE\"],\"yaxis\":\"y\",\"type\":\"histogram\"},{\"alignmentgroup\":\"True\",\"bingroup\":\"y\",\"histfunc\":\"sum\",\"hovertemplate\":\"Make=%{y}<br>Model_Year=2021<br>sum of VIN (1-10)=%{x}<extra></extra>\",\"legendgroup\":\"TESLA\",\"marker\":{\"color\":\"#FECB52\",\"pattern\":{\"shape\":\"\"}},\"name\":\"TESLA\",\"offsetgroup\":\"TESLA\",\"orientation\":\"h\",\"showlegend\":true,\"x\":[11028],\"xaxis\":\"x\",\"y\":[\"TESLA\"],\"yaxis\":\"y\",\"type\":\"histogram\"},{\"alignmentgroup\":\"True\",\"bingroup\":\"y\",\"histfunc\":\"sum\",\"hovertemplate\":\"Make=%{y}<br>Model_Year=2021<br>sum of VIN (1-10)=%{x}<extra></extra>\",\"legendgroup\":\"TOYOTA\",\"marker\":{\"color\":\"#EF553B\",\"pattern\":{\"shape\":\"\"}},\"name\":\"TOYOTA\",\"offsetgroup\":\"TOYOTA\",\"orientation\":\"h\",\"showlegend\":true,\"x\":[935],\"xaxis\":\"x\",\"y\":[\"TOYOTA\"],\"yaxis\":\"y\",\"type\":\"histogram\"},{\"alignmentgroup\":\"True\",\"bingroup\":\"y\",\"histfunc\":\"sum\",\"hovertemplate\":\"Make=%{y}<br>Model_Year=2021<br>sum of VIN (1-10)=%{x}<extra></extra>\",\"legendgroup\":\"VOLKSWAGEN\",\"marker\":{\"color\":\"#00cc96\",\"pattern\":{\"shape\":\"\"}},\"name\":\"VOLKSWAGEN\",\"offsetgroup\":\"VOLKSWAGEN\",\"orientation\":\"h\",\"showlegend\":true,\"x\":[988],\"xaxis\":\"x\",\"y\":[\"VOLKSWAGEN\"],\"yaxis\":\"y\",\"type\":\"histogram\"},{\"alignmentgroup\":\"True\",\"bingroup\":\"y\",\"histfunc\":\"sum\",\"hovertemplate\":\"Make=%{y}<br>Model_Year=2021<br>sum of VIN (1-10)=%{x}<extra></extra>\",\"legendgroup\":\"VOLVO\",\"marker\":{\"color\":\"#ab63fa\",\"pattern\":{\"shape\":\"\"}},\"name\":\"VOLVO\",\"offsetgroup\":\"VOLVO\",\"orientation\":\"h\",\"showlegend\":true,\"x\":[580],\"xaxis\":\"x\",\"y\":[\"VOLVO\"],\"yaxis\":\"y\",\"type\":\"histogram\"}],\"name\":\"2021\"},{\"data\":[{\"alignmentgroup\":\"True\",\"bingroup\":\"y\",\"histfunc\":\"sum\",\"hovertemplate\":\"Make=%{y}<br>Model_Year=2022<br>sum of VIN (1-10)=%{x}<extra></extra>\",\"legendgroup\":\"AUDI\",\"marker\":{\"color\":\"#636efa\",\"pattern\":{\"shape\":\"\"}},\"name\":\"AUDI\",\"offsetgroup\":\"AUDI\",\"orientation\":\"h\",\"showlegend\":true,\"x\":[585],\"xaxis\":\"x\",\"y\":[\"AUDI\"],\"yaxis\":\"y\",\"type\":\"histogram\"},{\"alignmentgroup\":\"True\",\"bingroup\":\"y\",\"histfunc\":\"sum\",\"hovertemplate\":\"Make=%{y}<br>Model_Year=2022<br>sum of VIN (1-10)=%{x}<extra></extra>\",\"legendgroup\":\"BENTLEY\",\"marker\":{\"color\":\"#00cc96\",\"pattern\":{\"shape\":\"\"}},\"name\":\"BENTLEY\",\"offsetgroup\":\"BENTLEY\",\"orientation\":\"h\",\"showlegend\":true,\"x\":[1],\"xaxis\":\"x\",\"y\":[\"BENTLEY\"],\"yaxis\":\"y\",\"type\":\"histogram\"},{\"alignmentgroup\":\"True\",\"bingroup\":\"y\",\"histfunc\":\"sum\",\"hovertemplate\":\"Make=%{y}<br>Model_Year=2022<br>sum of VIN (1-10)=%{x}<extra></extra>\",\"legendgroup\":\"BMW\",\"marker\":{\"color\":\"#ab63fa\",\"pattern\":{\"shape\":\"\"}},\"name\":\"BMW\",\"offsetgroup\":\"BMW\",\"orientation\":\"h\",\"showlegend\":true,\"x\":[905],\"xaxis\":\"x\",\"y\":[\"BMW\"],\"yaxis\":\"y\",\"type\":\"histogram\"},{\"alignmentgroup\":\"True\",\"bingroup\":\"y\",\"histfunc\":\"sum\",\"hovertemplate\":\"Make=%{y}<br>Model_Year=2022<br>sum of VIN (1-10)=%{x}<extra></extra>\",\"legendgroup\":\"CHEVROLET\",\"marker\":{\"color\":\"#19d3f3\",\"pattern\":{\"shape\":\"\"}},\"name\":\"CHEVROLET\",\"offsetgroup\":\"CHEVROLET\",\"orientation\":\"h\",\"showlegend\":true,\"x\":[891],\"xaxis\":\"x\",\"y\":[\"CHEVROLET\"],\"yaxis\":\"y\",\"type\":\"histogram\"},{\"alignmentgroup\":\"True\",\"bingroup\":\"y\",\"histfunc\":\"sum\",\"hovertemplate\":\"Make=%{y}<br>Model_Year=2022<br>sum of VIN (1-10)=%{x}<extra></extra>\",\"legendgroup\":\"CHRYSLER\",\"marker\":{\"color\":\"#FF6692\",\"pattern\":{\"shape\":\"\"}},\"name\":\"CHRYSLER\",\"offsetgroup\":\"CHRYSLER\",\"orientation\":\"h\",\"showlegend\":true,\"x\":[237],\"xaxis\":\"x\",\"y\":[\"CHRYSLER\"],\"yaxis\":\"y\",\"type\":\"histogram\"},{\"alignmentgroup\":\"True\",\"bingroup\":\"y\",\"histfunc\":\"sum\",\"hovertemplate\":\"Make=%{y}<br>Model_Year=2022<br>sum of VIN (1-10)=%{x}<extra></extra>\",\"legendgroup\":\"FORD\",\"marker\":{\"color\":\"#FECB52\",\"pattern\":{\"shape\":\"\"}},\"name\":\"FORD\",\"offsetgroup\":\"FORD\",\"orientation\":\"h\",\"showlegend\":true,\"x\":[1250],\"xaxis\":\"x\",\"y\":[\"FORD\"],\"yaxis\":\"y\",\"type\":\"histogram\"},{\"alignmentgroup\":\"True\",\"bingroup\":\"y\",\"histfunc\":\"sum\",\"hovertemplate\":\"Make=%{y}<br>Model_Year=2022<br>sum of VIN (1-10)=%{x}<extra></extra>\",\"legendgroup\":\"HYUNDAI\",\"marker\":{\"color\":\"#00cc96\",\"pattern\":{\"shape\":\"\"}},\"name\":\"HYUNDAI\",\"offsetgroup\":\"HYUNDAI\",\"orientation\":\"h\",\"showlegend\":true,\"x\":[633],\"xaxis\":\"x\",\"y\":[\"HYUNDAI\"],\"yaxis\":\"y\",\"type\":\"histogram\"},{\"alignmentgroup\":\"True\",\"bingroup\":\"y\",\"histfunc\":\"sum\",\"hovertemplate\":\"Make=%{y}<br>Model_Year=2022<br>sum of VIN (1-10)=%{x}<extra></extra>\",\"legendgroup\":\"JAGUAR\",\"marker\":{\"color\":\"#ab63fa\",\"pattern\":{\"shape\":\"\"}},\"name\":\"JAGUAR\",\"offsetgroup\":\"JAGUAR\",\"orientation\":\"h\",\"showlegend\":true,\"x\":[19],\"xaxis\":\"x\",\"y\":[\"JAGUAR\"],\"yaxis\":\"y\",\"type\":\"histogram\"},{\"alignmentgroup\":\"True\",\"bingroup\":\"y\",\"histfunc\":\"sum\",\"hovertemplate\":\"Make=%{y}<br>Model_Year=2022<br>sum of VIN (1-10)=%{x}<extra></extra>\",\"legendgroup\":\"JEEP\",\"marker\":{\"color\":\"#FFA15A\",\"pattern\":{\"shape\":\"\"}},\"name\":\"JEEP\",\"offsetgroup\":\"JEEP\",\"orientation\":\"h\",\"showlegend\":true,\"x\":[523],\"xaxis\":\"x\",\"y\":[\"JEEP\"],\"yaxis\":\"y\",\"type\":\"histogram\"},{\"alignmentgroup\":\"True\",\"bingroup\":\"y\",\"histfunc\":\"sum\",\"hovertemplate\":\"Make=%{y}<br>Model_Year=2022<br>sum of VIN (1-10)=%{x}<extra></extra>\",\"legendgroup\":\"KIA\",\"marker\":{\"color\":\"#19d3f3\",\"pattern\":{\"shape\":\"\"}},\"name\":\"KIA\",\"offsetgroup\":\"KIA\",\"orientation\":\"h\",\"showlegend\":true,\"x\":[2153],\"xaxis\":\"x\",\"y\":[\"KIA\"],\"yaxis\":\"y\",\"type\":\"histogram\"},{\"alignmentgroup\":\"True\",\"bingroup\":\"y\",\"histfunc\":\"sum\",\"hovertemplate\":\"Make=%{y}<br>Model_Year=2022<br>sum of VIN (1-10)=%{x}<extra></extra>\",\"legendgroup\":\"LEXUS\",\"marker\":{\"color\":\"#B6E880\",\"pattern\":{\"shape\":\"\"}},\"name\":\"LEXUS\",\"offsetgroup\":\"LEXUS\",\"orientation\":\"h\",\"showlegend\":true,\"x\":[33],\"xaxis\":\"x\",\"y\":[\"LEXUS\"],\"yaxis\":\"y\",\"type\":\"histogram\"},{\"alignmentgroup\":\"True\",\"bingroup\":\"y\",\"histfunc\":\"sum\",\"hovertemplate\":\"Make=%{y}<br>Model_Year=2022<br>sum of VIN (1-10)=%{x}<extra></extra>\",\"legendgroup\":\"LINCOLN\",\"marker\":{\"color\":\"#FF97FF\",\"pattern\":{\"shape\":\"\"}},\"name\":\"LINCOLN\",\"offsetgroup\":\"LINCOLN\",\"orientation\":\"h\",\"showlegend\":true,\"x\":[94],\"xaxis\":\"x\",\"y\":[\"LINCOLN\"],\"yaxis\":\"y\",\"type\":\"histogram\"},{\"alignmentgroup\":\"True\",\"bingroup\":\"y\",\"histfunc\":\"sum\",\"hovertemplate\":\"Make=%{y}<br>Model_Year=2022<br>sum of VIN (1-10)=%{x}<extra></extra>\",\"legendgroup\":\"LUCID MOTORS\",\"marker\":{\"color\":\"#FECB52\",\"pattern\":{\"shape\":\"\"}},\"name\":\"LUCID MOTORS\",\"offsetgroup\":\"LUCID MOTORS\",\"orientation\":\"h\",\"showlegend\":true,\"x\":[65],\"xaxis\":\"x\",\"y\":[\"LUCID MOTORS\"],\"yaxis\":\"y\",\"type\":\"histogram\"},{\"alignmentgroup\":\"True\",\"bingroup\":\"y\",\"histfunc\":\"sum\",\"hovertemplate\":\"Make=%{y}<br>Model_Year=2022<br>sum of VIN (1-10)=%{x}<extra></extra>\",\"legendgroup\":\"MERCEDES-BENZ\",\"marker\":{\"color\":\"#636efa\",\"pattern\":{\"shape\":\"\"}},\"name\":\"MERCEDES-BENZ\",\"offsetgroup\":\"MERCEDES-BENZ\",\"orientation\":\"h\",\"showlegend\":true,\"x\":[130],\"xaxis\":\"x\",\"y\":[\"MERCEDES-BENZ\"],\"yaxis\":\"y\",\"type\":\"histogram\"},{\"alignmentgroup\":\"True\",\"bingroup\":\"y\",\"histfunc\":\"sum\",\"hovertemplate\":\"Make=%{y}<br>Model_Year=2022<br>sum of VIN (1-10)=%{x}<extra></extra>\",\"legendgroup\":\"MINI\",\"marker\":{\"color\":\"#EF553B\",\"pattern\":{\"shape\":\"\"}},\"name\":\"MINI\",\"offsetgroup\":\"MINI\",\"orientation\":\"h\",\"showlegend\":true,\"x\":[212],\"xaxis\":\"x\",\"y\":[\"MINI\"],\"yaxis\":\"y\",\"type\":\"histogram\"},{\"alignmentgroup\":\"True\",\"bingroup\":\"y\",\"histfunc\":\"sum\",\"hovertemplate\":\"Make=%{y}<br>Model_Year=2022<br>sum of VIN (1-10)=%{x}<extra></extra>\",\"legendgroup\":\"MITSUBISHI\",\"marker\":{\"color\":\"#00cc96\",\"pattern\":{\"shape\":\"\"}},\"name\":\"MITSUBISHI\",\"offsetgroup\":\"MITSUBISHI\",\"orientation\":\"h\",\"showlegend\":true,\"x\":[89],\"xaxis\":\"x\",\"y\":[\"MITSUBISHI\"],\"yaxis\":\"y\",\"type\":\"histogram\"},{\"alignmentgroup\":\"True\",\"bingroup\":\"y\",\"histfunc\":\"sum\",\"hovertemplate\":\"Make=%{y}<br>Model_Year=2022<br>sum of VIN (1-10)=%{x}<extra></extra>\",\"legendgroup\":\"NISSAN\",\"marker\":{\"color\":\"#ab63fa\",\"pattern\":{\"shape\":\"\"}},\"name\":\"NISSAN\",\"offsetgroup\":\"NISSAN\",\"orientation\":\"h\",\"showlegend\":true,\"x\":[970],\"xaxis\":\"x\",\"y\":[\"NISSAN\"],\"yaxis\":\"y\",\"type\":\"histogram\"},{\"alignmentgroup\":\"True\",\"bingroup\":\"y\",\"histfunc\":\"sum\",\"hovertemplate\":\"Make=%{y}<br>Model_Year=2022<br>sum of VIN (1-10)=%{x}<extra></extra>\",\"legendgroup\":\"POLESTAR\",\"marker\":{\"color\":\"#FFA15A\",\"pattern\":{\"shape\":\"\"}},\"name\":\"POLESTAR\",\"offsetgroup\":\"POLESTAR\",\"orientation\":\"h\",\"showlegend\":true,\"x\":[372],\"xaxis\":\"x\",\"y\":[\"POLESTAR\"],\"yaxis\":\"y\",\"type\":\"histogram\"},{\"alignmentgroup\":\"True\",\"bingroup\":\"y\",\"histfunc\":\"sum\",\"hovertemplate\":\"Make=%{y}<br>Model_Year=2022<br>sum of VIN (1-10)=%{x}<extra></extra>\",\"legendgroup\":\"PORSCHE\",\"marker\":{\"color\":\"#19d3f3\",\"pattern\":{\"shape\":\"\"}},\"name\":\"PORSCHE\",\"offsetgroup\":\"PORSCHE\",\"orientation\":\"h\",\"showlegend\":true,\"x\":[200],\"xaxis\":\"x\",\"y\":[\"PORSCHE\"],\"yaxis\":\"y\",\"type\":\"histogram\"},{\"alignmentgroup\":\"True\",\"bingroup\":\"y\",\"histfunc\":\"sum\",\"hovertemplate\":\"Make=%{y}<br>Model_Year=2022<br>sum of VIN (1-10)=%{x}<extra></extra>\",\"legendgroup\":\"RIVIAN\",\"marker\":{\"color\":\"#FF6692\",\"pattern\":{\"shape\":\"\"}},\"name\":\"RIVIAN\",\"offsetgroup\":\"RIVIAN\",\"orientation\":\"h\",\"showlegend\":true,\"x\":[885],\"xaxis\":\"x\",\"y\":[\"RIVIAN\"],\"yaxis\":\"y\",\"type\":\"histogram\"},{\"alignmentgroup\":\"True\",\"bingroup\":\"y\",\"histfunc\":\"sum\",\"hovertemplate\":\"Make=%{y}<br>Model_Year=2022<br>sum of VIN (1-10)=%{x}<extra></extra>\",\"legendgroup\":\"TESLA\",\"marker\":{\"color\":\"#FECB52\",\"pattern\":{\"shape\":\"\"}},\"name\":\"TESLA\",\"offsetgroup\":\"TESLA\",\"orientation\":\"h\",\"showlegend\":true,\"x\":[14548],\"xaxis\":\"x\",\"y\":[\"TESLA\"],\"yaxis\":\"y\",\"type\":\"histogram\"},{\"alignmentgroup\":\"True\",\"bingroup\":\"y\",\"histfunc\":\"sum\",\"hovertemplate\":\"Make=%{y}<br>Model_Year=2022<br>sum of VIN (1-10)=%{x}<extra></extra>\",\"legendgroup\":\"TOYOTA\",\"marker\":{\"color\":\"#EF553B\",\"pattern\":{\"shape\":\"\"}},\"name\":\"TOYOTA\",\"offsetgroup\":\"TOYOTA\",\"orientation\":\"h\",\"showlegend\":true,\"x\":[424],\"xaxis\":\"x\",\"y\":[\"TOYOTA\"],\"yaxis\":\"y\",\"type\":\"histogram\"},{\"alignmentgroup\":\"True\",\"bingroup\":\"y\",\"histfunc\":\"sum\",\"hovertemplate\":\"Make=%{y}<br>Model_Year=2022<br>sum of VIN (1-10)=%{x}<extra></extra>\",\"legendgroup\":\"VOLKSWAGEN\",\"marker\":{\"color\":\"#00cc96\",\"pattern\":{\"shape\":\"\"}},\"name\":\"VOLKSWAGEN\",\"offsetgroup\":\"VOLKSWAGEN\",\"orientation\":\"h\",\"showlegend\":true,\"x\":[428],\"xaxis\":\"x\",\"y\":[\"VOLKSWAGEN\"],\"yaxis\":\"y\",\"type\":\"histogram\"},{\"alignmentgroup\":\"True\",\"bingroup\":\"y\",\"histfunc\":\"sum\",\"hovertemplate\":\"Make=%{y}<br>Model_Year=2022<br>sum of VIN (1-10)=%{x}<extra></extra>\",\"legendgroup\":\"VOLVO\",\"marker\":{\"color\":\"#ab63fa\",\"pattern\":{\"shape\":\"\"}},\"name\":\"VOLVO\",\"offsetgroup\":\"VOLVO\",\"orientation\":\"h\",\"showlegend\":true,\"x\":[882],\"xaxis\":\"x\",\"y\":[\"VOLVO\"],\"yaxis\":\"y\",\"type\":\"histogram\"}],\"name\":\"2022\"},{\"data\":[{\"alignmentgroup\":\"True\",\"bingroup\":\"y\",\"histfunc\":\"sum\",\"hovertemplate\":\"Make=%{y}<br>Model_Year=2023<br>sum of VIN (1-10)=%{x}<extra></extra>\",\"legendgroup\":\"AUDI\",\"marker\":{\"color\":\"#636efa\",\"pattern\":{\"shape\":\"\"}},\"name\":\"AUDI\",\"offsetgroup\":\"AUDI\",\"orientation\":\"h\",\"showlegend\":true,\"x\":[12],\"xaxis\":\"x\",\"y\":[\"AUDI\"],\"yaxis\":\"y\",\"type\":\"histogram\"},{\"alignmentgroup\":\"True\",\"bingroup\":\"y\",\"histfunc\":\"sum\",\"hovertemplate\":\"Make=%{y}<br>Model_Year=2023<br>sum of VIN (1-10)=%{x}<extra></extra>\",\"legendgroup\":\"BMW\",\"marker\":{\"color\":\"#ab63fa\",\"pattern\":{\"shape\":\"\"}},\"name\":\"BMW\",\"offsetgroup\":\"BMW\",\"orientation\":\"h\",\"showlegend\":true,\"x\":[73],\"xaxis\":\"x\",\"y\":[\"BMW\"],\"yaxis\":\"y\",\"type\":\"histogram\"},{\"alignmentgroup\":\"True\",\"bingroup\":\"y\",\"histfunc\":\"sum\",\"hovertemplate\":\"Make=%{y}<br>Model_Year=2023<br>sum of VIN (1-10)=%{x}<extra></extra>\",\"legendgroup\":\"CHEVROLET\",\"marker\":{\"color\":\"#19d3f3\",\"pattern\":{\"shape\":\"\"}},\"name\":\"CHEVROLET\",\"offsetgroup\":\"CHEVROLET\",\"orientation\":\"h\",\"showlegend\":true,\"x\":[177],\"xaxis\":\"x\",\"y\":[\"CHEVROLET\"],\"yaxis\":\"y\",\"type\":\"histogram\"},{\"alignmentgroup\":\"True\",\"bingroup\":\"y\",\"histfunc\":\"sum\",\"hovertemplate\":\"Make=%{y}<br>Model_Year=2023<br>sum of VIN (1-10)=%{x}<extra></extra>\",\"legendgroup\":\"FORD\",\"marker\":{\"color\":\"#FECB52\",\"pattern\":{\"shape\":\"\"}},\"name\":\"FORD\",\"offsetgroup\":\"FORD\",\"orientation\":\"h\",\"showlegend\":true,\"x\":[4],\"xaxis\":\"x\",\"y\":[\"FORD\"],\"yaxis\":\"y\",\"type\":\"histogram\"},{\"alignmentgroup\":\"True\",\"bingroup\":\"y\",\"histfunc\":\"sum\",\"hovertemplate\":\"Make=%{y}<br>Model_Year=2023<br>sum of VIN (1-10)=%{x}<extra></extra>\",\"legendgroup\":\"GENESIS\",\"marker\":{\"color\":\"#636efa\",\"pattern\":{\"shape\":\"\"}},\"name\":\"GENESIS\",\"offsetgroup\":\"GENESIS\",\"orientation\":\"h\",\"showlegend\":true,\"x\":[18],\"xaxis\":\"x\",\"y\":[\"GENESIS\"],\"yaxis\":\"y\",\"type\":\"histogram\"},{\"alignmentgroup\":\"True\",\"bingroup\":\"y\",\"histfunc\":\"sum\",\"hovertemplate\":\"Make=%{y}<br>Model_Year=2023<br>sum of VIN (1-10)=%{x}<extra></extra>\",\"legendgroup\":\"HYUNDAI\",\"marker\":{\"color\":\"#00cc96\",\"pattern\":{\"shape\":\"\"}},\"name\":\"HYUNDAI\",\"offsetgroup\":\"HYUNDAI\",\"orientation\":\"h\",\"showlegend\":true,\"x\":[154],\"xaxis\":\"x\",\"y\":[\"HYUNDAI\"],\"yaxis\":\"y\",\"type\":\"histogram\"},{\"alignmentgroup\":\"True\",\"bingroup\":\"y\",\"histfunc\":\"sum\",\"hovertemplate\":\"Make=%{y}<br>Model_Year=2023<br>sum of VIN (1-10)=%{x}<extra></extra>\",\"legendgroup\":\"KIA\",\"marker\":{\"color\":\"#19d3f3\",\"pattern\":{\"shape\":\"\"}},\"name\":\"KIA\",\"offsetgroup\":\"KIA\",\"orientation\":\"h\",\"showlegend\":true,\"x\":[79],\"xaxis\":\"x\",\"y\":[\"KIA\"],\"yaxis\":\"y\",\"type\":\"histogram\"},{\"alignmentgroup\":\"True\",\"bingroup\":\"y\",\"histfunc\":\"sum\",\"hovertemplate\":\"Make=%{y}<br>Model_Year=2023<br>sum of VIN (1-10)=%{x}<extra></extra>\",\"legendgroup\":\"LINCOLN\",\"marker\":{\"color\":\"#FF97FF\",\"pattern\":{\"shape\":\"\"}},\"name\":\"LINCOLN\",\"offsetgroup\":\"LINCOLN\",\"orientation\":\"h\",\"showlegend\":true,\"x\":[4],\"xaxis\":\"x\",\"y\":[\"LINCOLN\"],\"yaxis\":\"y\",\"type\":\"histogram\"},{\"alignmentgroup\":\"True\",\"bingroup\":\"y\",\"histfunc\":\"sum\",\"hovertemplate\":\"Make=%{y}<br>Model_Year=2023<br>sum of VIN (1-10)=%{x}<extra></extra>\",\"legendgroup\":\"MERCEDES-BENZ\",\"marker\":{\"color\":\"#636efa\",\"pattern\":{\"shape\":\"\"}},\"name\":\"MERCEDES-BENZ\",\"offsetgroup\":\"MERCEDES-BENZ\",\"orientation\":\"h\",\"showlegend\":true,\"x\":[23],\"xaxis\":\"x\",\"y\":[\"MERCEDES-BENZ\"],\"yaxis\":\"y\",\"type\":\"histogram\"},{\"alignmentgroup\":\"True\",\"bingroup\":\"y\",\"histfunc\":\"sum\",\"hovertemplate\":\"Make=%{y}<br>Model_Year=2023<br>sum of VIN (1-10)=%{x}<extra></extra>\",\"legendgroup\":\"MINI\",\"marker\":{\"color\":\"#EF553B\",\"pattern\":{\"shape\":\"\"}},\"name\":\"MINI\",\"offsetgroup\":\"MINI\",\"orientation\":\"h\",\"showlegend\":true,\"x\":[124],\"xaxis\":\"x\",\"y\":[\"MINI\"],\"yaxis\":\"y\",\"type\":\"histogram\"},{\"alignmentgroup\":\"True\",\"bingroup\":\"y\",\"histfunc\":\"sum\",\"hovertemplate\":\"Make=%{y}<br>Model_Year=2023<br>sum of VIN (1-10)=%{x}<extra></extra>\",\"legendgroup\":\"NISSAN\",\"marker\":{\"color\":\"#ab63fa\",\"pattern\":{\"shape\":\"\"}},\"name\":\"NISSAN\",\"offsetgroup\":\"NISSAN\",\"orientation\":\"h\",\"showlegend\":true,\"x\":[149],\"xaxis\":\"x\",\"y\":[\"NISSAN\"],\"yaxis\":\"y\",\"type\":\"histogram\"},{\"alignmentgroup\":\"True\",\"bingroup\":\"y\",\"histfunc\":\"sum\",\"hovertemplate\":\"Make=%{y}<br>Model_Year=2023<br>sum of VIN (1-10)=%{x}<extra></extra>\",\"legendgroup\":\"POLESTAR\",\"marker\":{\"color\":\"#FFA15A\",\"pattern\":{\"shape\":\"\"}},\"name\":\"POLESTAR\",\"offsetgroup\":\"POLESTAR\",\"orientation\":\"h\",\"showlegend\":true,\"x\":[88],\"xaxis\":\"x\",\"y\":[\"POLESTAR\"],\"yaxis\":\"y\",\"type\":\"histogram\"},{\"alignmentgroup\":\"True\",\"bingroup\":\"y\",\"histfunc\":\"sum\",\"hovertemplate\":\"Make=%{y}<br>Model_Year=2023<br>sum of VIN (1-10)=%{x}<extra></extra>\",\"legendgroup\":\"SUBARU\",\"marker\":{\"color\":\"#FF97FF\",\"pattern\":{\"shape\":\"\"}},\"name\":\"SUBARU\",\"offsetgroup\":\"SUBARU\",\"orientation\":\"h\",\"showlegend\":true,\"x\":[1],\"xaxis\":\"x\",\"y\":[\"SUBARU\"],\"yaxis\":\"y\",\"type\":\"histogram\"},{\"alignmentgroup\":\"True\",\"bingroup\":\"y\",\"histfunc\":\"sum\",\"hovertemplate\":\"Make=%{y}<br>Model_Year=2023<br>sum of VIN (1-10)=%{x}<extra></extra>\",\"legendgroup\":\"TESLA\",\"marker\":{\"color\":\"#FECB52\",\"pattern\":{\"shape\":\"\"}},\"name\":\"TESLA\",\"offsetgroup\":\"TESLA\",\"orientation\":\"h\",\"showlegend\":true,\"x\":[890],\"xaxis\":\"x\",\"y\":[\"TESLA\"],\"yaxis\":\"y\",\"type\":\"histogram\"},{\"alignmentgroup\":\"True\",\"bingroup\":\"y\",\"histfunc\":\"sum\",\"hovertemplate\":\"Make=%{y}<br>Model_Year=2023<br>sum of VIN (1-10)=%{x}<extra></extra>\",\"legendgroup\":\"VOLKSWAGEN\",\"marker\":{\"color\":\"#00cc96\",\"pattern\":{\"shape\":\"\"}},\"name\":\"VOLKSWAGEN\",\"offsetgroup\":\"VOLKSWAGEN\",\"orientation\":\"h\",\"showlegend\":true,\"x\":[69],\"xaxis\":\"x\",\"y\":[\"VOLKSWAGEN\"],\"yaxis\":\"y\",\"type\":\"histogram\"},{\"alignmentgroup\":\"True\",\"bingroup\":\"y\",\"histfunc\":\"sum\",\"hovertemplate\":\"Make=%{y}<br>Model_Year=2023<br>sum of VIN (1-10)=%{x}<extra></extra>\",\"legendgroup\":\"VOLVO\",\"marker\":{\"color\":\"#ab63fa\",\"pattern\":{\"shape\":\"\"}},\"name\":\"VOLVO\",\"offsetgroup\":\"VOLVO\",\"orientation\":\"h\",\"showlegend\":true,\"x\":[21],\"xaxis\":\"x\",\"y\":[\"VOLVO\"],\"yaxis\":\"y\",\"type\":\"histogram\"}],\"name\":\"2023\"},{\"data\":[{\"alignmentgroup\":\"True\",\"bingroup\":\"y\",\"histfunc\":\"sum\",\"hovertemplate\":\"Make=%{y}<br>Model_Year=2011<br>sum of VIN (1-10)=%{x}<extra></extra>\",\"legendgroup\":\"AZURE DYNAMICS\",\"marker\":{\"color\":\"#EF553B\",\"pattern\":{\"shape\":\"\"}},\"name\":\"AZURE DYNAMICS\",\"offsetgroup\":\"AZURE DYNAMICS\",\"orientation\":\"h\",\"showlegend\":true,\"x\":[4],\"xaxis\":\"x\",\"y\":[\"AZURE DYNAMICS\"],\"yaxis\":\"y\",\"type\":\"histogram\"},{\"alignmentgroup\":\"True\",\"bingroup\":\"y\",\"histfunc\":\"sum\",\"hovertemplate\":\"Make=%{y}<br>Model_Year=2011<br>sum of VIN (1-10)=%{x}<extra></extra>\",\"legendgroup\":\"CHEVROLET\",\"marker\":{\"color\":\"#19d3f3\",\"pattern\":{\"shape\":\"\"}},\"name\":\"CHEVROLET\",\"offsetgroup\":\"CHEVROLET\",\"orientation\":\"h\",\"showlegend\":true,\"x\":[71],\"xaxis\":\"x\",\"y\":[\"CHEVROLET\"],\"yaxis\":\"y\",\"type\":\"histogram\"},{\"alignmentgroup\":\"True\",\"bingroup\":\"y\",\"histfunc\":\"sum\",\"hovertemplate\":\"Make=%{y}<br>Model_Year=2011<br>sum of VIN (1-10)=%{x}<extra></extra>\",\"legendgroup\":\"NISSAN\",\"marker\":{\"color\":\"#ab63fa\",\"pattern\":{\"shape\":\"\"}},\"name\":\"NISSAN\",\"offsetgroup\":\"NISSAN\",\"orientation\":\"h\",\"showlegend\":true,\"x\":[753],\"xaxis\":\"x\",\"y\":[\"NISSAN\"],\"yaxis\":\"y\",\"type\":\"histogram\"},{\"alignmentgroup\":\"True\",\"bingroup\":\"y\",\"histfunc\":\"sum\",\"hovertemplate\":\"Make=%{y}<br>Model_Year=2011<br>sum of VIN (1-10)=%{x}<extra></extra>\",\"legendgroup\":\"TESLA\",\"marker\":{\"color\":\"#FECB52\",\"pattern\":{\"shape\":\"\"}},\"name\":\"TESLA\",\"offsetgroup\":\"TESLA\",\"orientation\":\"h\",\"showlegend\":true,\"x\":[7],\"xaxis\":\"x\",\"y\":[\"TESLA\"],\"yaxis\":\"y\",\"type\":\"histogram\"},{\"alignmentgroup\":\"True\",\"bingroup\":\"y\",\"histfunc\":\"sum\",\"hovertemplate\":\"Make=%{y}<br>Model_Year=2011<br>sum of VIN (1-10)=%{x}<extra></extra>\",\"legendgroup\":\"TH!NK\",\"marker\":{\"color\":\"#636efa\",\"pattern\":{\"shape\":\"\"}},\"name\":\"TH!NK\",\"offsetgroup\":\"TH!NK\",\"orientation\":\"h\",\"showlegend\":true,\"x\":[3],\"xaxis\":\"x\",\"y\":[\"TH!NK\"],\"yaxis\":\"y\",\"type\":\"histogram\"}],\"name\":\"2011\"},{\"data\":[{\"alignmentgroup\":\"True\",\"bingroup\":\"y\",\"histfunc\":\"sum\",\"hovertemplate\":\"Make=%{y}<br>Model_Year=2012<br>sum of VIN (1-10)=%{x}<extra></extra>\",\"legendgroup\":\"AZURE DYNAMICS\",\"marker\":{\"color\":\"#EF553B\",\"pattern\":{\"shape\":\"\"}},\"name\":\"AZURE DYNAMICS\",\"offsetgroup\":\"AZURE DYNAMICS\",\"orientation\":\"h\",\"showlegend\":true,\"x\":[3],\"xaxis\":\"x\",\"y\":[\"AZURE DYNAMICS\"],\"yaxis\":\"y\",\"type\":\"histogram\"},{\"alignmentgroup\":\"True\",\"bingroup\":\"y\",\"histfunc\":\"sum\",\"hovertemplate\":\"Make=%{y}<br>Model_Year=2012<br>sum of VIN (1-10)=%{x}<extra></extra>\",\"legendgroup\":\"CHEVROLET\",\"marker\":{\"color\":\"#19d3f3\",\"pattern\":{\"shape\":\"\"}},\"name\":\"CHEVROLET\",\"offsetgroup\":\"CHEVROLET\",\"orientation\":\"h\",\"showlegend\":true,\"x\":[495],\"xaxis\":\"x\",\"y\":[\"CHEVROLET\"],\"yaxis\":\"y\",\"type\":\"histogram\"},{\"alignmentgroup\":\"True\",\"bingroup\":\"y\",\"histfunc\":\"sum\",\"hovertemplate\":\"Make=%{y}<br>Model_Year=2012<br>sum of VIN (1-10)=%{x}<extra></extra>\",\"legendgroup\":\"FISKER\",\"marker\":{\"color\":\"#FF97FF\",\"pattern\":{\"shape\":\"\"}},\"name\":\"FISKER\",\"offsetgroup\":\"FISKER\",\"orientation\":\"h\",\"showlegend\":true,\"x\":[20],\"xaxis\":\"x\",\"y\":[\"FISKER\"],\"yaxis\":\"y\",\"type\":\"histogram\"},{\"alignmentgroup\":\"True\",\"bingroup\":\"y\",\"histfunc\":\"sum\",\"hovertemplate\":\"Make=%{y}<br>Model_Year=2012<br>sum of VIN (1-10)=%{x}<extra></extra>\",\"legendgroup\":\"FORD\",\"marker\":{\"color\":\"#FECB52\",\"pattern\":{\"shape\":\"\"}},\"name\":\"FORD\",\"offsetgroup\":\"FORD\",\"orientation\":\"h\",\"showlegend\":true,\"x\":[15],\"xaxis\":\"x\",\"y\":[\"FORD\"],\"yaxis\":\"y\",\"type\":\"histogram\"},{\"alignmentgroup\":\"True\",\"bingroup\":\"y\",\"histfunc\":\"sum\",\"hovertemplate\":\"Make=%{y}<br>Model_Year=2012<br>sum of VIN (1-10)=%{x}<extra></extra>\",\"legendgroup\":\"MITSUBISHI\",\"marker\":{\"color\":\"#00cc96\",\"pattern\":{\"shape\":\"\"}},\"name\":\"MITSUBISHI\",\"offsetgroup\":\"MITSUBISHI\",\"orientation\":\"h\",\"showlegend\":true,\"x\":[42],\"xaxis\":\"x\",\"y\":[\"MITSUBISHI\"],\"yaxis\":\"y\",\"type\":\"histogram\"},{\"alignmentgroup\":\"True\",\"bingroup\":\"y\",\"histfunc\":\"sum\",\"hovertemplate\":\"Make=%{y}<br>Model_Year=2012<br>sum of VIN (1-10)=%{x}<extra></extra>\",\"legendgroup\":\"NISSAN\",\"marker\":{\"color\":\"#ab63fa\",\"pattern\":{\"shape\":\"\"}},\"name\":\"NISSAN\",\"offsetgroup\":\"NISSAN\",\"orientation\":\"h\",\"showlegend\":true,\"x\":[608],\"xaxis\":\"x\",\"y\":[\"NISSAN\"],\"yaxis\":\"y\",\"type\":\"histogram\"},{\"alignmentgroup\":\"True\",\"bingroup\":\"y\",\"histfunc\":\"sum\",\"hovertemplate\":\"Make=%{y}<br>Model_Year=2012<br>sum of VIN (1-10)=%{x}<extra></extra>\",\"legendgroup\":\"TESLA\",\"marker\":{\"color\":\"#FECB52\",\"pattern\":{\"shape\":\"\"}},\"name\":\"TESLA\",\"offsetgroup\":\"TESLA\",\"orientation\":\"h\",\"showlegend\":true,\"x\":[134],\"xaxis\":\"x\",\"y\":[\"TESLA\"],\"yaxis\":\"y\",\"type\":\"histogram\"},{\"alignmentgroup\":\"True\",\"bingroup\":\"y\",\"histfunc\":\"sum\",\"hovertemplate\":\"Make=%{y}<br>Model_Year=2012<br>sum of VIN (1-10)=%{x}<extra></extra>\",\"legendgroup\":\"TOYOTA\",\"marker\":{\"color\":\"#EF553B\",\"pattern\":{\"shape\":\"\"}},\"name\":\"TOYOTA\",\"offsetgroup\":\"TOYOTA\",\"orientation\":\"h\",\"showlegend\":true,\"x\":[385],\"xaxis\":\"x\",\"y\":[\"TOYOTA\"],\"yaxis\":\"y\",\"type\":\"histogram\"}],\"name\":\"2012\"},{\"data\":[{\"alignmentgroup\":\"True\",\"bingroup\":\"y\",\"histfunc\":\"sum\",\"hovertemplate\":\"Make=%{y}<br>Model_Year=2014<br>sum of VIN (1-10)=%{x}<extra></extra>\",\"legendgroup\":\"BMW\",\"marker\":{\"color\":\"#ab63fa\",\"pattern\":{\"shape\":\"\"}},\"name\":\"BMW\",\"offsetgroup\":\"BMW\",\"orientation\":\"h\",\"showlegend\":true,\"x\":[457],\"xaxis\":\"x\",\"y\":[\"BMW\"],\"yaxis\":\"y\",\"type\":\"histogram\"},{\"alignmentgroup\":\"True\",\"bingroup\":\"y\",\"histfunc\":\"sum\",\"hovertemplate\":\"Make=%{y}<br>Model_Year=2014<br>sum of VIN (1-10)=%{x}<extra></extra>\",\"legendgroup\":\"CADILLAC\",\"marker\":{\"color\":\"#FFA15A\",\"pattern\":{\"shape\":\"\"}},\"name\":\"CADILLAC\",\"offsetgroup\":\"CADILLAC\",\"orientation\":\"h\",\"showlegend\":true,\"x\":[58],\"xaxis\":\"x\",\"y\":[\"CADILLAC\"],\"yaxis\":\"y\",\"type\":\"histogram\"},{\"alignmentgroup\":\"True\",\"bingroup\":\"y\",\"histfunc\":\"sum\",\"hovertemplate\":\"Make=%{y}<br>Model_Year=2014<br>sum of VIN (1-10)=%{x}<extra></extra>\",\"legendgroup\":\"CHEVROLET\",\"marker\":{\"color\":\"#19d3f3\",\"pattern\":{\"shape\":\"\"}},\"name\":\"CHEVROLET\",\"offsetgroup\":\"CHEVROLET\",\"orientation\":\"h\",\"showlegend\":true,\"x\":[724],\"xaxis\":\"x\",\"y\":[\"CHEVROLET\"],\"yaxis\":\"y\",\"type\":\"histogram\"},{\"alignmentgroup\":\"True\",\"bingroup\":\"y\",\"histfunc\":\"sum\",\"hovertemplate\":\"Make=%{y}<br>Model_Year=2014<br>sum of VIN (1-10)=%{x}<extra></extra>\",\"legendgroup\":\"FIAT\",\"marker\":{\"color\":\"#B6E880\",\"pattern\":{\"shape\":\"\"}},\"name\":\"FIAT\",\"offsetgroup\":\"FIAT\",\"orientation\":\"h\",\"showlegend\":true,\"x\":[97],\"xaxis\":\"x\",\"y\":[\"FIAT\"],\"yaxis\":\"y\",\"type\":\"histogram\"},{\"alignmentgroup\":\"True\",\"bingroup\":\"y\",\"histfunc\":\"sum\",\"hovertemplate\":\"Make=%{y}<br>Model_Year=2014<br>sum of VIN (1-10)=%{x}<extra></extra>\",\"legendgroup\":\"FORD\",\"marker\":{\"color\":\"#FECB52\",\"pattern\":{\"shape\":\"\"}},\"name\":\"FORD\",\"offsetgroup\":\"FORD\",\"orientation\":\"h\",\"showlegend\":true,\"x\":[627],\"xaxis\":\"x\",\"y\":[\"FORD\"],\"yaxis\":\"y\",\"type\":\"histogram\"},{\"alignmentgroup\":\"True\",\"bingroup\":\"y\",\"histfunc\":\"sum\",\"hovertemplate\":\"Make=%{y}<br>Model_Year=2014<br>sum of VIN (1-10)=%{x}<extra></extra>\",\"legendgroup\":\"HONDA\",\"marker\":{\"color\":\"#EF553B\",\"pattern\":{\"shape\":\"\"}},\"name\":\"HONDA\",\"offsetgroup\":\"HONDA\",\"orientation\":\"h\",\"showlegend\":true,\"x\":[9],\"xaxis\":\"x\",\"y\":[\"HONDA\"],\"yaxis\":\"y\",\"type\":\"histogram\"},{\"alignmentgroup\":\"True\",\"bingroup\":\"y\",\"histfunc\":\"sum\",\"hovertemplate\":\"Make=%{y}<br>Model_Year=2014<br>sum of VIN (1-10)=%{x}<extra></extra>\",\"legendgroup\":\"MERCEDES-BENZ\",\"marker\":{\"color\":\"#636efa\",\"pattern\":{\"shape\":\"\"}},\"name\":\"MERCEDES-BENZ\",\"offsetgroup\":\"MERCEDES-BENZ\",\"orientation\":\"h\",\"showlegend\":true,\"x\":[31],\"xaxis\":\"x\",\"y\":[\"MERCEDES-BENZ\"],\"yaxis\":\"y\",\"type\":\"histogram\"},{\"alignmentgroup\":\"True\",\"bingroup\":\"y\",\"histfunc\":\"sum\",\"hovertemplate\":\"Make=%{y}<br>Model_Year=2014<br>sum of VIN (1-10)=%{x}<extra></extra>\",\"legendgroup\":\"MITSUBISHI\",\"marker\":{\"color\":\"#00cc96\",\"pattern\":{\"shape\":\"\"}},\"name\":\"MITSUBISHI\",\"offsetgroup\":\"MITSUBISHI\",\"orientation\":\"h\",\"showlegend\":true,\"x\":[10],\"xaxis\":\"x\",\"y\":[\"MITSUBISHI\"],\"yaxis\":\"y\",\"type\":\"histogram\"},{\"alignmentgroup\":\"True\",\"bingroup\":\"y\",\"histfunc\":\"sum\",\"hovertemplate\":\"Make=%{y}<br>Model_Year=2014<br>sum of VIN (1-10)=%{x}<extra></extra>\",\"legendgroup\":\"NISSAN\",\"marker\":{\"color\":\"#ab63fa\",\"pattern\":{\"shape\":\"\"}},\"name\":\"NISSAN\",\"offsetgroup\":\"NISSAN\",\"orientation\":\"h\",\"showlegend\":true,\"x\":[694],\"xaxis\":\"x\",\"y\":[\"NISSAN\"],\"yaxis\":\"y\",\"type\":\"histogram\"},{\"alignmentgroup\":\"True\",\"bingroup\":\"y\",\"histfunc\":\"sum\",\"hovertemplate\":\"Make=%{y}<br>Model_Year=2014<br>sum of VIN (1-10)=%{x}<extra></extra>\",\"legendgroup\":\"PORSCHE\",\"marker\":{\"color\":\"#19d3f3\",\"pattern\":{\"shape\":\"\"}},\"name\":\"PORSCHE\",\"offsetgroup\":\"PORSCHE\",\"orientation\":\"h\",\"showlegend\":true,\"x\":[8],\"xaxis\":\"x\",\"y\":[\"PORSCHE\"],\"yaxis\":\"y\",\"type\":\"histogram\"},{\"alignmentgroup\":\"True\",\"bingroup\":\"y\",\"histfunc\":\"sum\",\"hovertemplate\":\"Make=%{y}<br>Model_Year=2014<br>sum of VIN (1-10)=%{x}<extra></extra>\",\"legendgroup\":\"SMART\",\"marker\":{\"color\":\"#B6E880\",\"pattern\":{\"shape\":\"\"}},\"name\":\"SMART\",\"offsetgroup\":\"SMART\",\"orientation\":\"h\",\"showlegend\":true,\"x\":[71],\"xaxis\":\"x\",\"y\":[\"SMART\"],\"yaxis\":\"y\",\"type\":\"histogram\"},{\"alignmentgroup\":\"True\",\"bingroup\":\"y\",\"histfunc\":\"sum\",\"hovertemplate\":\"Make=%{y}<br>Model_Year=2014<br>sum of VIN (1-10)=%{x}<extra></extra>\",\"legendgroup\":\"TESLA\",\"marker\":{\"color\":\"#FECB52\",\"pattern\":{\"shape\":\"\"}},\"name\":\"TESLA\",\"offsetgroup\":\"TESLA\",\"orientation\":\"h\",\"showlegend\":true,\"x\":[683],\"xaxis\":\"x\",\"y\":[\"TESLA\"],\"yaxis\":\"y\",\"type\":\"histogram\"},{\"alignmentgroup\":\"True\",\"bingroup\":\"y\",\"histfunc\":\"sum\",\"hovertemplate\":\"Make=%{y}<br>Model_Year=2014<br>sum of VIN (1-10)=%{x}<extra></extra>\",\"legendgroup\":\"TOYOTA\",\"marker\":{\"color\":\"#EF553B\",\"pattern\":{\"shape\":\"\"}},\"name\":\"TOYOTA\",\"offsetgroup\":\"TOYOTA\",\"orientation\":\"h\",\"showlegend\":true,\"x\":[214],\"xaxis\":\"x\",\"y\":[\"TOYOTA\"],\"yaxis\":\"y\",\"type\":\"histogram\"}],\"name\":\"2014\"},{\"data\":[{\"alignmentgroup\":\"True\",\"bingroup\":\"y\",\"histfunc\":\"sum\",\"hovertemplate\":\"Make=%{y}<br>Model_Year=2015<br>sum of VIN (1-10)=%{x}<extra></extra>\",\"legendgroup\":\"BMW\",\"marker\":{\"color\":\"#ab63fa\",\"pattern\":{\"shape\":\"\"}},\"name\":\"BMW\",\"offsetgroup\":\"BMW\",\"orientation\":\"h\",\"showlegend\":true,\"x\":[403],\"xaxis\":\"x\",\"y\":[\"BMW\"],\"yaxis\":\"y\",\"type\":\"histogram\"},{\"alignmentgroup\":\"True\",\"bingroup\":\"y\",\"histfunc\":\"sum\",\"hovertemplate\":\"Make=%{y}<br>Model_Year=2015<br>sum of VIN (1-10)=%{x}<extra></extra>\",\"legendgroup\":\"CHEVROLET\",\"marker\":{\"color\":\"#19d3f3\",\"pattern\":{\"shape\":\"\"}},\"name\":\"CHEVROLET\",\"offsetgroup\":\"CHEVROLET\",\"orientation\":\"h\",\"showlegend\":true,\"x\":[467],\"xaxis\":\"x\",\"y\":[\"CHEVROLET\"],\"yaxis\":\"y\",\"type\":\"histogram\"},{\"alignmentgroup\":\"True\",\"bingroup\":\"y\",\"histfunc\":\"sum\",\"hovertemplate\":\"Make=%{y}<br>Model_Year=2015<br>sum of VIN (1-10)=%{x}<extra></extra>\",\"legendgroup\":\"FIAT\",\"marker\":{\"color\":\"#B6E880\",\"pattern\":{\"shape\":\"\"}},\"name\":\"FIAT\",\"offsetgroup\":\"FIAT\",\"orientation\":\"h\",\"showlegend\":true,\"x\":[242],\"xaxis\":\"x\",\"y\":[\"FIAT\"],\"yaxis\":\"y\",\"type\":\"histogram\"},{\"alignmentgroup\":\"True\",\"bingroup\":\"y\",\"histfunc\":\"sum\",\"hovertemplate\":\"Make=%{y}<br>Model_Year=2015<br>sum of VIN (1-10)=%{x}<extra></extra>\",\"legendgroup\":\"FORD\",\"marker\":{\"color\":\"#FECB52\",\"pattern\":{\"shape\":\"\"}},\"name\":\"FORD\",\"offsetgroup\":\"FORD\",\"orientation\":\"h\",\"showlegend\":true,\"x\":[556],\"xaxis\":\"x\",\"y\":[\"FORD\"],\"yaxis\":\"y\",\"type\":\"histogram\"},{\"alignmentgroup\":\"True\",\"bingroup\":\"y\",\"histfunc\":\"sum\",\"hovertemplate\":\"Make=%{y}<br>Model_Year=2015<br>sum of VIN (1-10)=%{x}<extra></extra>\",\"legendgroup\":\"KIA\",\"marker\":{\"color\":\"#19d3f3\",\"pattern\":{\"shape\":\"\"}},\"name\":\"KIA\",\"offsetgroup\":\"KIA\",\"orientation\":\"h\",\"showlegend\":true,\"x\":[22],\"xaxis\":\"x\",\"y\":[\"KIA\"],\"yaxis\":\"y\",\"type\":\"histogram\"},{\"alignmentgroup\":\"True\",\"bingroup\":\"y\",\"histfunc\":\"sum\",\"hovertemplate\":\"Make=%{y}<br>Model_Year=2015<br>sum of VIN (1-10)=%{x}<extra></extra>\",\"legendgroup\":\"MERCEDES-BENZ\",\"marker\":{\"color\":\"#636efa\",\"pattern\":{\"shape\":\"\"}},\"name\":\"MERCEDES-BENZ\",\"offsetgroup\":\"MERCEDES-BENZ\",\"orientation\":\"h\",\"showlegend\":true,\"x\":[24],\"xaxis\":\"x\",\"y\":[\"MERCEDES-BENZ\"],\"yaxis\":\"y\",\"type\":\"histogram\"},{\"alignmentgroup\":\"True\",\"bingroup\":\"y\",\"histfunc\":\"sum\",\"hovertemplate\":\"Make=%{y}<br>Model_Year=2015<br>sum of VIN (1-10)=%{x}<extra></extra>\",\"legendgroup\":\"NISSAN\",\"marker\":{\"color\":\"#ab63fa\",\"pattern\":{\"shape\":\"\"}},\"name\":\"NISSAN\",\"offsetgroup\":\"NISSAN\",\"orientation\":\"h\",\"showlegend\":true,\"x\":[1839],\"xaxis\":\"x\",\"y\":[\"NISSAN\"],\"yaxis\":\"y\",\"type\":\"histogram\"},{\"alignmentgroup\":\"True\",\"bingroup\":\"y\",\"histfunc\":\"sum\",\"hovertemplate\":\"Make=%{y}<br>Model_Year=2015<br>sum of VIN (1-10)=%{x}<extra></extra>\",\"legendgroup\":\"PORSCHE\",\"marker\":{\"color\":\"#19d3f3\",\"pattern\":{\"shape\":\"\"}},\"name\":\"PORSCHE\",\"offsetgroup\":\"PORSCHE\",\"orientation\":\"h\",\"showlegend\":true,\"x\":[33],\"xaxis\":\"x\",\"y\":[\"PORSCHE\"],\"yaxis\":\"y\",\"type\":\"histogram\"},{\"alignmentgroup\":\"True\",\"bingroup\":\"y\",\"histfunc\":\"sum\",\"hovertemplate\":\"Make=%{y}<br>Model_Year=2015<br>sum of VIN (1-10)=%{x}<extra></extra>\",\"legendgroup\":\"SMART\",\"marker\":{\"color\":\"#B6E880\",\"pattern\":{\"shape\":\"\"}},\"name\":\"SMART\",\"offsetgroup\":\"SMART\",\"orientation\":\"h\",\"showlegend\":true,\"x\":[52],\"xaxis\":\"x\",\"y\":[\"SMART\"],\"yaxis\":\"y\",\"type\":\"histogram\"},{\"alignmentgroup\":\"True\",\"bingroup\":\"y\",\"histfunc\":\"sum\",\"hovertemplate\":\"Make=%{y}<br>Model_Year=2015<br>sum of VIN (1-10)=%{x}<extra></extra>\",\"legendgroup\":\"TESLA\",\"marker\":{\"color\":\"#FECB52\",\"pattern\":{\"shape\":\"\"}},\"name\":\"TESLA\",\"offsetgroup\":\"TESLA\",\"orientation\":\"h\",\"showlegend\":true,\"x\":[1089],\"xaxis\":\"x\",\"y\":[\"TESLA\"],\"yaxis\":\"y\",\"type\":\"histogram\"},{\"alignmentgroup\":\"True\",\"bingroup\":\"y\",\"histfunc\":\"sum\",\"hovertemplate\":\"Make=%{y}<br>Model_Year=2015<br>sum of VIN (1-10)=%{x}<extra></extra>\",\"legendgroup\":\"TOYOTA\",\"marker\":{\"color\":\"#EF553B\",\"pattern\":{\"shape\":\"\"}},\"name\":\"TOYOTA\",\"offsetgroup\":\"TOYOTA\",\"orientation\":\"h\",\"showlegend\":true,\"x\":[89],\"xaxis\":\"x\",\"y\":[\"TOYOTA\"],\"yaxis\":\"y\",\"type\":\"histogram\"},{\"alignmentgroup\":\"True\",\"bingroup\":\"y\",\"histfunc\":\"sum\",\"hovertemplate\":\"Make=%{y}<br>Model_Year=2015<br>sum of VIN (1-10)=%{x}<extra></extra>\",\"legendgroup\":\"VOLKSWAGEN\",\"marker\":{\"color\":\"#00cc96\",\"pattern\":{\"shape\":\"\"}},\"name\":\"VOLKSWAGEN\",\"offsetgroup\":\"VOLKSWAGEN\",\"orientation\":\"h\",\"showlegend\":true,\"x\":[124],\"xaxis\":\"x\",\"y\":[\"VOLKSWAGEN\"],\"yaxis\":\"y\",\"type\":\"histogram\"}],\"name\":\"2015\"},{\"data\":[{\"alignmentgroup\":\"True\",\"bingroup\":\"y\",\"histfunc\":\"sum\",\"hovertemplate\":\"Make=%{y}<br>Model_Year=1997<br>sum of VIN (1-10)=%{x}<extra></extra>\",\"legendgroup\":\"CHEVROLET\",\"marker\":{\"color\":\"#19d3f3\",\"pattern\":{\"shape\":\"\"}},\"name\":\"CHEVROLET\",\"offsetgroup\":\"CHEVROLET\",\"orientation\":\"h\",\"showlegend\":true,\"x\":[1],\"xaxis\":\"x\",\"y\":[\"CHEVROLET\"],\"yaxis\":\"y\",\"type\":\"histogram\"}],\"name\":\"1997\"},{\"data\":[{\"alignmentgroup\":\"True\",\"bingroup\":\"y\",\"histfunc\":\"sum\",\"hovertemplate\":\"Make=%{y}<br>Model_Year=2013<br>sum of VIN (1-10)=%{x}<extra></extra>\",\"legendgroup\":\"CHEVROLET\",\"marker\":{\"color\":\"#19d3f3\",\"pattern\":{\"shape\":\"\"}},\"name\":\"CHEVROLET\",\"offsetgroup\":\"CHEVROLET\",\"orientation\":\"h\",\"showlegend\":true,\"x\":[817],\"xaxis\":\"x\",\"y\":[\"CHEVROLET\"],\"yaxis\":\"y\",\"type\":\"histogram\"},{\"alignmentgroup\":\"True\",\"bingroup\":\"y\",\"histfunc\":\"sum\",\"hovertemplate\":\"Make=%{y}<br>Model_Year=2013<br>sum of VIN (1-10)=%{x}<extra></extra>\",\"legendgroup\":\"FIAT\",\"marker\":{\"color\":\"#B6E880\",\"pattern\":{\"shape\":\"\"}},\"name\":\"FIAT\",\"offsetgroup\":\"FIAT\",\"orientation\":\"h\",\"showlegend\":true,\"x\":[106],\"xaxis\":\"x\",\"y\":[\"FIAT\"],\"yaxis\":\"y\",\"type\":\"histogram\"},{\"alignmentgroup\":\"True\",\"bingroup\":\"y\",\"histfunc\":\"sum\",\"hovertemplate\":\"Make=%{y}<br>Model_Year=2013<br>sum of VIN (1-10)=%{x}<extra></extra>\",\"legendgroup\":\"FORD\",\"marker\":{\"color\":\"#FECB52\",\"pattern\":{\"shape\":\"\"}},\"name\":\"FORD\",\"offsetgroup\":\"FORD\",\"orientation\":\"h\",\"showlegend\":true,\"x\":[659],\"xaxis\":\"x\",\"y\":[\"FORD\"],\"yaxis\":\"y\",\"type\":\"histogram\"},{\"alignmentgroup\":\"True\",\"bingroup\":\"y\",\"histfunc\":\"sum\",\"hovertemplate\":\"Make=%{y}<br>Model_Year=2013<br>sum of VIN (1-10)=%{x}<extra></extra>\",\"legendgroup\":\"NISSAN\",\"marker\":{\"color\":\"#ab63fa\",\"pattern\":{\"shape\":\"\"}},\"name\":\"NISSAN\",\"offsetgroup\":\"NISSAN\",\"orientation\":\"h\",\"showlegend\":true,\"x\":[1965],\"xaxis\":\"x\",\"y\":[\"NISSAN\"],\"yaxis\":\"y\",\"type\":\"histogram\"},{\"alignmentgroup\":\"True\",\"bingroup\":\"y\",\"histfunc\":\"sum\",\"hovertemplate\":\"Make=%{y}<br>Model_Year=2013<br>sum of VIN (1-10)=%{x}<extra></extra>\",\"legendgroup\":\"SMART\",\"marker\":{\"color\":\"#B6E880\",\"pattern\":{\"shape\":\"\"}},\"name\":\"SMART\",\"offsetgroup\":\"SMART\",\"orientation\":\"h\",\"showlegend\":true,\"x\":[29],\"xaxis\":\"x\",\"y\":[\"SMART\"],\"yaxis\":\"y\",\"type\":\"histogram\"},{\"alignmentgroup\":\"True\",\"bingroup\":\"y\",\"histfunc\":\"sum\",\"hovertemplate\":\"Make=%{y}<br>Model_Year=2013<br>sum of VIN (1-10)=%{x}<extra></extra>\",\"legendgroup\":\"TESLA\",\"marker\":{\"color\":\"#FECB52\",\"pattern\":{\"shape\":\"\"}},\"name\":\"TESLA\",\"offsetgroup\":\"TESLA\",\"orientation\":\"h\",\"showlegend\":true,\"x\":[814],\"xaxis\":\"x\",\"y\":[\"TESLA\"],\"yaxis\":\"y\",\"type\":\"histogram\"},{\"alignmentgroup\":\"True\",\"bingroup\":\"y\",\"histfunc\":\"sum\",\"hovertemplate\":\"Make=%{y}<br>Model_Year=2013<br>sum of VIN (1-10)=%{x}<extra></extra>\",\"legendgroup\":\"TOYOTA\",\"marker\":{\"color\":\"#EF553B\",\"pattern\":{\"shape\":\"\"}},\"name\":\"TOYOTA\",\"offsetgroup\":\"TOYOTA\",\"orientation\":\"h\",\"showlegend\":true,\"x\":[296],\"xaxis\":\"x\",\"y\":[\"TOYOTA\"],\"yaxis\":\"y\",\"type\":\"histogram\"}],\"name\":\"2013\"},{\"data\":[{\"alignmentgroup\":\"True\",\"bingroup\":\"y\",\"histfunc\":\"sum\",\"hovertemplate\":\"Make=%{y}<br>Model_Year=1998<br>sum of VIN (1-10)=%{x}<extra></extra>\",\"legendgroup\":\"FORD\",\"marker\":{\"color\":\"#FECB52\",\"pattern\":{\"shape\":\"\"}},\"name\":\"FORD\",\"offsetgroup\":\"FORD\",\"orientation\":\"h\",\"showlegend\":true,\"x\":[1],\"xaxis\":\"x\",\"y\":[\"FORD\"],\"yaxis\":\"y\",\"type\":\"histogram\"}],\"name\":\"1998\"},{\"data\":[{\"alignmentgroup\":\"True\",\"bingroup\":\"y\",\"histfunc\":\"sum\",\"hovertemplate\":\"Make=%{y}<br>Model_Year=1999<br>sum of VIN (1-10)=%{x}<extra></extra>\",\"legendgroup\":\"FORD\",\"marker\":{\"color\":\"#FECB52\",\"pattern\":{\"shape\":\"\"}},\"name\":\"FORD\",\"offsetgroup\":\"FORD\",\"orientation\":\"h\",\"showlegend\":true,\"x\":[3],\"xaxis\":\"x\",\"y\":[\"FORD\"],\"yaxis\":\"y\",\"type\":\"histogram\"}],\"name\":\"1999\"},{\"data\":[{\"alignmentgroup\":\"True\",\"bingroup\":\"y\",\"histfunc\":\"sum\",\"hovertemplate\":\"Make=%{y}<br>Model_Year=2000<br>sum of VIN (1-10)=%{x}<extra></extra>\",\"legendgroup\":\"FORD\",\"marker\":{\"color\":\"#FECB52\",\"pattern\":{\"shape\":\"\"}},\"name\":\"FORD\",\"offsetgroup\":\"FORD\",\"orientation\":\"h\",\"showlegend\":true,\"x\":[10],\"xaxis\":\"x\",\"y\":[\"FORD\"],\"yaxis\":\"y\",\"type\":\"histogram\"}],\"name\":\"2000\"},{\"data\":[{\"alignmentgroup\":\"True\",\"bingroup\":\"y\",\"histfunc\":\"sum\",\"hovertemplate\":\"Make=%{y}<br>Model_Year=2008<br>sum of VIN (1-10)=%{x}<extra></extra>\",\"legendgroup\":\"TESLA\",\"marker\":{\"color\":\"#FECB52\",\"pattern\":{\"shape\":\"\"}},\"name\":\"TESLA\",\"offsetgroup\":\"TESLA\",\"orientation\":\"h\",\"showlegend\":true,\"x\":[23],\"xaxis\":\"x\",\"y\":[\"TESLA\"],\"yaxis\":\"y\",\"type\":\"histogram\"}],\"name\":\"2008\"},{\"data\":[{\"alignmentgroup\":\"True\",\"bingroup\":\"y\",\"histfunc\":\"sum\",\"hovertemplate\":\"Make=%{y}<br>Model_Year=2010<br>sum of VIN (1-10)=%{x}<extra></extra>\",\"legendgroup\":\"TESLA\",\"marker\":{\"color\":\"#FECB52\",\"pattern\":{\"shape\":\"\"}},\"name\":\"TESLA\",\"offsetgroup\":\"TESLA\",\"orientation\":\"h\",\"showlegend\":true,\"x\":[24],\"xaxis\":\"x\",\"y\":[\"TESLA\"],\"yaxis\":\"y\",\"type\":\"histogram\"}],\"name\":\"2010\"},{\"data\":[{\"alignmentgroup\":\"True\",\"bingroup\":\"y\",\"histfunc\":\"sum\",\"hovertemplate\":\"Make=%{y}<br>Model_Year=2002<br>sum of VIN (1-10)=%{x}<extra></extra>\",\"legendgroup\":\"TOYOTA\",\"marker\":{\"color\":\"#EF553B\",\"pattern\":{\"shape\":\"\"}},\"name\":\"TOYOTA\",\"offsetgroup\":\"TOYOTA\",\"orientation\":\"h\",\"showlegend\":true,\"x\":[2],\"xaxis\":\"x\",\"y\":[\"TOYOTA\"],\"yaxis\":\"y\",\"type\":\"histogram\"}],\"name\":\"2002\"}]);\n",
       "                        }).then(function(){\n",
       "                            \n",
       "var gd = document.getElementById('78a5d408-16f8-4612-a5d6-014543e49d5c');\n",
       "var x = new MutationObserver(function (mutations, observer) {{\n",
       "        var display = window.getComputedStyle(gd).display;\n",
       "        if (!display || display === 'none') {{\n",
       "            console.log([gd, 'removed!']);\n",
       "            Plotly.purge(gd);\n",
       "            observer.disconnect();\n",
       "        }}\n",
       "}});\n",
       "\n",
       "// Listen for the removal of the full notebook cells\n",
       "var notebookContainer = gd.closest('#notebook-container');\n",
       "if (notebookContainer) {{\n",
       "    x.observe(notebookContainer, {childList: true});\n",
       "}}\n",
       "\n",
       "// Listen for the clearing of the current output cell\n",
       "var outputEl = gd.closest('.output');\n",
       "if (outputEl) {{\n",
       "    x.observe(outputEl, {childList: true});\n",
       "}}\n",
       "\n",
       "                        })                };                });            </script>        </div>"
      ]
     },
     "metadata": {},
     "output_type": "display_data"
    }
   ],
   "source": [
    "fig_bar=px.histogram(df3,x='VIN (1-10)',y='Make',color='Make',animation_frame='Model_Year')\n",
    "fig_bar.show()"
   ]
  },
  {
   "cell_type": "code",
   "execution_count": null,
   "id": "0d49eaa8",
   "metadata": {},
   "outputs": [],
   "source": []
  }
 ],
 "metadata": {
  "kernelspec": {
   "display_name": "Python 3 (ipykernel)",
   "language": "python",
   "name": "python3"
  },
  "language_info": {
   "codemirror_mode": {
    "name": "ipython",
    "version": 3
   },
   "file_extension": ".py",
   "mimetype": "text/x-python",
   "name": "python",
   "nbconvert_exporter": "python",
   "pygments_lexer": "ipython3",
   "version": "3.9.13"
  }
 },
 "nbformat": 4,
 "nbformat_minor": 5
}
